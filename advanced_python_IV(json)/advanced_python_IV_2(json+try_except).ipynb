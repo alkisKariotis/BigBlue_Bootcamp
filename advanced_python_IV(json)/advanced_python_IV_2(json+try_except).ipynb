{
 "cells": [
  {
   "cell_type": "markdown",
   "metadata": {},
   "source": [
    "# Advanced Python IV 2 - JSON\n",
    "\n",
    "Part B\n",
    "\n"
   ]
  },
  {
   "cell_type": "markdown",
   "metadata": {},
   "source": [
    "# 3.Nobel Prizes.\n",
    "We continue working with nobel prizes json file."
   ]
  },
  {
   "cell_type": "code",
   "execution_count": 1,
   "metadata": {},
   "outputs": [
    {
     "data": {
      "text/plain": [
       "652"
      ]
     },
     "execution_count": 1,
     "metadata": {},
     "output_type": "execute_result"
    }
   ],
   "source": [
    "import json\n",
    "\n",
    "try:\n",
    "    with open('nobel.json') as json_nobels:\n",
    "        nobels_dict = json.load(json_nobels)\n",
    "except:\n",
    "    print('File not found!')\n",
    "    \n",
    "len(nobels_dict['prizes'])"
   ]
  },
  {
   "cell_type": "markdown",
   "metadata": {},
   "source": [
    "# e.Which laureates were awarded multiple prizes?"
   ]
  },
  {
   "cell_type": "code",
   "execution_count": 89,
   "metadata": {},
   "outputs": [
    {
     "name": "stdout",
     "output_type": "stream",
     "text": [
      "{'66', '6', '515', '482', '222', '217'}\n",
      "{'515': ['Office of the United Nations High Commissioner for Refugees', 'No surname'], '222': ['Frederick', 'Sanger'], '66': ['John', 'Bardeen'], '482': ['International Committee of the Red Cross', 'No surname'], '217': ['Linus', 'Pauling'], '6': ['Marie', 'Curie']}\n"
     ]
    }
   ],
   "source": [
    "laureates_list = []\n",
    "\n",
    "for i in nobels_dict['prizes']:\n",
    "    try :\n",
    "        for j in i['laureates']:\n",
    "            laureates_list.append(j['id'])\n",
    "    #except here is the proof that somethings wrong in laureates\n",
    "    except:\n",
    "        pass\n",
    "    \n",
    "laureates_multiplePrize = []\n",
    "\n",
    "for laureate in laureates_list:\n",
    "    if laureates_list.count(laureate)>1:\n",
    "        laureates_multiplePrize.append(laureate)\n",
    "    \n",
    "laureates_multiplePrize = set(laureates_multiplePrize)\n",
    "print(laureates_multiplePrize)\n",
    "\n",
    "#to get the names use the id from laureates_multiplePrize and go through the nobels_dict['prizes']\n",
    "multiplePrize_dict = {}\n",
    "for i in nobels_dict['prizes']:\n",
    "    try :\n",
    "        for j in i['laureates']:\n",
    "            if j['id'] in laureates_multiplePrize:\n",
    "                \n",
    "                #if else statements lacks results in that case!\n",
    "                \n",
    "                #if j['surname'] is None:\n",
    "                try:\n",
    "                    multiplePrize_dict.update({j['id']:[j['firstname'],j['surname']]})\n",
    "                #else:\n",
    "                except:\n",
    "                    multiplePrize_dict.update({j['id']:[j['firstname'],'No surname']})\n",
    "    except:\n",
    "        pass\n",
    "print(multiplePrize_dict)\n",
    "\n"
   ]
  },
  {
   "cell_type": "code",
   "execution_count": 37,
   "metadata": {},
   "outputs": [],
   "source": [
    "#nobels_dict['prizes'][0]['laureates']"
   ]
  },
  {
   "cell_type": "markdown",
   "metadata": {},
   "source": [
    "# f.Which laureates were awarded prizes in multiple categories?"
   ]
  },
  {
   "cell_type": "code",
   "execution_count": 35,
   "metadata": {},
   "outputs": [
    {
     "data": {
      "text/plain": [
       "[['515', 'peace'],\n",
       " ['222', 'chemistry'],\n",
       " ['66', 'physics'],\n",
       " ['482', 'peace'],\n",
       " ['217', 'peace'],\n",
       " ['222', 'chemistry'],\n",
       " ['66', 'physics'],\n",
       " ['217', 'chemistry'],\n",
       " ['515', 'peace'],\n",
       " ['482', 'peace'],\n",
       " ['482', 'peace'],\n",
       " ['6', 'chemistry'],\n",
       " ['6', 'physics']]"
      ]
     },
     "execution_count": 35,
     "metadata": {},
     "output_type": "execute_result"
    }
   ],
   "source": [
    "laureates_list2 = []\n",
    "#laureates_multiplePrize is the list of the laureates that were awarder multiple prizes in general\n",
    "for i in nobels_dict['prizes']:\n",
    "    try :\n",
    "        for j in i['laureates']:\n",
    "            if j['id'] in laureates_multiplePrize:\n",
    "                laureates_list2.append([j['id'],i['category']])\n",
    "                #laureates_list2.append(j['id'])\n",
    "                #laureates_list2.append(i['category'])\n",
    "    except:\n",
    "        pass\n",
    "laureates_list2\n"
   ]
  },
  {
   "cell_type": "code",
   "execution_count": 47,
   "metadata": {},
   "outputs": [
    {
     "data": {
      "text/plain": [
       "{'217', '6'}"
      ]
     },
     "execution_count": 47,
     "metadata": {},
     "output_type": "execute_result"
    }
   ],
   "source": [
    "laureates_prize_multiple_awards = []\n",
    "\n",
    "for i in laureates_list2:\n",
    "    count = 0\n",
    "    for j in laureates_list2:\n",
    "        if i==j:\n",
    "            count +=1\n",
    "        else:\n",
    "            pass\n",
    "    if count == 1:\n",
    "        laureates_prize_multiple_awards.append(i[0])\n",
    "#laureates_prize_multiple_awards\n",
    "set(laureates_prize_multiple_awards)\n",
    "\n",
    "#if we want to bring the name then just itterate through nobels_dict['prizes'] to find the specifics ID that meet the requirements!"
   ]
  },
  {
   "cell_type": "markdown",
   "metadata": {},
   "source": [
    "# g.What is the smallest relative share of a Nobel prize ever given?"
   ]
  },
  {
   "cell_type": "code",
   "execution_count": 74,
   "metadata": {},
   "outputs": [
    {
     "name": "stdout",
     "output_type": "stream",
     "text": [
      "The smallest relative share of a Nobel prize given is: 0.25 found in: \n",
      "{'year': '1903', 'category': 'physics', 'laureates': [{'id': '4', 'firstname': 'Henri', 'surname': 'Becquerel', 'motivation': '\"in recognition of the extraordinary services he has rendered by his discovery of spontaneous radioactivity\"', 'share': '2'}, {'id': '5', 'firstname': 'Pierre', 'surname': 'Curie', 'motivation': '\"in recognition of the extraordinary services they have rendered by their joint researches on the radiation phenomena discovered by Professor Henri Becquerel\"', 'share': '4'}, {'id': '6', 'firstname': 'Marie', 'surname': 'Curie', 'motivation': '\"in recognition of the extraordinary services they have rendered by their joint researches on the radiation phenomena discovered by Professor Henri Becquerel\"', 'share': '4'}]}\n"
     ]
    }
   ],
   "source": [
    "share = 0\n",
    "prize = {}\n",
    "\n",
    "for i in nobels_dict['prizes']:\n",
    "    try :\n",
    "        for j in i['laureates']:\n",
    "             if int(j['share'])>=share:\n",
    "                share = int(j['share'])\n",
    "                prize = i\n",
    "\n",
    "    except:\n",
    "        pass\n",
    "\n",
    "share\n",
    "#print(f'The smallest relative share of a Nobel prize given is: {1/share}') #found in: \\n{prize}')\n",
    "print(f'The smallest relative share of a Nobel prize given is: {1/share} found in: \\n{prize}')"
   ]
  },
  {
   "cell_type": "code",
   "execution_count": 69,
   "metadata": {},
   "outputs": [],
   "source": [
    "share = 4\n",
    "prize = {}\n",
    "\n",
    "for i in nobels_dict['prizes']:\n",
    "    try :\n",
    "        for j in i['laureates']:\n",
    "             if int(j['share'])>=4:\n",
    "                prize = i\n",
    "                #to show that many prizes in various years have the the specific relative share\n",
    "                #print(f'{share} \\n {prize}')\n",
    "\n",
    "    except:\n",
    "        pass"
   ]
  },
  {
   "cell_type": "code",
   "execution_count": 109,
   "metadata": {},
   "outputs": [
    {
     "data": {
      "text/plain": [
       "dict_keys(['year', 'category', 'laureates'])"
      ]
     },
     "execution_count": 109,
     "metadata": {},
     "output_type": "execute_result"
    }
   ],
   "source": [
    "nobels_dict['prizes'][23].keys()#['category']#[0]#['share']"
   ]
  },
  {
   "cell_type": "markdown",
   "metadata": {},
   "source": [
    "# h.Bonus: how many nobel prizes were actually awarded in every category?"
   ]
  },
  {
   "cell_type": "code",
   "execution_count": 111,
   "metadata": {},
   "outputs": [
    {
     "data": {
      "text/plain": [
       "{'chemistry': 112,\n",
       " 'economics': 52,\n",
       " 'literature': 113,\n",
       " 'peace': 101,\n",
       " 'physics': 114,\n",
       " 'medicine': 111}"
      ]
     },
     "execution_count": 111,
     "metadata": {},
     "output_type": "execute_result"
    }
   ],
   "source": [
    "nobels = {}\n",
    "for i in nobels_dict['prizes']:\n",
    "    try:\n",
    "        if ('category' in i.keys()) & ('laureates' in i.keys()):\n",
    "            if i['category'] in nobels:\n",
    "                nobels[i['category']] += 1\n",
    "            else:\n",
    "                nobels.update({i['category'] : 1})\n",
    "    except:\n",
    "        None\n",
    "nobels"
   ]
  },
  {
   "cell_type": "code",
   "execution_count": 90,
   "metadata": {},
   "outputs": [],
   "source": [
    "#nobels_dict['prizes']"
   ]
  }
 ],
 "metadata": {
  "kernelspec": {
   "display_name": "Python 3 (ipykernel)",
   "language": "python",
   "name": "python3"
  },
  "language_info": {
   "codemirror_mode": {
    "name": "ipython",
    "version": 3
   },
   "file_extension": ".py",
   "mimetype": "text/x-python",
   "name": "python",
   "nbconvert_exporter": "python",
   "pygments_lexer": "ipython3",
   "version": "3.7.6"
  }
 },
 "nbformat": 4,
 "nbformat_minor": 4
}
