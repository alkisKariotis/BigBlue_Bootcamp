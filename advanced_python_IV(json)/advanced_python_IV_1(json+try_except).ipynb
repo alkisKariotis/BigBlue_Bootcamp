{
 "cells": [
  {
   "cell_type": "markdown",
   "metadata": {},
   "source": [
    "## Advanced Python - JSON\n",
    "\n",
    "Part A"
   ]
  },
  {
   "cell_type": "code",
   "execution_count": 1,
   "metadata": {},
   "outputs": [],
   "source": [
    "import json"
   ]
  },
  {
   "cell_type": "markdown",
   "metadata": {},
   "source": [
    "# 1.Convert the following dictionary into JSON format:\n",
    "dic = {\"meal\" : \"pizza\", \"drink\" : \"soda\"}"
   ]
  },
  {
   "cell_type": "code",
   "execution_count": 2,
   "metadata": {},
   "outputs": [
    {
     "data": {
      "text/plain": [
       "str"
      ]
     },
     "execution_count": 2,
     "metadata": {},
     "output_type": "execute_result"
    }
   ],
   "source": [
    "dic = {\"meal\" : \"pizza\", \"drink\" : \"soda\"}\n",
    "json_dic = json.dumps(dic)\n",
    "type(json_dic)"
   ]
  },
  {
   "cell_type": "markdown",
   "metadata": {},
   "source": [
    "# 2.Download the Beatles file.\n",
    "\n",
    "a.Import it to your notebook and convert it to a Dictionary.\n",
    "\n",
    "b.Create a function to print the names that have the role “singer”.\n",
    "\n",
    "c.Add in each member the following key: {\"years active\": \"1960–1970\"}\n",
    "\n",
    "d.Convert to JSON and save it"
   ]
  },
  {
   "cell_type": "code",
   "execution_count": 3,
   "metadata": {},
   "outputs": [
    {
     "name": "stdout",
     "output_type": "stream",
     "text": [
      "<class 'dict'>\n",
      "John {'full name': 'John Lennon', 'role': ['Singer', 'Song Writer', 'Guitarist']}\n",
      "Paul {'full name': 'Paul McCartney', 'role': ['Singer', 'Song Writer', 'Guitarist']}\n",
      "George {'full name': 'George Harrison', 'role': ['Singer', 'Guitarist']}\n",
      "Ringo {'full name': 'Ringo Starr', 'role': ['Drummer']}\n"
     ]
    },
    {
     "data": {
      "text/plain": [
       "{'John': {'full name': 'John Lennon',\n",
       "  'role': ['Singer', 'Song Writer', 'Guitarist']},\n",
       " 'Paul': {'full name': 'Paul McCartney',\n",
       "  'role': ['Singer', 'Song Writer', 'Guitarist']},\n",
       " 'George': {'full name': 'George Harrison', 'role': ['Singer', 'Guitarist']},\n",
       " 'Ringo': {'full name': 'Ringo Starr', 'role': ['Drummer']}}"
      ]
     },
     "execution_count": 3,
     "metadata": {},
     "output_type": "execute_result"
    }
   ],
   "source": [
    "try:\n",
    "    with open('beatles.json') as json_beatles:\n",
    "        beatles_dic = json.load(json_beatles)\n",
    "except:\n",
    "    print('File not found!')\n",
    "\n",
    "#showing that it has been turned into dictionary type     \n",
    "print(type(beatles_dic))\n",
    "\n",
    "#printing the dictionary as key value itteration \n",
    "for key,value in beatles_dic.items(): print(key,value)\n",
    "    \n",
    "#just printing the whole dicitonary    \n",
    "beatles_dic\n",
    "\n",
    "#Making some print to discover how it itterates through the given dictionary!\n",
    "    \n",
    "#for key,value in beatles_dic.items():\n",
    "        #for key2,value2 in value.items():\n",
    "            #print(key2,value2)           \n"
   ]
  },
  {
   "cell_type": "code",
   "execution_count": 4,
   "metadata": {},
   "outputs": [
    {
     "name": "stdout",
     "output_type": "stream",
     "text": [
      "John\n",
      "Paul\n",
      "George\n"
     ]
    }
   ],
   "source": [
    "def singer_function(x):\n",
    "    \"\"\"\n",
    "    Function to calculate whether an entry is a singer!\n",
    "    \n",
    "    \"\"\"\n",
    "    for key,value in x.items():\n",
    "        for key2,value2 in value.items():\n",
    "            if 'Singer' in value2:\n",
    "                print(key)\n",
    "                \n",
    "def singer_function2(x):\n",
    "    return(key for key in x.keys() if 'Singer' in x[key][\"role\"])\n",
    "                \n",
    "\n",
    "#calling the above function              \n",
    "singer_function(beatles_dic)"
   ]
  },
  {
   "cell_type": "code",
   "execution_count": 5,
   "metadata": {},
   "outputs": [
    {
     "data": {
      "text/plain": [
       "{'John': {'full name': 'John Lennon',\n",
       "  'role': ['Singer', 'Song Writer', 'Guitarist'],\n",
       "  'years active': '1960–1970'},\n",
       " 'Paul': {'full name': 'Paul McCartney',\n",
       "  'role': ['Singer', 'Song Writer', 'Guitarist'],\n",
       "  'years active': '1960–1970'},\n",
       " 'George': {'full name': 'George Harrison',\n",
       "  'role': ['Singer', 'Guitarist'],\n",
       "  'years active': '1960–1970'},\n",
       " 'Ringo': {'full name': 'Ringo Starr',\n",
       "  'role': ['Drummer'],\n",
       "  'years active': '1960–1970'}}"
      ]
     },
     "execution_count": 5,
     "metadata": {},
     "output_type": "execute_result"
    }
   ],
   "source": [
    "#adding the years active section to each one in the dictionary \n",
    "for key in beatles_dic.keys():\n",
    "    beatles_dic[key].update({\"years active\": \"1960–1970\"})\n",
    "    \n",
    "beatles_dic"
   ]
  },
  {
   "cell_type": "code",
   "execution_count": 6,
   "metadata": {},
   "outputs": [],
   "source": [
    "#converting back to json, and it prints it as a single string type \n",
    "updated_beatles = open('Updated_beatles.json','w')\n",
    "json.dump(beatles_dic,updated_beatles, indent = 6)\n",
    "updated_beatles.close()"
   ]
  },
  {
   "cell_type": "markdown",
   "metadata": {},
   "source": [
    "# 3.Nobel Prizes.\n",
    "\n",
    "In this exercise we will use the nobel prizes json file to work with.\n",
    "\n",
    "e.How many Nobel prize registries are in the file for each category?\n",
    "\n",
    "f.How many Nobel prizes were given to people called \"Michael\"?\n",
    "\n",
    "g.Bonus: how many Nobel prizes were given to people starting their first name with M and ending with l. Use regex here!)\n",
    "\n",
    "h.Bonus: Use only regex to find all people called \"Michael\" in the data."
   ]
  },
  {
   "cell_type": "code",
   "execution_count": 7,
   "metadata": {},
   "outputs": [
    {
     "data": {
      "text/plain": [
       "652"
      ]
     },
     "execution_count": 7,
     "metadata": {},
     "output_type": "execute_result"
    }
   ],
   "source": [
    "try:\n",
    "    with open('nobel.json') as json_nobels:\n",
    "        nobels_dict = json.load(json_nobels)\n",
    "except:\n",
    "    print('File not found!')\n",
    "    \n",
    "len(nobels_dict['prizes'])"
   ]
  },
  {
   "cell_type": "code",
   "execution_count": 8,
   "metadata": {},
   "outputs": [
    {
     "name": "stdout",
     "output_type": "stream",
     "text": [
      "{'chemistry', 'physics', 'economics', 'peace', 'medicine', 'literature'}\n",
      "(('chemistry', 120), ('physics', 120), ('economics', 52), ('peace', 120), ('medicine', 120), ('literature', 120))\n",
      "['chemistry', 'physics', 'economics', 'peace', 'medicine', 'literature']\n",
      "[120, 120, 52, 120, 120, 120]\n"
     ]
    },
    {
     "data": {
      "text/plain": [
       "'\\nAnother solution based on indexing \\n\\ng=[]\\nfor i in range(len(a[\\'prizes\\'])):\\n    g.append(list(a.values())[0][i][\\'category\\'])\\nprint(set(g))\\nfor i in set(g):\\n    print(f\"{i} -{g.count(i)}\")\\n'"
      ]
     },
     "execution_count": 8,
     "metadata": {},
     "output_type": "execute_result"
    }
   ],
   "source": [
    "categories = []\n",
    "for i in nobels_dict['prizes']:\n",
    "    for key,value in i.items():\n",
    "        if key == 'category':\n",
    "            categories.append(value)\n",
    "            \n",
    "categories = set(categories)\n",
    "print(categories)\n",
    "categories = list(categories)\n",
    "number_of_each_category = [0,0,0,0,0,0]\n",
    "\n",
    "for category in range(0,len(categories)):\n",
    "    for i in nobels_dict['prizes']:\n",
    "        for key,value in i.items():\n",
    "            if key == 'category':\n",
    "                if value == categories[category]:\n",
    "                    number_of_each_category[category] +=1\n",
    "                    \n",
    "number_of_registries= zip(categories,number_of_each_category)\n",
    "print(tuple(number_of_registries))\n",
    "print(categories)\n",
    "print(number_of_each_category)\n",
    "\n",
    "\"\"\"\n",
    "Another solution based on indexing \n",
    "\n",
    "g=[]\n",
    "for i in range(len(a['prizes'])):\n",
    "    g.append(list(a.values())[0][i]['category'])\n",
    "print(set(g))\n",
    "for i in set(g):\n",
    "    print(f\"{i} -{g.count(i)}\")\n",
    "\"\"\""
   ]
  },
  {
   "cell_type": "code",
   "execution_count": 16,
   "metadata": {},
   "outputs": [
    {
     "name": "stdout",
     "output_type": "stream",
     "text": [
      "{'chemistry': 120, 'physics': 120, 'economics': 52, 'peace': 120, 'medicine': 120, 'literature': 120}\n"
     ]
    }
   ],
   "source": [
    "#Best solution without need to itterate futher on the lists, with smaller number of loops!\n",
    "\n",
    "categories = []\n",
    "for i in nobels_dict['prizes']:\n",
    "    for key,value in i.items():\n",
    "        if key == 'category':\n",
    "            categories.append(value)\n",
    "            \n",
    "unique_categories = set(categories)\n",
    "#print(type(categories),type(unique_categories))\n",
    "unique_count = {}\n",
    "for key in unique_categories:\n",
    "    unique_count.update({key:categories.count(key)})\n",
    "print(unique_count)"
   ]
  },
  {
   "cell_type": "markdown",
   "metadata": {},
   "source": [
    "# f.How many Nobel prizes were given to people called \"Michael\"?"
   ]
  },
  {
   "cell_type": "code",
   "execution_count": 38,
   "metadata": {},
   "outputs": [
    {
     "name": "stdout",
     "output_type": "stream",
     "text": [
      "5\n"
     ]
    }
   ],
   "source": [
    "first_names_Michael = []\n",
    "\n",
    "for i in nobels_dict['prizes']:\n",
    "    try:\n",
    "        for j in i['laureates']:\n",
    "            first_names_Michael.append(j['firstname'])\n",
    "    except:\n",
    "        pass\n",
    "    \n",
    "\n",
    "print(first_names_Michael.count('Michael'))"
   ]
  },
  {
   "cell_type": "markdown",
   "metadata": {},
   "source": [
    "# g.Bonus: how many Nobel prizes were given to people starting their first name with M and ending with l. Use regex here!)"
   ]
  },
  {
   "cell_type": "code",
   "execution_count": 39,
   "metadata": {},
   "outputs": [
    {
     "name": "stdout",
     "output_type": "stream",
     "text": [
      "Michael\n",
      "Michael\n",
      "Michel\n",
      "Michael\n",
      "Michael W.\n",
      "Juan Manuel\n",
      "J. Michael\n",
      "Michael\n",
      "A. Michael\n",
      "Michael\n",
      "Mikhail\n",
      "J. Michael\n",
      "Michael S.\n",
      "Marshall W.\n",
      "Miguel Angel\n",
      "Mikhail\n"
     ]
    }
   ],
   "source": [
    "#importing the RegEx library \n",
    "import re\n",
    "\n",
    "for i in first_names_Michael:\n",
    "    if re.search(r'M.+l\\b',i):\n",
    "        print(i)\n",
    "  \n"
   ]
  },
  {
   "cell_type": "markdown",
   "metadata": {},
   "source": [
    "# h.Bonus: Use only regex to find all people called \"Michael\" in the data."
   ]
  },
  {
   "cell_type": "code",
   "execution_count": 42,
   "metadata": {},
   "outputs": [
    {
     "data": {
      "text/plain": [
       "['\"Michael\"', '\"Michael\"', '\"Michael\"', '\"Michael\"', '\"Michael\"']"
      ]
     },
     "execution_count": 42,
     "metadata": {},
     "output_type": "execute_result"
    }
   ],
   "source": [
    "#turning again to one single string the entire dictionary \n",
    "single_string_nobels = json.dumps(nobels_dict)\n",
    "\n",
    "#RegEx pattern to locate Michael\n",
    "pattern = re.compile(r'(?<=\"firstname\":\\s)\"Michael\"')\n",
    "\n",
    "people = re.findall(pattern, single_string_nobels)\n",
    "people"
   ]
  },
  {
   "cell_type": "code",
   "execution_count": 30,
   "metadata": {},
   "outputs": [
    {
     "data": {
      "text/plain": [
       "{'year': '2020',\n",
       " 'category': 'chemistry',\n",
       " 'laureates': [{'id': '991',\n",
       "   'firstname': 'Emmanuelle',\n",
       "   'surname': 'Charpentier',\n",
       "   'motivation': '\"for the development of a method for genome editing\"',\n",
       "   'share': '2'},\n",
       "  {'id': '992',\n",
       "   'firstname': 'Jennifer A.',\n",
       "   'surname': 'Doudna',\n",
       "   'motivation': '\"for the development of a method for genome editing\"',\n",
       "   'share': '2'}]}"
      ]
     },
     "execution_count": 30,
     "metadata": {},
     "output_type": "execute_result"
    }
   ],
   "source": [
    "nobels_dict['prizes'][0]"
   ]
  },
  {
   "cell_type": "code",
   "execution_count": null,
   "metadata": {},
   "outputs": [],
   "source": []
  },
  {
   "cell_type": "code",
   "execution_count": null,
   "metadata": {},
   "outputs": [],
   "source": []
  },
  {
   "cell_type": "code",
   "execution_count": null,
   "metadata": {},
   "outputs": [],
   "source": []
  }
 ],
 "metadata": {
  "kernelspec": {
   "display_name": "Python 3 (ipykernel)",
   "language": "python",
   "name": "python3"
  },
  "language_info": {
   "codemirror_mode": {
    "name": "ipython",
    "version": 3
   },
   "file_extension": ".py",
   "mimetype": "text/x-python",
   "name": "python",
   "nbconvert_exporter": "python",
   "pygments_lexer": "ipython3",
   "version": "3.7.6"
  }
 },
 "nbformat": 4,
 "nbformat_minor": 4
}
