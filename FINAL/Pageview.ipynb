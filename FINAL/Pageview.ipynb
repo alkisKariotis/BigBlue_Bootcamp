{
 "cells": [
  {
   "cell_type": "markdown",
   "id": "5405b363-f98c-4380-8e2e-7f679ba35c28",
   "metadata": {},
   "source": [
    "# Import Libraries"
   ]
  },
  {
   "cell_type": "code",
   "execution_count": 1,
   "id": "062efcae-bf62-49cf-81e1-cb75d8a791fd",
   "metadata": {},
   "outputs": [],
   "source": [
    "import pandas as pd\n",
    "from datetime import date\n",
    "from datetime import datetime\n",
    "import time\n",
    "import folium\n",
    "from folium import plugins\n",
    "from folium.plugins import HeatMap\n",
    "import seaborn as sns\n",
    "from matplotlib import pyplot as plt\n",
    "import numpy as np\n",
    "from IPython.display import set_matplotlib_formats\n",
    "from plotly.offline import init_notebook_mode, iplot\n",
    "import plotly.graph_objs as go\n",
    "import squarify as sq\n",
    "from matplotlib.ticker import PercentFormatter\n",
    "#from fim import arules\n",
    "from operator import attrgetter\n",
    "import matplotlib.colors as mcolors\n",
    "#warnings.filterwarnings(\"ignore\")\n",
    "import matplotlib.ticker as tkr\n",
    "\n",
    "#Use fivethirtyeight style\n",
    "plt.style.use('fivethirtyeight')\n",
    "\n",
    "#Cancel any style and reset matplotlib styles\n",
    "%matplotlib inline\n",
    "plt.rcParams['figure.figsize'] = [10, 5]"
   ]
  },
  {
   "cell_type": "markdown",
   "id": "ca35d5bf-5196-4343-9ad3-234de92bf1ea",
   "metadata": {},
   "source": [
    "# Importing the pageviews dataset"
   ]
  },
  {
   "cell_type": "code",
   "execution_count": 3,
   "id": "2c239725-0ea6-4f9b-b05a-de63d61039bd",
   "metadata": {},
   "outputs": [],
   "source": [
    "df_pagetitles = pd.read_csv('pageviews000000000000')"
   ]
  },
  {
   "cell_type": "markdown",
   "id": "e2405ad3-feda-4b50-9494-29cfb62bd986",
   "metadata": {},
   "source": [
    "## Cleaning the columns "
   ]
  },
  {
   "cell_type": "code",
   "execution_count": 7,
   "id": "60d6fb86-f9e4-412f-9eb8-2d615018af0c",
   "metadata": {},
   "outputs": [],
   "source": [
    "#Keep a key in case we need it (from user_pseudo_id & event_timestamp)\n",
    "df_pagetitles[\"key2\"] = df_pagetitles['user_pseudo_id'].astype(str) + \"-\" + df_pagetitles[\"event_timestamp\"].astype(str)\n",
    "#Turning user_pseudo_id to string\n",
    "df_pagetitles['user_pseudo_id']=df_pagetitles['user_pseudo_id'].astype(str)\n",
    "\n",
    "#Function to fix timestamp\n",
    "df_pagetitles['event_timestamp_new'] = pd.to_datetime(df_pagetitles['event_timestamp'], unit='us')\n",
    "\n",
    "#Getting day of the transaction through timestamp\n",
    "df_pagetitles['event_date'] = df_pagetitles['event_timestamp_new'].dt.date\n",
    "\n",
    "#Function to get the specific month of the transaction\n",
    "df_pagetitles['timestamp_month'] = df_pagetitles['event_timestamp_new'].dt.to_period('M')\n",
    "\n",
    "#Getting day of the transaction through timestamp\n",
    "df_pagetitles['timestamp_day'] = df_pagetitles['event_timestamp_new'].dt.day_name()\n",
    "\n",
    "#Getting hour of the transaction through timestamp\n",
    "df_pagetitles['timestamp_hour'] = pd.to_datetime(df_pagetitles['event_timestamp_new'], format='%H:%M:%S').dt.hour"
   ]
  },
  {
   "cell_type": "code",
   "execution_count": 20,
   "id": "0d071784-6a07-41f1-a8e7-59323a7f9b2c",
   "metadata": {},
   "outputs": [],
   "source": [
    "#df_pagetitles.head()"
   ]
  },
  {
   "cell_type": "code",
   "execution_count": 19,
   "id": "224867ce-61e2-4c5d-870c-f47d31f4a9bc",
   "metadata": {},
   "outputs": [],
   "source": [
    "#df_pagetitles.info()"
   ]
  },
  {
   "cell_type": "markdown",
   "id": "eafbf24c-54b7-4ae7-a55e-b75c471e8a47",
   "metadata": {},
   "source": [
    "## Investigating"
   ]
  },
  {
   "cell_type": "code",
   "execution_count": 16,
   "id": "1c41226c-6fe5-47f3-822b-813e92724640",
   "metadata": {},
   "outputs": [
    {
     "data": {
      "text/html": [
       "<div>\n",
       "<style scoped>\n",
       "    .dataframe tbody tr th:only-of-type {\n",
       "        vertical-align: middle;\n",
       "    }\n",
       "\n",
       "    .dataframe tbody tr th {\n",
       "        vertical-align: top;\n",
       "    }\n",
       "\n",
       "    .dataframe thead th {\n",
       "        text-align: right;\n",
       "    }\n",
       "</style>\n",
       "<table border=\"1\" class=\"dataframe\">\n",
       "  <thead>\n",
       "    <tr style=\"text-align: right;\">\n",
       "      <th></th>\n",
       "      <th>user_pseudo_id</th>\n",
       "    </tr>\n",
       "    <tr>\n",
       "      <th>value</th>\n",
       "      <th></th>\n",
       "    </tr>\n",
       "  </thead>\n",
       "  <tbody>\n",
       "    <tr>\n",
       "      <th>Home</th>\n",
       "      <td>256778</td>\n",
       "    </tr>\n",
       "    <tr>\n",
       "      <th>Google Online Store</th>\n",
       "      <td>104548</td>\n",
       "    </tr>\n",
       "    <tr>\n",
       "      <th>Apparel | Google Merchandise Store</th>\n",
       "      <td>81697</td>\n",
       "    </tr>\n",
       "    <tr>\n",
       "      <th>Shopping Cart</th>\n",
       "      <td>78888</td>\n",
       "    </tr>\n",
       "    <tr>\n",
       "      <th>The Google Merchandise Store - Log In</th>\n",
       "      <td>47774</td>\n",
       "    </tr>\n",
       "    <tr>\n",
       "      <th>Men's / Unisex | Apparel | Google Merchandise Store</th>\n",
       "      <td>46388</td>\n",
       "    </tr>\n",
       "    <tr>\n",
       "      <th>YouTube | Shop by Brand | Google Merchandise Store</th>\n",
       "      <td>40361</td>\n",
       "    </tr>\n",
       "    <tr>\n",
       "      <th>Sale | Google Merchandise Store</th>\n",
       "      <td>38334</td>\n",
       "    </tr>\n",
       "    <tr>\n",
       "      <th>New | Google Merchandise Store</th>\n",
       "      <td>28506</td>\n",
       "    </tr>\n",
       "    <tr>\n",
       "      <th>Google Dino Game Tee</th>\n",
       "      <td>27476</td>\n",
       "    </tr>\n",
       "    <tr>\n",
       "      <th>Store search results</th>\n",
       "      <td>27316</td>\n",
       "    </tr>\n",
       "    <tr>\n",
       "      <th>Drinkware | Lifestyle | Google Merchandise Store</th>\n",
       "      <td>25617</td>\n",
       "    </tr>\n",
       "    <tr>\n",
       "      <th>Bags | Lifestyle | Google Merchandise Store</th>\n",
       "      <td>22476</td>\n",
       "    </tr>\n",
       "    <tr>\n",
       "      <th>Page Unavailable</th>\n",
       "      <td>22176</td>\n",
       "    </tr>\n",
       "    <tr>\n",
       "      <th>Campus Collection | Google Merchandise Store</th>\n",
       "      <td>20902</td>\n",
       "    </tr>\n",
       "    <tr>\n",
       "      <th>Checkout Your Information</th>\n",
       "      <td>19706</td>\n",
       "    </tr>\n",
       "    <tr>\n",
       "      <th>Eco-Friendly | Google Merchandise Store</th>\n",
       "      <td>19312</td>\n",
       "    </tr>\n",
       "    <tr>\n",
       "      <th>Hats | Apparel | Google Merchandise Store</th>\n",
       "      <td>19249</td>\n",
       "    </tr>\n",
       "    <tr>\n",
       "      <th>The Google Merchandise Store - My Account</th>\n",
       "      <td>17861</td>\n",
       "    </tr>\n",
       "    <tr>\n",
       "      <th>Womens | Apparel | Google Merchandise Store</th>\n",
       "      <td>17738</td>\n",
       "    </tr>\n",
       "  </tbody>\n",
       "</table>\n",
       "</div>"
      ],
      "text/plain": [
       "                                                    user_pseudo_id\n",
       "value                                                             \n",
       "Home                                                        256778\n",
       "Google Online Store                                         104548\n",
       "Apparel | Google Merchandise Store                           81697\n",
       "Shopping Cart                                                78888\n",
       "The Google Merchandise Store - Log In                        47774\n",
       "Men's / Unisex | Apparel | Google Merchandise S...           46388\n",
       "YouTube | Shop by Brand | Google Merchandise Store           40361\n",
       "Sale | Google Merchandise Store                              38334\n",
       "New | Google Merchandise Store                               28506\n",
       "Google Dino Game Tee                                         27476\n",
       "Store search results                                         27316\n",
       "Drinkware | Lifestyle | Google Merchandise Store             25617\n",
       "Bags | Lifestyle | Google Merchandise Store                  22476\n",
       "Page Unavailable                                             22176\n",
       "Campus Collection | Google Merchandise Store                 20902\n",
       "Checkout Your Information                                    19706\n",
       "Eco-Friendly | Google Merchandise Store                      19312\n",
       "Hats | Apparel | Google Merchandise Store                    19249\n",
       "The Google Merchandise Store - My Account                    17861\n",
       "Womens | Apparel | Google Merchandise Store                  17738"
      ]
     },
     "execution_count": 16,
     "metadata": {},
     "output_type": "execute_result"
    }
   ],
   "source": [
    "df_pagetitles.groupby(by='value')[['user_pseudo_id']].count().sort_values('user_pseudo_id',ascending=False).head(20)"
   ]
  },
  {
   "cell_type": "code",
   "execution_count": 18,
   "id": "4edcfb55-355e-4eae-afdd-6567da1f7dc6",
   "metadata": {},
   "outputs": [],
   "source": [
    "#Exporting to csv for PowerBI use\n",
    "\n",
    "#df_pagetitles.to_csv('df_pagetitles.csv')"
   ]
  }
 ],
 "metadata": {
  "kernelspec": {
   "display_name": "Python 3 (ipykernel)",
   "language": "python",
   "name": "python3"
  },
  "language_info": {
   "codemirror_mode": {
    "name": "ipython",
    "version": 3
   },
   "file_extension": ".py",
   "mimetype": "text/x-python",
   "name": "python",
   "nbconvert_exporter": "python",
   "pygments_lexer": "ipython3",
   "version": "3.8.11"
  }
 },
 "nbformat": 4,
 "nbformat_minor": 5
}
