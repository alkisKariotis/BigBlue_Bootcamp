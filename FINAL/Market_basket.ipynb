{
 "cells": [
  {
   "cell_type": "markdown",
   "id": "f855d2af-6f59-472c-af09-788f971e3807",
   "metadata": {},
   "source": [
    "# Import Libraries"
   ]
  },
  {
   "cell_type": "code",
   "execution_count": 1,
   "id": "ab6edb09-00ba-4833-bbf2-ff70d97e3c28",
   "metadata": {},
   "outputs": [],
   "source": [
    "import pandas as pd"
   ]
  },
  {
   "cell_type": "code",
   "execution_count": 2,
   "id": "01f29e32-1c8e-4358-a64d-33e9a10242e9",
   "metadata": {},
   "outputs": [],
   "source": [
    "df = pd.read_csv('df_market_basket.csv')"
   ]
  },
  {
   "cell_type": "code",
   "execution_count": 4,
   "id": "9d65cf4b-8386-47af-8c6b-03e3c9cade61",
   "metadata": {},
   "outputs": [
    {
     "name": "stdout",
     "output_type": "stream",
     "text": [
      "<class 'pandas.core.frame.DataFrame'>\n",
      "RangeIndex: 35013 entries, 0 to 35012\n",
      "Data columns (total 7 columns):\n",
      " #   Column                        Non-Null Count  Dtype  \n",
      "---  ------                        --------------  -----  \n",
      " 0   Unnamed: 0                    35013 non-null  int64  \n",
      " 1   antecedent                    35013 non-null  object \n",
      " 2   Cons_Product                  35013 non-null  object \n",
      " 3   support_itemset_absolute      35013 non-null  int64  \n",
      " 4   support_itemset_relative_pct  35013 non-null  float64\n",
      " 5   confidence_pct                35013 non-null  float64\n",
      " 6   lift                          35013 non-null  float64\n",
      "dtypes: float64(3), int64(2), object(2)\n",
      "memory usage: 1.9+ MB\n"
     ]
    }
   ],
   "source": [
    "df.info()"
   ]
  },
  {
   "cell_type": "code",
   "execution_count": 5,
   "id": "57e226f4-932f-4134-97fa-8ecf21ed6e73",
   "metadata": {},
   "outputs": [
    {
     "data": {
      "text/html": [
       "<div>\n",
       "<style scoped>\n",
       "    .dataframe tbody tr th:only-of-type {\n",
       "        vertical-align: middle;\n",
       "    }\n",
       "\n",
       "    .dataframe tbody tr th {\n",
       "        vertical-align: top;\n",
       "    }\n",
       "\n",
       "    .dataframe thead th {\n",
       "        text-align: right;\n",
       "    }\n",
       "</style>\n",
       "<table border=\"1\" class=\"dataframe\">\n",
       "  <thead>\n",
       "    <tr style=\"text-align: right;\">\n",
       "      <th></th>\n",
       "      <th>Unnamed: 0</th>\n",
       "      <th>antecedent</th>\n",
       "      <th>Cons_Product</th>\n",
       "      <th>support_itemset_absolute</th>\n",
       "      <th>support_itemset_relative_pct</th>\n",
       "      <th>confidence_pct</th>\n",
       "      <th>lift</th>\n",
       "    </tr>\n",
       "  </thead>\n",
       "  <tbody>\n",
       "    <tr>\n",
       "      <th>0</th>\n",
       "      <td>23767</td>\n",
       "      <td>('Google Glass Bottle',)</td>\n",
       "      <td>Google Cup Cap Tumbler Grey</td>\n",
       "      <td>1277</td>\n",
       "      <td>9.148220</td>\n",
       "      <td>83.573298</td>\n",
       "      <td>8.980752</td>\n",
       "    </tr>\n",
       "    <tr>\n",
       "      <th>1</th>\n",
       "      <td>23765</td>\n",
       "      <td>('Google Glass Bottle',)</td>\n",
       "      <td>Google Campus Bike Bottle</td>\n",
       "      <td>1299</td>\n",
       "      <td>9.305824</td>\n",
       "      <td>85.013089</td>\n",
       "      <td>8.935977</td>\n",
       "    </tr>\n",
       "    <tr>\n",
       "      <th>2</th>\n",
       "      <td>23705</td>\n",
       "      <td>('Google Blue Stojo Cup',)</td>\n",
       "      <td>Google Land &amp; Sea Tech Taco</td>\n",
       "      <td>1402</td>\n",
       "      <td>10.043699</td>\n",
       "      <td>91.994751</td>\n",
       "      <td>8.893038</td>\n",
       "    </tr>\n",
       "    <tr>\n",
       "      <th>3</th>\n",
       "      <td>23704</td>\n",
       "      <td>('Google Land &amp; Sea Tech Taco',)</td>\n",
       "      <td>Google Blue Stojo Cup</td>\n",
       "      <td>1402</td>\n",
       "      <td>10.043699</td>\n",
       "      <td>97.091413</td>\n",
       "      <td>8.893038</td>\n",
       "    </tr>\n",
       "    <tr>\n",
       "      <th>4</th>\n",
       "      <td>23766</td>\n",
       "      <td>('Google Glass Bottle',)</td>\n",
       "      <td>Google Mural Bottle</td>\n",
       "      <td>1286</td>\n",
       "      <td>9.212694</td>\n",
       "      <td>84.162304</td>\n",
       "      <td>8.873275</td>\n",
       "    </tr>\n",
       "  </tbody>\n",
       "</table>\n",
       "</div>"
      ],
      "text/plain": [
       "   Unnamed: 0                        antecedent                 Cons_Product  \\\n",
       "0       23767          ('Google Glass Bottle',)  Google Cup Cap Tumbler Grey   \n",
       "1       23765          ('Google Glass Bottle',)    Google Campus Bike Bottle   \n",
       "2       23705        ('Google Blue Stojo Cup',)  Google Land & Sea Tech Taco   \n",
       "3       23704  ('Google Land & Sea Tech Taco',)        Google Blue Stojo Cup   \n",
       "4       23766          ('Google Glass Bottle',)          Google Mural Bottle   \n",
       "\n",
       "   support_itemset_absolute  support_itemset_relative_pct  confidence_pct  \\\n",
       "0                      1277                      9.148220       83.573298   \n",
       "1                      1299                      9.305824       85.013089   \n",
       "2                      1402                     10.043699       91.994751   \n",
       "3                      1402                     10.043699       97.091413   \n",
       "4                      1286                      9.212694       84.162304   \n",
       "\n",
       "       lift  \n",
       "0  8.980752  \n",
       "1  8.935977  \n",
       "2  8.893038  \n",
       "3  8.893038  \n",
       "4  8.873275  "
      ]
     },
     "execution_count": 5,
     "metadata": {},
     "output_type": "execute_result"
    }
   ],
   "source": [
    "df.head()"
   ]
  },
  {
   "cell_type": "code",
   "execution_count": null,
   "id": "ce6bd3dd-341d-4ea8-ab47-36ab2d9890e7",
   "metadata": {},
   "outputs": [],
   "source": []
  },
  {
   "cell_type": "code",
   "execution_count": null,
   "id": "b571226c-766a-4c58-b22e-b49f2b72b521",
   "metadata": {},
   "outputs": [],
   "source": []
  },
  {
   "cell_type": "code",
   "execution_count": null,
   "id": "6cb5e84f-98a2-47c1-998c-940edd7ae0fc",
   "metadata": {},
   "outputs": [],
   "source": []
  }
 ],
 "metadata": {
  "kernelspec": {
   "display_name": "Python 3 (ipykernel)",
   "language": "python",
   "name": "python3"
  },
  "language_info": {
   "codemirror_mode": {
    "name": "ipython",
    "version": 3
   },
   "file_extension": ".py",
   "mimetype": "text/x-python",
   "name": "python",
   "nbconvert_exporter": "python",
   "pygments_lexer": "ipython3",
   "version": "3.8.11"
  }
 },
 "nbformat": 4,
 "nbformat_minor": 5
}
