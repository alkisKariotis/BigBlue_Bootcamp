{
 "cells": [
  {
   "cell_type": "code",
   "execution_count": 13,
   "metadata": {
    "ExecuteTime": {
     "end_time": "2022-11-14T17:01:54.709841Z",
     "start_time": "2022-11-14T17:01:54.702488Z"
    }
   },
   "outputs": [],
   "source": [
    "import requests\n",
    "import json"
   ]
  },
  {
   "cell_type": "code",
   "execution_count": 8,
   "metadata": {
    "ExecuteTime": {
     "end_time": "2022-11-14T17:00:45.729861Z",
     "start_time": "2022-11-14T17:00:45.724562Z"
    }
   },
   "outputs": [],
   "source": [
    "link = 'https://api.nobelprize.org/2.1/laureates'\n"
   ]
  },
  {
   "cell_type": "code",
   "execution_count": 9,
   "metadata": {
    "ExecuteTime": {
     "end_time": "2022-11-14T17:00:46.212485Z",
     "start_time": "2022-11-14T17:00:45.995184Z"
    }
   },
   "outputs": [],
   "source": [
    "response = requests.get(link)"
   ]
  },
  {
   "cell_type": "code",
   "execution_count": 10,
   "metadata": {
    "ExecuteTime": {
     "end_time": "2022-11-14T17:00:46.273770Z",
     "start_time": "2022-11-14T17:00:46.256714Z"
    }
   },
   "outputs": [
    {
     "data": {
      "text/plain": [
       "<Response [200]>"
      ]
     },
     "execution_count": 10,
     "metadata": {},
     "output_type": "execute_result"
    }
   ],
   "source": [
    "response"
   ]
  },
  {
   "cell_type": "code",
   "execution_count": 11,
   "metadata": {
    "ExecuteTime": {
     "end_time": "2022-11-14T17:00:56.641484Z",
     "start_time": "2022-11-14T17:00:56.634932Z"
    }
   },
   "outputs": [
    {
     "data": {
      "text/plain": [
       "200"
      ]
     },
     "execution_count": 11,
     "metadata": {},
     "output_type": "execute_result"
    }
   ],
   "source": [
    "response.status_code"
   ]
  },
  {
   "cell_type": "code",
   "execution_count": 15,
   "metadata": {
    "ExecuteTime": {
     "end_time": "2022-11-14T17:02:24.258749Z",
     "start_time": "2022-11-14T17:02:24.253082Z"
    },
    "scrolled": true
   },
   "outputs": [],
   "source": [
    "x = response.content"
   ]
  },
  {
   "cell_type": "code",
   "execution_count": 17,
   "metadata": {
    "ExecuteTime": {
     "end_time": "2022-11-14T17:02:54.300867Z",
     "start_time": "2022-11-14T17:02:54.274937Z"
    }
   },
   "outputs": [
    {
     "data": {
      "text/plain": [
       "dict"
      ]
     },
     "execution_count": 17,
     "metadata": {},
     "output_type": "execute_result"
    }
   ],
   "source": [
    "type(json.loads(x))"
   ]
  },
  {
   "cell_type": "code",
   "execution_count": 1,
   "metadata": {
    "ExecuteTime": {
     "end_time": "2022-11-14T17:04:35.570043Z",
     "start_time": "2022-11-14T17:04:35.510062Z"
    }
   },
   "outputs": [],
   "source": [
    "#json.loads(x)"
   ]
  },
  {
   "cell_type": "code",
   "execution_count": 21,
   "metadata": {
    "ExecuteTime": {
     "end_time": "2022-11-14T17:10:02.877203Z",
     "start_time": "2022-11-14T17:10:02.868753Z"
    }
   },
   "outputs": [],
   "source": [
    "kariera_link = 'https://www.kariera.gr/en/jobs?title=data+analyst&page={}&limit=4'"
   ]
  },
  {
   "cell_type": "code",
   "execution_count": 22,
   "metadata": {
    "ExecuteTime": {
     "end_time": "2022-11-14T17:10:22.813605Z",
     "start_time": "2022-11-14T17:10:22.806617Z"
    }
   },
   "outputs": [
    {
     "data": {
      "text/plain": [
       "'https://www.kariera.gr/en/jobs?title=data+analyst&page=2&limit=4'"
      ]
     },
     "execution_count": 22,
     "metadata": {},
     "output_type": "execute_result"
    }
   ],
   "source": [
    "kariera_link.format(2)"
   ]
  },
  {
   "cell_type": "code",
   "execution_count": 23,
   "metadata": {
    "ExecuteTime": {
     "end_time": "2022-11-14T17:11:21.837054Z",
     "start_time": "2022-11-14T17:11:21.831802Z"
    }
   },
   "outputs": [
    {
     "name": "stdout",
     "output_type": "stream",
     "text": [
      "https://www.kariera.gr/en/jobs?title=data+analyst&page=0&limit=4\n",
      "https://www.kariera.gr/en/jobs?title=data+analyst&page=1&limit=4\n",
      "https://www.kariera.gr/en/jobs?title=data+analyst&page=2&limit=4\n",
      "https://www.kariera.gr/en/jobs?title=data+analyst&page=3&limit=4\n",
      "https://www.kariera.gr/en/jobs?title=data+analyst&page=4&limit=4\n",
      "https://www.kariera.gr/en/jobs?title=data+analyst&page=5&limit=4\n",
      "https://www.kariera.gr/en/jobs?title=data+analyst&page=6&limit=4\n"
     ]
    }
   ],
   "source": [
    "for page in range(7):\n",
    "    print(kariera_link.format(page))"
   ]
  },
  {
   "cell_type": "code",
   "execution_count": 24,
   "metadata": {
    "ExecuteTime": {
     "end_time": "2022-11-14T17:12:54.479298Z",
     "start_time": "2022-11-14T17:12:54.471227Z"
    }
   },
   "outputs": [],
   "source": [
    "cat_link = 'https://catfact.ninja/breeds?page={}'"
   ]
  },
  {
   "cell_type": "code",
   "execution_count": 26,
   "metadata": {
    "ExecuteTime": {
     "end_time": "2022-11-14T17:13:22.128012Z",
     "start_time": "2022-11-14T17:13:22.117907Z"
    }
   },
   "outputs": [
    {
     "name": "stdout",
     "output_type": "stream",
     "text": [
      "https://catfact.ninja/breeds?page=1\n",
      "https://catfact.ninja/breeds?page=2\n",
      "https://catfact.ninja/breeds?page=3\n",
      "https://catfact.ninja/breeds?page=4\n"
     ]
    }
   ],
   "source": [
    "for page in range(1,5):\n",
    "    print(cat_link.format(page))"
   ]
  },
  {
   "cell_type": "code",
   "execution_count": 28,
   "metadata": {
    "ExecuteTime": {
     "end_time": "2022-11-14T17:14:49.310435Z",
     "start_time": "2022-11-14T17:14:48.749266Z"
    }
   },
   "outputs": [],
   "source": [
    "link = cat_link.format(3)\n",
    "response = requests.get(link)"
   ]
  },
  {
   "cell_type": "code",
   "execution_count": 29,
   "metadata": {
    "ExecuteTime": {
     "end_time": "2022-11-14T17:15:03.901231Z",
     "start_time": "2022-11-14T17:15:03.883932Z"
    }
   },
   "outputs": [
    {
     "data": {
      "text/plain": [
       "{'current_page': 3,\n",
       " 'data': [{'breed': 'LaPerm',\n",
       "   'country': 'United States',\n",
       "   'origin': 'Mutation',\n",
       "   'coat': 'Rex',\n",
       "   'pattern': 'All'},\n",
       "  {'breed': 'Lykoi',\n",
       "   'country': 'United States',\n",
       "   'origin': 'Natural/Mutation',\n",
       "   'coat': 'Partly Hairless',\n",
       "   'pattern': 'Ticked'},\n",
       "  {'breed': 'Maine Coon',\n",
       "   'country': 'United States',\n",
       "   'origin': 'Natural',\n",
       "   'coat': 'Long',\n",
       "   'pattern': 'All but colorpoint and ticked'},\n",
       "  {'breed': 'Manx',\n",
       "   'country': 'United Kingdom (Isle of Man)',\n",
       "   'origin': 'Mutation',\n",
       "   'coat': 'Short/Long',\n",
       "   'pattern': 'All but colorpoint'},\n",
       "  {'breed': 'Mekong Bobtail',\n",
       "   'country': 'Russia',\n",
       "   'origin': 'Natural/Mutation',\n",
       "   'coat': 'Short',\n",
       "   'pattern': 'Colorpoint'},\n",
       "  {'breed': 'Minskin',\n",
       "   'country': 'United States',\n",
       "   'origin': 'Crossbreed',\n",
       "   'coat': 'Short/Hairless',\n",
       "   'pattern': 'All'},\n",
       "  {'breed': 'Munchkin',\n",
       "   'country': 'United States',\n",
       "   'origin': 'Mutation',\n",
       "   'coat': '',\n",
       "   'pattern': ''},\n",
       "  {'breed': 'Nebelung',\n",
       "   'country': 'United States',\n",
       "   'origin': '',\n",
       "   'coat': 'Semi-long',\n",
       "   'pattern': 'Solid'},\n",
       "  {'breed': 'Napoleon',\n",
       "   'country': '',\n",
       "   'origin': '',\n",
       "   'coat': 'Long/short',\n",
       "   'pattern': 'Varied'},\n",
       "  {'breed': 'Norwegian Forest cat',\n",
       "   'country': 'Norway',\n",
       "   'origin': 'Natural',\n",
       "   'coat': 'Long',\n",
       "   'pattern': 'All but colorpoint'},\n",
       "  {'breed': 'Ocicat',\n",
       "   'country': 'United States',\n",
       "   'origin': 'Crossbreed',\n",
       "   'coat': 'Short',\n",
       "   'pattern': 'Spotted'},\n",
       "  {'breed': 'Ojos Azules',\n",
       "   'country': 'United States',\n",
       "   'origin': '',\n",
       "   'coat': '',\n",
       "   'pattern': ''},\n",
       "  {'breed': 'Oregon Rex',\n",
       "   'country': 'United States',\n",
       "   'origin': 'Mutation',\n",
       "   'coat': 'Rex',\n",
       "   'pattern': ''},\n",
       "  {'breed': 'Oriental Bicolor',\n",
       "   'country': '',\n",
       "   'origin': '',\n",
       "   'coat': '',\n",
       "   'pattern': 'Bicolor'},\n",
       "  {'breed': 'Oriental Shorthair',\n",
       "   'country': '',\n",
       "   'origin': '',\n",
       "   'coat': 'Short',\n",
       "   'pattern': 'All but colorpoint'},\n",
       "  {'breed': 'Oriental Longhair',\n",
       "   'country': '',\n",
       "   'origin': '',\n",
       "   'coat': 'Semi-long',\n",
       "   'pattern': ''},\n",
       "  {'breed': 'PerFoldæ(Experimental Breed - WCF)',\n",
       "   'country': 'Europe',\n",
       "   'origin': 'Crossbreed',\n",
       "   'coat': 'Long',\n",
       "   'pattern': 'All'},\n",
       "  {'breed': 'Persian (Modern Persian Cat)',\n",
       "   'country': 'Iran (Persia)',\n",
       "   'origin': 'Crossbreed',\n",
       "   'coat': 'Long',\n",
       "   'pattern': 'All'},\n",
       "  {'breed': 'Persian (Traditional Persian Cat)',\n",
       "   'country': 'Greater Iran',\n",
       "   'origin': 'Natural',\n",
       "   'coat': 'Long',\n",
       "   'pattern': 'All'},\n",
       "  {'breed': 'Peterbald',\n",
       "   'country': 'Russia',\n",
       "   'origin': 'Crossbreed',\n",
       "   'coat': 'Hairless',\n",
       "   'pattern': 'All'},\n",
       "  {'breed': 'Pixie-bob',\n",
       "   'country': 'United States',\n",
       "   'origin': 'Natural',\n",
       "   'coat': 'Short',\n",
       "   'pattern': 'Spotted'},\n",
       "  {'breed': 'Raas',\n",
       "   'country': 'Indonesia',\n",
       "   'origin': 'Natural',\n",
       "   'coat': 'Short',\n",
       "   'pattern': ''},\n",
       "  {'breed': 'Ragamuffin',\n",
       "   'country': 'United States',\n",
       "   'origin': 'Crossbreed',\n",
       "   'coat': 'Long',\n",
       "   'pattern': 'All'},\n",
       "  {'breed': 'Ragdoll',\n",
       "   'country': 'United States',\n",
       "   'origin': 'Crossbreed',\n",
       "   'coat': 'Long',\n",
       "   'pattern': 'Colorpoint/Mitted/Bicolor'},\n",
       "  {'breed': 'Russian Blue',\n",
       "   'country': 'Russia',\n",
       "   'origin': 'Natural',\n",
       "   'coat': 'Short',\n",
       "   'pattern': 'Solid'}],\n",
       " 'first_page_url': 'https://catfact.ninja/breeds?page=1',\n",
       " 'from': 51,\n",
       " 'last_page': 4,\n",
       " 'last_page_url': 'https://catfact.ninja/breeds?page=4',\n",
       " 'links': [{'url': 'https://catfact.ninja/breeds?page=2',\n",
       "   'label': 'Previous',\n",
       "   'active': False},\n",
       "  {'url': 'https://catfact.ninja/breeds?page=1',\n",
       "   'label': '1',\n",
       "   'active': False},\n",
       "  {'url': 'https://catfact.ninja/breeds?page=2',\n",
       "   'label': '2',\n",
       "   'active': False},\n",
       "  {'url': 'https://catfact.ninja/breeds?page=3', 'label': '3', 'active': True},\n",
       "  {'url': 'https://catfact.ninja/breeds?page=4',\n",
       "   'label': '4',\n",
       "   'active': False},\n",
       "  {'url': 'https://catfact.ninja/breeds?page=4',\n",
       "   'label': 'Next',\n",
       "   'active': False}],\n",
       " 'next_page_url': 'https://catfact.ninja/breeds?page=4',\n",
       " 'path': 'https://catfact.ninja/breeds',\n",
       " 'per_page': 25,\n",
       " 'prev_page_url': 'https://catfact.ninja/breeds?page=2',\n",
       " 'to': 75,\n",
       " 'total': 98}"
      ]
     },
     "execution_count": 29,
     "metadata": {},
     "output_type": "execute_result"
    }
   ],
   "source": [
    "json.loads(response.content)"
   ]
  },
  {
   "cell_type": "code",
   "execution_count": null,
   "metadata": {},
   "outputs": [],
   "source": [
    "df1\n",
    "df2\n",
    "\n",
    "df3 = df1.merge(df2, on='breed')"
   ]
  },
  {
   "cell_type": "code",
   "execution_count": null,
   "metadata": {},
   "outputs": [],
   "source": [
    "df3[(df3['friendly'] == 5) & (.....)]"
   ]
  },
  {
   "cell_type": "code",
   "execution_count": null,
   "metadata": {},
   "outputs": [],
   "source": []
  },
  {
   "cell_type": "markdown",
   "metadata": {},
   "source": [
    "## create file with token\n",
    "file"
   ]
  },
  {
   "cell_type": "code",
   "execution_count": null,
   "metadata": {},
   "outputs": [],
   "source": [
    "{\"key\":\"KLdfsjsehfKgdsieb3i93swk\"}"
   ]
  },
  {
   "cell_type": "code",
   "execution_count": 30,
   "metadata": {
    "ExecuteTime": {
     "end_time": "2022-11-14T17:40:36.120688Z",
     "start_time": "2022-11-14T17:40:36.094130Z"
    }
   },
   "outputs": [],
   "source": [
    "with open('key.json', 'r') as fh:\n",
    "    credentials = json.load(fh)"
   ]
  },
  {
   "cell_type": "code",
   "execution_count": 32,
   "metadata": {
    "ExecuteTime": {
     "end_time": "2022-11-14T17:40:53.130204Z",
     "start_time": "2022-11-14T17:40:53.120783Z"
    }
   },
   "outputs": [
    {
     "data": {
      "text/plain": [
       "'KLdfsjsehfKgdsieb3i93swk'"
      ]
     },
     "execution_count": 32,
     "metadata": {},
     "output_type": "execute_result"
    }
   ],
   "source": [
    "credentials['key']"
   ]
  },
  {
   "cell_type": "code",
   "execution_count": null,
   "metadata": {},
   "outputs": [],
   "source": []
  }
 ],
 "metadata": {
  "kernelspec": {
   "display_name": "Python 3 (ipykernel)",
   "language": "python",
   "name": "python3"
  },
  "language_info": {
   "codemirror_mode": {
    "name": "ipython",
    "version": 3
   },
   "file_extension": ".py",
   "mimetype": "text/x-python",
   "name": "python",
   "nbconvert_exporter": "python",
   "pygments_lexer": "ipython3",
   "version": "3.7.6"
  }
 },
 "nbformat": 4,
 "nbformat_minor": 5
}
