{
 "cells": [
  {
   "cell_type": "markdown",
   "metadata": {},
   "source": [
    "# API Exercises"
   ]
  },
  {
   "cell_type": "markdown",
   "metadata": {},
   "source": [
    "## Part A"
   ]
  },
  {
   "cell_type": "markdown",
   "metadata": {},
   "source": [
    "# 1.Access the Cat Breeds API and download data from all pages\n"
   ]
  },
  {
   "cell_type": "code",
   "execution_count": null,
   "metadata": {},
   "outputs": [],
   "source": [
    "import requests\n",
    "import json\n",
    "from time import sleep\n",
    "import pandas as pd\n",
    "from tqdm import tqdm\n",
    "pd.set_option('display.max_columns', None)"
   ]
  },
  {
   "cell_type": "code",
   "execution_count": null,
   "metadata": {},
   "outputs": [],
   "source": [
    "link = 'https://catfact.ninja/breeds?page={}'\n",
    "cat_data = []\n",
    "for i in range(1,5):\n",
    "    #link.format(i) # here it was blocking and reading looped the same page\n",
    "    response = requests.get(link.format(i))\n",
    "    x = json.loads(response.content)\n",
    "    cat_data.extend(x['data'])\n"
   ]
  },
  {
   "cell_type": "code",
   "execution_count": null,
   "metadata": {},
   "outputs": [],
   "source": [
    "cat_data\n",
    "df = pd.DataFrame.from_dict(cat_data)\n",
    "df = df.replace(r'^\\s*$', np.nan, regex=True)\n",
    "df.info()"
   ]
  },
  {
   "cell_type": "code",
   "execution_count": null,
   "metadata": {},
   "outputs": [],
   "source": [
    "df.drop_duplicates(inplace=True)\n",
    "df.info()"
   ]
  },
  {
   "cell_type": "markdown",
   "metadata": {},
   "source": [
    "# 2.Which country has the highest number of cat breeds?\n"
   ]
  },
  {
   "cell_type": "code",
   "execution_count": null,
   "metadata": {},
   "outputs": [],
   "source": [
    "#df.groupby('country').count().sort_values('breed', ascending=False)#.head(1)['breed']"
   ]
  },
  {
   "cell_type": "code",
   "execution_count": null,
   "metadata": {},
   "outputs": [],
   "source": [
    "#With double bracket at the end returns the result as dataframe !!!!\n",
    "\n",
    "df.groupby('country').count().sort_values('breed', ascending=False).head(1)[['breed']]#.index[0]"
   ]
  },
  {
   "cell_type": "code",
   "execution_count": null,
   "metadata": {},
   "outputs": [],
   "source": [
    "#reseting index to get it back to columns \n",
    "#y.reset_index().set_index('country').index[0]"
   ]
  },
  {
   "cell_type": "markdown",
   "metadata": {},
   "source": [
    "# 3.What is the percentage of Hairless breeds?"
   ]
  },
  {
   "cell_type": "code",
   "execution_count": null,
   "metadata": {},
   "outputs": [],
   "source": [
    "df.groupby('coat').count().sort_values('breed', ascending=False)['breed'].sum()"
   ]
  },
  {
   "cell_type": "code",
   "execution_count": null,
   "metadata": {},
   "outputs": [],
   "source": [
    "df.groupby('coat').count().sort_values('breed', ascending=False)['breed']['Hairless']"
   ]
  },
  {
   "cell_type": "code",
   "execution_count": null,
   "metadata": {},
   "outputs": [],
   "source": [
    "a = df.groupby('coat').count().sort_values('breed', ascending=False)['breed'].sum()\n",
    "b = df.groupby('coat').count().sort_values('breed', ascending=False)['breed']['Hairless']\n",
    "print(f'The percentage of hairless breeds is :{b/a*100}%')"
   ]
  },
  {
   "cell_type": "markdown",
   "metadata": {},
   "source": [
    "# Part B"
   ]
  },
  {
   "cell_type": "markdown",
   "metadata": {},
   "source": [
    "# Create an account at https://api-ninjas.com/\n",
    "1.Enhance the previous dataset with additional cat data! Use the API of cats to get the data and then merge them into one dataframe"
   ]
  },
  {
   "cell_type": "code",
   "execution_count": null,
   "metadata": {},
   "outputs": [],
   "source": [
    "with open('api-ninjas.json', 'r') as fh:\n",
    "    credentials = json.load(fh)\n",
    "    \n",
    "api_key = credentials['key']"
   ]
  },
  {
   "cell_type": "code",
   "execution_count": null,
   "metadata": {},
   "outputs": [],
   "source": [
    "name = 'abyssinian'\n",
    "def get_cat(name):\n",
    "    api_url = 'https://api.api-ninjas.com/v1/cats?name={}'.format(name)\n",
    "    response = requests.get(api_url, headers={'X-Api-Key': api_key})\n",
    "    if response.status_code == requests.codes.ok:\n",
    "        return json.loads(response.content)\n",
    "    else:\n",
    "        print(\"Error:\", response.status_code, response.text)"
   ]
  },
  {
   "cell_type": "code",
   "execution_count": null,
   "metadata": {},
   "outputs": [],
   "source": [
    "#get_cat(name)"
   ]
  },
  {
   "cell_type": "code",
   "execution_count": null,
   "metadata": {},
   "outputs": [],
   "source": [
    "breed_list = df['breed'].to_list()"
   ]
  },
  {
   "cell_type": "code",
   "execution_count": null,
   "metadata": {},
   "outputs": [],
   "source": [
    "cats_char_list = []\n",
    "for breed in tqdm(breed_list):\n",
    "#     print(breed)\n",
    "    cat_info = get_cat(breed.lower())\n",
    "    if cat_info:\n",
    "        x = cat_info[0]\n",
    "        x.update({'breed':breed})\n",
    "        cats_char_list.append(x)\n",
    "    else:\n",
    "        print(breed)"
   ]
  },
  {
   "cell_type": "code",
   "execution_count": null,
   "metadata": {},
   "outputs": [],
   "source": [
    "df_cats2 = pd.DataFrame(cats_char_list)\n",
    "#df_cats2.head()"
   ]
  },
  {
   "cell_type": "code",
   "execution_count": null,
   "metadata": {},
   "outputs": [],
   "source": [
    "df_cats_merged = df.merge(df_cats2, on='breed')\n",
    "#df_cats_merged"
   ]
  },
  {
   "cell_type": "code",
   "execution_count": null,
   "metadata": {},
   "outputs": [],
   "source": [
    "df_cats_merged.dropna(inplace = True)"
   ]
  },
  {
   "cell_type": "markdown",
   "metadata": {},
   "source": [
    "# 2.In which country do you have the heaviest cats?"
   ]
  },
  {
   "cell_type": "code",
   "execution_count": null,
   "metadata": {},
   "outputs": [],
   "source": [
    "df_cats_merged['avg_weight'] = (df_cats_merged['min_weight'] + df_cats_merged['max_weight'])/2\n",
    "df_cats_merged.groupby('country')['avg_weight'].mean().sort_values()"
   ]
  },
  {
   "cell_type": "markdown",
   "metadata": {},
   "source": [
    "# 3.Which cats are the most friendly and playful (find the top 5)? What is their life expectancy?\n"
   ]
  },
  {
   "cell_type": "code",
   "execution_count": null,
   "metadata": {},
   "outputs": [],
   "source": [
    "df_cats_merged['avg_life'] = (df_cats_merged['min_life_expectancy'] + df_cats_merged['max_life_expectancy'])/2\n",
    "df_cats_merged[(df_cats_merged['family_friendly'] == 5.0) & (df_cats_merged['playfulness'] == 5.0)]"
   ]
  },
  {
   "cell_type": "markdown",
   "metadata": {},
   "source": [
    "# Part C (Bonus)"
   ]
  },
  {
   "cell_type": "markdown",
   "metadata": {},
   "source": [
    "# Create an account at Giant Bomb. Get your API key from the API page.\n",
    "\n",
    "Now use the following link in your Python script to get data from the API:\n",
    "'https://www.giantbomb.com/api/games/?filter=platforms%3A35&field_list=id%2Cname%2Coriginal_game_rating%2Coriginal_release_date&sort=name%3Adesc&limit=10&offset=0&api_key=___your___api___key___&format=json'\n",
    "\n",
    "There is an offset in the link. You have to change the offset repeatedly to get all the results from the API.\n",
    "\n",
    "To do so you can use the following code using the requests library.\n",
    "import requests\n",
    "import json\n",
    "link = your_link_\n",
    "\n",
    "headers={'User-Agent': 'Mozilla/5.0 (Windows NT 10.0; Win64; x64) AppleWebKit/537.36 (KHTML, like Gecko) Chrome/102.0.0.0 Safari/537.36'}\n",
    "\n",
    "response = requests.get(link, headers=headers)\n",
    "json.loads(response.content)\n",
    "Gather all the data and create a pandas Dataframe.\n"
   ]
  },
  {
   "cell_type": "code",
   "execution_count": null,
   "metadata": {},
   "outputs": [],
   "source": [
    "with open('api-giantbomb.json', 'r') as fh:\n",
    "    credentials = json.load(fh)"
   ]
  },
  {
   "cell_type": "code",
   "execution_count": null,
   "metadata": {},
   "outputs": [],
   "source": [
    "link = 'https://www.giantbomb.com/api/games/?filter=platforms%3A35&field_list=id%2Cname%2Coriginal_game_rating%2Coriginal_release_date&sort=name%3Adesc&limit=10&offset=0&api_key={}&format=json'\n",
    "\n",
    "\n",
    "headers={'User-Agent': 'Mozilla/5.0 (Windows NT 10.0; Win64; x64) AppleWebKit/537.36 (KHTML, like Gecko) Chrome/102.0.0.0 Safari/537.36'}"
   ]
  },
  {
   "cell_type": "code",
   "execution_count": null,
   "metadata": {},
   "outputs": [],
   "source": [
    "response = requests.get(link.format(credentials['key']), headers=headers)\n",
    "response_json = json.loads(response.content)"
   ]
  },
  {
   "cell_type": "code",
   "execution_count": null,
   "metadata": {},
   "outputs": [],
   "source": [
    "response_json.keys()"
   ]
  },
  {
   "cell_type": "code",
   "execution_count": null,
   "metadata": {},
   "outputs": [],
   "source": [
    "response_json['results']"
   ]
  },
  {
   "cell_type": "code",
   "execution_count": null,
   "metadata": {},
   "outputs": [],
   "source": [
    "link = 'https://www.giantbomb.com/api/games/?filter=platforms%3A35&field_list=id%2Cname%2Coriginal_game_rating%2Coriginal_release_date&sort=name%3Adesc&limit=10&offset={}&api_key={}&format=json'"
   ]
  },
  {
   "cell_type": "code",
   "execution_count": null,
   "metadata": {},
   "outputs": [],
   "source": [
    "results = []\n",
    "api_key = credentials['key']\n",
    "\n",
    "for offset in tqdm(range(0,1725,10)):\n",
    "    response = requests.get(link.format(offset, api_key), headers=headers)\n",
    "    response_json = json.loads(response.content)\n",
    "    results.extend(response_json['results'])\n",
    "#len(results)"
   ]
  },
  {
   "cell_type": "code",
   "execution_count": null,
   "metadata": {},
   "outputs": [],
   "source": [
    "df_gb = pd.DataFrame(results)\n",
    "df_gb"
   ]
  },
  {
   "cell_type": "code",
   "execution_count": null,
   "metadata": {},
   "outputs": [],
   "source": [
    "df_normalisze = pd.json_normalize(results , max_level=1)\n",
    "df_normalisze"
   ]
  }
 ],
 "metadata": {
  "kernelspec": {
   "display_name": "Python 3 (ipykernel)",
   "language": "python",
   "name": "python3"
  },
  "language_info": {
   "codemirror_mode": {
    "name": "ipython",
    "version": 3
   },
   "file_extension": ".py",
   "mimetype": "text/x-python",
   "name": "python",
   "nbconvert_exporter": "python",
   "pygments_lexer": "ipython3",
   "version": "3.7.6"
  }
 },
 "nbformat": 4,
 "nbformat_minor": 4
}
