{
 "cells": [
  {
   "cell_type": "code",
   "execution_count": 1,
   "metadata": {},
   "outputs": [],
   "source": [
    "import requests\n",
    "import re\n",
    "from bs4 import BeautifulSoup\n",
    "from tqdm.notebook import tqdm\n",
    "from datetime import datetime\n",
    "import pandas as pd"
   ]
  },
  {
   "cell_type": "code",
   "execution_count": 2,
   "metadata": {},
   "outputs": [],
   "source": [
    "main_link = \"https://www.car.gr/classifieds/cars/?fs=1&pg=%s\""
   ]
  },
  {
   "cell_type": "code",
   "execution_count": 3,
   "metadata": {},
   "outputs": [
    {
     "name": "stdout",
     "output_type": "stream",
     "text": [
      "https://www.car.gr/classifieds/cars/?fs=1&pg=1\n",
      "https://www.car.gr/classifieds/cars/?fs=1&pg=2\n",
      "https://www.car.gr/classifieds/cars/?fs=1&pg=3\n"
     ]
    }
   ],
   "source": [
    "# string formatting\n",
    "max_pages= 3\n",
    "for page_number in range(1, max_pages+1):\n",
    "    print(main_link % page_number)"
   ]
  },
  {
   "cell_type": "code",
   "execution_count": 4,
   "metadata": {},
   "outputs": [
    {
     "name": "stdout",
     "output_type": "stream",
     "text": [
      "https://www.car.gr/classifieds/cars/?fs=1&pg=1\n",
      "https://www.car.gr/classifieds/cars/?fs=1&pg=2\n",
      "https://www.car.gr/classifieds/cars/?fs=1&pg=3\n"
     ]
    }
   ],
   "source": [
    "# string formatting\n",
    "for page_number in range(1, max_pages+1):\n",
    "    page_link = f\"https://www.car.gr/classifieds/cars/?fs=1&pg={page_number}\"\n",
    "    print(page_link)"
   ]
  },
  {
   "cell_type": "code",
   "execution_count": 2,
   "metadata": {},
   "outputs": [
    {
     "ename": "NameError",
     "evalue": "name 'max_pages' is not defined",
     "output_type": "error",
     "traceback": [
      "\u001b[0;31m---------------------------------------------------------------------------\u001b[0m",
      "\u001b[0;31mNameError\u001b[0m                                 Traceback (most recent call last)",
      "\u001b[0;32m/var/folders/hl/0r3fbld566g2q0_dh3lc7mcw0000gn/T/ipykernel_8209/1531641206.py\u001b[0m in \u001b[0;36m<module>\u001b[0;34m\u001b[0m\n\u001b[1;32m      1\u001b[0m \u001b[0mhtml_pages\u001b[0m \u001b[0;34m=\u001b[0m \u001b[0;34m[\u001b[0m\u001b[0;34m]\u001b[0m\u001b[0;34m\u001b[0m\u001b[0;34m\u001b[0m\u001b[0m\n\u001b[0;32m----> 2\u001b[0;31m \u001b[0;32mfor\u001b[0m \u001b[0mpage_number\u001b[0m \u001b[0;32min\u001b[0m \u001b[0mrange\u001b[0m\u001b[0;34m(\u001b[0m\u001b[0;36m1\u001b[0m\u001b[0;34m,\u001b[0m \u001b[0mmax_pages\u001b[0m\u001b[0;34m+\u001b[0m\u001b[0;36m1\u001b[0m\u001b[0;34m)\u001b[0m\u001b[0;34m:\u001b[0m\u001b[0;34m\u001b[0m\u001b[0;34m\u001b[0m\u001b[0m\n\u001b[0m\u001b[1;32m      3\u001b[0m     \u001b[0mprint\u001b[0m\u001b[0;34m(\u001b[0m\u001b[0mmain_link\u001b[0m \u001b[0;34m%\u001b[0m \u001b[0mpage_number\u001b[0m\u001b[0;34m)\u001b[0m\u001b[0;34m\u001b[0m\u001b[0;34m\u001b[0m\u001b[0m\n\u001b[1;32m      4\u001b[0m     \u001b[0mhtml\u001b[0m \u001b[0;34m=\u001b[0m \u001b[0mrequests\u001b[0m\u001b[0;34m.\u001b[0m\u001b[0mget\u001b[0m\u001b[0;34m(\u001b[0m\u001b[0mmain_link\u001b[0m \u001b[0;34m%\u001b[0m \u001b[0mpage_number\u001b[0m\u001b[0;34m)\u001b[0m\u001b[0;34m\u001b[0m\u001b[0;34m\u001b[0m\u001b[0m\n\u001b[1;32m      5\u001b[0m     \u001b[0mhtml_pages\u001b[0m\u001b[0;34m.\u001b[0m\u001b[0mappend\u001b[0m\u001b[0;34m(\u001b[0m\u001b[0mhtml\u001b[0m\u001b[0;34m)\u001b[0m\u001b[0;34m\u001b[0m\u001b[0;34m\u001b[0m\u001b[0m\n",
      "\u001b[0;31mNameError\u001b[0m: name 'max_pages' is not defined"
     ]
    }
   ],
   "source": [
    "html_pages = []\n",
    "for page_number in range(1, max_pages+1):\n",
    "    print(main_link % page_number)\n",
    "    html = requests.get(main_link % page_number)\n",
    "    html_pages.append(html)\n",
    "    \n",
    "html_pages"
   ]
  },
  {
   "cell_type": "code",
   "execution_count": 1,
   "metadata": {},
   "outputs": [
    {
     "ename": "NameError",
     "evalue": "name 'html_pages' is not defined",
     "output_type": "error",
     "traceback": [
      "\u001b[0;31m---------------------------------------------------------------------------\u001b[0m",
      "\u001b[0;31mNameError\u001b[0m                                 Traceback (most recent call last)",
      "\u001b[0;32m/var/folders/hl/0r3fbld566g2q0_dh3lc7mcw0000gn/T/ipykernel_8209/2449008241.py\u001b[0m in \u001b[0;36m<module>\u001b[0;34m\u001b[0m\n\u001b[0;32m----> 1\u001b[0;31m \u001b[0mhtml_pages_content\u001b[0m \u001b[0;34m=\u001b[0m \u001b[0;34m[\u001b[0m\u001b[0mhtml\u001b[0m\u001b[0;34m.\u001b[0m\u001b[0mcontent\u001b[0m \u001b[0;32mfor\u001b[0m \u001b[0mhtml\u001b[0m \u001b[0;32min\u001b[0m \u001b[0mhtml_pages\u001b[0m\u001b[0;34m]\u001b[0m\u001b[0;34m\u001b[0m\u001b[0;34m\u001b[0m\u001b[0m\n\u001b[0m\u001b[1;32m      2\u001b[0m \u001b[0;31m#html_pages_content\u001b[0m\u001b[0;34m\u001b[0m\u001b[0;34m\u001b[0m\u001b[0;34m\u001b[0m\u001b[0m\n",
      "\u001b[0;31mNameError\u001b[0m: name 'html_pages' is not defined"
     ]
    }
   ],
   "source": [
    "html_pages_content = [html.content for html in html_pages]\n",
    "#html_pages_content"
   ]
  },
  {
   "cell_type": "code",
   "execution_count": 3,
   "metadata": {},
   "outputs": [
    {
     "ename": "NameError",
     "evalue": "name 'html_pages_content' is not defined",
     "output_type": "error",
     "traceback": [
      "\u001b[0;31m---------------------------------------------------------------------------\u001b[0m",
      "\u001b[0;31mNameError\u001b[0m                                 Traceback (most recent call last)",
      "\u001b[0;32m/var/folders/hl/0r3fbld566g2q0_dh3lc7mcw0000gn/T/ipykernel_8209/3963351318.py\u001b[0m in \u001b[0;36m<module>\u001b[0;34m\u001b[0m\n\u001b[0;32m----> 1\u001b[0;31m \u001b[0mhtml\u001b[0m \u001b[0;34m=\u001b[0m \u001b[0mhtml_pages_content\u001b[0m\u001b[0;34m[\u001b[0m\u001b[0;36m0\u001b[0m\u001b[0;34m]\u001b[0m\u001b[0;34m\u001b[0m\u001b[0;34m\u001b[0m\u001b[0m\n\u001b[0m\u001b[1;32m      2\u001b[0m \u001b[0;31m#html\u001b[0m\u001b[0;34m\u001b[0m\u001b[0;34m\u001b[0m\u001b[0;34m\u001b[0m\u001b[0m\n",
      "\u001b[0;31mNameError\u001b[0m: name 'html_pages_content' is not defined"
     ]
    }
   ],
   "source": [
    "html = html_pages_content[0]\n",
    "#html"
   ]
  },
  {
   "cell_type": "code",
   "execution_count": 4,
   "metadata": {},
   "outputs": [
    {
     "ename": "NameError",
     "evalue": "name 'BeautifulSoup' is not defined",
     "output_type": "error",
     "traceback": [
      "\u001b[0;31m---------------------------------------------------------------------------\u001b[0m",
      "\u001b[0;31mNameError\u001b[0m                                 Traceback (most recent call last)",
      "\u001b[0;32m/var/folders/hl/0r3fbld566g2q0_dh3lc7mcw0000gn/T/ipykernel_8209/3680768563.py\u001b[0m in \u001b[0;36m<module>\u001b[0;34m\u001b[0m\n\u001b[0;32m----> 1\u001b[0;31m \u001b[0msoup\u001b[0m \u001b[0;34m=\u001b[0m \u001b[0mBeautifulSoup\u001b[0m\u001b[0;34m(\u001b[0m\u001b[0mhtml\u001b[0m\u001b[0;34m,\u001b[0m \u001b[0;34m\"html.parser\"\u001b[0m\u001b[0;34m)\u001b[0m\u001b[0;34m\u001b[0m\u001b[0;34m\u001b[0m\u001b[0m\n\u001b[0m\u001b[1;32m      2\u001b[0m \u001b[0;31m#soup\u001b[0m\u001b[0;34m\u001b[0m\u001b[0;34m\u001b[0m\u001b[0;34m\u001b[0m\u001b[0m\n",
      "\u001b[0;31mNameError\u001b[0m: name 'BeautifulSoup' is not defined"
     ]
    }
   ],
   "source": [
    "soup = BeautifulSoup(html, \"html.parser\")\n",
    "#soup"
   ]
  },
  {
   "cell_type": "code",
   "execution_count": 9,
   "metadata": {},
   "outputs": [
    {
     "data": {
      "text/plain": [
       "'\\n            (95.089 αγγελίες)\\n          '"
      ]
     },
     "execution_count": 9,
     "metadata": {},
     "output_type": "execute_result"
    }
   ],
   "source": [
    "soup.find(\"span\", class_=\"total-results-num-text\").text"
   ]
  },
  {
   "cell_type": "code",
   "execution_count": 10,
   "metadata": {},
   "outputs": [
    {
     "data": {
      "text/plain": [
       "95089"
      ]
     },
     "execution_count": 10,
     "metadata": {},
     "output_type": "execute_result"
    }
   ],
   "source": [
    "# Number of total results\n",
    "num_results = 0\n",
    "for f in soup.find_all(\"span\", class_=\"total-results-num-text\"):\n",
    "    if \"αγγελίες\" in str(f).lower():\n",
    "        if (\n",
    "            re.findall(\"\\d{1,3}\\.*\\d{0,3} αγγελίες\", str(f).lower())[0]\n",
    "            .split()[0]\n",
    "            .replace(\".\", \"\")\n",
    "            .isdigit()\n",
    "        ):\n",
    "            num_results = int(\n",
    "                re.findall(\"\\d{1,3}\\.*\\d{0,3} αγγελίες\", str(f).lower())[0]\n",
    "                .split()[0]\n",
    "                .replace(\".\", \"\")\n",
    "            )\n",
    "num_results"
   ]
  },
  {
   "cell_type": "code",
   "execution_count": 11,
   "metadata": {},
   "outputs": [
    {
     "data": {
      "text/plain": [
       "25"
      ]
     },
     "execution_count": 11,
     "metadata": {},
     "output_type": "execute_result"
    }
   ],
   "source": [
    "# Number of page results\n",
    "len(soup.find_all(\"a\", class_=\"row-anchor\"))"
   ]
  },
  {
   "cell_type": "code",
   "execution_count": 12,
   "metadata": {},
   "outputs": [
    {
     "data": {
      "text/plain": [
       "'9.900'"
      ]
     },
     "execution_count": 12,
     "metadata": {},
     "output_type": "execute_result"
    }
   ],
   "source": [
    "soup.find_all(\"div\", class_=\"price-tag\")[0].find('span').find('span').text\n",
    "\n",
    "# <div class=\"price-tag current-price\" data-v-c73186fe=\"\">"
   ]
  },
  {
   "cell_type": "code",
   "execution_count": 14,
   "metadata": {},
   "outputs": [
    {
     "data": {
      "text/plain": [
       "<h2 class=\"title mr-0\" data-v-08c82b20=\"\" target=\"_self\" title=\"Citroen C4 '18 NEW 1.6 BLUEHDI 100 S&amp;S LIVE ΕΛΛΗΝΙΚΟ\">\n",
       "  Citroen C4 '18 NEW 1.6 BLUEHDI 100 S&amp;S LIVE ΕΛΛΗΝΙΚΟ\n",
       "</h2>"
      ]
     },
     "execution_count": 14,
     "metadata": {},
     "output_type": "execute_result"
    }
   ],
   "source": [
    "# Attributes\n",
    "soup.find(\"h2\", class_=\"title\")"
   ]
  },
  {
   "cell_type": "code",
   "execution_count": 16,
   "metadata": {},
   "outputs": [
    {
     "data": {
      "text/plain": [
       "{'title': \"Citroen C4 '18 NEW 1.6 BLUEHDI 100 S&S LIVE ΕΛΛΗΝΙΚΟ\",\n",
       " 'target': '_self',\n",
       " 'class': ['title', 'mr-0'],\n",
       " 'data-v-08c82b20': ''}"
      ]
     },
     "execution_count": 16,
     "metadata": {},
     "output_type": "execute_result"
    }
   ],
   "source": [
    "soup.find(\"h2\", class_=\"title\").attrs"
   ]
  },
  {
   "cell_type": "code",
   "execution_count": 17,
   "metadata": {},
   "outputs": [
    {
     "data": {
      "text/plain": [
       "[9900,\n",
       " 58000,\n",
       " 58900,\n",
       " 22800,\n",
       " 15900,\n",
       " 30990,\n",
       " 6200,\n",
       " 23500,\n",
       " 13990,\n",
       " 21500,\n",
       " 1500,\n",
       " 20999,\n",
       " 26990,\n",
       " 8700,\n",
       " 17500,\n",
       " 13850,\n",
       " 19990,\n",
       " 15500,\n",
       " 14990,\n",
       " 14990,\n",
       " 1700,\n",
       " 16990,\n",
       " 6900,\n",
       " 16990,\n",
       " 14500]"
      ]
     },
     "execution_count": 17,
     "metadata": {},
     "output_type": "execute_result"
    }
   ],
   "source": [
    "# parse prices\n",
    "prices = [\n",
    "            int(item.find('span').find('span').text.replace(\".\", \"\"))\n",
    "            for item in soup.find_all(\"div\", class_=\"price-tag\")\n",
    "            if item.find('span').find('span').text != \"Ρωτήστε\"\n",
    "        ]\n",
    "prices"
   ]
  },
  {
   "cell_type": "code",
   "execution_count": 5,
   "metadata": {},
   "outputs": [
    {
     "ename": "NameError",
     "evalue": "name 'soup' is not defined",
     "output_type": "error",
     "traceback": [
      "\u001b[0;31m---------------------------------------------------------------------------\u001b[0m",
      "\u001b[0;31mNameError\u001b[0m                                 Traceback (most recent call last)",
      "\u001b[0;32m/var/folders/hl/0r3fbld566g2q0_dh3lc7mcw0000gn/T/ipykernel_8209/1545516316.py\u001b[0m in \u001b[0;36m<module>\u001b[0;34m\u001b[0m\n\u001b[1;32m      1\u001b[0m \u001b[0;31m# Ads list\u001b[0m\u001b[0;34m\u001b[0m\u001b[0;34m\u001b[0m\u001b[0;34m\u001b[0m\u001b[0m\n\u001b[0;32m----> 2\u001b[0;31m \u001b[0mads_list\u001b[0m \u001b[0;34m=\u001b[0m \u001b[0msoup\u001b[0m\u001b[0;34m.\u001b[0m\u001b[0mfind_all\u001b[0m\u001b[0;34m(\u001b[0m\u001b[0;34m\"div\"\u001b[0m\u001b[0;34m,\u001b[0m \u001b[0mclass_\u001b[0m\u001b[0;34m=\u001b[0m\u001b[0;34m\"search-row swipable\"\u001b[0m\u001b[0;34m)\u001b[0m\u001b[0;34m\u001b[0m\u001b[0;34m\u001b[0m\u001b[0m\n\u001b[0m\u001b[1;32m      3\u001b[0m \u001b[0;31m#ads_list\u001b[0m\u001b[0;34m\u001b[0m\u001b[0;34m\u001b[0m\u001b[0;34m\u001b[0m\u001b[0m\n",
      "\u001b[0;31mNameError\u001b[0m: name 'soup' is not defined"
     ]
    }
   ],
   "source": [
    "# Ads list\n",
    "ads_list = soup.find_all(\"div\", class_=\"search-row swipable\")\n",
    "#ads_list"
   ]
  },
  {
   "cell_type": "code",
   "execution_count": 19,
   "metadata": {},
   "outputs": [
    {
     "data": {
      "text/plain": [
       "327049197"
      ]
     },
     "execution_count": 19,
     "metadata": {},
     "output_type": "execute_result"
    }
   ],
   "source": [
    "# Use 1st ad\n",
    "car_item = ads_list[0]\n",
    "\n",
    "car_id = int(\n",
    "                car_item.find(\"a\", class_=\"row-anchor\")\n",
    "                .get(\"href\")\n",
    "                .replace(\"/\", \"\")\n",
    "                .split(\"-\")[0]\n",
    "                .replace(\"classifiedscarsview\", \"\")\n",
    "            )\n",
    "car_id"
   ]
  },
  {
   "cell_type": "code",
   "execution_count": 20,
   "metadata": {},
   "outputs": [
    {
     "data": {
      "text/plain": [
       "\"Citroen C4 '18 NEW 1.6 BLUEHDI 100 S&S LIVE ΕΛΛΗΝΙΚΟ\""
      ]
     },
     "execution_count": 20,
     "metadata": {},
     "output_type": "execute_result"
    }
   ],
   "source": [
    "# title\n",
    "title = str(car_item.find(\"h2\", class_=\"title\").text).strip()\n",
    "title"
   ]
  },
  {
   "cell_type": "code",
   "execution_count": 21,
   "metadata": {},
   "outputs": [
    {
     "data": {
      "text/plain": [
       "'9.900'"
      ]
     },
     "execution_count": 21,
     "metadata": {},
     "output_type": "execute_result"
    }
   ],
   "source": [
    "# price\n",
    "price = car_item.find(\"div\", class_=\"price-tag\").span.span.text\n",
    "price"
   ]
  },
  {
   "cell_type": "code",
   "execution_count": 22,
   "metadata": {},
   "outputs": [
    {
     "data": {
      "text/plain": [
       "'/classifieds/cars/view/327049197-citroen-c4?from-promotion=1'"
      ]
     },
     "execution_count": 22,
     "metadata": {},
     "output_type": "execute_result"
    }
   ],
   "source": [
    "# url\n",
    "url = car_item.find(\"a\", class_=\"row-anchor\").get(\"href\")\n",
    "url"
   ]
  },
  {
   "cell_type": "code",
   "execution_count": 23,
   "metadata": {
    "scrolled": true
   },
   "outputs": [
    {
     "data": {
      "text/html": [
       "<div>\n",
       "<style scoped>\n",
       "    .dataframe tbody tr th:only-of-type {\n",
       "        vertical-align: middle;\n",
       "    }\n",
       "\n",
       "    .dataframe tbody tr th {\n",
       "        vertical-align: top;\n",
       "    }\n",
       "\n",
       "    .dataframe thead th {\n",
       "        text-align: right;\n",
       "    }\n",
       "</style>\n",
       "<table border=\"1\" class=\"dataframe\">\n",
       "  <thead>\n",
       "    <tr style=\"text-align: right;\">\n",
       "      <th></th>\n",
       "      <th>car_id</th>\n",
       "      <th>title</th>\n",
       "      <th>price</th>\n",
       "      <th>url</th>\n",
       "    </tr>\n",
       "  </thead>\n",
       "  <tbody>\n",
       "    <tr>\n",
       "      <th>0</th>\n",
       "      <td>327049197</td>\n",
       "      <td>Citroen C4 '18 NEW 1.6 BLUEHDI 100 S&amp;S LIVE ΕΛ...</td>\n",
       "      <td>9.900</td>\n",
       "      <td>/classifieds/cars/view/327049197-citroen-c4?fr...</td>\n",
       "    </tr>\n",
       "    <tr>\n",
       "      <th>1</th>\n",
       "      <td>327415429</td>\n",
       "      <td>Porsche Cayenne '15 e hybrid</td>\n",
       "      <td>58.000</td>\n",
       "      <td>/classifieds/cars/view/327415429-porsche-cayenne</td>\n",
       "    </tr>\n",
       "    <tr>\n",
       "      <th>2</th>\n",
       "      <td>326754981</td>\n",
       "      <td>Land Rover Range Rover Sport '15 HSE HYBRID</td>\n",
       "      <td>58.900</td>\n",
       "      <td>/classifieds/cars/view/326754981-land-rover-ra...</td>\n",
       "    </tr>\n",
       "    <tr>\n",
       "      <th>3</th>\n",
       "      <td>319098450</td>\n",
       "      <td>Bmw 730 '06</td>\n",
       "      <td>22.800</td>\n",
       "      <td>/classifieds/cars/view/319098450-bmw-730</td>\n",
       "    </tr>\n",
       "    <tr>\n",
       "      <th>4</th>\n",
       "      <td>321367575</td>\n",
       "      <td>Mercedes-Benz E 200 '09  Compressor Elegance</td>\n",
       "      <td>15.900</td>\n",
       "      <td>/classifieds/cars/view/321367575-mercedes-benz...</td>\n",
       "    </tr>\n",
       "    <tr>\n",
       "      <th>5</th>\n",
       "      <td>327823305</td>\n",
       "      <td>Honda CR-V '16 EXECUTIVE AUTOMATIC PANORAMA</td>\n",
       "      <td>30.990</td>\n",
       "      <td>/classifieds/cars/view/327823305-honda-cr-v</td>\n",
       "    </tr>\n",
       "    <tr>\n",
       "      <th>6</th>\n",
       "      <td>327864581</td>\n",
       "      <td>Chevrolet Spark '13 ΕΥΚΑΙΡΙΑ!!!!!</td>\n",
       "      <td>6.200</td>\n",
       "      <td>/classifieds/cars/view/327864581-chevrolet-spark</td>\n",
       "    </tr>\n",
       "    <tr>\n",
       "      <th>7</th>\n",
       "      <td>318693441</td>\n",
       "      <td>Ford Kuga '17 ST-Line Αυτόματο Full Extra</td>\n",
       "      <td>23.500</td>\n",
       "      <td>/classifieds/cars/view/318693441-ford-kuga</td>\n",
       "    </tr>\n",
       "    <tr>\n",
       "      <th>8</th>\n",
       "      <td>327312224</td>\n",
       "      <td>Renault Clio '16 GT Line Bose Navi Camera</td>\n",
       "      <td>13.990</td>\n",
       "      <td>/classifieds/cars/view/327312224-renault-clio</td>\n",
       "    </tr>\n",
       "    <tr>\n",
       "      <th>9</th>\n",
       "      <td>327103226</td>\n",
       "      <td>Honda HR-V '15 EXECUTIVE  PANORAMA</td>\n",
       "      <td>21.500</td>\n",
       "      <td>/classifieds/cars/view/327103226-honda-hr-v</td>\n",
       "    </tr>\n",
       "    <tr>\n",
       "      <th>10</th>\n",
       "      <td>327864580</td>\n",
       "      <td>Seat Cordoba '02</td>\n",
       "      <td>1.500</td>\n",
       "      <td>/classifieds/cars/view/327864580-seat-cordoba</td>\n",
       "    </tr>\n",
       "    <tr>\n",
       "      <th>11</th>\n",
       "      <td>326928779</td>\n",
       "      <td>Mini Clubman '17 ΑΥΤΟΜΑΤΟ-DIESEL-ΕΛΛΗΝΙΚΟ</td>\n",
       "      <td>20.999</td>\n",
       "      <td>/classifieds/cars/view/326928779-mini-clubman</td>\n",
       "    </tr>\n",
       "    <tr>\n",
       "      <th>12</th>\n",
       "      <td>325261500</td>\n",
       "      <td>Nissan Qashqai '18 TEKNA XTRONIK PANORAMA</td>\n",
       "      <td>26.990</td>\n",
       "      <td>/classifieds/cars/view/325261500-nissan-qashqai</td>\n",
       "    </tr>\n",
       "    <tr>\n",
       "      <th>13</th>\n",
       "      <td>327362710</td>\n",
       "      <td>Citroen C3 '16 1.2 5ΠΟΡΤΟ</td>\n",
       "      <td>8.700</td>\n",
       "      <td>/classifieds/cars/view/327362710-citroen-c3</td>\n",
       "    </tr>\n",
       "    <tr>\n",
       "      <th>14</th>\n",
       "      <td>318755888</td>\n",
       "      <td>Renault Scenic '16 BOSE R-LiNK NAVI FULL EXTRA</td>\n",
       "      <td>17.500</td>\n",
       "      <td>/classifieds/cars/view/318755888-renault-scenic</td>\n",
       "    </tr>\n",
       "    <tr>\n",
       "      <th>15</th>\n",
       "      <td>326822280</td>\n",
       "      <td>Bmw 320 '09</td>\n",
       "      <td>13.850</td>\n",
       "      <td>/classifieds/cars/view/326822280-bmw-320</td>\n",
       "    </tr>\n",
       "    <tr>\n",
       "      <th>16</th>\n",
       "      <td>327095240</td>\n",
       "      <td>Renault Scenic '17  ENERGY dCi 130 Bose Edition</td>\n",
       "      <td>19.990</td>\n",
       "      <td>/classifieds/cars/view/327095240-renault-scenic</td>\n",
       "    </tr>\n",
       "    <tr>\n",
       "      <th>17</th>\n",
       "      <td>317676007</td>\n",
       "      <td>Skoda Superb '14 3.6</td>\n",
       "      <td>15.500</td>\n",
       "      <td>/classifieds/cars/view/317676007-skoda-superb</td>\n",
       "    </tr>\n",
       "    <tr>\n",
       "      <th>18</th>\n",
       "      <td>327035252</td>\n",
       "      <td>Renault Captur '16  ENERGY dCi 110 Intens</td>\n",
       "      <td>14.990</td>\n",
       "      <td>/classifieds/cars/view/327035252-renault-captur</td>\n",
       "    </tr>\n",
       "    <tr>\n",
       "      <th>19</th>\n",
       "      <td>327349397</td>\n",
       "      <td>Ford Fiesta '18  1.5 TDCi Titanium NAVI</td>\n",
       "      <td>14.990</td>\n",
       "      <td>/classifieds/cars/view/327349397-ford-fiesta</td>\n",
       "    </tr>\n",
       "    <tr>\n",
       "      <th>20</th>\n",
       "      <td>327316423</td>\n",
       "      <td>Mazda 323 '98 F</td>\n",
       "      <td>1.700</td>\n",
       "      <td>/classifieds/cars/view/327316423-mazda-323</td>\n",
       "    </tr>\n",
       "    <tr>\n",
       "      <th>21</th>\n",
       "      <td>326143112</td>\n",
       "      <td>Renault Clio '20  TCe 101 Intens</td>\n",
       "      <td>16.990</td>\n",
       "      <td>/classifieds/cars/view/326143112-renault-clio</td>\n",
       "    </tr>\n",
       "    <tr>\n",
       "      <th>22</th>\n",
       "      <td>325611027</td>\n",
       "      <td>Fiat Fiorino '15 1.3 Diesel 11/2015*Euro 5B</td>\n",
       "      <td>6.900</td>\n",
       "      <td>/classifieds/cars/view/325611027-fiat-fiorino</td>\n",
       "    </tr>\n",
       "    <tr>\n",
       "      <th>23</th>\n",
       "      <td>327726569</td>\n",
       "      <td>Renault Megane '17   ENERGY dCi 130 Bose Edition</td>\n",
       "      <td>16.990</td>\n",
       "      <td>/classifieds/cars/view/327726569-renault-megane</td>\n",
       "    </tr>\n",
       "    <tr>\n",
       "      <th>24</th>\n",
       "      <td>327675465</td>\n",
       "      <td>Ford EcoSport '16  1.5 TDCi Trend</td>\n",
       "      <td>14.500</td>\n",
       "      <td>/classifieds/cars/view/327675465-ford-ecosport</td>\n",
       "    </tr>\n",
       "  </tbody>\n",
       "</table>\n",
       "</div>"
      ],
      "text/plain": [
       "       car_id                                              title   price  \\\n",
       "0   327049197  Citroen C4 '18 NEW 1.6 BLUEHDI 100 S&S LIVE ΕΛ...   9.900   \n",
       "1   327415429                       Porsche Cayenne '15 e hybrid  58.000   \n",
       "2   326754981        Land Rover Range Rover Sport '15 HSE HYBRID  58.900   \n",
       "3   319098450                                        Bmw 730 '06  22.800   \n",
       "4   321367575       Mercedes-Benz E 200 '09  Compressor Elegance  15.900   \n",
       "5   327823305        Honda CR-V '16 EXECUTIVE AUTOMATIC PANORAMA  30.990   \n",
       "6   327864581                  Chevrolet Spark '13 ΕΥΚΑΙΡΙΑ!!!!!   6.200   \n",
       "7   318693441          Ford Kuga '17 ST-Line Αυτόματο Full Extra  23.500   \n",
       "8   327312224          Renault Clio '16 GT Line Bose Navi Camera  13.990   \n",
       "9   327103226                 Honda HR-V '15 EXECUTIVE  PANORAMA  21.500   \n",
       "10  327864580                                   Seat Cordoba '02   1.500   \n",
       "11  326928779          Mini Clubman '17 ΑΥΤΟΜΑΤΟ-DIESEL-ΕΛΛΗΝΙΚΟ  20.999   \n",
       "12  325261500          Nissan Qashqai '18 TEKNA XTRONIK PANORAMA  26.990   \n",
       "13  327362710                          Citroen C3 '16 1.2 5ΠΟΡΤΟ   8.700   \n",
       "14  318755888     Renault Scenic '16 BOSE R-LiNK NAVI FULL EXTRA  17.500   \n",
       "15  326822280                                        Bmw 320 '09  13.850   \n",
       "16  327095240    Renault Scenic '17  ENERGY dCi 130 Bose Edition  19.990   \n",
       "17  317676007                               Skoda Superb '14 3.6  15.500   \n",
       "18  327035252          Renault Captur '16  ENERGY dCi 110 Intens  14.990   \n",
       "19  327349397            Ford Fiesta '18  1.5 TDCi Titanium NAVI  14.990   \n",
       "20  327316423                                    Mazda 323 '98 F   1.700   \n",
       "21  326143112                   Renault Clio '20  TCe 101 Intens  16.990   \n",
       "22  325611027        Fiat Fiorino '15 1.3 Diesel 11/2015*Euro 5B   6.900   \n",
       "23  327726569   Renault Megane '17   ENERGY dCi 130 Bose Edition  16.990   \n",
       "24  327675465                  Ford EcoSport '16  1.5 TDCi Trend  14.500   \n",
       "\n",
       "                                                  url  \n",
       "0   /classifieds/cars/view/327049197-citroen-c4?fr...  \n",
       "1    /classifieds/cars/view/327415429-porsche-cayenne  \n",
       "2   /classifieds/cars/view/326754981-land-rover-ra...  \n",
       "3            /classifieds/cars/view/319098450-bmw-730  \n",
       "4   /classifieds/cars/view/321367575-mercedes-benz...  \n",
       "5         /classifieds/cars/view/327823305-honda-cr-v  \n",
       "6    /classifieds/cars/view/327864581-chevrolet-spark  \n",
       "7          /classifieds/cars/view/318693441-ford-kuga  \n",
       "8       /classifieds/cars/view/327312224-renault-clio  \n",
       "9         /classifieds/cars/view/327103226-honda-hr-v  \n",
       "10      /classifieds/cars/view/327864580-seat-cordoba  \n",
       "11      /classifieds/cars/view/326928779-mini-clubman  \n",
       "12    /classifieds/cars/view/325261500-nissan-qashqai  \n",
       "13        /classifieds/cars/view/327362710-citroen-c3  \n",
       "14    /classifieds/cars/view/318755888-renault-scenic  \n",
       "15           /classifieds/cars/view/326822280-bmw-320  \n",
       "16    /classifieds/cars/view/327095240-renault-scenic  \n",
       "17      /classifieds/cars/view/317676007-skoda-superb  \n",
       "18    /classifieds/cars/view/327035252-renault-captur  \n",
       "19       /classifieds/cars/view/327349397-ford-fiesta  \n",
       "20         /classifieds/cars/view/327316423-mazda-323  \n",
       "21      /classifieds/cars/view/326143112-renault-clio  \n",
       "22      /classifieds/cars/view/325611027-fiat-fiorino  \n",
       "23    /classifieds/cars/view/327726569-renault-megane  \n",
       "24     /classifieds/cars/view/327675465-ford-ecosport  "
      ]
     },
     "execution_count": 23,
     "metadata": {},
     "output_type": "execute_result"
    }
   ],
   "source": [
    "all_ads = []\n",
    "for car_item in ads_list:\n",
    "    car_id = int(\n",
    "                car_item.find(\"a\", class_=\"row-anchor\")\n",
    "                .get(\"href\")\n",
    "                .replace(\"/\", \"\")\n",
    "                .split(\"-\")[0]\n",
    "                .replace(\"classifiedscarsview\", \"\")\n",
    "            )\n",
    "    \n",
    "    title = str(car_item.find(\"h2\", class_=\"title\").text.strip()\n",
    "    \n",
    "    price = car_item.find(\"div\", class_=\"price-tag\").span.span.text\n",
    "    \n",
    "    url = car_item.find(\"a\", class_=\"row-anchor\").get(\"href\")\n",
    "    \n",
    "    data = [car_id, title, price, url]\n",
    "    \n",
    "    all_ads.append(data)\n",
    "    \n",
    "car_ads = pd.DataFrame(all_ads, columns = ['car_id', 'title', 'price', 'url'])    \n",
    "car_ads          "
   ]
  }
 ],
 "metadata": {
  "kernelspec": {
   "display_name": "Python 3 (ipykernel)",
   "language": "python",
   "name": "python3"
  },
  "language_info": {
   "codemirror_mode": {
    "name": "ipython",
    "version": 3
   },
   "file_extension": ".py",
   "mimetype": "text/x-python",
   "name": "python",
   "nbconvert_exporter": "python",
   "pygments_lexer": "ipython3",
   "version": "3.7.6"
  }
 },
 "nbformat": 4,
 "nbformat_minor": 5
}
