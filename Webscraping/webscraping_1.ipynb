{
 "cells": [
  {
   "cell_type": "markdown",
   "metadata": {},
   "source": [
    "# Web Scraping exercises"
   ]
  },
  {
   "cell_type": "markdown",
   "metadata": {},
   "source": [
    "# 1.Web scrape ATPWorldTour website (singles)\n",
    "Get all weeks (until 1973) of the top100, scrape date, player name, ranking, country and points and store the data to a dataframe and save it at the end to a csv file."
   ]
  },
  {
   "cell_type": "code",
   "execution_count": 1,
   "metadata": {},
   "outputs": [],
   "source": [
    "from bs4 import BeautifulSoup\n",
    "import requests\n",
    "import re \n",
    "import pandas as pd\n",
    "import numpy as np\n",
    "from time import sleep\n",
    "from datetime import datetime, timedelta\n",
    "from tqdm.notebook import tqdm\n",
    "import matplotlib.pyplot as plt\n",
    "import sys\n",
    "import pprint\n",
    "from tqdm import tqdm_notebook as tqdm # this is a fancy progress bar!"
   ]
  },
  {
   "cell_type": "code",
   "execution_count": 61,
   "metadata": {},
   "outputs": [
    {
     "data": {
      "text/plain": [
       "200"
      ]
     },
     "execution_count": 61,
     "metadata": {},
     "output_type": "execute_result"
    }
   ],
   "source": [
    "link = 'https://www.atptour.com/en/rankings/singles?rankRange=0-100&rankDate={}'\n",
    "date = '2022-11-07'\n",
    "response = requests.get(link.format(date),headers={'User-Agent': ''})\n",
    "response.status_code"
   ]
  },
  {
   "cell_type": "code",
   "execution_count": 15,
   "metadata": {},
   "outputs": [
    {
     "data": {
      "text/plain": [
       "'2022.10.31'"
      ]
     },
     "execution_count": 15,
     "metadata": {},
     "output_type": "execute_result"
    }
   ],
   "source": [
    "html = response.content\n",
    "#print(html)\n",
    "soup = BeautifulSoup(html, \"html.parser\")\n",
    "x = soup.find(\"div\",id=\"rank-date-value\").text.strip()\n",
    "x"
   ]
  },
  {
   "cell_type": "code",
   "execution_count": 65,
   "metadata": {},
   "outputs": [
    {
     "name": "stdout",
     "output_type": "stream",
     "text": [
      "https://www.atptour.com/en/rankings/singles?rankRange=0-100&rankDate=2022-11-07\n"
     ]
    }
   ],
   "source": [
    "x = re.findall(r'[0-9]*\\.[0-9]*\\.[0-9]*',str(x))#.isdigit.replace('.','-')\n",
    "x[0].replace('.','-')\n",
    "page_link = f\"https://www.atptour.com/en/rankings/singles?rankRange=0-100&rankDate={x[0].replace('.','-')}\"\n",
    "print(page_link)"
   ]
  },
  {
   "cell_type": "code",
   "execution_count": 91,
   "metadata": {},
   "outputs": [
    {
     "data": {
      "text/plain": [
       "'2022-11-14'"
      ]
     },
     "execution_count": 91,
     "metadata": {},
     "output_type": "execute_result"
    }
   ],
   "source": [
    "dates = soup.find_all(\"div\", class_=\"dropdown-holder-wrapper\")[2].find_all('li')[1]['data-value']#.text#.find_all('li')\n",
    "#edw me attrs san dictionary {'class':{'current',''}}\n",
    "dates"
   ]
  },
  {
   "cell_type": "code",
   "execution_count": 97,
   "metadata": {},
   "outputs": [],
   "source": [
    "my_dates = []\n",
    "dates = soup.find_all(\"div\", class_=\"dropdown-holder-wrapper\")[2].find_all('li')\n",
    "for date in dates[1:]:\n",
    "    my_dates.append(date['data-value'])\n",
    "#my_dates"
   ]
  },
  {
   "cell_type": "code",
   "execution_count": 165,
   "metadata": {},
   "outputs": [
    {
     "data": {
      "text/plain": [
       "'ESP'"
      ]
     },
     "execution_count": 165,
     "metadata": {},
     "output_type": "execute_result"
    }
   ],
   "source": [
    "#country\n",
    "soup.find(\"tbody\").find_all(\"div\",class_=\"country-item\")[0].find('img').attrs['alt']#.find('alt')#.find_all(\"tr\")"
   ]
  },
  {
   "cell_type": "code",
   "execution_count": 166,
   "metadata": {},
   "outputs": [
    {
     "data": {
      "text/plain": [
       "'1'"
      ]
     },
     "execution_count": 166,
     "metadata": {},
     "output_type": "execute_result"
    }
   ],
   "source": [
    "#rank\n",
    "soup.find(\"tbody\").find_all(\"td\",class_=\"rank-cell border-left-4 border-right-dash-1\")[0].text.strip()"
   ]
  },
  {
   "cell_type": "code",
   "execution_count": 167,
   "metadata": {},
   "outputs": [
    {
     "data": {
      "text/plain": [
       "'Carlos Alcaraz'"
      ]
     },
     "execution_count": 167,
     "metadata": {},
     "output_type": "execute_result"
    }
   ],
   "source": [
    "#name\n",
    "soup.find(\"tbody\").find_all(\"td\",class_=\"player-cell border-left-dash-1 border-right-dash-1\")[0].text.strip()"
   ]
  },
  {
   "cell_type": "code",
   "execution_count": 168,
   "metadata": {},
   "outputs": [
    {
     "data": {
      "text/plain": [
       "'6,820'"
      ]
     },
     "execution_count": 168,
     "metadata": {},
     "output_type": "execute_result"
    }
   ],
   "source": [
    "#points\n",
    "soup.find(\"tbody\").find_all(\"td\",class_=\"points-cell border-right-dash-1\")[0].text.strip()"
   ]
  },
  {
   "cell_type": "code",
   "execution_count": 19,
   "metadata": {},
   "outputs": [
    {
     "data": {
      "text/html": [
       "<div>\n",
       "<style scoped>\n",
       "    .dataframe tbody tr th:only-of-type {\n",
       "        vertical-align: middle;\n",
       "    }\n",
       "\n",
       "    .dataframe tbody tr th {\n",
       "        vertical-align: top;\n",
       "    }\n",
       "\n",
       "    .dataframe thead th {\n",
       "        text-align: right;\n",
       "    }\n",
       "</style>\n",
       "<table border=\"1\" class=\"dataframe\">\n",
       "  <thead>\n",
       "    <tr style=\"text-align: right;\">\n",
       "      <th></th>\n",
       "      <th>country</th>\n",
       "      <th>date</th>\n",
       "      <th>name</th>\n",
       "      <th>points</th>\n",
       "      <th>rank</th>\n",
       "    </tr>\n",
       "  </thead>\n",
       "  <tbody>\n",
       "    <tr>\n",
       "      <th>0</th>\n",
       "      <td>ESP</td>\n",
       "      <td>2022-11-14</td>\n",
       "      <td>Carlos Alcaraz</td>\n",
       "      <td>6,820</td>\n",
       "      <td>1</td>\n",
       "    </tr>\n",
       "    <tr>\n",
       "      <th>1</th>\n",
       "      <td>ESP</td>\n",
       "      <td>2022-11-14</td>\n",
       "      <td>Rafael Nadal</td>\n",
       "      <td>5,820</td>\n",
       "      <td>2</td>\n",
       "    </tr>\n",
       "    <tr>\n",
       "      <th>2</th>\n",
       "      <td>GRE</td>\n",
       "      <td>2022-11-14</td>\n",
       "      <td>Stefanos Tsitsipas</td>\n",
       "      <td>5,350</td>\n",
       "      <td>3</td>\n",
       "    </tr>\n",
       "    <tr>\n",
       "      <th>3</th>\n",
       "      <td>NOR</td>\n",
       "      <td>2022-11-14</td>\n",
       "      <td>Casper Ruud</td>\n",
       "      <td>5,020</td>\n",
       "      <td>4</td>\n",
       "    </tr>\n",
       "    <tr>\n",
       "      <th>4</th>\n",
       "      <td>RUS</td>\n",
       "      <td>2022-11-14</td>\n",
       "      <td>Daniil Medvedev</td>\n",
       "      <td>4,065</td>\n",
       "      <td>5</td>\n",
       "    </tr>\n",
       "    <tr>\n",
       "      <th>...</th>\n",
       "      <td>...</td>\n",
       "      <td>...</td>\n",
       "      <td>...</td>\n",
       "      <td>...</td>\n",
       "      <td>...</td>\n",
       "    </tr>\n",
       "    <tr>\n",
       "      <th>995</th>\n",
       "      <td>GEO</td>\n",
       "      <td>2022-09-12</td>\n",
       "      <td>Nikoloz Basilashvili</td>\n",
       "      <td>575</td>\n",
       "      <td>96</td>\n",
       "    </tr>\n",
       "    <tr>\n",
       "      <th>996</th>\n",
       "      <td>BOL</td>\n",
       "      <td>2022-09-12</td>\n",
       "      <td>Hugo Dellien</td>\n",
       "      <td>575</td>\n",
       "      <td>97</td>\n",
       "    </tr>\n",
       "    <tr>\n",
       "      <th>997</th>\n",
       "      <td>CHN</td>\n",
       "      <td>2022-09-12</td>\n",
       "      <td>Zhizhen Zhang</td>\n",
       "      <td>569</td>\n",
       "      <td>98</td>\n",
       "    </tr>\n",
       "    <tr>\n",
       "      <th>998</th>\n",
       "      <td>SRB</td>\n",
       "      <td>2022-09-12</td>\n",
       "      <td>Dusan Lajovic</td>\n",
       "      <td>566</td>\n",
       "      <td>99</td>\n",
       "    </tr>\n",
       "    <tr>\n",
       "      <th>999</th>\n",
       "      <td>RUS</td>\n",
       "      <td>2022-09-12</td>\n",
       "      <td>Pavel Kotov</td>\n",
       "      <td>564</td>\n",
       "      <td>100</td>\n",
       "    </tr>\n",
       "  </tbody>\n",
       "</table>\n",
       "<p>1000 rows × 5 columns</p>\n",
       "</div>"
      ],
      "text/plain": [
       "    country        date                  name points rank\n",
       "0       ESP  2022-11-14        Carlos Alcaraz  6,820    1\n",
       "1       ESP  2022-11-14          Rafael Nadal  5,820    2\n",
       "2       GRE  2022-11-14    Stefanos Tsitsipas  5,350    3\n",
       "3       NOR  2022-11-14           Casper Ruud  5,020    4\n",
       "4       RUS  2022-11-14       Daniil Medvedev  4,065    5\n",
       "..      ...         ...                   ...    ...  ...\n",
       "995     GEO  2022-09-12  Nikoloz Basilashvili    575   96\n",
       "996     BOL  2022-09-12          Hugo Dellien    575   97\n",
       "997     CHN  2022-09-12         Zhizhen Zhang    569   98\n",
       "998     SRB  2022-09-12         Dusan Lajovic    566   99\n",
       "999     RUS  2022-09-12           Pavel Kotov    564  100\n",
       "\n",
       "[1000 rows x 5 columns]"
      ]
     },
     "execution_count": 19,
     "metadata": {},
     "output_type": "execute_result"
    }
   ],
   "source": [
    "#FINAL\n",
    "link = 'https://www.atptour.com/en/rankings/singles?rankRange=0-100&rankDate={}'\n",
    "date = '2022-11-07'\n",
    "response = requests.get(link.format(date),headers={'User-Agent': ''})\n",
    "#print(response.status_code)\n",
    "html = response.content\n",
    "#print(html)\n",
    "soup = BeautifulSoup(html, \"html.parser\")\n",
    "players = soup.find(\"tbody\").find_all(\"tr\")\n",
    "df = pd.DataFrame()\n",
    "\n",
    "my_dates = []\n",
    "dates = soup.find_all(\"div\", class_=\"dropdown-holder-wrapper\")[2].find_all('li')\n",
    "for date in dates[1:]:\n",
    "    my_dates.append(date['data-value'])\n",
    "    #date.get('data-value')\n",
    "#my_dates\n",
    "\n",
    "#changing the slicer will scrap the entire dataset// all the pages found into the website!\n",
    "for i in my_dates[:10]:\n",
    "    response = requests.get(link.format(i),headers={'User-Agent': ''},timeout = 1 ) #timeout is the number between the requests\n",
    "    soup = BeautifulSoup(html, \"html.parser\")\n",
    "    players = soup.find(\"tbody\").find_all(\"tr\")\n",
    "    for player in players[:]:\n",
    "        name = player.find(\"td\",class_=\"player-cell border-left-dash-1 border-right-dash-1\").text.strip()\n",
    "        points = player.find(\"td\",class_=\"points-cell border-right-dash-1\").text.strip()\n",
    "        rank = player.find(\"td\",class_=\"rank-cell border-left-4 border-right-dash-1\").text.strip()\n",
    "        country = player.find(\"div\",class_=\"country-item\").find('img').attrs['alt'] #and without .attrs just[] \n",
    "                                                                        #.get('alt')\n",
    "    \n",
    "        df = df.append({'name' : name, 'points': points,\n",
    "            'rank': rank,\n",
    "            'country': country,\n",
    "            'date': i},ignore_index = True)\n",
    "        #df = pd.assign([df,df_temp],axis=1)\n",
    "df"
   ]
  },
  {
   "cell_type": "markdown",
   "metadata": {},
   "source": [
    "# Web scrape kariera.gr\n",
    "Retrieve all job ads for Data Analyst, Data Scientist and Data Engineer and store to a dataframe features like: Company, Job title, Content, Location and job occupation."
   ]
  },
  {
   "cell_type": "code",
   "execution_count": null,
   "metadata": {},
   "outputs": [],
   "source": [
    "main_link = 'https://www.kariera.gr'\n",
    "job_link = '/%CE%B8%CE%AD%CF%83%CE%B5%CE%B9%CF%82-%CE%B5%CF%81%CE%B3%CE%B1%CF%83%CE%AF%CE%B1%CF%82?'\n",
    "page_ext = 'pg='\n",
    "query = '&q='\n",
    "job_role = 'data%20analyst'\n",
    "\n",
    "link = main_link + job_link + page_ext +'1'+ query + job_role"
   ]
  },
  {
   "cell_type": "code",
   "execution_count": null,
   "metadata": {},
   "outputs": [],
   "source": [
    "response = requests.get(link, timeout= 15)\n",
    "response.status_code"
   ]
  },
  {
   "cell_type": "code",
   "execution_count": null,
   "metadata": {},
   "outputs": [],
   "source": [
    "soup = BeautifulSoup(response.content, 'html.parser')\n",
    "soup.find_all('div', class_ = 'job')[0].find('a', class_ = 'job-title').get('href')"
   ]
  },
  {
   "cell_type": "code",
   "execution_count": null,
   "metadata": {},
   "outputs": [],
   "source": [
    "jobs = soup.find_all('div', class_ = 'job')\n",
    "job_links = []\n",
    "for job in tqdm(jobs):\n",
    "    sleep(0.6)\n",
    "    try:\n",
    "        job_links.append(main_link+job.find('a', class_ = 'job-title').get('href'))\n",
    "    except:\n",
    "        print('not found')\n",
    "job_links"
   ]
  },
  {
   "cell_type": "code",
   "execution_count": null,
   "metadata": {},
   "outputs": [],
   "source": [
    "len(job_links)"
   ]
  },
  {
   "cell_type": "code",
   "execution_count": null,
   "metadata": {},
   "outputs": [],
   "source": [
    "soup.find('a', class_ = 'btn-arrow').previous_sibling.text.strip()"
   ]
  }
 ],
 "metadata": {
  "kernelspec": {
   "display_name": "Python 3 (ipykernel)",
   "language": "python",
   "name": "python3"
  },
  "language_info": {
   "codemirror_mode": {
    "name": "ipython",
    "version": 3
   },
   "file_extension": ".py",
   "mimetype": "text/x-python",
   "name": "python",
   "nbconvert_exporter": "python",
   "pygments_lexer": "ipython3",
   "version": "3.7.6"
  }
 },
 "nbformat": 4,
 "nbformat_minor": 4
}
