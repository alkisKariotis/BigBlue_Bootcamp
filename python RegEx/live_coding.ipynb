{
 "cells": [
  {
   "cell_type": "markdown",
   "metadata": {
    "ExecuteTime": {
     "end_time": "2022-04-20T17:06:04.690716Z",
     "start_time": "2022-04-20T17:06:04.679318Z"
    },
    "id": "6b6c50af"
   },
   "source": [
    "### Time Library"
   ]
  },
  {
   "cell_type": "code",
   "execution_count": 567,
   "metadata": {},
   "outputs": [],
   "source": [
    "#import time library\n",
    "import time"
   ]
  },
  {
   "cell_type": "code",
   "execution_count": 569,
   "metadata": {
    "ExecuteTime": {
     "end_time": "2022-04-20T17:06:05.655211Z",
     "start_time": "2022-04-20T17:06:05.647499Z"
    },
    "id": "9d15c043",
    "outputId": "07b36627-e96e-42b7-a663-892a2e8cb647"
   },
   "outputs": [
    {
     "data": {
      "text/plain": [
       "1666795131.8436995"
      ]
     },
     "execution_count": 569,
     "metadata": {},
     "output_type": "execute_result"
    }
   ],
   "source": [
    "time.time() # unix time (since 1970)"
   ]
  },
  {
   "cell_type": "code",
   "execution_count": 575,
   "metadata": {
    "ExecuteTime": {
     "end_time": "2022-04-20T17:08:23.651904Z",
     "start_time": "2022-04-20T17:08:23.639152Z"
    },
    "id": "f2b610a8",
    "outputId": "24dc0007-66aa-4864-af5f-b35b97372fa7"
   },
   "outputs": [
    {
     "data": {
      "text/plain": [
       "time.struct_time(tm_year=2022, tm_mon=10, tm_mday=26, tm_hour=13, tm_min=9, tm_sec=8, tm_wday=2, tm_yday=299, tm_isdst=0)"
      ]
     },
     "execution_count": 575,
     "metadata": {},
     "output_type": "execute_result"
    }
   ],
   "source": [
    "time.gmtime(1666789748.0138206)"
   ]
  },
  {
   "cell_type": "code",
   "execution_count": 437,
   "metadata": {
    "ExecuteTime": {
     "end_time": "2022-04-20T17:09:02.019349Z",
     "start_time": "2022-04-20T17:09:02.006272Z"
    },
    "id": "dcae6089",
    "outputId": "2efc63c1-a7a0-43e1-a3bc-b49fda12a022"
   },
   "outputs": [
    {
     "data": {
      "text/plain": [
       "time.struct_time(tm_year=2022, tm_mon=10, tm_mday=26, tm_hour=13, tm_min=9, tm_sec=19, tm_wday=2, tm_yday=299, tm_isdst=0)"
      ]
     },
     "execution_count": 437,
     "metadata": {},
     "output_type": "execute_result"
    }
   ],
   "source": [
    "time.gmtime(time.time())"
   ]
  },
  {
   "cell_type": "code",
   "execution_count": 438,
   "metadata": {
    "ExecuteTime": {
     "end_time": "2022-04-20T17:06:23.984717Z",
     "start_time": "2022-04-20T17:06:23.981511Z"
    },
    "id": "51927f1a"
   },
   "outputs": [],
   "source": [
    "time_x = time.gmtime(1666789748.0138206)"
   ]
  },
  {
   "cell_type": "code",
   "execution_count": 439,
   "metadata": {
    "ExecuteTime": {
     "end_time": "2022-04-20T17:06:57.897660Z",
     "start_time": "2022-04-20T17:06:57.890893Z"
    },
    "id": "f5eb1b70",
    "outputId": "2f728cdc-63fc-4aad-b26a-2e97647b0ec2"
   },
   "outputs": [
    {
     "data": {
      "text/plain": [
       "2022"
      ]
     },
     "execution_count": 439,
     "metadata": {},
     "output_type": "execute_result"
    }
   ],
   "source": [
    "time_x.tm_year"
   ]
  },
  {
   "cell_type": "code",
   "execution_count": 440,
   "metadata": {
    "ExecuteTime": {
     "end_time": "2022-04-18T15:41:40.394613Z",
     "start_time": "2022-04-18T15:41:40.385713Z"
    },
    "id": "99b72dc8",
    "outputId": "09d23632-ad64-4acf-bf85-c89ecf5751aa"
   },
   "outputs": [
    {
     "data": {
      "text/plain": [
       "time.struct_time(tm_year=1970, tm_mon=1, tm_mday=1, tm_hour=0, tm_min=0, tm_sec=0, tm_wday=3, tm_yday=1, tm_isdst=0)"
      ]
     },
     "execution_count": 440,
     "metadata": {},
     "output_type": "execute_result"
    }
   ],
   "source": [
    "time.gmtime(0)"
   ]
  },
  {
   "cell_type": "code",
   "execution_count": 441,
   "metadata": {
    "ExecuteTime": {
     "end_time": "2022-04-18T15:42:09.563717Z",
     "start_time": "2022-04-18T15:42:09.557893Z"
    },
    "id": "14502709",
    "outputId": "0a50c329-b247-4724-9e64-db090c724b6c"
   },
   "outputs": [
    {
     "data": {
      "text/plain": [
       "time.struct_time(tm_year=1969, tm_mon=12, tm_mday=31, tm_hour=23, tm_min=59, tm_sec=59, tm_wday=3, tm_yday=365, tm_isdst=0)"
      ]
     },
     "execution_count": 441,
     "metadata": {},
     "output_type": "execute_result"
    }
   ],
   "source": [
    "time.gmtime(-1)"
   ]
  },
  {
   "cell_type": "code",
   "execution_count": 442,
   "metadata": {
    "ExecuteTime": {
     "end_time": "2022-04-20T17:09:37.908377Z",
     "start_time": "2022-04-20T17:09:37.901320Z"
    },
    "id": "19f8cd25",
    "outputId": "fbb46bb9-71fd-48b8-b1ca-bf50684d4afb"
   },
   "outputs": [
    {
     "data": {
      "text/plain": [
       "time.struct_time(tm_year=2022, tm_mon=10, tm_mday=26, tm_hour=16, tm_min=9, tm_sec=31, tm_wday=2, tm_yday=299, tm_isdst=1)"
      ]
     },
     "execution_count": 442,
     "metadata": {},
     "output_type": "execute_result"
    }
   ],
   "source": [
    "time.localtime(time.time())"
   ]
  },
  {
   "cell_type": "code",
   "execution_count": 576,
   "metadata": {
    "ExecuteTime": {
     "end_time": "2022-04-18T15:43:25.747775Z",
     "start_time": "2022-04-18T15:43:25.732534Z"
    },
    "id": "0d30d682",
    "outputId": "75eb24b9-3a32-41e3-ee2e-9bf481546248"
   },
   "outputs": [
    {
     "data": {
      "text/plain": [
       "time.struct_time(tm_year=2022, tm_mon=10, tm_mday=26, tm_hour=17, tm_min=40, tm_sec=36, tm_wday=2, tm_yday=299, tm_isdst=1)"
      ]
     },
     "execution_count": 576,
     "metadata": {},
     "output_type": "execute_result"
    }
   ],
   "source": [
    "time.localtime(time.time())"
   ]
  },
  {
   "cell_type": "code",
   "execution_count": 444,
   "metadata": {
    "ExecuteTime": {
     "end_time": "2022-04-18T15:44:01.618869Z",
     "start_time": "2022-04-18T15:44:01.616760Z"
    },
    "id": "c348d7a0"
   },
   "outputs": [],
   "source": [
    "x = time.localtime(1666789748.0138206)"
   ]
  },
  {
   "cell_type": "code",
   "execution_count": 445,
   "metadata": {
    "ExecuteTime": {
     "end_time": "2022-04-18T15:44:36.971842Z",
     "start_time": "2022-04-18T15:44:36.964124Z"
    },
    "id": "6961c24e",
    "outputId": "7d6b77fa-1078-4a0d-b275-c7849b688f2d"
   },
   "outputs": [
    {
     "data": {
      "text/plain": [
       "1666789748.0"
      ]
     },
     "execution_count": 445,
     "metadata": {},
     "output_type": "execute_result"
    }
   ],
   "source": [
    "time.mktime(x)"
   ]
  },
  {
   "cell_type": "code",
   "execution_count": 579,
   "metadata": {
    "ExecuteTime": {
     "end_time": "2022-04-18T15:47:28.130363Z",
     "start_time": "2022-04-18T15:47:28.122765Z"
    },
    "id": "ed3df0ac",
    "outputId": "16003e8f-b2d8-4198-873c-003d8b54a561"
   },
   "outputs": [
    {
     "data": {
      "text/plain": [
       "'Wed Oct 26 16:09:08 2022'"
      ]
     },
     "execution_count": 579,
     "metadata": {},
     "output_type": "execute_result"
    }
   ],
   "source": [
    "time.ctime(1666789748.0138206)"
   ]
  },
  {
   "cell_type": "code",
   "execution_count": 448,
   "metadata": {
    "ExecuteTime": {
     "end_time": "2022-04-18T15:48:20.977533Z",
     "start_time": "2022-04-18T15:48:20.964623Z"
    },
    "id": "bcbd4135",
    "outputId": "12dad8ec-e2cd-408e-8554-c8da03c663ee"
   },
   "outputs": [
    {
     "data": {
      "text/plain": [
       "str"
      ]
     },
     "execution_count": 448,
     "metadata": {},
     "output_type": "execute_result"
    }
   ],
   "source": [
    "type(time.ctime(1650295959.0))"
   ]
  },
  {
   "cell_type": "code",
   "execution_count": 449,
   "metadata": {
    "ExecuteTime": {
     "end_time": "2022-04-18T15:49:44.257050Z",
     "start_time": "2022-04-18T15:49:44.244894Z"
    },
    "id": "c173db1d",
    "outputId": "cf19f1ad-9b5d-497d-e847-d5bbb69fb3fc"
   },
   "outputs": [
    {
     "data": {
      "text/plain": [
       "time.struct_time"
      ]
     },
     "execution_count": 449,
     "metadata": {},
     "output_type": "execute_result"
    }
   ],
   "source": [
    "type(time.localtime(1650295959.0634592))"
   ]
  },
  {
   "cell_type": "code",
   "execution_count": 450,
   "metadata": {
    "ExecuteTime": {
     "end_time": "2022-04-18T15:50:54.149047Z",
     "start_time": "2022-04-18T15:50:54.125257Z"
    },
    "id": "e7547b7b",
    "outputId": "9e1360b7-f291-469f-eff3-69596886ef7f"
   },
   "outputs": [
    {
     "data": {
      "text/plain": [
       "float"
      ]
     },
     "execution_count": 450,
     "metadata": {},
     "output_type": "execute_result"
    }
   ],
   "source": [
    "type(time.time())"
   ]
  },
  {
   "cell_type": "code",
   "execution_count": 451,
   "metadata": {
    "ExecuteTime": {
     "end_time": "2022-04-18T15:51:37.587723Z",
     "start_time": "2022-04-18T15:51:37.581323Z"
    },
    "id": "313bcf74"
   },
   "outputs": [],
   "source": [
    "seconds = time.time()"
   ]
  },
  {
   "cell_type": "code",
   "execution_count": 452,
   "metadata": {
    "ExecuteTime": {
     "end_time": "2022-04-18T15:54:13.888700Z",
     "start_time": "2022-04-18T15:54:13.880841Z"
    },
    "id": "bcaab32f",
    "outputId": "9fd3a3cd-9164-4fbc-91c4-f60382a6bc6f"
   },
   "outputs": [
    {
     "data": {
      "text/plain": [
       "1666789813.9482522"
      ]
     },
     "execution_count": 452,
     "metadata": {},
     "output_type": "execute_result"
    }
   ],
   "source": [
    "seconds"
   ]
  },
  {
   "cell_type": "code",
   "execution_count": 453,
   "metadata": {
    "ExecuteTime": {
     "end_time": "2022-04-18T15:54:42.397884Z",
     "start_time": "2022-04-18T15:54:42.390564Z"
    },
    "id": "0aae5ae1",
    "outputId": "74379177-6a27-48da-fd85-4c4dde485d99"
   },
   "outputs": [
    {
     "data": {
      "text/plain": [
       "time.struct_time(tm_year=2022, tm_mon=10, tm_mday=26, tm_hour=16, tm_min=10, tm_sec=13, tm_wday=2, tm_yday=299, tm_isdst=1)"
      ]
     },
     "execution_count": 453,
     "metadata": {},
     "output_type": "execute_result"
    }
   ],
   "source": [
    "time.localtime(seconds)"
   ]
  },
  {
   "cell_type": "code",
   "execution_count": 454,
   "metadata": {
    "ExecuteTime": {
     "end_time": "2022-04-18T15:59:00.793907Z",
     "start_time": "2022-04-18T15:59:00.780990Z"
    },
    "id": "bc6215b8",
    "outputId": "0d858419-db33-400c-df49-65de8d1e755c"
   },
   "outputs": [
    {
     "data": {
      "text/plain": [
       "2022"
      ]
     },
     "execution_count": 454,
     "metadata": {},
     "output_type": "execute_result"
    }
   ],
   "source": [
    "time.localtime(seconds).tm_year"
   ]
  },
  {
   "cell_type": "code",
   "execution_count": 455,
   "metadata": {},
   "outputs": [
    {
     "data": {
      "text/plain": [
       "10"
      ]
     },
     "execution_count": 455,
     "metadata": {},
     "output_type": "execute_result"
    }
   ],
   "source": [
    "time.localtime(seconds).tm_mon"
   ]
  },
  {
   "cell_type": "code",
   "execution_count": 456,
   "metadata": {},
   "outputs": [
    {
     "data": {
      "text/plain": [
       "26"
      ]
     },
     "execution_count": 456,
     "metadata": {},
     "output_type": "execute_result"
    }
   ],
   "source": [
    "time.localtime(seconds).tm_mday"
   ]
  },
  {
   "cell_type": "code",
   "execution_count": 457,
   "metadata": {
    "ExecuteTime": {
     "end_time": "2022-04-18T15:57:03.995494Z",
     "start_time": "2022-04-18T15:57:03.991136Z"
    },
    "id": "7af82a40",
    "outputId": "4e6ac1af-db9d-4861-f385-ce41c09ffa1c"
   },
   "outputs": [
    {
     "data": {
      "text/plain": [
       "2021"
      ]
     },
     "execution_count": 457,
     "metadata": {},
     "output_type": "execute_result"
    }
   ],
   "source": [
    "time.localtime(1640195959).tm_year"
   ]
  },
  {
   "cell_type": "markdown",
   "metadata": {},
   "source": [
    "---------------------------------"
   ]
  },
  {
   "cell_type": "markdown",
   "metadata": {},
   "source": [
    "# Regex (re) Library"
   ]
  },
  {
   "cell_type": "code",
   "execution_count": 2,
   "metadata": {
    "ExecuteTime": {
     "end_time": "2022-04-20T18:08:32.225921Z",
     "start_time": "2022-04-20T18:08:32.224283Z"
    },
    "id": "7b70fdfb"
   },
   "outputs": [],
   "source": [
    "#import regex library\n",
    "import re"
   ]
  },
  {
   "cell_type": "markdown",
   "metadata": {},
   "source": [
    "## Regular Expressions"
   ]
  },
  {
   "cell_type": "markdown",
   "metadata": {},
   "source": [
    "## Meta Characters [] . ^ $ * + ? {} () \\ |"
   ]
  },
  {
   "cell_type": "markdown",
   "metadata": {},
   "source": [
    "### Square Brackets []\n",
    "Specifies a set of characters you wish to match."
   ]
  },
  {
   "cell_type": "code",
   "execution_count": 250,
   "metadata": {},
   "outputs": [
    {
     "name": "stdout",
     "output_type": "stream",
     "text": [
      "Found: 1 --> ['a']\n"
     ]
    }
   ],
   "source": [
    "test_string = 'a'\n",
    "pattern = '[abc]'\n",
    "found = re.findall(pattern, test_string)\n",
    "print(\"Found:\",len(found),\"-->\", found)"
   ]
  },
  {
   "cell_type": "code",
   "execution_count": 236,
   "metadata": {},
   "outputs": [
    {
     "name": "stdout",
     "output_type": "stream",
     "text": [
      "Found: 2 --> ['a', 'c']\n"
     ]
    }
   ],
   "source": [
    "test_string = 'ac'\n",
    "pattern = '[abc]'\n",
    "found = re.findall(pattern, test_string)\n",
    "print(\"Found:\",len(found),\"-->\", found)"
   ]
  },
  {
   "cell_type": "code",
   "execution_count": 237,
   "metadata": {},
   "outputs": [
    {
     "name": "stdout",
     "output_type": "stream",
     "text": [
      "Found: 0 --> []\n"
     ]
    }
   ],
   "source": [
    "test_string = 'hello'\n",
    "pattern = '[abc]'\n",
    "found = re.findall(pattern, test_string)\n",
    "print(\"Found:\",len(found),\"-->\", found)"
   ]
  },
  {
   "cell_type": "code",
   "execution_count": 239,
   "metadata": {},
   "outputs": [
    {
     "name": "stdout",
     "output_type": "stream",
     "text": [
      "Found: 5 --> ['a', 'b', 'c', 'c', 'a']\n"
     ]
    }
   ],
   "source": [
    "test_string = 'abc de ca'\n",
    "pattern = '[abc]'\n",
    "found = re.findall(pattern, test_string)\n",
    "print(\"Found:\",len(found),\"-->\", found)"
   ]
  },
  {
   "cell_type": "markdown",
   "metadata": {},
   "source": [
    "### Period (.) \n",
    "Period - A period matches any single character (except newline '\\n')."
   ]
  },
  {
   "cell_type": "code",
   "execution_count": 4,
   "metadata": {},
   "outputs": [
    {
     "name": "stdout",
     "output_type": "stream",
     "text": [
      "Found: 2 --> ['aa', '  ']\n"
     ]
    }
   ],
   "source": [
    "test_string = 'aa  '\n",
    "pattern = '..'\n",
    "found = re.findall(pattern, test_string)\n",
    "print(\"Found:\",len(found),\"-->\", found)"
   ]
  },
  {
   "cell_type": "code",
   "execution_count": 242,
   "metadata": {},
   "outputs": [
    {
     "name": "stdout",
     "output_type": "stream",
     "text": [
      "Found: 1 --> ['ac']\n"
     ]
    }
   ],
   "source": [
    "test_string = 'ac'\n",
    "pattern = '..'\n",
    "found = re.findall(pattern, test_string)\n",
    "print(\"Found:\",len(found),\"-->\", found)"
   ]
  },
  {
   "cell_type": "code",
   "execution_count": 244,
   "metadata": {},
   "outputs": [
    {
     "name": "stdout",
     "output_type": "stream",
     "text": [
      "Found: 2 --> ['ac', 'de']\n"
     ]
    }
   ],
   "source": [
    "test_string = 'acde'\n",
    "pattern = '..'\n",
    "found = re.findall(pattern, test_string)\n",
    "print(\"Found:\",len(found),\"-->\", found)"
   ]
  },
  {
   "cell_type": "markdown",
   "metadata": {},
   "source": [
    "### Caret ^\n",
    "The caret symbol ^ is used to check if a string starts with a certain character."
   ]
  },
  {
   "cell_type": "code",
   "execution_count": 248,
   "metadata": {},
   "outputs": [
    {
     "name": "stdout",
     "output_type": "stream",
     "text": [
      "Found: 1 --> ['a']\n"
     ]
    }
   ],
   "source": [
    "test_string = 'acde'\n",
    "pattern = '^a'\n",
    "found = re.findall(pattern, test_string)\n",
    "print(\"Found:\",len(found),\"-->\", found)"
   ]
  },
  {
   "cell_type": "code",
   "execution_count": 365,
   "metadata": {},
   "outputs": [
    {
     "name": "stdout",
     "output_type": "stream",
     "text": [
      "Found: 0 --> []\n"
     ]
    }
   ],
   "source": [
    "test_string = 'bac'\n",
    "pattern = '^a'\n",
    "found = re.findall(pattern, test_string)\n",
    "print(\"Found:\",len(found),\"-->\", found)"
   ]
  },
  {
   "cell_type": "markdown",
   "metadata": {},
   "source": [
    "### Dollar\n",
    "The dollar symbol $ is used to check if a string ends with a certain character."
   ]
  },
  {
   "cell_type": "code",
   "execution_count": 251,
   "metadata": {},
   "outputs": [
    {
     "name": "stdout",
     "output_type": "stream",
     "text": [
      "Found: 1 --> ['a']\n"
     ]
    }
   ],
   "source": [
    "test_string = 'a'\n",
    "pattern = 'a$'\n",
    "found = re.findall(pattern, test_string)\n",
    "print(\"Found:\",len(found),\"-->\", found)"
   ]
  },
  {
   "cell_type": "code",
   "execution_count": 252,
   "metadata": {},
   "outputs": [
    {
     "name": "stdout",
     "output_type": "stream",
     "text": [
      "Found: 1 --> ['a']\n"
     ]
    }
   ],
   "source": [
    "test_string = 'formula'\n",
    "pattern = 'a$'\n",
    "found = re.findall(pattern, test_string)\n",
    "print(\"Found:\",len(found),\"-->\", found)"
   ]
  },
  {
   "cell_type": "markdown",
   "metadata": {},
   "source": [
    "### Star (*)\n",
    "The star symbol * matches zero or more occurrences of the pattern left to it."
   ]
  },
  {
   "cell_type": "code",
   "execution_count": 259,
   "metadata": {},
   "outputs": [
    {
     "name": "stdout",
     "output_type": "stream",
     "text": [
      "Found: 1 --> ['mn']\n"
     ]
    }
   ],
   "source": [
    "test_string = 'mn'\n",
    "pattern = 'ma*n'\n",
    "found = re.findall(pattern, test_string)\n",
    "print(\"Found:\",len(found),\"-->\", found)"
   ]
  },
  {
   "cell_type": "code",
   "execution_count": 262,
   "metadata": {},
   "outputs": [
    {
     "name": "stdout",
     "output_type": "stream",
     "text": [
      "Found: 2 --> ['mn', 'mn']\n"
     ]
    }
   ],
   "source": [
    "test_string = 'mnmn'\n",
    "pattern = 'ma*n'\n",
    "found = re.findall(pattern, test_string)\n",
    "print(\"Found:\",len(found),\"-->\", found)"
   ]
  },
  {
   "cell_type": "code",
   "execution_count": 263,
   "metadata": {},
   "outputs": [
    {
     "name": "stdout",
     "output_type": "stream",
     "text": [
      "Found: 1 --> ['maaaaaan']\n"
     ]
    }
   ],
   "source": [
    "test_string = 'maaaaaan'\n",
    "pattern = 'ma*n'\n",
    "found = re.findall(pattern, test_string)\n",
    "print(\"Found:\",len(found),\"-->\", found)"
   ]
  },
  {
   "cell_type": "code",
   "execution_count": 264,
   "metadata": {},
   "outputs": [
    {
     "name": "stdout",
     "output_type": "stream",
     "text": [
      "Found: 1 --> ['man']\n"
     ]
    }
   ],
   "source": [
    "test_string = 'woman'\n",
    "pattern = 'ma*n'\n",
    "found = re.findall(pattern, test_string)\n",
    "print(\"Found:\",len(found),\"-->\", found)"
   ]
  },
  {
   "cell_type": "code",
   "execution_count": 265,
   "metadata": {},
   "outputs": [
    {
     "name": "stdout",
     "output_type": "stream",
     "text": [
      "Found: 0 --> []\n"
     ]
    }
   ],
   "source": [
    "test_string = 'main'\n",
    "pattern = 'ma*n'\n",
    "found = re.findall(pattern, test_string)\n",
    "print(\"Found:\",len(found),\"-->\", found)"
   ]
  },
  {
   "cell_type": "markdown",
   "metadata": {},
   "source": [
    "### Plus (+)\n",
    "The plus symbol + matches one or more occurrences of the pattern left to it."
   ]
  },
  {
   "cell_type": "code",
   "execution_count": 266,
   "metadata": {},
   "outputs": [
    {
     "name": "stdout",
     "output_type": "stream",
     "text": [
      "Found: 0 --> []\n"
     ]
    }
   ],
   "source": [
    "test_string = 'mn'\n",
    "pattern = 'ma+n'\n",
    "found = re.findall(pattern, test_string)\n",
    "print(\"Found:\",len(found),\"-->\", found)"
   ]
  },
  {
   "cell_type": "code",
   "execution_count": 268,
   "metadata": {},
   "outputs": [
    {
     "name": "stdout",
     "output_type": "stream",
     "text": [
      "Found: 1 --> ['man']\n"
     ]
    }
   ],
   "source": [
    "test_string = 'man'\n",
    "pattern = 'ma+n'\n",
    "found = re.findall(pattern, test_string)\n",
    "print(\"Found:\",len(found),\"-->\", found)"
   ]
  },
  {
   "cell_type": "code",
   "execution_count": 271,
   "metadata": {},
   "outputs": [
    {
     "name": "stdout",
     "output_type": "stream",
     "text": [
      "Found: 1 --> ['maaan']\n"
     ]
    }
   ],
   "source": [
    "test_string = 'maaan'\n",
    "pattern = 'ma+n'\n",
    "found = re.findall(pattern, test_string)\n",
    "print(\"Found:\",len(found),\"-->\", found)"
   ]
  },
  {
   "cell_type": "code",
   "execution_count": 272,
   "metadata": {},
   "outputs": [
    {
     "name": "stdout",
     "output_type": "stream",
     "text": [
      "Found: 0 --> []\n"
     ]
    }
   ],
   "source": [
    "test_string = 'main'\n",
    "pattern = 'ma+n'\n",
    "found = re.findall(pattern, test_string)\n",
    "print(\"Found:\",len(found),\"-->\", found)"
   ]
  },
  {
   "cell_type": "code",
   "execution_count": 273,
   "metadata": {},
   "outputs": [
    {
     "name": "stdout",
     "output_type": "stream",
     "text": [
      "Found: 1 --> ['man']\n"
     ]
    }
   ],
   "source": [
    "test_string = 'woman'\n",
    "pattern = 'ma+n'\n",
    "found = re.findall(pattern, test_string)\n",
    "print(\"Found:\",len(found),\"-->\", found)"
   ]
  },
  {
   "cell_type": "markdown",
   "metadata": {},
   "source": [
    "### Question Mark (?)\n",
    "The question mark symbol ? matches zero or one occurrence of the pattern left to it."
   ]
  },
  {
   "cell_type": "code",
   "execution_count": 275,
   "metadata": {},
   "outputs": [
    {
     "name": "stdout",
     "output_type": "stream",
     "text": [
      "Found: 1 --> ['mn']\n"
     ]
    }
   ],
   "source": [
    "test_string = 'mn'\n",
    "pattern = 'ma?n'\n",
    "found = re.findall(pattern, test_string)\n",
    "print(\"Found:\",len(found),\"-->\", found)"
   ]
  },
  {
   "cell_type": "code",
   "execution_count": 276,
   "metadata": {},
   "outputs": [
    {
     "name": "stdout",
     "output_type": "stream",
     "text": [
      "Found: 1 --> ['man']\n"
     ]
    }
   ],
   "source": [
    "test_string = 'man'\n",
    "pattern = 'ma?n'\n",
    "found = re.findall(pattern, test_string)\n",
    "print(\"Found:\",len(found),\"-->\", found)"
   ]
  },
  {
   "cell_type": "code",
   "execution_count": 280,
   "metadata": {},
   "outputs": [
    {
     "name": "stdout",
     "output_type": "stream",
     "text": [
      "Found: 0 --> []\n"
     ]
    }
   ],
   "source": [
    "test_string = 'maan'\n",
    "pattern = 'ma?n'\n",
    "found = re.findall(pattern, test_string)\n",
    "print(\"Found:\",len(found),\"-->\", found)"
   ]
  },
  {
   "cell_type": "markdown",
   "metadata": {},
   "source": [
    "### Braces {}\n",
    "Consider this code: {n,m}. This means at least n, and at most m repetitions of the pattern left to it."
   ]
  },
  {
   "cell_type": "code",
   "execution_count": 281,
   "metadata": {},
   "outputs": [
    {
     "name": "stdout",
     "output_type": "stream",
     "text": [
      "Found: 0 --> []\n"
     ]
    }
   ],
   "source": [
    "test_string = 'abc dat'\n",
    "pattern = 'a{2,3}'\n",
    "found = re.findall(pattern, test_string)\n",
    "print(\"Found:\",len(found),\"-->\", found)"
   ]
  },
  {
   "cell_type": "code",
   "execution_count": 282,
   "metadata": {},
   "outputs": [
    {
     "name": "stdout",
     "output_type": "stream",
     "text": [
      "Found: 1 --> ['aa']\n"
     ]
    }
   ],
   "source": [
    "test_string = 'abc daat'\n",
    "pattern = 'a{2,3}'\n",
    "found = re.findall(pattern, test_string)\n",
    "print(\"Found:\",len(found),\"-->\", found)"
   ]
  },
  {
   "cell_type": "code",
   "execution_count": 283,
   "metadata": {},
   "outputs": [
    {
     "name": "stdout",
     "output_type": "stream",
     "text": [
      "Found: 2 --> ['aa', 'aaa']\n"
     ]
    }
   ],
   "source": [
    "test_string = 'aabc daaat'\n",
    "pattern = 'a{2,3}'\n",
    "found = re.findall(pattern, test_string)\n",
    "print(\"Found:\",len(found),\"-->\", found)"
   ]
  },
  {
   "cell_type": "code",
   "execution_count": 284,
   "metadata": {},
   "outputs": [
    {
     "name": "stdout",
     "output_type": "stream",
     "text": [
      "Found: 1 --> ['123']\n"
     ]
    }
   ],
   "source": [
    "# [0-9]{2, 4} matches at least 2 digits but not more than 4 digits\n",
    "\n",
    "test_string = 'ab123csde'\n",
    "pattern = '[0-9]{2,4}'\n",
    "found = re.findall(pattern, test_string)\n",
    "print(\"Found:\",len(found),\"-->\", found)"
   ]
  },
  {
   "cell_type": "code",
   "execution_count": 285,
   "metadata": {},
   "outputs": [
    {
     "name": "stdout",
     "output_type": "stream",
     "text": [
      "Found: 3 --> ['12', '3456', '73']\n"
     ]
    }
   ],
   "source": [
    "test_string = '12 and 345673'\n",
    "pattern = '[0-9]{2,4}'\n",
    "found = re.findall(pattern, test_string)\n",
    "print(\"Found:\",len(found),\"-->\", found)"
   ]
  },
  {
   "cell_type": "code",
   "execution_count": 286,
   "metadata": {},
   "outputs": [
    {
     "name": "stdout",
     "output_type": "stream",
     "text": [
      "Found: 2 --> ['12', '34567']\n"
     ]
    }
   ],
   "source": [
    "test_string = '12 and 345673'\n",
    "pattern = '[0-9]{2,5}'\n",
    "found = re.findall(pattern, test_string)\n",
    "print(\"Found:\",len(found),\"-->\", found)"
   ]
  },
  {
   "cell_type": "markdown",
   "metadata": {},
   "source": [
    "### Alternation | \n",
    "Vertical bar | is used for alternation (or operator)."
   ]
  },
  {
   "cell_type": "code",
   "execution_count": 352,
   "metadata": {},
   "outputs": [
    {
     "name": "stdout",
     "output_type": "stream",
     "text": [
      "Found: 0 --> []\n"
     ]
    }
   ],
   "source": [
    "test_string = 'cde'\n",
    "pattern = 'a|b'\n",
    "found = re.findall(pattern, test_string)\n",
    "print(\"Found:\",len(found),\"-->\", found)"
   ]
  },
  {
   "cell_type": "code",
   "execution_count": 353,
   "metadata": {},
   "outputs": [
    {
     "name": "stdout",
     "output_type": "stream",
     "text": [
      "Found: 1 --> ['a']\n"
     ]
    }
   ],
   "source": [
    "test_string = 'ade'\n",
    "pattern = 'a|b'\n",
    "found = re.findall(pattern, test_string)\n",
    "print(\"Found:\",len(found),\"-->\", found)"
   ]
  },
  {
   "cell_type": "code",
   "execution_count": 354,
   "metadata": {},
   "outputs": [
    {
     "name": "stdout",
     "output_type": "stream",
     "text": [
      "Found: 3 --> ['a', 'b', 'a']\n"
     ]
    }
   ],
   "source": [
    "test_string = 'acdbea'\n",
    "pattern = 'a|b'\n",
    "found = re.findall(pattern, test_string)\n",
    "print(\"Found:\",len(found),\"-->\", found)"
   ]
  },
  {
   "cell_type": "code",
   "execution_count": 356,
   "metadata": {},
   "outputs": [
    {
     "name": "stdout",
     "output_type": "stream",
     "text": [
      "Found: 15 --> ['a', 'a', 'a', 'a', 'a', 'a', 'b', 'b', 'b', 'b', 'b', 'b', 'b', 'b', 'b']\n"
     ]
    }
   ],
   "source": [
    "test_string = 'aaaaaabbbbbbbbb'\n",
    "pattern = 'a|b'\n",
    "found = re.findall(pattern, test_string)\n",
    "print(\"Found:\",len(found),\"-->\", found)"
   ]
  },
  {
   "cell_type": "markdown",
   "metadata": {},
   "source": [
    "### Group () \n",
    "Parentheses () is used to group sub-patterns. For example, (a|b|c)xz match any string that matches either a or b or c followed by xz"
   ]
  },
  {
   "cell_type": "code",
   "execution_count": 357,
   "metadata": {},
   "outputs": [
    {
     "name": "stdout",
     "output_type": "stream",
     "text": [
      "Found: 0 --> []\n"
     ]
    }
   ],
   "source": [
    "test_string = 'ab xz'\n",
    "pattern = '(a|b|c)xz'\n",
    "found = re.findall(pattern, test_string)\n",
    "print(\"Found:\",len(found),\"-->\", found)"
   ]
  },
  {
   "cell_type": "code",
   "execution_count": 358,
   "metadata": {},
   "outputs": [
    {
     "name": "stdout",
     "output_type": "stream",
     "text": [
      "Found: 1 --> ['b']\n"
     ]
    }
   ],
   "source": [
    "test_string = 'abxz'\n",
    "pattern = '(a|b|c)xz'\n",
    "found = re.findall(pattern, test_string)\n",
    "print(\"Found:\",len(found),\"-->\", found)"
   ]
  },
  {
   "cell_type": "code",
   "execution_count": 359,
   "metadata": {},
   "outputs": [
    {
     "name": "stdout",
     "output_type": "stream",
     "text": [
      "Found: 2 --> ['a', 'b']\n"
     ]
    }
   ],
   "source": [
    "test_string = 'axz cabxz'\n",
    "pattern = '(a|b|c)xz'\n",
    "found = re.findall(pattern, test_string)\n",
    "print(\"Found:\",len(found),\"-->\", found)"
   ]
  },
  {
   "cell_type": "markdown",
   "metadata": {},
   "source": [
    "### Backslash \\\n",
    "Backlash \\ is used to escape various characters including all metacharacters. For example,"
   ]
  },
  {
   "cell_type": "code",
   "execution_count": 364,
   "metadata": {},
   "outputs": [
    {
     "name": "stdout",
     "output_type": "stream",
     "text": [
      "Found: 1 --> ['$a']\n"
     ]
    }
   ],
   "source": [
    "test_string = '$a'\n",
    "pattern = '\\$a'\n",
    "found = re.findall(pattern, test_string)\n",
    "print(\"Found:\",len(found),\"-->\", found)"
   ]
  },
  {
   "cell_type": "code",
   "execution_count": 366,
   "metadata": {},
   "outputs": [
    {
     "name": "stdout",
     "output_type": "stream",
     "text": [
      "Found: 0 --> []\n"
     ]
    }
   ],
   "source": [
    "#Why nothing here? It is because regex interprests \"$\" as \"ends with\"\n",
    "\n",
    "test_string = '$a'\n",
    "pattern = '$a'\n",
    "found = re.findall(pattern, test_string)\n",
    "print(\"Found:\",len(found),\"-->\", found)"
   ]
  },
  {
   "cell_type": "markdown",
   "metadata": {},
   "source": [
    "-----------------------------------"
   ]
  },
  {
   "cell_type": "markdown",
   "metadata": {},
   "source": [
    "## Special Sequences\n",
    "Special sequences make commonly used patterns easier to write. Here's a list of special sequences:"
   ]
  },
  {
   "cell_type": "markdown",
   "metadata": {},
   "source": [
    "### \\A - Matches if the specified characters are at the start of a string."
   ]
  },
  {
   "cell_type": "code",
   "execution_count": 368,
   "metadata": {},
   "outputs": [
    {
     "name": "stdout",
     "output_type": "stream",
     "text": [
      "Found: 1 --> ['the']\n"
     ]
    }
   ],
   "source": [
    "test_string = 'the string'\n",
    "pattern = '\\Athe'\n",
    "found = re.findall(pattern, test_string)\n",
    "print(\"Found:\",len(found),\"-->\", found)"
   ]
  },
  {
   "cell_type": "code",
   "execution_count": 369,
   "metadata": {},
   "outputs": [
    {
     "name": "stdout",
     "output_type": "stream",
     "text": [
      "Found: 0 --> []\n"
     ]
    }
   ],
   "source": [
    "test_string = 'in the string'\n",
    "pattern = '\\Athe'\n",
    "found = re.findall(pattern, test_string)\n",
    "print(\"Found:\",len(found),\"-->\", found)"
   ]
  },
  {
   "cell_type": "markdown",
   "metadata": {},
   "source": [
    "### \\b - Matches if the specified characters are at the beginning or end of a word."
   ]
  },
  {
   "cell_type": "code",
   "execution_count": 5,
   "metadata": {},
   "outputs": [
    {
     "name": "stdout",
     "output_type": "stream",
     "text": [
      "Found: 0 --> []\n"
     ]
    }
   ],
   "source": [
    "#This needs some caution\n",
    "test_string = 'football'\n",
    "pattern = '\\bfoot'\n",
    "found = re.findall(pattern, test_string)\n",
    "print(\"Found:\",len(found),\"-->\", found)"
   ]
  },
  {
   "cell_type": "code",
   "execution_count": 6,
   "metadata": {},
   "outputs": [
    {
     "name": "stdout",
     "output_type": "stream",
     "text": [
      "Found: 1 --> ['foot']\n"
     ]
    }
   ],
   "source": [
    "#This is seems to work\n",
    "test_string = 'football'\n",
    "found = re.findall(r'\\bfoot', test_string)\n",
    "print(\"Found:\",len(found),\"-->\", found)"
   ]
  },
  {
   "cell_type": "code",
   "execution_count": 396,
   "metadata": {},
   "outputs": [
    {
     "name": "stdout",
     "output_type": "stream",
     "text": [
      "Found: 0 --> []\n"
     ]
    }
   ],
   "source": [
    "#This is seems to work\n",
    "test_string = 'afootball'\n",
    "found = re.findall(r'\\bfoot', test_string)\n",
    "print(\"Found:\",len(found),\"-->\", found)"
   ]
  },
  {
   "cell_type": "code",
   "execution_count": 397,
   "metadata": {},
   "outputs": [
    {
     "name": "stdout",
     "output_type": "stream",
     "text": [
      "Found: 1 --> ['foot']\n"
     ]
    }
   ],
   "source": [
    "#This is seems to work\n",
    "test_string = 'a football'\n",
    "found = re.findall(r'\\bfoot', test_string)\n",
    "print(\"Found:\",len(found),\"-->\", found)"
   ]
  },
  {
   "cell_type": "code",
   "execution_count": 400,
   "metadata": {},
   "outputs": [
    {
     "name": "stdout",
     "output_type": "stream",
     "text": [
      "Found: 0 --> []\n"
     ]
    }
   ],
   "source": [
    "#And at the end of the string\n",
    "test_string = 'a football'\n",
    "found = re.findall(r'foot\\b', test_string)\n",
    "print(\"Found:\",len(found),\"-->\", found)"
   ]
  },
  {
   "cell_type": "code",
   "execution_count": 409,
   "metadata": {},
   "outputs": [
    {
     "name": "stdout",
     "output_type": "stream",
     "text": [
      "Found: 1 --> ['foot']\n"
     ]
    }
   ],
   "source": [
    "#And at the end of the string\n",
    "test_string = 'footballfoot'\n",
    "found = re.findall(r'foot\\b', test_string)\n",
    "print(\"Found:\",len(found),\"-->\", found)"
   ]
  },
  {
   "cell_type": "markdown",
   "metadata": {},
   "source": [
    "### \\B\n",
    "Opposite of \\b. Matches if the specified characters are not at the beginning or end of a word."
   ]
  },
  {
   "cell_type": "code",
   "execution_count": 402,
   "metadata": {},
   "outputs": [
    {
     "name": "stdout",
     "output_type": "stream",
     "text": [
      "Found: 0 --> []\n"
     ]
    }
   ],
   "source": [
    "test_string = 'football'\n",
    "found = re.findall(r'\\Bfoot', test_string)\n",
    "print(\"Found:\",len(found),\"-->\", found)"
   ]
  },
  {
   "cell_type": "code",
   "execution_count": 403,
   "metadata": {},
   "outputs": [
    {
     "name": "stdout",
     "output_type": "stream",
     "text": [
      "Found: 1 --> ['foot']\n"
     ]
    }
   ],
   "source": [
    "test_string = 'afootball'\n",
    "found = re.findall(r'\\Bfoot', test_string)\n",
    "print(\"Found:\",len(found),\"-->\", found)"
   ]
  },
  {
   "cell_type": "markdown",
   "metadata": {},
   "source": [
    "### \\d\n",
    "Matches any decimal digit. Equivalent to [0-9]"
   ]
  },
  {
   "cell_type": "code",
   "execution_count": 460,
   "metadata": {},
   "outputs": [
    {
     "name": "stdout",
     "output_type": "stream",
     "text": [
      "Found: 8 --> ['1', '2', '3', '4', '6', '6', '7', '6']\n"
     ]
    }
   ],
   "source": [
    "test_string = '1234dfef6676'\n",
    "pattern = '\\d'\n",
    "found = re.findall(pattern, test_string)\n",
    "print(\"Found:\",len(found),\"-->\", found)"
   ]
  },
  {
   "cell_type": "code",
   "execution_count": 461,
   "metadata": {},
   "outputs": [
    {
     "name": "stdout",
     "output_type": "stream",
     "text": [
      "Found: 2 --> ['1234', '6676']\n"
     ]
    }
   ],
   "source": [
    "test_string = '1234dfef6676'\n",
    "pattern = '\\d+'\n",
    "found = re.findall(pattern, test_string)\n",
    "print(\"Found:\",len(found),\"-->\", found)"
   ]
  },
  {
   "cell_type": "markdown",
   "metadata": {},
   "source": [
    "### \\D\n",
    "Matches any non-decimal digit. Equivalent to [^0-9]"
   ]
  },
  {
   "cell_type": "code",
   "execution_count": 463,
   "metadata": {},
   "outputs": [
    {
     "name": "stdout",
     "output_type": "stream",
     "text": [
      "Found: 4 --> ['d', 'f', 'e', 'f']\n"
     ]
    }
   ],
   "source": [
    "test_string = '1234dfef6676'\n",
    "pattern = '\\D'\n",
    "found = re.findall(pattern, test_string)\n",
    "print(\"Found:\",len(found),\"-->\", found)"
   ]
  },
  {
   "cell_type": "code",
   "execution_count": 464,
   "metadata": {},
   "outputs": [
    {
     "name": "stdout",
     "output_type": "stream",
     "text": [
      "Found: 1 --> ['dfef']\n"
     ]
    }
   ],
   "source": [
    "test_string = '1234dfef6676'\n",
    "pattern = '\\D+'\n",
    "found = re.findall(pattern, test_string)\n",
    "print(\"Found:\",len(found),\"-->\", found)"
   ]
  },
  {
   "cell_type": "markdown",
   "metadata": {},
   "source": [
    "### \\s\n",
    "Matches where a string contains any whitespace character."
   ]
  },
  {
   "cell_type": "code",
   "execution_count": 410,
   "metadata": {},
   "outputs": [
    {
     "name": "stdout",
     "output_type": "stream",
     "text": [
      "Found: 2 --> [' ', ' ']\n"
     ]
    }
   ],
   "source": [
    "test_string = '123 4dfef6 676'\n",
    "pattern = '\\s'\n",
    "found = re.findall(pattern, test_string)\n",
    "print(\"Found:\",len(found),\"-->\", found)"
   ]
  },
  {
   "cell_type": "markdown",
   "metadata": {},
   "source": [
    "### \\S\n",
    "Matches where a string contains any non-whitespace character. "
   ]
  },
  {
   "cell_type": "code",
   "execution_count": 415,
   "metadata": {},
   "outputs": [
    {
     "name": "stdout",
     "output_type": "stream",
     "text": [
      "Found: 4 --> ['1', '2', '3', 'q']\n"
     ]
    }
   ],
   "source": [
    "test_string = '123 q'\n",
    "pattern = '\\S'\n",
    "found = re.findall(pattern, test_string)\n",
    "print(\"Found:\",len(found),\"-->\", found)"
   ]
  },
  {
   "cell_type": "markdown",
   "metadata": {},
   "source": [
    "### \\w\n",
    "Matches any alphanumeric character (digits and alphabets). Equivalent to [a-zA-Z0-9_]. By the way, underscore _ is also considered an alphanumeric character."
   ]
  },
  {
   "cell_type": "code",
   "execution_count": 416,
   "metadata": {},
   "outputs": [
    {
     "name": "stdout",
     "output_type": "stream",
     "text": [
      "Found: 3 --> ['1', '2', 'c']\n"
     ]
    }
   ],
   "source": [
    "test_string = '12&\": ;c'\n",
    "pattern = '\\w'\n",
    "found = re.findall(pattern, test_string)\n",
    "print(\"Found:\",len(found),\"-->\", found)"
   ]
  },
  {
   "cell_type": "code",
   "execution_count": 418,
   "metadata": {},
   "outputs": [
    {
     "name": "stdout",
     "output_type": "stream",
     "text": [
      "Found: 0 --> []\n"
     ]
    }
   ],
   "source": [
    "test_string = '%\"> !'\n",
    "pattern = '\\w'\n",
    "found = re.findall(pattern, test_string)\n",
    "print(\"Found:\",len(found),\"-->\", found)"
   ]
  },
  {
   "cell_type": "markdown",
   "metadata": {},
   "source": [
    "### \\W\n",
    "Matches any non-alphanumeric character. Equivalent to [^a-zA-Z0-9_]"
   ]
  },
  {
   "cell_type": "code",
   "execution_count": 419,
   "metadata": {},
   "outputs": [
    {
     "name": "stdout",
     "output_type": "stream",
     "text": [
      "Found: 5 --> ['%', '\"', '>', ' ', '!']\n"
     ]
    }
   ],
   "source": [
    "test_string = '%\"> !'\n",
    "pattern = '\\W'\n",
    "found = re.findall(pattern, test_string)\n",
    "print(\"Found:\",len(found),\"-->\", found)"
   ]
  },
  {
   "cell_type": "markdown",
   "metadata": {},
   "source": [
    "### \\Z\n",
    "Matches if the specified characters are at the end of a string."
   ]
  },
  {
   "cell_type": "code",
   "execution_count": 421,
   "metadata": {},
   "outputs": [
    {
     "name": "stdout",
     "output_type": "stream",
     "text": [
      "Found: 1 --> ['python']\n"
     ]
    }
   ],
   "source": [
    "test_string = 'I love Python'\n",
    "pattern = 'python\\Z'\n",
    "found = re.findall(pattern, test_string)\n",
    "print(\"Found:\",len(found),\"-->\", found)"
   ]
  },
  {
   "cell_type": "code",
   "execution_count": 431,
   "metadata": {},
   "outputs": [
    {
     "name": "stdout",
     "output_type": "stream",
     "text": [
      "Found: 0 --> []\n"
     ]
    }
   ],
   "source": [
    "test_string = 'I love Python'\n",
    "pattern = 'python\\Z'\n",
    "found = re.findall(pattern, test_string)\n",
    "print(\"Found:\",len(found),\"-->\", found)"
   ]
  },
  {
   "cell_type": "code",
   "execution_count": 432,
   "metadata": {},
   "outputs": [
    {
     "name": "stdout",
     "output_type": "stream",
     "text": [
      "Found: 1 --> ['Python']\n"
     ]
    }
   ],
   "source": [
    "test_string = 'I love Python'\n",
    "pattern = '.ython\\Z'\n",
    "found = re.findall(pattern, test_string)\n",
    "print(\"Found:\",len(found),\"-->\", found)"
   ]
  },
  {
   "cell_type": "markdown",
   "metadata": {},
   "source": [
    "------------------------"
   ]
  },
  {
   "cell_type": "markdown",
   "metadata": {},
   "source": [
    "## Methods"
   ]
  },
  {
   "cell_type": "markdown",
   "metadata": {},
   "source": [
    "#### Findall Method\n",
    "The re.findall() method returns a list of strings containing all matches."
   ]
  },
  {
   "cell_type": "code",
   "execution_count": 176,
   "metadata": {},
   "outputs": [
    {
     "name": "stdout",
     "output_type": "stream",
     "text": [
      "['is', 'is']\n"
     ]
    }
   ],
   "source": [
    "txt = \"This is the text string that we will use for today's Live Coding Session\"\n",
    "x = re.findall(\"is\", txt)\n",
    "print(x)"
   ]
  },
  {
   "cell_type": "code",
   "execution_count": 177,
   "metadata": {},
   "outputs": [
    {
     "name": "stdout",
     "output_type": "stream",
     "text": [
      "[]\n"
     ]
    }
   ],
   "source": [
    "txt = \"This is the text string that we will use for today's Live Coding Session\"\n",
    "x = re.findall(\"Hello\", txt)\n",
    "print(x)"
   ]
  },
  {
   "cell_type": "code",
   "execution_count": 178,
   "metadata": {},
   "outputs": [
    {
     "name": "stdout",
     "output_type": "stream",
     "text": [
      "['2', '99', '18']\n"
     ]
    }
   ],
   "source": [
    "txt = \"This is the 2text string that 99 we will use for today's 18 Live Coding Session\"\n",
    "pattern = '\\d+'\n",
    "\n",
    "result = re.findall(pattern, txt) \n",
    "print(result)"
   ]
  },
  {
   "cell_type": "code",
   "execution_count": 179,
   "metadata": {},
   "outputs": [],
   "source": [
    "dates = ['1790-3423454', '1488.34234534', '1699##7733453']"
   ]
  },
  {
   "cell_type": "code",
   "execution_count": 180,
   "metadata": {},
   "outputs": [],
   "source": [
    "pattern = re.compile(r'\\d{4,}')"
   ]
  },
  {
   "cell_type": "code",
   "execution_count": 181,
   "metadata": {},
   "outputs": [
    {
     "name": "stdout",
     "output_type": "stream",
     "text": [
      "['1790', '3423454']\n",
      "['1488', '34234534']\n",
      "['1699', '7733453']\n"
     ]
    }
   ],
   "source": [
    "for date in dates:\n",
    "    print(pattern.findall(date))"
   ]
  },
  {
   "cell_type": "code",
   "execution_count": 300,
   "metadata": {},
   "outputs": [
    {
     "name": "stdout",
     "output_type": "stream",
     "text": [
      "support@bigblue.com\n",
      "thanos@bigblue.com\n",
      "maria@yahoo.com\n"
     ]
    }
   ],
   "source": [
    "statement = \"Email list contains the following emails: support@bigblue.com, thanos@bigblue.com, maria@yahoo.com\"\n",
    "addresses = re.findall(r'[\\w\\.-]+@[\\w\\.-]+', statement)\n",
    "for address in addresses:\n",
    "    print(address)"
   ]
  },
  {
   "cell_type": "markdown",
   "metadata": {},
   "source": [
    "#### Match Method\n",
    "The re.match() function returns a match object if the text matches the pattern. Otherwise, it returns None"
   ]
  },
  {
   "cell_type": "code",
   "execution_count": 302,
   "metadata": {},
   "outputs": [
    {
     "data": {
      "text/plain": [
       "<re.Match object; span=(0, 4), match='<h1>'>"
      ]
     },
     "execution_count": 302,
     "metadata": {},
     "output_type": "execute_result"
    }
   ],
   "source": [
    "heading  = r'<h1>TITLE</h1>'\n",
    "re.match(r'<.*?>', heading)"
   ]
  },
  {
   "cell_type": "code",
   "execution_count": 307,
   "metadata": {},
   "outputs": [
    {
     "data": {
      "text/plain": [
       "'<h1>'"
      ]
     },
     "execution_count": 307,
     "metadata": {},
     "output_type": "execute_result"
    }
   ],
   "source": [
    "#Non-Greedy Match\n",
    "\n",
    "heading  = r'<h1>TITLE</h1>'\n",
    "re.match(r'<.*?>', heading).group()"
   ]
  },
  {
   "cell_type": "code",
   "execution_count": 310,
   "metadata": {},
   "outputs": [
    {
     "data": {
      "text/plain": [
       "'<h1>TITLE</h1>'"
      ]
     },
     "execution_count": 310,
     "metadata": {},
     "output_type": "execute_result"
    }
   ],
   "source": [
    "#Greedy Match\n",
    "\n",
    "heading  = r'<h1>TITLE</h1>'\n",
    "re.match(r'<.*>', heading).group(0)"
   ]
  },
  {
   "cell_type": "markdown",
   "metadata": {},
   "source": [
    "#### Search Method"
   ]
  },
  {
   "cell_type": "code",
   "execution_count": 118,
   "metadata": {},
   "outputs": [
    {
     "data": {
      "text/plain": [
       "<re.Match object; span=(0, 72), match=\"This is the text string that we will use for toda>"
      ]
     },
     "execution_count": 118,
     "metadata": {},
     "output_type": "execute_result"
    }
   ],
   "source": [
    "txt = \"This is the text string that we will use for today's Live Coding Session\"\n",
    "x1 = re.search(\"^This.*Session$\", txt)\n",
    "x1"
   ]
  },
  {
   "cell_type": "code",
   "execution_count": 119,
   "metadata": {},
   "outputs": [
    {
     "data": {
      "text/plain": [
       "<re.Match object; span=(0, 72), match=\"This is the text string that we will use for toda>"
      ]
     },
     "execution_count": 119,
     "metadata": {},
     "output_type": "execute_result"
    }
   ],
   "source": [
    "txt = \"This is the text string that we will use for today's Live Coding Session, great!\"\n",
    "x2 = re.search(\"^This.*Session\", txt)\n",
    "x2"
   ]
  },
  {
   "cell_type": "code",
   "execution_count": 120,
   "metadata": {},
   "outputs": [
    {
     "name": "stdout",
     "output_type": "stream",
     "text": [
      "None\n"
     ]
    }
   ],
   "source": [
    "txt = \"This is the text string that we will use for today's Live Coding Session\"\n",
    "x = re.search(\"Hello\", txt)\n",
    "print(x)"
   ]
  },
  {
   "cell_type": "code",
   "execution_count": 121,
   "metadata": {},
   "outputs": [
    {
     "name": "stdout",
     "output_type": "stream",
     "text": [
      "The first white-space character is located in position: 4\n"
     ]
    }
   ],
   "source": [
    "txt = \"This is the text string that we will use for today's Live Coding Session\"\n",
    "x = re.search(\"\\s\", txt)\n",
    "print(\"The first white-space character is located in position:\", x.start())"
   ]
  },
  {
   "cell_type": "code",
   "execution_count": 122,
   "metadata": {},
   "outputs": [
    {
     "name": "stdout",
     "output_type": "stream",
     "text": [
      "<re.Match object; span=(2, 4), match='is'>\n"
     ]
    }
   ],
   "source": [
    "txt = \"This is the text string that we will use for today's Live Coding Session\"\n",
    "x = re.search(\"is\", txt)\n",
    "print(x)"
   ]
  },
  {
   "cell_type": "code",
   "execution_count": 123,
   "metadata": {},
   "outputs": [
    {
     "name": "stdout",
     "output_type": "stream",
     "text": [
      "(65, 72)\n"
     ]
    }
   ],
   "source": [
    "# \"\\bS\\w+\" --> This regular expression looks for any words that starts with an upper case \"S\":\n",
    "\n",
    "txt = \"This is the text string that we will use for today's Live Coding Session\"\n",
    "x = re.search(r\"\\bS\\w+\", txt)\n",
    "print(x.span())"
   ]
  },
  {
   "cell_type": "code",
   "execution_count": 124,
   "metadata": {},
   "outputs": [
    {
     "name": "stdout",
     "output_type": "stream",
     "text": [
      "This is the text string that we will use for today's Live Coding Session\n"
     ]
    }
   ],
   "source": [
    "# \"\\bS\\w+\" --> This regular expression looks for any words that starts with an upper case \"S\":\n",
    "\n",
    "txt = \"This is the text string that we will use for today's Live Coding Session\"\n",
    "x = re.search(r\"\\bS\\w+\", txt)\n",
    "print(x.string)"
   ]
  },
  {
   "cell_type": "code",
   "execution_count": 125,
   "metadata": {},
   "outputs": [
    {
     "name": "stdout",
     "output_type": "stream",
     "text": [
      "Session\n"
     ]
    }
   ],
   "source": [
    "# \"\\bS\\w+\" --> This regular expression looks for any words that starts with an upper case \"S\":\n",
    "\n",
    "txt = \"This is the text string that we will use for today's Live Coding Session\"\n",
    "x = re.search(r\"\\bS\\w+\", txt)\n",
    "print(x.group())"
   ]
  },
  {
   "cell_type": "code",
   "execution_count": 384,
   "metadata": {},
   "outputs": [
    {
     "name": "stdout",
     "output_type": "stream",
     "text": [
      "244216 (packets) exceed: 267093\n",
      "244216\n",
      "267093\n"
     ]
    }
   ],
   "source": [
    "st = 'confirm: 244216 (packets) exceed: 267093 (packets)'\n",
    "match = re.search(r\"(\\d+).*?(\\d+)\", st)\n",
    "print (match.group(0))\n",
    "print (match.group(1))\n",
    "print (match.group(2))"
   ]
  },
  {
   "cell_type": "code",
   "execution_count": 135,
   "metadata": {},
   "outputs": [
    {
     "name": "stdout",
     "output_type": "stream",
     "text": [
      "1790\n",
      "1488\n",
      "1699\n"
     ]
    }
   ],
   "source": [
    "dates = ['1790-3423454', '1488.34234534', '1699##7733453']\n",
    "\n",
    "for date in dates:\n",
    "    m = re.search(r'(\\d{4,})', date)\n",
    "    print(m.group(0))"
   ]
  },
  {
   "cell_type": "code",
   "execution_count": 311,
   "metadata": {},
   "outputs": [
    {
     "name": "stdout",
     "output_type": "stream",
     "text": [
      "1790\n"
     ]
    }
   ],
   "source": [
    "st = '1790-3423454'\n",
    "match = re.search(r'\\d{4,}', st)\n",
    "print (match.group(0))"
   ]
  },
  {
   "cell_type": "markdown",
   "metadata": {},
   "source": [
    "#### Split Method\n",
    "The re.split method splits the string where there is a match and returns a list of strings where the splits have occurred."
   ]
  },
  {
   "cell_type": "code",
   "execution_count": 126,
   "metadata": {},
   "outputs": [
    {
     "name": "stdout",
     "output_type": "stream",
     "text": [
      "['This', 'is', 'the', 'text', 'string', 'that', 'we', 'will', 'use', 'for', \"today's\", 'Live', 'Coding', 'Session']\n"
     ]
    }
   ],
   "source": [
    "txt = \"This is the text string that we will use for today's Live Coding Session\"\n",
    "x = re.split(\"\\s\", txt)\n",
    "print(x)"
   ]
  },
  {
   "cell_type": "code",
   "execution_count": 127,
   "metadata": {},
   "outputs": [
    {
     "name": "stdout",
     "output_type": "stream",
     "text": [
      "['This', \"is the text string that we will use for today's Live Coding Session\"]\n"
     ]
    }
   ],
   "source": [
    "txt = \"This is the text string that we will use for today's Live Coding Session\"\n",
    "x = re.split(\"\\s\", txt, 1)\n",
    "print(x)"
   ]
  },
  {
   "cell_type": "code",
   "execution_count": 128,
   "metadata": {},
   "outputs": [
    {
     "name": "stdout",
     "output_type": "stream",
     "text": [
      "['This', 'is', \"the text string that we will use for today's Live Coding Session\"]\n"
     ]
    }
   ],
   "source": [
    "txt = \"This is the text string that we will use for today's Live Coding Session\"\n",
    "x = re.split(\"\\s\", txt, 2)\n",
    "print(x)"
   ]
  },
  {
   "cell_type": "code",
   "execution_count": 129,
   "metadata": {},
   "outputs": [
    {
     "name": "stdout",
     "output_type": "stream",
     "text": [
      "['This', 'is', 'the', \"text string that we will use for today's Live Coding Session\"]\n"
     ]
    }
   ],
   "source": [
    "txt = \"This is the text string that we will use for today's Live Coding Session\"\n",
    "x = re.split(\"\\s\", txt, 3)\n",
    "print(x)"
   ]
  },
  {
   "cell_type": "markdown",
   "metadata": {},
   "source": [
    "#### Sub Method\n",
    "The re.split method splits the string where there is a match and returns a list of strings where the splits have occurred."
   ]
  },
  {
   "cell_type": "code",
   "execution_count": 130,
   "metadata": {},
   "outputs": [
    {
     "name": "stdout",
     "output_type": "stream",
     "text": [
      "This9is9the9text9string9that9we9will9use9for9today's9Live9Coding9Session\n"
     ]
    }
   ],
   "source": [
    "txt = \"This is the text string that we will use for today's Live Coding Session\"\n",
    "x = re.sub(\"\\s\", \"9\", txt)\n",
    "print(x)"
   ]
  },
  {
   "cell_type": "code",
   "execution_count": 131,
   "metadata": {},
   "outputs": [
    {
     "name": "stdout",
     "output_type": "stream",
     "text": [
      "This9is9the9text string that we will use for today's Live Coding Session\n"
     ]
    }
   ],
   "source": [
    "txt = \"This is the text string that we will use for today's Live Coding Session\"\n",
    "x = re.sub(\"\\s\", \"9\", txt, 3)\n",
    "print(x)"
   ]
  },
  {
   "cell_type": "code",
   "execution_count": 132,
   "metadata": {},
   "outputs": [
    {
     "name": "stdout",
     "output_type": "stream",
     "text": [
      "This9is the text string that we will use for today's Live Coding Session\n"
     ]
    }
   ],
   "source": [
    "txt = \"This is the text string that we will use for today's Live Coding Session\"\n",
    "x = re.sub(\"\\s\", \"9\", txt, 1)\n",
    "print(x)"
   ]
  },
  {
   "cell_type": "code",
   "execution_count": 133,
   "metadata": {},
   "outputs": [
    {
     "name": "stdout",
     "output_type": "stream",
     "text": [
      "This9is9the9text9string9that9we9will9use9for9today's9Live9Coding9Session\n"
     ]
    }
   ],
   "source": [
    "txt = \"This is the text string that we will use for today's Live Coding Session\"\n",
    "x = re.sub(\"\\s\", \"9\", txt, 20)\n",
    "print(x)"
   ]
  },
  {
   "cell_type": "markdown",
   "metadata": {},
   "source": [
    "#### Subn Method\n",
    "The re.subn() is similar to re.sub() except it returns a tuple of 2 items containing the new string and the number of substitutions made."
   ]
  },
  {
   "cell_type": "code",
   "execution_count": 157,
   "metadata": {
    "ExecuteTime": {
     "end_time": "2022-04-20T18:08:32.499056Z",
     "start_time": "2022-04-20T18:08:32.491422Z"
    },
    "id": "ab4406c1"
   },
   "outputs": [],
   "source": [
    "# multiline string\n",
    "string = 'abc 12\\\n",
    "de 23 \\n f45 6 \\\n",
    "\\n dfg45 hello'"
   ]
  },
  {
   "cell_type": "code",
   "execution_count": 158,
   "metadata": {},
   "outputs": [
    {
     "name": "stdout",
     "output_type": "stream",
     "text": [
      "abc 12de 23 \n",
      " f45 6 \n",
      " dfg45 hello\n"
     ]
    }
   ],
   "source": [
    "print(string)"
   ]
  },
  {
   "cell_type": "code",
   "execution_count": 159,
   "metadata": {
    "ExecuteTime": {
     "end_time": "2022-04-20T18:08:32.830489Z",
     "start_time": "2022-04-20T18:08:32.825175Z"
    },
    "id": "d95dbae6"
   },
   "outputs": [
    {
     "name": "stdout",
     "output_type": "stream",
     "text": [
      "('abc12de23f456dfg45hello', 6)\n"
     ]
    }
   ],
   "source": [
    "# matches all whitespace characters\n",
    "pattern = '\\s+'\n",
    "\n",
    "# empty string\n",
    "replace = ''\n",
    "\n",
    "new_string = re.subn(pattern, replace, string) \n",
    "print(new_string)"
   ]
  },
  {
   "cell_type": "markdown",
   "metadata": {
    "ExecuteTime": {
     "end_time": "2022-04-20T18:08:33.395303Z",
     "start_time": "2022-04-20T18:08:33.386456Z"
    },
    "id": "7ec6be02",
    "outputId": "5dc90879-dc31-469c-94fd-2d05147de087"
   },
   "source": [
    "#### Compile Method"
   ]
  },
  {
   "cell_type": "code",
   "execution_count": 350,
   "metadata": {
    "ExecuteTime": {
     "end_time": "2022-04-20T18:12:19.205488Z",
     "start_time": "2022-04-20T18:12:19.199681Z"
    },
    "id": "e300b7a6",
    "outputId": "c01e7d0d-a175-4ff0-cf85-2e54599e8492"
   },
   "outputs": [
    {
     "data": {
      "text/plain": [
       "'1000'"
      ]
     },
     "execution_count": 350,
     "metadata": {},
     "output_type": "execute_result"
    }
   ],
   "source": [
    "pattern = re.compile(r\"\\d{4,}\")\n",
    "sequence = \"1000 Cake and 34444 cookie\"\n",
    "pattern.search(sequence).group()"
   ]
  },
  {
   "cell_type": "code",
   "execution_count": 351,
   "metadata": {
    "id": "e086e839"
   },
   "outputs": [
    {
     "name": "stdout",
     "output_type": "stream",
     "text": [
      "Found: 2 --> ['1000', '34444']\n"
     ]
    }
   ],
   "source": [
    "found = re.findall(pattern, sequence)\n",
    "print(\"Found:\",len(found),\"-->\", found)"
   ]
  },
  {
   "cell_type": "code",
   "execution_count": 387,
   "metadata": {},
   "outputs": [
    {
     "name": "stdout",
     "output_type": "stream",
     "text": [
      "1790\n",
      "1488\n",
      "1699\n"
     ]
    }
   ],
   "source": [
    "dates = ['1790-3423454', '1488.34234534', '1699##7733453']\n",
    "pattern = re.compile(r'(\\d{4,})')\n",
    "\n",
    "for date in dates:\n",
    "    m = re.search(pattern, date)\n",
    "    print(m.group(0))"
   ]
  },
  {
   "cell_type": "code",
   "execution_count": 12,
   "metadata": {},
   "outputs": [
    {
     "name": "stdout",
     "output_type": "stream",
     "text": [
      "Found: 1 --> ['Tim']\n"
     ]
    }
   ],
   "source": [
    "names = 'George Mike Maria John Harry Sofia Tim'\n",
    "pattern = re.compile(r'\\b\\w{3}\\b')\n",
    "\n",
    "found = re.findall(pattern, names)\n",
    "print(\"Found:\",len(found),\"-->\", found)"
   ]
  },
  {
   "cell_type": "markdown",
   "metadata": {
    "ExecuteTime": {
     "end_time": "2022-04-18T18:15:13.088862Z",
     "start_time": "2022-04-18T18:15:13.072360Z"
    },
    "id": "83391d4b",
    "outputId": "a71a3d3d-2050-45c3-8428-b9caa570a88e"
   },
   "source": [
    "------------------------------------------------------------"
   ]
  },
  {
   "cell_type": "markdown",
   "metadata": {},
   "source": [
    "## Lookahead and Lookbehind"
   ]
  },
  {
   "cell_type": "code",
   "execution_count": 566,
   "metadata": {},
   "outputs": [
    {
     "name": "stdout",
     "output_type": "stream",
     "text": [
      "Found: 2 --> ['With', 'comes']\n"
     ]
    }
   ],
   "source": [
    "# positive lookahead \n",
    "# syntax (?=)\n",
    "# Which words have \"great\" after them --> looking ahead\n",
    "\n",
    "txt = \"With great power comes great responsibility\"\n",
    "found = re.findall(r'\\b\\w+\\b(?= great)',txt)\n",
    "print(\"Found:\",len(found),\"-->\", found)"
   ]
  },
  {
   "cell_type": "code",
   "execution_count": 565,
   "metadata": {},
   "outputs": [
    {
     "name": "stdout",
     "output_type": "stream",
     "text": [
      "Found: 4 --> ['great', 'power', 'great', 'responsibility']\n"
     ]
    }
   ],
   "source": [
    "# negative lookahead\n",
    "# syntax (?!)\n",
    "# Which words don't have \"great\" after them --> looking ahead\n",
    "\n",
    "txt = \"With great power comes great responsibility\"\n",
    "found = re.findall(r'\\b\\w+\\b(?! great)',txt)\n",
    "print(\"Found:\",len(found),\"-->\", found)"
   ]
  },
  {
   "cell_type": "code",
   "execution_count": 564,
   "metadata": {},
   "outputs": [
    {
     "name": "stdout",
     "output_type": "stream",
     "text": [
      "Found: 2 --> ['power', 'responsibility']\n"
     ]
    }
   ],
   "source": [
    "# positive lookback\n",
    "# syntax (?<=)\n",
    "# Which words have \"great\" before them --> looking back\n",
    "\n",
    "txt = \"With great power comes great responsibility\"\n",
    "found = re.findall(r'(?<=great )\\b\\w+\\b',txt)\n",
    "print(\"Found:\",len(found),\"-->\", found)"
   ]
  },
  {
   "cell_type": "code",
   "execution_count": 563,
   "metadata": {},
   "outputs": [
    {
     "name": "stdout",
     "output_type": "stream",
     "text": [
      "Found: 4 --> ['With', 'great', 'comes', 'great']\n"
     ]
    }
   ],
   "source": [
    "# negative lookback\n",
    "# syntax (?<=)\n",
    "# Which words don't have \"great\" before them --> looking back\n",
    "\n",
    "txt = \"With great power comes great responsibility\"\n",
    "found = re.findall(r'(?<!great )\\b\\w+\\b',txt)\n",
    "print(\"Found:\",len(found),\"-->\", found)"
   ]
  },
  {
   "cell_type": "markdown",
   "metadata": {},
   "source": [
    "----------------------"
   ]
  }
 ],
 "metadata": {
  "colab": {
   "provenance": []
  },
  "kernelspec": {
   "display_name": "Python 3 (ipykernel)",
   "language": "python",
   "name": "python3"
  },
  "language_info": {
   "codemirror_mode": {
    "name": "ipython",
    "version": 3
   },
   "file_extension": ".py",
   "mimetype": "text/x-python",
   "name": "python",
   "nbconvert_exporter": "python",
   "pygments_lexer": "ipython3",
   "version": "3.7.6"
  }
 },
 "nbformat": 4,
 "nbformat_minor": 5
}
