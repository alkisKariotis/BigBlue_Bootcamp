{
 "cells": [
  {
   "cell_type": "code",
   "execution_count": 1,
   "metadata": {},
   "outputs": [],
   "source": [
    "import time\n",
    "import re"
   ]
  },
  {
   "cell_type": "markdown",
   "metadata": {},
   "source": [
    "# 1.Write a Python program to check that a string contains only lowercase and uppercase characters."
   ]
  },
  {
   "cell_type": "code",
   "execution_count": 58,
   "metadata": {},
   "outputs": [
    {
     "name": "stdout",
     "output_type": "stream",
     "text": [
      "The string does contain only lowercase and uppercase characters.\n"
     ]
    }
   ],
   "source": [
    "def check (x):\n",
    "    #need the space in pattern to take into account the spaces in the string \n",
    "    pattern = re.compile(r'^[a-zA-Z ]+$')\n",
    "    \n",
    "    #could also go with None validation instead of checking the boolean(.search does return None when not finding anything)\n",
    "    if bool(re.search(pattern,x)) == True:\n",
    "        print('The string does contain only lowercase and uppercase characters.')\n",
    "    else:\n",
    "        print('The string does not! contain only lowercase and uppercase characters.')\n",
    "\n",
    "example_string = 'HEllo thIs is an examPLe'\n",
    "check(example_string)\n",
    "#pattern = re.compile(r'^[a-zA-Z ]+$')\n",
    "#print(bool(re.match(pattern,example_string)))"
   ]
  },
  {
   "cell_type": "markdown",
   "metadata": {},
   "source": [
    "# 2.Write a Python program that matches a word at the beginning of a string."
   ]
  },
  {
   "cell_type": "code",
   "execution_count": 55,
   "metadata": {},
   "outputs": [
    {
     "name": "stdout",
     "output_type": "stream",
     "text": [
      "<re.Match object; span=(0, 5), match='HEllo'>\n"
     ]
    }
   ],
   "source": [
    "example_string = 'HEllo thIs is an examPLe'\n",
    "pattern = re.compile(r'[a-zA-Z]+')\n",
    "print(re.match(pattern,example_string))\n",
    "\n",
    "#OR\n",
    "#pattern = re.compile(r'^[a-zA-Z]+')\n",
    "#if you dont go with match function \n",
    "\n",
    "\n",
    "''' \n",
    "#matching if one strings begins in the same way with another\n",
    "\n",
    "txt=\"hello\"\n",
    "txt1=\"he\"\n",
    "txt2=\"hal\"\n",
    "def beginfun(x,y):\n",
    "    a=re.search(\\y + r\".*\",x)\n",
    "    if a:\n",
    "        return f\"There is {y} at the beginning of {x}\"\n",
    "    else:\n",
    "        return f\"There is not {y} at the beginning of {x}\"\n",
    "print(beginfun(txt,txt1))\n",
    "print(beginfun(txt,txt2)) \n",
    "'''"
   ]
  },
  {
   "cell_type": "markdown",
   "metadata": {},
   "source": [
    "# 3.Write a Python program that matches a word at the end of string\n"
   ]
  },
  {
   "cell_type": "code",
   "execution_count": 52,
   "metadata": {},
   "outputs": [
    {
     "name": "stdout",
     "output_type": "stream",
     "text": [
      "<re.Match object; span=(17, 24), match='examPLe'>\n"
     ]
    }
   ],
   "source": [
    "example_string = 'HEllo thIs is an examPLe'\n",
    "\n",
    "#OR instead of \\Z could go with $\n",
    "pattern = re.compile(r'[a-zA-Z]+\\Z')\n",
    "print(re.search(pattern,example_string))"
   ]
  },
  {
   "cell_type": "markdown",
   "metadata": {},
   "source": [
    "# 4.Write a Python program that matches a word containing 'z', not at the start or end of the word. (Matches Brazil but not Zelda)\n"
   ]
  },
  {
   "cell_type": "code",
   "execution_count": 83,
   "metadata": {},
   "outputs": [
    {
     "name": "stdout",
     "output_type": "stream",
     "text": [
      "<re.Match object; span=(3, 9), match='Brazil'>\n"
     ]
    }
   ],
   "source": [
    "example_string = 'In Brazil they play a lot Zeldza in'\n",
    "pattern = re.compile(r'\\b[^Zz ]\\w+z\\w+[^Zz ]\\b')\n",
    "print(re.search(pattern,example_string))\n"
   ]
  },
  {
   "cell_type": "markdown",
   "metadata": {},
   "source": [
    "# 5.Write a Python program to match a string that contains only upper and lowercase letters.\n"
   ]
  },
  {
   "cell_type": "code",
   "execution_count": 21,
   "metadata": {},
   "outputs": [
    {
     "name": "stdout",
     "output_type": "stream",
     "text": [
      "The string does not! contain only lowercase and uppercase characters.\n"
     ]
    }
   ],
   "source": [
    "def check2 (x):\n",
    "    # requires the $ end symbol to show that is has upper and lower alphabetical until the end of the first word(when using match function)\n",
    "    pattern = re.compile(r'[a-zA-Z]+$')\n",
    "    \n",
    "    if bool(re.match(pattern,x)) == True:\n",
    "        print('The string does contain only lowercase and uppercase characters.')\n",
    "    else:\n",
    "        print('The string does not! contain only lowercase and uppercase characters.')\n",
    "\n",
    "example_string = 'HEllo2 thIs is an examPLe'\n",
    "check2(example_string)"
   ]
  },
  {
   "cell_type": "markdown",
   "metadata": {},
   "source": [
    "# 6.Write a Python program so that the full email addresses are extracted. (example: “For more information please write to the following email address: admissions@footballclub.com, Mrs Stepanie Smith will be delighted to assist you.”)\n"
   ]
  },
  {
   "cell_type": "code",
   "execution_count": 86,
   "metadata": {},
   "outputs": [
    {
     "name": "stdout",
     "output_type": "stream",
     "text": [
      "['admissions@footballclub.com']\n"
     ]
    }
   ],
   "source": [
    "example = 'For more information please write to the following email address: admissions@footballclub.com, Mrs Stepanie Smith will be delighted to assist you.'\n",
    "pattern = re.compile(r'\\w+@\\w+\\.\\w{3}')\n",
    "print(re.findall(pattern,example))\n",
    "\n",
    "\n",
    "#OR r'\\S+@\\S+\\.\\S=\\b'  to check everything except not whitespaces instead of \\w\n",
    "# nice example here with match and search, match returns none instead of search which locates it "
   ]
  },
  {
   "cell_type": "markdown",
   "metadata": {},
   "source": [
    "# 7.E-mail Validation\n",
    "(a)Write an email validating function, returning True or False depending on whether an email address is correctly formatted (e.g. john.smith@yahoo.com works, not  john.smith@yahoο, or  johnsmith@yahoo.com). No input should lead to an exception.\n",
    "\n",
    "(b)Extend your email validation in the first part to:  \". - _\"  and at least four characters and in the second part: extensions with minimum two characters and maximum 4 characters"
   ]
  },
  {
   "cell_type": "code",
   "execution_count": 69,
   "metadata": {},
   "outputs": [],
   "source": [
    "def email_validationA (x):\n",
    "    pattern = re.compile(r'\\w+\\.\\w+@\\w+\\.\\w{3}')\n",
    "    if bool(re.search(pattern,x)) == True:\n",
    "        return True\n",
    "    else:\n",
    "        return False\n",
    "#IN this case match has no difference from the search if we take input only one word string     \n",
    "    \n",
    "    \n",
    "def email_validationB (x):\n",
    "    #r'(\\w+){2,}[\\.\\-\\_](\\w+){2,}@\\w\\.\\w{2,4}\\Z'   ()just for showing grouping and organization\n",
    "    pattern = re.compile(r'\\w+(\\.|\\-|_)\\w+@\\w+\\.\\w{2,4}')\n",
    "    if bool(re.search(pattern,x)) == True:\n",
    "        return True\n",
    "    else:\n",
    "        return False\n",
    "       \n",
    "#email_validationA(input(\"Please enter your email adress:\"))"
   ]
  },
  {
   "cell_type": "markdown",
   "metadata": {},
   "source": [
    "# 8.Password Validation\n",
    "- Write a password validation function: the input should contain at least one lowercase letter, at least one uppercase letter, at least one digit, and at least one symbol  from ``[$#/\\@*]``. Unmet criteria or any other character should lead to an exception."
   ]
  },
  {
   "cell_type": "code",
   "execution_count": 102,
   "metadata": {},
   "outputs": [],
   "source": [
    "def password_validation (x):\n",
    "    lowercase_check = re.compile(r'[a-z]')\n",
    "    uppercase_check = re.compile(r'[A-Z]')\n",
    "    digit_check = re.compile(r'[0-9]')\n",
    "    symbol_check = re.compile(r'(\\$|#|\\/|\\\\|@|\\*)')\n",
    "    \n",
    "    #if you want to check the length also\n",
    "    #length_check = re.compile(r'^.{8,}$')\n",
    "    \n",
    "    #could not go with bool but with the None \n",
    "    if (bool(re.search(lowercase_check,x)) & bool(re.search(uppercase_check,x)) & bool(re.search(digit_check,x)) & bool(re.search(symbol_check,x))) == True:\n",
    "        print(\"The password is valid\")\n",
    "    else:\n",
    "        print(\"The password is NOT valid\")\n",
    "\n",
    "#password = '##$@!F34'\n",
    "#password_validation(password)"
   ]
  },
  {
   "cell_type": "code",
   "execution_count": null,
   "metadata": {},
   "outputs": [],
   "source": [
    "#with looking \n",
    "\n",
    "\"\"\"\n",
    "b=\"fasSF$\"\n",
    "c=\"aB2?\"\n",
    "def passfun(x):\n",
    "    a=re.search(r\"(?=.*\\d)(?=.*[a-z])(?=.*[A-Z])(?=.*\\W)\",x)\n",
    "    if a:\n",
    "        return f\"The password is {x}\"\n",
    "    else :\n",
    "        return f\"Wrong password\"\n",
    "print(passfun(b))\n",
    "print(passfun(c))\n",
    "\"\"\""
   ]
  },
  {
   "cell_type": "markdown",
   "metadata": {},
   "source": [
    "# 9.Unix Timestamps\n",
    "Print the difference between a given UNIX Timestamp and the current UNIX Timestamp as human-readable time. (Given timestamp: 1493560132)"
   ]
  },
  {
   "cell_type": "code",
   "execution_count": 91,
   "metadata": {},
   "outputs": [],
   "source": [
    "current_UNIX_timestamp = int(time.time())\n",
    "given_UNIX_timestamp = 1493560132\n",
    "difference = current_UNIX_timestamp - given_UNIX_timestamp\n",
    "new_difference = time.localtime(difference)\n",
    "#print('The difference between the current and the given UNIX timestamp is: {} years'.format(new_difference.tm_year))"
   ]
  },
  {
   "cell_type": "code",
   "execution_count": 97,
   "metadata": {},
   "outputs": [
    {
     "name": "stdout",
     "output_type": "stream",
     "text": [
      "5 years,         6 months,         1 days,         0 hours,         47 minutes,         26 seconds\n"
     ]
    }
   ],
   "source": [
    "print(f'{new_difference.tm_year - time.gmtime(0).tm_year} years, \\\n",
    "        {new_difference.tm_mon - time.gmtime(0).tm_mon} months, \\\n",
    "        {new_difference.tm_mday - time.gmtime(0).tm_mday} days, \\\n",
    "        {new_difference.tm_hour - time.gmtime(0).tm_hour} hours, \\\n",
    "        {new_difference.tm_min - time.gmtime(0).tm_min} minutes, \\\n",
    "        {new_difference.tm_sec - time.gmtime(0).tm_sec} seconds')"
   ]
  },
  {
   "cell_type": "code",
   "execution_count": 98,
   "metadata": {},
   "outputs": [
    {
     "name": "stdout",
     "output_type": "stream",
     "text": [
      "The difference is 5 years, 6 months, 1 days, 2 hours, 6 minutes, 0 seconds\n"
     ]
    }
   ],
   "source": [
    "#OR going with listing the items \n",
    "\n",
    "b=1493560132\n",
    "x=time.localtime(time.time())\n",
    "y=time.localtime(b)\n",
    "k=[]\n",
    "for i in range(len(x)):\n",
    "    k.append(abs(x[i]-y[i]))\n",
    "print(f\"The difference is {k[0]} years, {k[1]} months, {k[2]} days, {k[3]} hours, {k[4]} minutes, {k[5]} seconds\")"
   ]
  }
 ],
 "metadata": {
  "kernelspec": {
   "display_name": "Python 3 (ipykernel)",
   "language": "python",
   "name": "python3"
  },
  "language_info": {
   "codemirror_mode": {
    "name": "ipython",
    "version": 3
   },
   "file_extension": ".py",
   "mimetype": "text/x-python",
   "name": "python",
   "nbconvert_exporter": "python",
   "pygments_lexer": "ipython3",
   "version": "3.7.6"
  }
 },
 "nbformat": 4,
 "nbformat_minor": 4
}
