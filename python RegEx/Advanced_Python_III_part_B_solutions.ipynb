{
 "cells": [
  {
   "cell_type": "code",
   "execution_count": 13,
   "id": "07287d8b",
   "metadata": {
    "ExecuteTime": {
     "end_time": "2022-07-06T14:23:34.852337Z",
     "start_time": "2022-07-06T14:23:34.850135Z"
    },
    "id": "07287d8b"
   },
   "outputs": [],
   "source": [
    "import re"
   ]
  },
  {
   "cell_type": "markdown",
   "id": "a664b61e",
   "metadata": {
    "id": "a664b61e"
   },
   "source": [
    "## 1. Take the following string variables, that were produced with OCR technology from invoices, and create a function to parse each string to create a dictionary with key, value pairs. The dictionary should have dynamic length based on the number of keys found in each Invoice:"
   ]
  },
  {
   "cell_type": "code",
   "execution_count": 14,
   "id": "64024589",
   "metadata": {
    "id": "64024589"
   },
   "outputs": [],
   "source": [
    "Invoice_1 = '''\n",
    "Invoice_id: F_0101001200\n",
    "Invoice_Type: Final\n",
    "Provider: Data.inc\n",
    "Deptor: DeepLearner\n",
    "Invoice_Date: 10/10/2021\n",
    "Total_Amount: €140.00\n",
    "'''"
   ]
  },
  {
   "cell_type": "code",
   "execution_count": 15,
   "id": "a38066fa",
   "metadata": {
    "id": "a38066fa"
   },
   "outputs": [],
   "source": [
    "Invoice_2 = '''\n",
    "Invoice_id: P_101001244\n",
    "Invoice_Type: Proforma\n",
    "Provider: Analytics.llc\n",
    "Invoice_Date: 10/10/2021\n",
    "Total_Amount: €140.00\n",
    "'''"
   ]
  },
  {
   "cell_type": "code",
   "execution_count": 16,
   "id": "b2a15adf",
   "metadata": {
    "id": "b2a15adf"
   },
   "outputs": [],
   "source": [
    "import re"
   ]
  },
  {
   "cell_type": "code",
   "execution_count": 17,
   "id": "25074391",
   "metadata": {
    "id": "25074391"
   },
   "outputs": [],
   "source": [
    "# Find all keys with Positive Lookahead\n",
    "dkeys = re.findall(r'\\b\\S+(?=: )',Invoice_1)"
   ]
  },
  {
   "cell_type": "code",
   "execution_count": 20,
   "id": "21faf3eb",
   "metadata": {
    "id": "21faf3eb",
    "outputId": "8c83cf4a-38b9-4c29-cea6-d3468ae0cd04"
   },
   "outputs": [
    {
     "data": {
      "text/plain": [
       "{'Invoice_id': 'F_0101001200',\n",
       " 'Invoice_Type': 'Final',\n",
       " 'Provider': 'Data.inc',\n",
       " 'Deptor': 'DeepLearner',\n",
       " 'Invoice_Date': '10/10/2021',\n",
       " 'Total_Amount': '€140.00'}"
      ]
     },
     "execution_count": 20,
     "metadata": {},
     "output_type": "execute_result"
    }
   ],
   "source": [
    "# Find all values with Positive Lookbehind\n",
    "d = {}\n",
    "for k in dkeys:\n",
    "    d[k] = re.findall(r'(?<='+k+': ).*', Invoice_1)[0]\n",
    "    \n",
    "d"
   ]
  },
  {
   "cell_type": "code",
   "execution_count": 21,
   "id": "c2605b7d",
   "metadata": {
    "id": "c2605b7d"
   },
   "outputs": [],
   "source": [
    "# Create a function\n",
    "def parse_invoice(invoice):\n",
    "    d = {}\n",
    "    dkeys = re.findall(r'\\b\\S+(?=: )',invoice)\n",
    "    for k in dkeys:\n",
    "        d[k] = re.findall(r'(?<='+k+': ).*', invoice)[0]\n",
    "    return d"
   ]
  },
  {
   "cell_type": "code",
   "execution_count": 22,
   "id": "6ef32aab",
   "metadata": {
    "id": "6ef32aab",
    "outputId": "81b560a0-ff7d-43d0-fc86-2a993d9b75ea"
   },
   "outputs": [
    {
     "data": {
      "text/plain": [
       "{'Invoice_id': 'P_101001244',\n",
       " 'Invoice_Type': 'Proforma',\n",
       " 'Provider': 'Analytics.llc',\n",
       " 'Invoice_Date': '10/10/2021',\n",
       " 'Total_Amount': '€140.00'}"
      ]
     },
     "execution_count": 22,
     "metadata": {},
     "output_type": "execute_result"
    }
   ],
   "source": [
    "parse_invoice(Invoice_2)"
   ]
  },
  {
   "cell_type": "markdown",
   "id": "90214cf6",
   "metadata": {
    "id": "90214cf6"
   },
   "source": [
    "## 2. Load the restaurants file and find the following:\n",
    "\n"
   ]
  },
  {
   "cell_type": "code",
   "execution_count": 26,
   "id": "2f7f0fe8",
   "metadata": {
    "ExecuteTime": {
     "end_time": "2022-07-06T14:56:37.859994Z",
     "start_time": "2022-07-06T14:56:37.841145Z"
    },
    "colab": {
     "base_uri": "https://localhost:8080/",
     "height": 235
    },
    "id": "2f7f0fe8",
    "outputId": "bf050263-99be-42fd-9f04-1a12ef33f58b"
   },
   "outputs": [],
   "source": [
    "restaurants_raw = []\n",
    "with open(r'restaurants.txt', 'r', encoding=\"utf8\") as filehandle:\n",
    "    filecontents = filehandle.readlines()\n",
    "    for line in filecontents:\n",
    "        restaurants_raw.append(line.replace('\\n', '').split(';'))"
   ]
  },
  {
   "cell_type": "code",
   "execution_count": 27,
   "id": "aec00db0",
   "metadata": {
    "ExecuteTime": {
     "end_time": "2022-07-06T14:56:38.033454Z",
     "start_time": "2022-07-06T14:56:38.013375Z"
    },
    "id": "aec00db0",
    "outputId": "404c931e-9b00-4812-dca5-21ab00018e24"
   },
   "outputs": [
    {
     "data": {
      "text/plain": [
       "[['Wing City',\n",
       "  'Seafood, Chicken Wings, Restaurants, Food, American (New)',\n",
       "  '3.5'],\n",
       " ['Capone Foods', 'Food, Restaurants, Italian, Specialty Food', '4.5'],\n",
       " ['Engine House Pizza', 'Italian, Pizza, Restaurants', '3.0'],\n",
       " ['reLiSH Gourmet Burgers - Commercial Drive',\n",
       "  'American (Traditional), Restaurants, Burgers',\n",
       "  '3.5'],\n",
       " ['Avon House of Pizza', 'Pizza, Restaurants, Italian', '4.0']]"
      ]
     },
     "execution_count": 27,
     "metadata": {},
     "output_type": "execute_result"
    }
   ],
   "source": [
    "restaurants_raw[:5]"
   ]
  },
  {
   "cell_type": "code",
   "execution_count": 28,
   "id": "aeee67d6",
   "metadata": {
    "ExecuteTime": {
     "end_time": "2022-07-06T14:56:38.219457Z",
     "start_time": "2022-07-06T14:56:38.204269Z"
    },
    "id": "aeee67d6"
   },
   "outputs": [],
   "source": [
    "restaurants = []\n",
    "\n",
    "for restaurant in restaurants_raw:\n",
    "    restaurants.append([restaurant[0],restaurant[1],float(restaurant[2])])"
   ]
  },
  {
   "cell_type": "code",
   "execution_count": 29,
   "id": "a78eba70",
   "metadata": {
    "ExecuteTime": {
     "end_time": "2022-07-06T14:56:38.479953Z",
     "start_time": "2022-07-06T14:56:38.464521Z"
    },
    "id": "a78eba70",
    "outputId": "fd7b570c-c3c2-4b73-9bf7-67e70310c073"
   },
   "outputs": [
    {
     "data": {
      "text/plain": [
       "[['Wing City',\n",
       "  'Seafood, Chicken Wings, Restaurants, Food, American (New)',\n",
       "  3.5],\n",
       " ['Capone Foods', 'Food, Restaurants, Italian, Specialty Food', 4.5],\n",
       " ['Engine House Pizza', 'Italian, Pizza, Restaurants', 3.0],\n",
       " ['reLiSH Gourmet Burgers - Commercial Drive',\n",
       "  'American (Traditional), Restaurants, Burgers',\n",
       "  3.5],\n",
       " ['Avon House of Pizza', 'Pizza, Restaurants, Italian', 4.0]]"
      ]
     },
     "execution_count": 29,
     "metadata": {},
     "output_type": "execute_result"
    }
   ],
   "source": [
    "restaurants[:5]"
   ]
  },
  {
   "cell_type": "markdown",
   "id": "4254d585",
   "metadata": {
    "id": "4254d585"
   },
   "source": [
    "### How many restaurants have Italian cuisine?"
   ]
  },
  {
   "cell_type": "code",
   "execution_count": 30,
   "id": "9c9689a3",
   "metadata": {
    "ExecuteTime": {
     "end_time": "2022-07-06T14:56:39.061644Z",
     "start_time": "2022-07-06T14:56:39.038287Z"
    },
    "id": "9c9689a3"
   },
   "outputs": [],
   "source": [
    "italian = []\n",
    "for restaurant in restaurants:\n",
    "    if re.search(r\"^(?=.*?Italian)\", restaurant[1]):\n",
    "        italian.append([restaurant[0],restaurant[1], restaurant[2]])"
   ]
  },
  {
   "cell_type": "code",
   "execution_count": 31,
   "id": "3cb277cb",
   "metadata": {
    "ExecuteTime": {
     "end_time": "2022-07-06T14:56:39.378827Z",
     "start_time": "2022-07-06T14:56:39.358755Z"
    },
    "id": "3cb277cb",
    "outputId": "3ad93689-edab-4995-adc2-23d9a5ae647e"
   },
   "outputs": [
    {
     "data": {
      "text/plain": [
       "680"
      ]
     },
     "execution_count": 31,
     "metadata": {},
     "output_type": "execute_result"
    }
   ],
   "source": [
    "len(italian)"
   ]
  },
  {
   "cell_type": "markdown",
   "id": "4876aa7c",
   "metadata": {
    "id": "4876aa7c"
   },
   "source": [
    "### How many restaurants have Italian cuisine but do not include American cuisine? Which are in the top 20 list?\n"
   ]
  },
  {
   "cell_type": "code",
   "execution_count": 32,
   "id": "51b07294",
   "metadata": {
    "ExecuteTime": {
     "end_time": "2022-07-06T14:56:40.480693Z",
     "start_time": "2022-07-06T14:56:40.465449Z"
    },
    "id": "51b07294"
   },
   "outputs": [],
   "source": [
    "italian_no_american = []\n",
    "for restaurant in restaurants:\n",
    "    if re.search(r\"^(?=.*?Italian)(?!American)\", restaurant[1]):\n",
    "        italian_no_american.append([restaurant[0], restaurant[2]])"
   ]
  },
  {
   "cell_type": "code",
   "execution_count": 33,
   "id": "deb8fdc5",
   "metadata": {
    "ExecuteTime": {
     "end_time": "2022-07-06T14:56:40.885456Z",
     "start_time": "2022-07-06T14:56:40.877945Z"
    },
    "id": "deb8fdc5",
    "outputId": "6c00ecd3-6317-4b76-8953-3a5b50d7ea97"
   },
   "outputs": [
    {
     "data": {
      "text/plain": [
       "667"
      ]
     },
     "execution_count": 33,
     "metadata": {},
     "output_type": "execute_result"
    }
   ],
   "source": [
    "len(italian_no_american)"
   ]
  },
  {
   "cell_type": "code",
   "execution_count": 34,
   "id": "b4d652c9",
   "metadata": {
    "ExecuteTime": {
     "end_time": "2022-07-06T15:01:52.109128Z",
     "start_time": "2022-07-06T15:01:52.099398Z"
    },
    "id": "b4d652c9",
    "outputId": "6156b02d-e29f-4fb6-d4ea-f60b36b87941"
   },
   "outputs": [
    {
     "data": {
      "text/plain": [
       "[['Passione Gelato', 5.0],\n",
       " ['Coppa Gelato', 5.0],\n",
       " ['Boxed Bistro and Catering', 5.0],\n",
       " [\"Fazoli's\", 5.0],\n",
       " ['Giants NY Pizza & Subs', 5.0],\n",
       " ['La Dolda', 5.0],\n",
       " [\"The Landing Pizza & Kitchen- L'Approdo\", 5.0],\n",
       " [\"Richie's Classic Italian Slush\", 5.0],\n",
       " ['Bari Food Cart', 5.0],\n",
       " [\"Jeremiah's Italian Ice\", 5.0],\n",
       " ['Via Elisa', 5.0],\n",
       " ['Michael G’s Restaurant', 5.0],\n",
       " [\"Lucky's Italian Sandwiches\", 5.0],\n",
       " ['Deanos Pasta', 5.0],\n",
       " ['L’unico Alimentari', 5.0],\n",
       " ['Valsos Table & Bar', 5.0],\n",
       " ['Buon Fornello', 5.0],\n",
       " ['Capone Foods', 4.5],\n",
       " ['La Bottega', 4.5],\n",
       " ['Ghost Runners Brewery and Kitchen', 4.5]]"
      ]
     },
     "execution_count": 34,
     "metadata": {},
     "output_type": "execute_result"
    }
   ],
   "source": [
    "sorted(italian_no_american, key = lambda x: x[1], reverse=True)[:20]"
   ]
  },
  {
   "cell_type": "markdown",
   "id": "c1fbb9bf",
   "metadata": {
    "id": "c1fbb9bf"
   },
   "source": [
    "### Are there any restaurants which offer ice cream in addition to Anerican cuisine? Which of these restaurants has a rating above 4?"
   ]
  },
  {
   "cell_type": "code",
   "execution_count": 35,
   "id": "8b6120a0",
   "metadata": {
    "ExecuteTime": {
     "end_time": "2022-07-06T15:02:35.574008Z",
     "start_time": "2022-07-06T15:02:35.550048Z"
    },
    "id": "8b6120a0"
   },
   "outputs": [],
   "source": [
    "american_ice = []\n",
    "for restaurant in restaurants:\n",
    "    if re.search(r\"^(?=.*?American)(?=.*?Ice Cream)\", restaurant[1]):\n",
    "        american_ice.append([restaurant[0], restaurant[2]])"
   ]
  },
  {
   "cell_type": "code",
   "execution_count": 36,
   "id": "5ca31b32",
   "metadata": {
    "ExecuteTime": {
     "end_time": "2022-07-06T15:02:36.025705Z",
     "start_time": "2022-07-06T15:02:36.006546Z"
    },
    "id": "5ca31b32",
    "outputId": "08c60bce-9302-4555-f6bf-7bd84566d01c"
   },
   "outputs": [
    {
     "data": {
      "text/plain": [
       "27"
      ]
     },
     "execution_count": 36,
     "metadata": {},
     "output_type": "execute_result"
    }
   ],
   "source": [
    "len(american_ice)"
   ]
  },
  {
   "cell_type": "code",
   "execution_count": 37,
   "id": "e1999f0d",
   "metadata": {
    "ExecuteTime": {
     "end_time": "2022-07-06T15:02:36.629018Z",
     "start_time": "2022-07-06T15:02:36.611047Z"
    },
    "id": "e1999f0d",
    "outputId": "337ecd9a-91a3-4911-e2fa-5060ccc1eaaf"
   },
   "outputs": [
    {
     "data": {
      "text/plain": [
       "[['Hungry Heart PDX', 5.0],\n",
       " ['Los Chamos', 4.5],\n",
       " [\"Bellaggio's Ice Cream\", 4.5],\n",
       " ['Frio Rico', 4.5],\n",
       " ['Cow Tipping Creamery', 4.5],\n",
       " ['Dolce Vita', 4.0],\n",
       " [\"Andre's Cafe\", 4.0],\n",
       " ['Chocolate Café', 4.0],\n",
       " [\"Rock's Chicken & Fries\", 4.0],\n",
       " ['BurgerFi', 4.0],\n",
       " [\"Culver's\", 4.0],\n",
       " [\"Whit's Frozen Custard\", 4.0],\n",
       " ['Twistee Treat - Winter Park', 3.5],\n",
       " ['Kushco Bistro', 3.5],\n",
       " ['Wawa', 3.5],\n",
       " ['Orange Leaf Frozen Yogurt', 3.5],\n",
       " ['Harbor Cafe', 3.5],\n",
       " ['Shake Shack', 3.5],\n",
       " [\"Lucky's Ice Cream Bar And Grill\", 3.5],\n",
       " ['#FROYO Premium Frozen Yogurt', 3.0]]"
      ]
     },
     "execution_count": 37,
     "metadata": {},
     "output_type": "execute_result"
    }
   ],
   "source": [
    "sorted(american_ice, key = lambda x: x[1], reverse=True)[:20]"
   ]
  },
  {
   "cell_type": "code",
   "execution_count": null,
   "id": "82bd26ef",
   "metadata": {
    "id": "82bd26ef"
   },
   "outputs": [],
   "source": []
  }
 ],
 "metadata": {
  "colab": {
   "provenance": []
  },
  "kernelspec": {
   "display_name": "Python 3 (ipykernel)",
   "language": "python",
   "name": "python3"
  },
  "language_info": {
   "codemirror_mode": {
    "name": "ipython",
    "version": 3
   },
   "file_extension": ".py",
   "mimetype": "text/x-python",
   "name": "python",
   "nbconvert_exporter": "python",
   "pygments_lexer": "ipython3",
   "version": "3.9.7"
  }
 },
 "nbformat": 4,
 "nbformat_minor": 5
}
