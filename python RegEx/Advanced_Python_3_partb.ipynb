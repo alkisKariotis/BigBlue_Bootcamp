{
 "cells": [
  {
   "cell_type": "markdown",
   "metadata": {},
   "source": [
    "# 1.\tTake the following string variables, that were produced with OCR technology from invoices, and create a function to parse each string to create a dictionary with key, value pairs. The dictionary should have dynamic length based on the number of keys found in each Invoice:\n",
    "\n",
    "Invoice_1 = '''\n",
    "Invoice_id: F_0101001200\n",
    "Invoice_Type: Final\n",
    "Provider: Data.inc\n",
    "Deptor: DeepLearner\n",
    "Invoice_Date: 10/10/2021\n",
    "Total_Amount: €140.00\n",
    "'''\n",
    "\n",
    "Invoice_2 = '''\n",
    "Invoice_id: P_101001244\n",
    "Invoice_Type: Proforma\n",
    "Provider: Analytics.llc\n",
    "Invoice_Date: 10/10/2021\n",
    "Total_Amount: €140.00\n",
    "'''\n"
   ]
  },
  {
   "cell_type": "code",
   "execution_count": 8,
   "metadata": {},
   "outputs": [
    {
     "data": {
      "text/plain": [
       "['Invoice_id:',\n",
       " 'F_0101001200',\n",
       " 'Invoice_Type:',\n",
       " 'Final',\n",
       " 'Provider:',\n",
       " 'Data.inc',\n",
       " 'Deptor:',\n",
       " 'DeepLearner',\n",
       " 'Invoice_Date:',\n",
       " '10/10/2021',\n",
       " 'Total_Amount:',\n",
       " '€140.00']"
      ]
     },
     "execution_count": 8,
     "metadata": {},
     "output_type": "execute_result"
    }
   ],
   "source": [
    "def dict_creation (x):\n",
    "    return dict(x)\n",
    "\n",
    "Invoice_1 = ''' Invoice_id: F_0101001200 Invoice_Type: Final Provider: Data.inc Deptor: DeepLearner Invoice_Date: 10/10/2021 Total_Amount: €140.00 '''\n",
    "\n",
    "Invoice_2 = ''' Invoice_id: P_101001244 Invoice_Type: Proforma Provider: Analytics.llc Invoice_Date: 10/10/2021 Total_Amount: €140.00 '''\n",
    "\n",
    "x = list(Invoice_1.strip().split(\" \"))\n",
    "x"
   ]
  },
  {
   "cell_type": "code",
   "execution_count": null,
   "metadata": {},
   "outputs": [],
   "source": []
  },
  {
   "cell_type": "code",
   "execution_count": null,
   "metadata": {},
   "outputs": [],
   "source": []
  },
  {
   "cell_type": "code",
   "execution_count": null,
   "metadata": {},
   "outputs": [],
   "source": []
  }
 ],
 "metadata": {
  "kernelspec": {
   "display_name": "Python 3 (ipykernel)",
   "language": "python",
   "name": "python3"
  },
  "language_info": {
   "codemirror_mode": {
    "name": "ipython",
    "version": 3
   },
   "file_extension": ".py",
   "mimetype": "text/x-python",
   "name": "python",
   "nbconvert_exporter": "python",
   "pygments_lexer": "ipython3",
   "version": "3.7.6"
  }
 },
 "nbformat": 4,
 "nbformat_minor": 4
}
