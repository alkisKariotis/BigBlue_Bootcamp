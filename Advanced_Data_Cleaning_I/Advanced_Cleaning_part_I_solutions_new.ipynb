{
 "cells": [
  {
   "cell_type": "markdown",
   "metadata": {
    "id": "PcNoNJSFuphK"
   },
   "source": [
    "# Advanced Data Cleaning part I\n"
   ]
  },
  {
   "cell_type": "markdown",
   "metadata": {
    "id": "PqeOw_7rk29g"
   },
   "source": [
    "## Import the appropriate libraries"
   ]
  },
  {
   "cell_type": "code",
   "execution_count": 4,
   "metadata": {
    "ExecuteTime": {
     "end_time": "2021-05-16T11:48:20.004472Z",
     "start_time": "2021-05-16T11:48:19.389857Z"
    },
    "id": "K4242-cjS7Ux"
   },
   "outputs": [],
   "source": [
    "import pandas as pd\n",
    "import numpy as np\n",
    "from datetime import datetime\n",
    "import matplotlib.pyplot as plt"
   ]
  },
  {
   "cell_type": "markdown",
   "metadata": {
    "id": "Z3OvVyJMUFQ8"
   },
   "source": [
    "## Read the dataset and explore the datatypes\n",
    "\n",
    "Notice that many columns aren't in the form that we want, also some columns aren't the correct datatype also"
   ]
  },
  {
   "cell_type": "code",
   "execution_count": 24,
   "metadata": {
    "ExecuteTime": {
     "end_time": "2021-05-16T11:48:20.368942Z",
     "start_time": "2021-05-16T11:48:20.006150Z"
    },
    "colab": {
     "base_uri": "https://localhost:8080/",
     "height": 419
    },
    "id": "fgPpGO9sTSkP",
    "outputId": "97276ce5-bea6-4e08-a788-e7f2569909ba"
   },
   "outputs": [
    {
     "data": {
      "text/html": [
       "<div>\n",
       "<style scoped>\n",
       "    .dataframe tbody tr th:only-of-type {\n",
       "        vertical-align: middle;\n",
       "    }\n",
       "\n",
       "    .dataframe tbody tr th {\n",
       "        vertical-align: top;\n",
       "    }\n",
       "\n",
       "    .dataframe thead th {\n",
       "        text-align: right;\n",
       "    }\n",
       "</style>\n",
       "<table border=\"1\" class=\"dataframe\">\n",
       "  <thead>\n",
       "    <tr style=\"text-align: right;\">\n",
       "      <th></th>\n",
       "      <th>id</th>\n",
       "      <th>name</th>\n",
       "      <th>platforms</th>\n",
       "      <th>first_release_date</th>\n",
       "      <th>category</th>\n",
       "      <th>genres</th>\n",
       "      <th>themes</th>\n",
       "      <th>player_perspectives</th>\n",
       "      <th>rating</th>\n",
       "      <th>rating_count</th>\n",
       "      <th>similar_games</th>\n",
       "      <th>total_rating</th>\n",
       "      <th>total_rating_count</th>\n",
       "      <th>url</th>\n",
       "      <th>aggregated_rating</th>\n",
       "      <th>aggregated_rating_count</th>\n",
       "    </tr>\n",
       "  </thead>\n",
       "  <tbody>\n",
       "    <tr>\n",
       "      <th>0</th>\n",
       "      <td>70.0</td>\n",
       "      <td>\"TerraNova:StrikeForceCentauri\"</td>\n",
       "      <td>13</td>\n",
       "      <td>825984000.0</td>\n",
       "      <td>0.0</td>\n",
       "      <td>5,13,15</td>\n",
       "      <td>1,18</td>\n",
       "      <td>1</td>\n",
       "      <td>70.0</td>\n",
       "      <td>2.0</td>\n",
       "      <td>13200,16806,17130,24620,25311,34823,55038,6828...</td>\n",
       "      <td>81.0</td>\n",
       "      <td>3.0</td>\n",
       "      <td>\"https://www.igdb.com/games/terra-nova-strike-...</td>\n",
       "      <td>92.0</td>\n",
       "      <td>1.0</td>\n",
       "    </tr>\n",
       "    <tr>\n",
       "      <th>1</th>\n",
       "      <td>40104.0</td>\n",
       "      <td>\"DogouSouken\"</td>\n",
       "      <td>52</td>\n",
       "      <td>536457600.0</td>\n",
       "      <td>0.0</td>\n",
       "      <td>5</td>\n",
       "      <td>NaN</td>\n",
       "      <td>NaN</td>\n",
       "      <td>NaN</td>\n",
       "      <td>NaN</td>\n",
       "      <td>12364,27270,43367,103281,103292,103298,103301,...</td>\n",
       "      <td>NaN</td>\n",
       "      <td>NaN</td>\n",
       "      <td>\"https://www.igdb.com/games/dogou-souken\"</td>\n",
       "      <td>NaN</td>\n",
       "      <td>NaN</td>\n",
       "    </tr>\n",
       "  </tbody>\n",
       "</table>\n",
       "</div>"
      ],
      "text/plain": [
       "        id                             name platforms  first_release_date  \\\n",
       "0     70.0  \"TerraNova:StrikeForceCentauri\"        13         825984000.0   \n",
       "1  40104.0                    \"DogouSouken\"        52         536457600.0   \n",
       "\n",
       "   category   genres themes player_perspectives rating  rating_count  \\\n",
       "0       0.0  5,13,15   1,18                   1   70.0           2.0   \n",
       "1       0.0        5    NaN                 NaN    NaN           NaN   \n",
       "\n",
       "                                       similar_games  total_rating  \\\n",
       "0  13200,16806,17130,24620,25311,34823,55038,6828...          81.0   \n",
       "1  12364,27270,43367,103281,103292,103298,103301,...           NaN   \n",
       "\n",
       "   total_rating_count                                                url  \\\n",
       "0                 3.0  \"https://www.igdb.com/games/terra-nova-strike-...   \n",
       "1                 NaN          \"https://www.igdb.com/games/dogou-souken\"   \n",
       "\n",
       "   aggregated_rating  aggregated_rating_count  \n",
       "0               92.0                      1.0  \n",
       "1                NaN                      NaN  "
      ]
     },
     "execution_count": 24,
     "metadata": {},
     "output_type": "execute_result"
    }
   ],
   "source": [
    "df = pd.read_csv('igbd_dataset.csv', low_memory = False)\n",
    "df.head(2)"
   ]
  },
  {
   "cell_type": "code",
   "execution_count": 25,
   "metadata": {},
   "outputs": [
    {
     "data": {
      "text/plain": [
       "(135063, 16)"
      ]
     },
     "execution_count": 25,
     "metadata": {},
     "output_type": "execute_result"
    }
   ],
   "source": [
    "df.shape"
   ]
  },
  {
   "cell_type": "code",
   "execution_count": 26,
   "metadata": {},
   "outputs": [
    {
     "name": "stdout",
     "output_type": "stream",
     "text": [
      "<class 'pandas.core.frame.DataFrame'>\n",
      "RangeIndex: 135063 entries, 0 to 135062\n",
      "Data columns (total 16 columns):\n",
      " #   Column                   Non-Null Count   Dtype  \n",
      "---  ------                   --------------   -----  \n",
      " 0   id                       135062 non-null  float64\n",
      " 1   name                     135061 non-null  object \n",
      " 2   platforms                75337 non-null   object \n",
      " 3   first_release_date       73294 non-null   float64\n",
      " 4   category                 135062 non-null  float64\n",
      " 5   genres                   92472 non-null   object \n",
      " 6   themes                   59622 non-null   object \n",
      " 7   player_perspectives      36100 non-null   object \n",
      " 8   rating                   31303 non-null   object \n",
      " 9   rating_count             31300 non-null   float64\n",
      " 10  similar_games            99347 non-null   object \n",
      " 11  total_rating             31300 non-null   float64\n",
      " 12  total_rating_count       31300 non-null   float64\n",
      " 13  url                      135061 non-null  object \n",
      " 14  aggregated_rating        13124 non-null   float64\n",
      " 15  aggregated_rating_count  13124 non-null   float64\n",
      "dtypes: float64(8), object(8)\n",
      "memory usage: 16.5+ MB\n"
     ]
    }
   ],
   "source": [
    "df.info()"
   ]
  },
  {
   "cell_type": "code",
   "execution_count": 27,
   "metadata": {
    "ExecuteTime": {
     "end_time": "2021-05-16T11:48:20.419020Z",
     "start_time": "2021-05-16T11:48:20.370669Z"
    },
    "colab": {
     "base_uri": "https://localhost:8080/"
    },
    "id": "8g3XVS_IDF0-",
    "outputId": "94fc8f54-2704-4576-965e-227b16cb5702"
   },
   "outputs": [
    {
     "data": {
      "text/html": [
       "<div>\n",
       "<style scoped>\n",
       "    .dataframe tbody tr th:only-of-type {\n",
       "        vertical-align: middle;\n",
       "    }\n",
       "\n",
       "    .dataframe tbody tr th {\n",
       "        vertical-align: top;\n",
       "    }\n",
       "\n",
       "    .dataframe thead th {\n",
       "        text-align: right;\n",
       "    }\n",
       "</style>\n",
       "<table border=\"1\" class=\"dataframe\">\n",
       "  <thead>\n",
       "    <tr style=\"text-align: right;\">\n",
       "      <th></th>\n",
       "      <th>id</th>\n",
       "      <th>first_release_date</th>\n",
       "      <th>category</th>\n",
       "      <th>rating_count</th>\n",
       "      <th>total_rating</th>\n",
       "      <th>total_rating_count</th>\n",
       "      <th>aggregated_rating</th>\n",
       "      <th>aggregated_rating_count</th>\n",
       "    </tr>\n",
       "  </thead>\n",
       "  <tbody>\n",
       "    <tr>\n",
       "      <th>count</th>\n",
       "      <td>135062.000000</td>\n",
       "      <td>7.329400e+04</td>\n",
       "      <td>135062.000000</td>\n",
       "      <td>31300.000000</td>\n",
       "      <td>31300.000000</td>\n",
       "      <td>31300.00000</td>\n",
       "      <td>13124.000000</td>\n",
       "      <td>13124.000000</td>\n",
       "    </tr>\n",
       "    <tr>\n",
       "      <th>mean</th>\n",
       "      <td>70664.254972</td>\n",
       "      <td>1.228842e+09</td>\n",
       "      <td>0.081777</td>\n",
       "      <td>13.901086</td>\n",
       "      <td>66.132921</td>\n",
       "      <td>15.26885</td>\n",
       "      <td>68.438922</td>\n",
       "      <td>3.680204</td>\n",
       "    </tr>\n",
       "    <tr>\n",
       "      <th>std</th>\n",
       "      <td>40694.453733</td>\n",
       "      <td>3.468703e+08</td>\n",
       "      <td>0.534446</td>\n",
       "      <td>75.022597</td>\n",
       "      <td>14.886746</td>\n",
       "      <td>76.43429</td>\n",
       "      <td>16.351182</td>\n",
       "      <td>4.136703</td>\n",
       "    </tr>\n",
       "    <tr>\n",
       "      <th>min</th>\n",
       "      <td>1.000000</td>\n",
       "      <td>-6.943968e+08</td>\n",
       "      <td>0.000000</td>\n",
       "      <td>0.000000</td>\n",
       "      <td>0.000000</td>\n",
       "      <td>0.00000</td>\n",
       "      <td>0.000000</td>\n",
       "      <td>0.000000</td>\n",
       "    </tr>\n",
       "    <tr>\n",
       "      <th>25%</th>\n",
       "      <td>35540.250000</td>\n",
       "      <td>9.851328e+08</td>\n",
       "      <td>0.000000</td>\n",
       "      <td>0.000000</td>\n",
       "      <td>57.500000</td>\n",
       "      <td>0.00000</td>\n",
       "      <td>60.000000</td>\n",
       "      <td>1.000000</td>\n",
       "    </tr>\n",
       "    <tr>\n",
       "      <th>50%</th>\n",
       "      <td>70690.500000</td>\n",
       "      <td>1.382659e+09</td>\n",
       "      <td>0.000000</td>\n",
       "      <td>1.000000</td>\n",
       "      <td>70.000000</td>\n",
       "      <td>1.00000</td>\n",
       "      <td>70.000000</td>\n",
       "      <td>2.000000</td>\n",
       "    </tr>\n",
       "    <tr>\n",
       "      <th>75%</th>\n",
       "      <td>105830.750000</td>\n",
       "      <td>1.499386e+09</td>\n",
       "      <td>0.000000</td>\n",
       "      <td>5.000000</td>\n",
       "      <td>77.500000</td>\n",
       "      <td>6.00000</td>\n",
       "      <td>80.000000</td>\n",
       "      <td>4.000000</td>\n",
       "    </tr>\n",
       "    <tr>\n",
       "      <th>max</th>\n",
       "      <td>141114.000000</td>\n",
       "      <td>1.735603e+09</td>\n",
       "      <td>7.000000</td>\n",
       "      <td>2783.000000</td>\n",
       "      <td>100.000000</td>\n",
       "      <td>2817.00000</td>\n",
       "      <td>100.000000</td>\n",
       "      <td>60.000000</td>\n",
       "    </tr>\n",
       "  </tbody>\n",
       "</table>\n",
       "</div>"
      ],
      "text/plain": [
       "                  id  first_release_date       category  rating_count  \\\n",
       "count  135062.000000        7.329400e+04  135062.000000  31300.000000   \n",
       "mean    70664.254972        1.228842e+09       0.081777     13.901086   \n",
       "std     40694.453733        3.468703e+08       0.534446     75.022597   \n",
       "min         1.000000       -6.943968e+08       0.000000      0.000000   \n",
       "25%     35540.250000        9.851328e+08       0.000000      0.000000   \n",
       "50%     70690.500000        1.382659e+09       0.000000      1.000000   \n",
       "75%    105830.750000        1.499386e+09       0.000000      5.000000   \n",
       "max    141114.000000        1.735603e+09       7.000000   2783.000000   \n",
       "\n",
       "       total_rating  total_rating_count  aggregated_rating  \\\n",
       "count  31300.000000         31300.00000       13124.000000   \n",
       "mean      66.132921            15.26885          68.438922   \n",
       "std       14.886746            76.43429          16.351182   \n",
       "min        0.000000             0.00000           0.000000   \n",
       "25%       57.500000             0.00000          60.000000   \n",
       "50%       70.000000             1.00000          70.000000   \n",
       "75%       77.500000             6.00000          80.000000   \n",
       "max      100.000000          2817.00000         100.000000   \n",
       "\n",
       "       aggregated_rating_count  \n",
       "count             13124.000000  \n",
       "mean                  3.680204  \n",
       "std                   4.136703  \n",
       "min                   0.000000  \n",
       "25%                   1.000000  \n",
       "50%                   2.000000  \n",
       "75%                   4.000000  \n",
       "max                  60.000000  "
      ]
     },
     "execution_count": 27,
     "metadata": {},
     "output_type": "execute_result"
    }
   ],
   "source": [
    "df.describe()"
   ]
  },
  {
   "cell_type": "markdown",
   "metadata": {
    "id": "WF-kFGE0bujf"
   },
   "source": [
    "# Preprocess the dataset"
   ]
  },
  {
   "cell_type": "markdown",
   "metadata": {
    "id": "IZrzviTVcskK"
   },
   "source": [
    "## Preprocess Name and url\n",
    "Notice that the **name** column and the **url** column contain ' \" '-double quotes- that remained from the downloading and the parsing of the dataset. Remove those double quotes"
   ]
  },
  {
   "cell_type": "code",
   "execution_count": 28,
   "metadata": {
    "ExecuteTime": {
     "end_time": "2021-05-16T11:48:21.085570Z",
     "start_time": "2021-05-16T11:48:20.420459Z"
    },
    "colab": {
     "base_uri": "https://localhost:8080/",
     "height": 774
    },
    "id": "2FIe3MsMcEeL",
    "outputId": "18179a09-7f60-4177-9000-287d3fb96f69"
   },
   "outputs": [
    {
     "data": {
      "text/html": [
       "<div>\n",
       "<style scoped>\n",
       "    .dataframe tbody tr th:only-of-type {\n",
       "        vertical-align: middle;\n",
       "    }\n",
       "\n",
       "    .dataframe tbody tr th {\n",
       "        vertical-align: top;\n",
       "    }\n",
       "\n",
       "    .dataframe thead th {\n",
       "        text-align: right;\n",
       "    }\n",
       "</style>\n",
       "<table border=\"1\" class=\"dataframe\">\n",
       "  <thead>\n",
       "    <tr style=\"text-align: right;\">\n",
       "      <th></th>\n",
       "      <th>id</th>\n",
       "      <th>name</th>\n",
       "      <th>platforms</th>\n",
       "      <th>first_release_date</th>\n",
       "      <th>category</th>\n",
       "      <th>genres</th>\n",
       "      <th>themes</th>\n",
       "      <th>player_perspectives</th>\n",
       "      <th>rating</th>\n",
       "      <th>rating_count</th>\n",
       "      <th>similar_games</th>\n",
       "      <th>total_rating</th>\n",
       "      <th>total_rating_count</th>\n",
       "      <th>url</th>\n",
       "      <th>aggregated_rating</th>\n",
       "      <th>aggregated_rating_count</th>\n",
       "    </tr>\n",
       "  </thead>\n",
       "  <tbody>\n",
       "    <tr>\n",
       "      <th>0</th>\n",
       "      <td>70.0</td>\n",
       "      <td>TerraNova:StrikeForceCentauri</td>\n",
       "      <td>13</td>\n",
       "      <td>825984000.0</td>\n",
       "      <td>0.0</td>\n",
       "      <td>5,13,15</td>\n",
       "      <td>1,18</td>\n",
       "      <td>1</td>\n",
       "      <td>70.0</td>\n",
       "      <td>2.0</td>\n",
       "      <td>13200,16806,17130,24620,25311,34823,55038,6828...</td>\n",
       "      <td>81.0</td>\n",
       "      <td>3.0</td>\n",
       "      <td>https://www.igdb.com/games/terra-nova-strike-f...</td>\n",
       "      <td>92.0</td>\n",
       "      <td>1.0</td>\n",
       "    </tr>\n",
       "    <tr>\n",
       "      <th>1</th>\n",
       "      <td>40104.0</td>\n",
       "      <td>DogouSouken</td>\n",
       "      <td>52</td>\n",
       "      <td>536457600.0</td>\n",
       "      <td>0.0</td>\n",
       "      <td>5</td>\n",
       "      <td>NaN</td>\n",
       "      <td>NaN</td>\n",
       "      <td>NaN</td>\n",
       "      <td>NaN</td>\n",
       "      <td>12364,27270,43367,103281,103292,103298,103301,...</td>\n",
       "      <td>NaN</td>\n",
       "      <td>NaN</td>\n",
       "      <td>https://www.igdb.com/games/dogou-souken</td>\n",
       "      <td>NaN</td>\n",
       "      <td>NaN</td>\n",
       "    </tr>\n",
       "  </tbody>\n",
       "</table>\n",
       "</div>"
      ],
      "text/plain": [
       "        id                           name platforms  first_release_date  \\\n",
       "0     70.0  TerraNova:StrikeForceCentauri        13         825984000.0   \n",
       "1  40104.0                    DogouSouken        52         536457600.0   \n",
       "\n",
       "   category   genres themes player_perspectives rating  rating_count  \\\n",
       "0       0.0  5,13,15   1,18                   1   70.0           2.0   \n",
       "1       0.0        5    NaN                 NaN    NaN           NaN   \n",
       "\n",
       "                                       similar_games  total_rating  \\\n",
       "0  13200,16806,17130,24620,25311,34823,55038,6828...          81.0   \n",
       "1  12364,27270,43367,103281,103292,103298,103301,...           NaN   \n",
       "\n",
       "   total_rating_count                                                url  \\\n",
       "0                 3.0  https://www.igdb.com/games/terra-nova-strike-f...   \n",
       "1                 NaN            https://www.igdb.com/games/dogou-souken   \n",
       "\n",
       "   aggregated_rating  aggregated_rating_count  \n",
       "0               92.0                      1.0  \n",
       "1                NaN                      NaN  "
      ]
     },
     "execution_count": 28,
     "metadata": {},
     "output_type": "execute_result"
    }
   ],
   "source": [
    "df['name'].replace(to_replace='^\"',value='', inplace=True, regex=True)\n",
    "df['name'].replace(to_replace='\"$',value='', inplace=True, regex=True)\n",
    "\n",
    "df['url'].replace(to_replace='^\"',value='', inplace=True, regex=True)\n",
    "df['url'].replace(to_replace='\"$',value='', inplace=True, regex=True)\n",
    "df.head(2)"
   ]
  },
  {
   "cell_type": "markdown",
   "metadata": {
    "id": "vrg2TZgLlURr"
   },
   "source": [
    "## Preprocess Date\n",
    "We only want only games that have a date, delete entries that don't have a date or negative date"
   ]
  },
  {
   "cell_type": "code",
   "execution_count": 29,
   "metadata": {
    "ExecuteTime": {
     "end_time": "2021-05-16T11:48:21.114644Z",
     "start_time": "2021-05-16T11:48:21.086573Z"
    },
    "id": "Pu04r5jFlXI5"
   },
   "outputs": [],
   "source": [
    "df.drop(df[df['first_release_date'] < 0].index, inplace=True)"
   ]
  },
  {
   "cell_type": "markdown",
   "metadata": {
    "id": "kFCFMuuqln8v"
   },
   "source": [
    "### Split the date column to month and year and insert it into new columns\n",
    "\n",
    "Tip: You can use the **datetime** function or calculate it by hand (**not recommended**)\n"
   ]
  },
  {
   "cell_type": "code",
   "execution_count": 30,
   "metadata": {
    "ExecuteTime": {
     "end_time": "2021-05-16T11:48:21.138304Z",
     "start_time": "2021-05-16T11:48:21.117135Z"
    },
    "id": "h6ySBbTRuphd",
    "outputId": "730e5951-4d53-47c2-af0b-2fc8b117b30e"
   },
   "outputs": [
    {
     "data": {
      "text/html": [
       "<div>\n",
       "<style scoped>\n",
       "    .dataframe tbody tr th:only-of-type {\n",
       "        vertical-align: middle;\n",
       "    }\n",
       "\n",
       "    .dataframe tbody tr th {\n",
       "        vertical-align: top;\n",
       "    }\n",
       "\n",
       "    .dataframe thead th {\n",
       "        text-align: right;\n",
       "    }\n",
       "</style>\n",
       "<table border=\"1\" class=\"dataframe\">\n",
       "  <thead>\n",
       "    <tr style=\"text-align: right;\">\n",
       "      <th></th>\n",
       "      <th>id</th>\n",
       "      <th>name</th>\n",
       "      <th>platforms</th>\n",
       "      <th>first_release_date</th>\n",
       "      <th>category</th>\n",
       "      <th>genres</th>\n",
       "      <th>themes</th>\n",
       "      <th>player_perspectives</th>\n",
       "      <th>rating</th>\n",
       "      <th>rating_count</th>\n",
       "      <th>similar_games</th>\n",
       "      <th>total_rating</th>\n",
       "      <th>total_rating_count</th>\n",
       "      <th>url</th>\n",
       "      <th>aggregated_rating</th>\n",
       "      <th>aggregated_rating_count</th>\n",
       "    </tr>\n",
       "  </thead>\n",
       "  <tbody>\n",
       "    <tr>\n",
       "      <th>0</th>\n",
       "      <td>70.0</td>\n",
       "      <td>TerraNova:StrikeForceCentauri</td>\n",
       "      <td>13</td>\n",
       "      <td>1996-03-05</td>\n",
       "      <td>0.0</td>\n",
       "      <td>5,13,15</td>\n",
       "      <td>1,18</td>\n",
       "      <td>1</td>\n",
       "      <td>70.0</td>\n",
       "      <td>2.0</td>\n",
       "      <td>13200,16806,17130,24620,25311,34823,55038,6828...</td>\n",
       "      <td>81.0</td>\n",
       "      <td>3.0</td>\n",
       "      <td>https://www.igdb.com/games/terra-nova-strike-f...</td>\n",
       "      <td>92.0</td>\n",
       "      <td>1.0</td>\n",
       "    </tr>\n",
       "    <tr>\n",
       "      <th>1</th>\n",
       "      <td>40104.0</td>\n",
       "      <td>DogouSouken</td>\n",
       "      <td>52</td>\n",
       "      <td>1987-01-01</td>\n",
       "      <td>0.0</td>\n",
       "      <td>5</td>\n",
       "      <td>NaN</td>\n",
       "      <td>NaN</td>\n",
       "      <td>NaN</td>\n",
       "      <td>NaN</td>\n",
       "      <td>12364,27270,43367,103281,103292,103298,103301,...</td>\n",
       "      <td>NaN</td>\n",
       "      <td>NaN</td>\n",
       "      <td>https://www.igdb.com/games/dogou-souken</td>\n",
       "      <td>NaN</td>\n",
       "      <td>NaN</td>\n",
       "    </tr>\n",
       "  </tbody>\n",
       "</table>\n",
       "</div>"
      ],
      "text/plain": [
       "        id                           name platforms first_release_date  \\\n",
       "0     70.0  TerraNova:StrikeForceCentauri        13         1996-03-05   \n",
       "1  40104.0                    DogouSouken        52         1987-01-01   \n",
       "\n",
       "   category   genres themes player_perspectives rating  rating_count  \\\n",
       "0       0.0  5,13,15   1,18                   1   70.0           2.0   \n",
       "1       0.0        5    NaN                 NaN    NaN           NaN   \n",
       "\n",
       "                                       similar_games  total_rating  \\\n",
       "0  13200,16806,17130,24620,25311,34823,55038,6828...          81.0   \n",
       "1  12364,27270,43367,103281,103292,103298,103301,...           NaN   \n",
       "\n",
       "   total_rating_count                                                url  \\\n",
       "0                 3.0  https://www.igdb.com/games/terra-nova-strike-f...   \n",
       "1                 NaN            https://www.igdb.com/games/dogou-souken   \n",
       "\n",
       "   aggregated_rating  aggregated_rating_count  \n",
       "0               92.0                      1.0  \n",
       "1                NaN                      NaN  "
      ]
     },
     "execution_count": 30,
     "metadata": {},
     "output_type": "execute_result"
    }
   ],
   "source": [
    "# convert first_release_date to datetime\n",
    "df['first_release_date'] = pd.to_datetime(df['first_release_date'], unit='s')\n",
    "df.head(2)"
   ]
  },
  {
   "cell_type": "code",
   "execution_count": 31,
   "metadata": {
    "ExecuteTime": {
     "end_time": "2021-05-16T11:48:21.183843Z",
     "start_time": "2021-05-16T11:48:21.139997Z"
    },
    "id": "v9qhPv2luphe",
    "outputId": "21b14fd2-2532-41d6-d82c-e59f75bef15b"
   },
   "outputs": [
    {
     "name": "stdout",
     "output_type": "stream",
     "text": [
      "<class 'pandas.core.frame.DataFrame'>\n",
      "Int64Index: 135052 entries, 0 to 135062\n",
      "Data columns (total 16 columns):\n",
      " #   Column                   Non-Null Count   Dtype         \n",
      "---  ------                   --------------   -----         \n",
      " 0   id                       135051 non-null  float64       \n",
      " 1   name                     135050 non-null  object        \n",
      " 2   platforms                75326 non-null   object        \n",
      " 3   first_release_date       73283 non-null   datetime64[ns]\n",
      " 4   category                 135051 non-null  float64       \n",
      " 5   genres                   92461 non-null   object        \n",
      " 6   themes                   59614 non-null   object        \n",
      " 7   player_perspectives      36097 non-null   object        \n",
      " 8   rating                   31301 non-null   object        \n",
      " 9   rating_count             31298 non-null   float64       \n",
      " 10  similar_games            99336 non-null   object        \n",
      " 11  total_rating             31298 non-null   float64       \n",
      " 12  total_rating_count       31298 non-null   float64       \n",
      " 13  url                      135050 non-null  object        \n",
      " 14  aggregated_rating        13123 non-null   float64       \n",
      " 15  aggregated_rating_count  13123 non-null   float64       \n",
      "dtypes: datetime64[ns](1), float64(7), object(8)\n",
      "memory usage: 17.5+ MB\n"
     ]
    }
   ],
   "source": [
    "df.info()"
   ]
  },
  {
   "cell_type": "code",
   "execution_count": 32,
   "metadata": {
    "ExecuteTime": {
     "end_time": "2021-05-16T11:48:21.251847Z",
     "start_time": "2021-05-16T11:48:21.185516Z"
    },
    "id": "kiyrdO0buphe",
    "outputId": "016c923c-d6de-4b33-bf73-dbed14ca1c40"
   },
   "outputs": [
    {
     "data": {
      "text/html": [
       "<div>\n",
       "<style scoped>\n",
       "    .dataframe tbody tr th:only-of-type {\n",
       "        vertical-align: middle;\n",
       "    }\n",
       "\n",
       "    .dataframe tbody tr th {\n",
       "        vertical-align: top;\n",
       "    }\n",
       "\n",
       "    .dataframe thead th {\n",
       "        text-align: right;\n",
       "    }\n",
       "</style>\n",
       "<table border=\"1\" class=\"dataframe\">\n",
       "  <thead>\n",
       "    <tr style=\"text-align: right;\">\n",
       "      <th></th>\n",
       "      <th>id</th>\n",
       "      <th>category</th>\n",
       "      <th>rating_count</th>\n",
       "      <th>total_rating</th>\n",
       "      <th>total_rating_count</th>\n",
       "      <th>aggregated_rating</th>\n",
       "      <th>aggregated_rating_count</th>\n",
       "    </tr>\n",
       "  </thead>\n",
       "  <tbody>\n",
       "    <tr>\n",
       "      <th>count</th>\n",
       "      <td>135051.000000</td>\n",
       "      <td>135051.000000</td>\n",
       "      <td>31298.000000</td>\n",
       "      <td>31298.000000</td>\n",
       "      <td>31298.000000</td>\n",
       "      <td>13123.000000</td>\n",
       "      <td>13123.000000</td>\n",
       "    </tr>\n",
       "    <tr>\n",
       "      <th>mean</th>\n",
       "      <td>70667.545772</td>\n",
       "      <td>0.081784</td>\n",
       "      <td>13.901815</td>\n",
       "      <td>66.132195</td>\n",
       "      <td>15.269666</td>\n",
       "      <td>68.438803</td>\n",
       "      <td>3.680408</td>\n",
       "    </tr>\n",
       "    <tr>\n",
       "      <th>std</th>\n",
       "      <td>40692.952776</td>\n",
       "      <td>0.534467</td>\n",
       "      <td>75.024938</td>\n",
       "      <td>14.886824</td>\n",
       "      <td>76.436663</td>\n",
       "      <td>16.351799</td>\n",
       "      <td>4.136794</td>\n",
       "    </tr>\n",
       "    <tr>\n",
       "      <th>min</th>\n",
       "      <td>1.000000</td>\n",
       "      <td>0.000000</td>\n",
       "      <td>0.000000</td>\n",
       "      <td>0.000000</td>\n",
       "      <td>0.000000</td>\n",
       "      <td>0.000000</td>\n",
       "      <td>0.000000</td>\n",
       "    </tr>\n",
       "    <tr>\n",
       "      <th>25%</th>\n",
       "      <td>35545.500000</td>\n",
       "      <td>0.000000</td>\n",
       "      <td>0.000000</td>\n",
       "      <td>57.500000</td>\n",
       "      <td>0.000000</td>\n",
       "      <td>60.000000</td>\n",
       "      <td>1.000000</td>\n",
       "    </tr>\n",
       "    <tr>\n",
       "      <th>50%</th>\n",
       "      <td>70694.000000</td>\n",
       "      <td>0.000000</td>\n",
       "      <td>1.000000</td>\n",
       "      <td>70.000000</td>\n",
       "      <td>1.000000</td>\n",
       "      <td>70.000000</td>\n",
       "      <td>2.000000</td>\n",
       "    </tr>\n",
       "    <tr>\n",
       "      <th>75%</th>\n",
       "      <td>105832.500000</td>\n",
       "      <td>0.000000</td>\n",
       "      <td>5.000000</td>\n",
       "      <td>77.500000</td>\n",
       "      <td>6.000000</td>\n",
       "      <td>80.000000</td>\n",
       "      <td>4.000000</td>\n",
       "    </tr>\n",
       "    <tr>\n",
       "      <th>max</th>\n",
       "      <td>141114.000000</td>\n",
       "      <td>7.000000</td>\n",
       "      <td>2783.000000</td>\n",
       "      <td>100.000000</td>\n",
       "      <td>2817.000000</td>\n",
       "      <td>100.000000</td>\n",
       "      <td>60.000000</td>\n",
       "    </tr>\n",
       "  </tbody>\n",
       "</table>\n",
       "</div>"
      ],
      "text/plain": [
       "                  id       category  rating_count  total_rating  \\\n",
       "count  135051.000000  135051.000000  31298.000000  31298.000000   \n",
       "mean    70667.545772       0.081784     13.901815     66.132195   \n",
       "std     40692.952776       0.534467     75.024938     14.886824   \n",
       "min         1.000000       0.000000      0.000000      0.000000   \n",
       "25%     35545.500000       0.000000      0.000000     57.500000   \n",
       "50%     70694.000000       0.000000      1.000000     70.000000   \n",
       "75%    105832.500000       0.000000      5.000000     77.500000   \n",
       "max    141114.000000       7.000000   2783.000000    100.000000   \n",
       "\n",
       "       total_rating_count  aggregated_rating  aggregated_rating_count  \n",
       "count        31298.000000       13123.000000             13123.000000  \n",
       "mean            15.269666          68.438803                 3.680408  \n",
       "std             76.436663          16.351799                 4.136794  \n",
       "min              0.000000           0.000000                 0.000000  \n",
       "25%              0.000000          60.000000                 1.000000  \n",
       "50%              1.000000          70.000000                 2.000000  \n",
       "75%              6.000000          80.000000                 4.000000  \n",
       "max           2817.000000         100.000000                60.000000  "
      ]
     },
     "execution_count": 32,
     "metadata": {},
     "output_type": "execute_result"
    }
   ],
   "source": [
    "df.describe()"
   ]
  },
  {
   "cell_type": "code",
   "execution_count": 33,
   "metadata": {
    "ExecuteTime": {
     "end_time": "2021-05-16T11:48:21.544075Z",
     "start_time": "2021-05-16T11:48:21.253036Z"
    },
    "id": "FCcxHj8Muphf",
    "outputId": "7469665b-ea94-4035-8f37-f2c7a79c8cdd"
   },
   "outputs": [],
   "source": [
    "df['year'] = df['first_release_date'].dt.year\n",
    "df['month'] = df['first_release_date'].dt.month"
   ]
  },
  {
   "cell_type": "code",
   "execution_count": 34,
   "metadata": {
    "ExecuteTime": {
     "end_time": "2021-05-16T11:48:21.568021Z",
     "start_time": "2021-05-16T11:48:21.545238Z"
    },
    "id": "JzMFYozUuphg",
    "outputId": "5e995cfd-a632-4502-c8f8-58887bcfb64f"
   },
   "outputs": [
    {
     "data": {
      "text/html": [
       "<div>\n",
       "<style scoped>\n",
       "    .dataframe tbody tr th:only-of-type {\n",
       "        vertical-align: middle;\n",
       "    }\n",
       "\n",
       "    .dataframe tbody tr th {\n",
       "        vertical-align: top;\n",
       "    }\n",
       "\n",
       "    .dataframe thead th {\n",
       "        text-align: right;\n",
       "    }\n",
       "</style>\n",
       "<table border=\"1\" class=\"dataframe\">\n",
       "  <thead>\n",
       "    <tr style=\"text-align: right;\">\n",
       "      <th></th>\n",
       "      <th>id</th>\n",
       "      <th>name</th>\n",
       "      <th>platforms</th>\n",
       "      <th>first_release_date</th>\n",
       "      <th>category</th>\n",
       "      <th>genres</th>\n",
       "      <th>themes</th>\n",
       "      <th>player_perspectives</th>\n",
       "      <th>rating</th>\n",
       "      <th>rating_count</th>\n",
       "      <th>similar_games</th>\n",
       "      <th>total_rating</th>\n",
       "      <th>total_rating_count</th>\n",
       "      <th>url</th>\n",
       "      <th>aggregated_rating</th>\n",
       "      <th>aggregated_rating_count</th>\n",
       "      <th>year</th>\n",
       "      <th>month</th>\n",
       "    </tr>\n",
       "  </thead>\n",
       "  <tbody>\n",
       "    <tr>\n",
       "      <th>0</th>\n",
       "      <td>70.0</td>\n",
       "      <td>TerraNova:StrikeForceCentauri</td>\n",
       "      <td>13</td>\n",
       "      <td>1996-03-05</td>\n",
       "      <td>0.0</td>\n",
       "      <td>5,13,15</td>\n",
       "      <td>1,18</td>\n",
       "      <td>1</td>\n",
       "      <td>70.0</td>\n",
       "      <td>2.0</td>\n",
       "      <td>13200,16806,17130,24620,25311,34823,55038,6828...</td>\n",
       "      <td>81.0</td>\n",
       "      <td>3.0</td>\n",
       "      <td>https://www.igdb.com/games/terra-nova-strike-f...</td>\n",
       "      <td>92.0</td>\n",
       "      <td>1.0</td>\n",
       "      <td>1996.0</td>\n",
       "      <td>3.0</td>\n",
       "    </tr>\n",
       "    <tr>\n",
       "      <th>1</th>\n",
       "      <td>40104.0</td>\n",
       "      <td>DogouSouken</td>\n",
       "      <td>52</td>\n",
       "      <td>1987-01-01</td>\n",
       "      <td>0.0</td>\n",
       "      <td>5</td>\n",
       "      <td>NaN</td>\n",
       "      <td>NaN</td>\n",
       "      <td>NaN</td>\n",
       "      <td>NaN</td>\n",
       "      <td>12364,27270,43367,103281,103292,103298,103301,...</td>\n",
       "      <td>NaN</td>\n",
       "      <td>NaN</td>\n",
       "      <td>https://www.igdb.com/games/dogou-souken</td>\n",
       "      <td>NaN</td>\n",
       "      <td>NaN</td>\n",
       "      <td>1987.0</td>\n",
       "      <td>1.0</td>\n",
       "    </tr>\n",
       "  </tbody>\n",
       "</table>\n",
       "</div>"
      ],
      "text/plain": [
       "        id                           name platforms first_release_date  \\\n",
       "0     70.0  TerraNova:StrikeForceCentauri        13         1996-03-05   \n",
       "1  40104.0                    DogouSouken        52         1987-01-01   \n",
       "\n",
       "   category   genres themes player_perspectives rating  rating_count  \\\n",
       "0       0.0  5,13,15   1,18                   1   70.0           2.0   \n",
       "1       0.0        5    NaN                 NaN    NaN           NaN   \n",
       "\n",
       "                                       similar_games  total_rating  \\\n",
       "0  13200,16806,17130,24620,25311,34823,55038,6828...          81.0   \n",
       "1  12364,27270,43367,103281,103292,103298,103301,...           NaN   \n",
       "\n",
       "   total_rating_count                                                url  \\\n",
       "0                 3.0  https://www.igdb.com/games/terra-nova-strike-f...   \n",
       "1                 NaN            https://www.igdb.com/games/dogou-souken   \n",
       "\n",
       "   aggregated_rating  aggregated_rating_count    year  month  \n",
       "0               92.0                      1.0  1996.0    3.0  \n",
       "1                NaN                      NaN  1987.0    1.0  "
      ]
     },
     "execution_count": 34,
     "metadata": {},
     "output_type": "execute_result"
    }
   ],
   "source": [
    "df.head(2)"
   ]
  },
  {
   "cell_type": "code",
   "execution_count": 38,
   "metadata": {},
   "outputs": [
    {
     "data": {
      "text/html": [
       "<div>\n",
       "<style scoped>\n",
       "    .dataframe tbody tr th:only-of-type {\n",
       "        vertical-align: middle;\n",
       "    }\n",
       "\n",
       "    .dataframe tbody tr th {\n",
       "        vertical-align: top;\n",
       "    }\n",
       "\n",
       "    .dataframe thead th {\n",
       "        text-align: right;\n",
       "    }\n",
       "</style>\n",
       "<table border=\"1\" class=\"dataframe\">\n",
       "  <thead>\n",
       "    <tr style=\"text-align: right;\">\n",
       "      <th></th>\n",
       "      <th>id</th>\n",
       "      <th>name</th>\n",
       "      <th>platforms</th>\n",
       "      <th>first_release_date</th>\n",
       "      <th>category</th>\n",
       "      <th>genres</th>\n",
       "      <th>themes</th>\n",
       "      <th>player_perspectives</th>\n",
       "      <th>rating</th>\n",
       "      <th>rating_count</th>\n",
       "      <th>similar_games</th>\n",
       "      <th>total_rating</th>\n",
       "      <th>total_rating_count</th>\n",
       "      <th>url</th>\n",
       "      <th>aggregated_rating</th>\n",
       "      <th>aggregated_rating_count</th>\n",
       "      <th>year</th>\n",
       "      <th>month</th>\n",
       "    </tr>\n",
       "  </thead>\n",
       "  <tbody>\n",
       "    <tr>\n",
       "      <th>7736</th>\n",
       "      <td>73332.0</td>\n",
       "      <td>DekoratingBlues</td>\n",
       "      <td>NaN</td>\n",
       "      <td>NaT</td>\n",
       "      <td>0.0</td>\n",
       "      <td>9,15</td>\n",
       "      <td>NaN</td>\n",
       "      <td>NaN</td>\n",
       "      <td>ues\"</td>\n",
       "      <td>NaN</td>\n",
       "      <td>17613,19404,23345,25222,36346,36553,55036,5559...</td>\n",
       "      <td>NaN</td>\n",
       "      <td>NaN</td>\n",
       "      <td>https://www.igdb.com/games/dekorating-blues</td>\n",
       "      <td>NaN</td>\n",
       "      <td>NaN</td>\n",
       "      <td>NaN</td>\n",
       "      <td>NaN</td>\n",
       "    </tr>\n",
       "    <tr>\n",
       "      <th>52131</th>\n",
       "      <td>30686.0</td>\n",
       "      <td>B.BraunFutureOperatingRoom</td>\n",
       "      <td>6</td>\n",
       "      <td>2016-12-09</td>\n",
       "      <td>0.0</td>\n",
       "      <td>13</td>\n",
       "      <td>NaN</td>\n",
       "      <td>NaN</td>\n",
       "      <td>om\"</td>\n",
       "      <td>NaN</td>\n",
       "      <td>36258,79134,87485,101573,105264,106008,112754,...</td>\n",
       "      <td>NaN</td>\n",
       "      <td>NaN</td>\n",
       "      <td>https://www.igdb.com/games/b-braun-future-oper...</td>\n",
       "      <td>NaN</td>\n",
       "      <td>NaN</td>\n",
       "      <td>2016.0</td>\n",
       "      <td>12.0</td>\n",
       "    </tr>\n",
       "    <tr>\n",
       "      <th>56511</th>\n",
       "      <td>20245.0</td>\n",
       "      <td>Haunt</td>\n",
       "      <td>12</td>\n",
       "      <td>2012-01-18</td>\n",
       "      <td>0.0</td>\n",
       "      <td>NaN</td>\n",
       "      <td>19</td>\n",
       "      <td>1</td>\n",
       "      <td>ount\":3</td>\n",
       "      <td>3.0</td>\n",
       "      <td>520,25646,27266,55282,99307,103295,103298,1107...</td>\n",
       "      <td>73.333333</td>\n",
       "      <td>3.0</td>\n",
       "      <td>https://www.igdb.com/games/haunt</td>\n",
       "      <td>73.333333</td>\n",
       "      <td>3.0</td>\n",
       "      <td>2012.0</td>\n",
       "      <td>1.0</td>\n",
       "    </tr>\n",
       "    <tr>\n",
       "      <th>86681</th>\n",
       "      <td>100868.0</td>\n",
       "      <td>DreamDollHouse-DecoratingGame</td>\n",
       "      <td>NaN</td>\n",
       "      <td>NaT</td>\n",
       "      <td>0.0</td>\n",
       "      <td>NaN</td>\n",
       "      <td>NaN</td>\n",
       "      <td>NaN</td>\n",
       "      <td>me\"</td>\n",
       "      <td>NaN</td>\n",
       "      <td>NaN</td>\n",
       "      <td>NaN</td>\n",
       "      <td>NaN</td>\n",
       "      <td>https://www.igdb.com/games/dream-doll-house-de...</td>\n",
       "      <td>NaN</td>\n",
       "      <td>NaN</td>\n",
       "      <td>NaN</td>\n",
       "      <td>NaN</td>\n",
       "    </tr>\n",
       "    <tr>\n",
       "      <th>97822</th>\n",
       "      <td>5089.0</td>\n",
       "      <td>Pac-ManParty</td>\n",
       "      <td>5,37</td>\n",
       "      <td>2010-11-16</td>\n",
       "      <td>0.0</td>\n",
       "      <td>NaN</td>\n",
       "      <td>1,40</td>\n",
       "      <td>2</td>\n",
       "      <td>ount\":4</td>\n",
       "      <td>4.0</td>\n",
       "      <td>6874,19082,28113,28213,37016,54774,113113,1152...</td>\n",
       "      <td>65.333333</td>\n",
       "      <td>4.0</td>\n",
       "      <td>https://www.igdb.com/games/pac-man-party</td>\n",
       "      <td>65.333333</td>\n",
       "      <td>4.0</td>\n",
       "      <td>2010.0</td>\n",
       "      <td>11.0</td>\n",
       "    </tr>\n",
       "    <tr>\n",
       "      <th>110217</th>\n",
       "      <td>26762.0</td>\n",
       "      <td>1-2-Switch</td>\n",
       "      <td>130</td>\n",
       "      <td>2017-03-03</td>\n",
       "      <td>0.0</td>\n",
       "      <td>NaN</td>\n",
       "      <td>40</td>\n",
       "      <td>5,6</td>\n",
       "      <td>ount\":10</td>\n",
       "      <td>10.0</td>\n",
       "      <td>5312,19082,19083,27927,28113,28213,54774,68925...</td>\n",
       "      <td>46.906003</td>\n",
       "      <td>23.0</td>\n",
       "      <td>https://www.igdb.com/games/1-2-switch</td>\n",
       "      <td>53.666667</td>\n",
       "      <td>10.0</td>\n",
       "      <td>2017.0</td>\n",
       "      <td>3.0</td>\n",
       "    </tr>\n",
       "  </tbody>\n",
       "</table>\n",
       "</div>"
      ],
      "text/plain": [
       "              id                           name platforms first_release_date  \\\n",
       "7736     73332.0                DekoratingBlues       NaN                NaT   \n",
       "52131    30686.0     B.BraunFutureOperatingRoom         6         2016-12-09   \n",
       "56511    20245.0                          Haunt        12         2012-01-18   \n",
       "86681   100868.0  DreamDollHouse-DecoratingGame       NaN                NaT   \n",
       "97822     5089.0                   Pac-ManParty      5,37         2010-11-16   \n",
       "110217   26762.0                     1-2-Switch       130         2017-03-03   \n",
       "\n",
       "        category genres themes player_perspectives    rating  rating_count  \\\n",
       "7736         0.0   9,15    NaN                 NaN      ues\"           NaN   \n",
       "52131        0.0     13    NaN                 NaN       om\"           NaN   \n",
       "56511        0.0    NaN     19                   1   ount\":3           3.0   \n",
       "86681        0.0    NaN    NaN                 NaN       me\"           NaN   \n",
       "97822        0.0    NaN   1,40                   2   ount\":4           4.0   \n",
       "110217       0.0    NaN     40                 5,6  ount\":10          10.0   \n",
       "\n",
       "                                            similar_games  total_rating  \\\n",
       "7736    17613,19404,23345,25222,36346,36553,55036,5559...           NaN   \n",
       "52131   36258,79134,87485,101573,105264,106008,112754,...           NaN   \n",
       "56511   520,25646,27266,55282,99307,103295,103298,1107...     73.333333   \n",
       "86681                                                 NaN           NaN   \n",
       "97822   6874,19082,28113,28213,37016,54774,113113,1152...     65.333333   \n",
       "110217  5312,19082,19083,27927,28113,28213,54774,68925...     46.906003   \n",
       "\n",
       "        total_rating_count                                                url  \\\n",
       "7736                   NaN        https://www.igdb.com/games/dekorating-blues   \n",
       "52131                  NaN  https://www.igdb.com/games/b-braun-future-oper...   \n",
       "56511                  3.0                   https://www.igdb.com/games/haunt   \n",
       "86681                  NaN  https://www.igdb.com/games/dream-doll-house-de...   \n",
       "97822                  4.0           https://www.igdb.com/games/pac-man-party   \n",
       "110217                23.0              https://www.igdb.com/games/1-2-switch   \n",
       "\n",
       "        aggregated_rating  aggregated_rating_count    year  month  \n",
       "7736                  NaN                      NaN     NaN    NaN  \n",
       "52131                 NaN                      NaN  2016.0   12.0  \n",
       "56511           73.333333                      3.0  2012.0    1.0  \n",
       "86681                 NaN                      NaN     NaN    NaN  \n",
       "97822           65.333333                      4.0  2010.0   11.0  \n",
       "110217          53.666667                     10.0  2017.0    3.0  "
      ]
     },
     "execution_count": 38,
     "metadata": {},
     "output_type": "execute_result"
    }
   ],
   "source": [
    "#Let's check if 'ratings' has anything other than float values and nan's\n",
    "df[df['rating'].str.contains('.*[a-zA-Z].*') == True]"
   ]
  },
  {
   "cell_type": "code",
   "execution_count": null,
   "metadata": {},
   "outputs": [],
   "source": [
    "#If we wanted to find our \"wrong\" values and then drop them, we could do this\n",
    "#to_drop = df[df['rating'].str.contains('.*[a-zA-Z].*')==True]\n",
    "#df.drop(to_drop.index, axis = 0, inplace = True)"
   ]
  },
  {
   "cell_type": "code",
   "execution_count": 39,
   "metadata": {
    "ExecuteTime": {
     "end_time": "2021-05-16T11:48:21.570826Z",
     "start_time": "2021-05-16T11:48:21.569158Z"
    },
    "id": "EjwOymC4kZH3"
   },
   "outputs": [],
   "source": [
    "df['rating'] = pd.to_numeric(df['rating'], errors = 'coerce')"
   ]
  },
  {
   "cell_type": "code",
   "execution_count": 41,
   "metadata": {
    "ExecuteTime": {
     "end_time": "2021-05-16T11:48:21.607945Z",
     "start_time": "2021-05-16T11:48:21.571958Z"
    },
    "colab": {
     "base_uri": "https://localhost:8080/",
     "height": 884
    },
    "id": "CH-WkdLop9IQ",
    "outputId": "60d06b57-fb79-4441-bf4f-8c28aaf21b48"
   },
   "outputs": [
    {
     "data": {
      "text/plain": [
       "nan"
      ]
     },
     "execution_count": 41,
     "metadata": {},
     "output_type": "execute_result"
    }
   ],
   "source": [
    "#just for checking purposes\n",
    "df['rating'][7736]"
   ]
  },
  {
   "cell_type": "markdown",
   "metadata": {
    "id": "gXleO5LYuphi"
   },
   "source": [
    "# 1. What’s the first game ever released and when?\n"
   ]
  },
  {
   "cell_type": "code",
   "execution_count": 42,
   "metadata": {
    "ExecuteTime": {
     "end_time": "2021-05-16T11:48:21.654048Z",
     "start_time": "2021-05-16T11:48:21.609260Z"
    },
    "id": "CJ1De5Qnuphi",
    "outputId": "61b62480-bcdc-4897-f10a-a8f66ce7d33e"
   },
   "outputs": [
    {
     "data": {
      "text/html": [
       "<div>\n",
       "<style scoped>\n",
       "    .dataframe tbody tr th:only-of-type {\n",
       "        vertical-align: middle;\n",
       "    }\n",
       "\n",
       "    .dataframe tbody tr th {\n",
       "        vertical-align: top;\n",
       "    }\n",
       "\n",
       "    .dataframe thead th {\n",
       "        text-align: right;\n",
       "    }\n",
       "</style>\n",
       "<table border=\"1\" class=\"dataframe\">\n",
       "  <thead>\n",
       "    <tr style=\"text-align: right;\">\n",
       "      <th></th>\n",
       "      <th>id</th>\n",
       "      <th>name</th>\n",
       "      <th>platforms</th>\n",
       "      <th>first_release_date</th>\n",
       "      <th>category</th>\n",
       "      <th>genres</th>\n",
       "      <th>themes</th>\n",
       "      <th>player_perspectives</th>\n",
       "      <th>rating</th>\n",
       "      <th>rating_count</th>\n",
       "      <th>similar_games</th>\n",
       "      <th>total_rating</th>\n",
       "      <th>total_rating_count</th>\n",
       "      <th>url</th>\n",
       "      <th>aggregated_rating</th>\n",
       "      <th>aggregated_rating_count</th>\n",
       "      <th>year</th>\n",
       "      <th>month</th>\n",
       "    </tr>\n",
       "  </thead>\n",
       "  <tbody>\n",
       "    <tr>\n",
       "      <th>82269</th>\n",
       "      <td>56115.0</td>\n",
       "      <td>JetRocket</td>\n",
       "      <td>52</td>\n",
       "      <td>1970-06-30</td>\n",
       "      <td>0.0</td>\n",
       "      <td>5</td>\n",
       "      <td>1</td>\n",
       "      <td>1</td>\n",
       "      <td>NaN</td>\n",
       "      <td>NaN</td>\n",
       "      <td>8559,10964,11171,15536,28751,57217,58075,64311...</td>\n",
       "      <td>NaN</td>\n",
       "      <td>NaN</td>\n",
       "      <td>https://www.igdb.com/games/jet-rocket</td>\n",
       "      <td>NaN</td>\n",
       "      <td>NaN</td>\n",
       "      <td>1970.0</td>\n",
       "      <td>6.0</td>\n",
       "    </tr>\n",
       "  </tbody>\n",
       "</table>\n",
       "</div>"
      ],
      "text/plain": [
       "            id       name platforms first_release_date  category genres  \\\n",
       "82269  56115.0  JetRocket        52         1970-06-30       0.0      5   \n",
       "\n",
       "      themes player_perspectives  rating  rating_count  \\\n",
       "82269      1                   1     NaN           NaN   \n",
       "\n",
       "                                           similar_games  total_rating  \\\n",
       "82269  8559,10964,11171,15536,28751,57217,58075,64311...           NaN   \n",
       "\n",
       "       total_rating_count                                    url  \\\n",
       "82269                 NaN  https://www.igdb.com/games/jet-rocket   \n",
       "\n",
       "       aggregated_rating  aggregated_rating_count    year  month  \n",
       "82269                NaN                      NaN  1970.0    6.0  "
      ]
     },
     "execution_count": 42,
     "metadata": {},
     "output_type": "execute_result"
    }
   ],
   "source": [
    "df.sort_values('first_release_date', inplace=True)\n",
    "df.head(1)"
   ]
  },
  {
   "cell_type": "markdown",
   "metadata": {
    "id": "45k8vLDLuphj"
   },
   "source": [
    "# 2. Which are the top 5 games of all time? (tip: many games score 100 rating and have a few reviews, other games score a bit lower but much higher reviews...)"
   ]
  },
  {
   "cell_type": "code",
   "execution_count": 46,
   "metadata": {
    "ExecuteTime": {
     "end_time": "2021-05-16T11:48:21.697690Z",
     "start_time": "2021-05-16T11:48:21.655122Z"
    },
    "id": "0k_nHQBcuphj",
    "outputId": "7a5ce272-b21c-45a5-c101-e27a426e36a1"
   },
   "outputs": [],
   "source": [
    "df.drop(df[df['rating_count'] == 0].index, inplace=True)"
   ]
  },
  {
   "cell_type": "code",
   "execution_count": 44,
   "metadata": {
    "ExecuteTime": {
     "end_time": "2021-05-16T11:48:21.741546Z",
     "start_time": "2021-05-16T11:48:21.698791Z"
    },
    "id": "EBBxUvvYuphk",
    "outputId": "28ad6910-8b8a-4c9c-9ba3-d6640a6ffeab"
   },
   "outputs": [],
   "source": [
    "df['weighted_score'] = df['rating'] * df['rating_count']"
   ]
  },
  {
   "cell_type": "code",
   "execution_count": 45,
   "metadata": {
    "ExecuteTime": {
     "end_time": "2021-05-16T11:48:21.783588Z",
     "start_time": "2021-05-16T11:48:21.742746Z"
    },
    "id": "0cCzWUUQuphk",
    "outputId": "bd81468e-231b-4c0f-93b3-f700b3151565"
   },
   "outputs": [
    {
     "data": {
      "text/html": [
       "<div>\n",
       "<style scoped>\n",
       "    .dataframe tbody tr th:only-of-type {\n",
       "        vertical-align: middle;\n",
       "    }\n",
       "\n",
       "    .dataframe tbody tr th {\n",
       "        vertical-align: top;\n",
       "    }\n",
       "\n",
       "    .dataframe thead th {\n",
       "        text-align: right;\n",
       "    }\n",
       "</style>\n",
       "<table border=\"1\" class=\"dataframe\">\n",
       "  <thead>\n",
       "    <tr style=\"text-align: right;\">\n",
       "      <th></th>\n",
       "      <th>id</th>\n",
       "      <th>name</th>\n",
       "      <th>platforms</th>\n",
       "      <th>first_release_date</th>\n",
       "      <th>category</th>\n",
       "      <th>genres</th>\n",
       "      <th>themes</th>\n",
       "      <th>player_perspectives</th>\n",
       "      <th>rating</th>\n",
       "      <th>rating_count</th>\n",
       "      <th>similar_games</th>\n",
       "      <th>total_rating</th>\n",
       "      <th>total_rating_count</th>\n",
       "      <th>url</th>\n",
       "      <th>aggregated_rating</th>\n",
       "      <th>aggregated_rating_count</th>\n",
       "      <th>year</th>\n",
       "      <th>month</th>\n",
       "      <th>weighted_score</th>\n",
       "    </tr>\n",
       "  </thead>\n",
       "  <tbody>\n",
       "    <tr>\n",
       "      <th>82269</th>\n",
       "      <td>56115.0</td>\n",
       "      <td>JetRocket</td>\n",
       "      <td>52</td>\n",
       "      <td>1970-06-30</td>\n",
       "      <td>0.0</td>\n",
       "      <td>5</td>\n",
       "      <td>1</td>\n",
       "      <td>1</td>\n",
       "      <td>NaN</td>\n",
       "      <td>NaN</td>\n",
       "      <td>8559,10964,11171,15536,28751,57217,58075,64311...</td>\n",
       "      <td>NaN</td>\n",
       "      <td>NaN</td>\n",
       "      <td>https://www.igdb.com/games/jet-rocket</td>\n",
       "      <td>NaN</td>\n",
       "      <td>NaN</td>\n",
       "      <td>1970.0</td>\n",
       "      <td>6.0</td>\n",
       "      <td>NaN</td>\n",
       "    </tr>\n",
       "    <tr>\n",
       "      <th>90255</th>\n",
       "      <td>11304.0</td>\n",
       "      <td>Highnoon</td>\n",
       "      <td>82,107</td>\n",
       "      <td>1970-12-31</td>\n",
       "      <td>0.0</td>\n",
       "      <td>NaN</td>\n",
       "      <td>1</td>\n",
       "      <td>5</td>\n",
       "      <td>NaN</td>\n",
       "      <td>NaN</td>\n",
       "      <td>58867,100800,103301,105049,111130,112589,11389...</td>\n",
       "      <td>NaN</td>\n",
       "      <td>NaN</td>\n",
       "      <td>https://www.igdb.com/games/highnoon</td>\n",
       "      <td>NaN</td>\n",
       "      <td>NaN</td>\n",
       "      <td>1970.0</td>\n",
       "      <td>12.0</td>\n",
       "      <td>NaN</td>\n",
       "    </tr>\n",
       "    <tr>\n",
       "      <th>12078</th>\n",
       "      <td>11396.0</td>\n",
       "      <td>GalaxyGame</td>\n",
       "      <td>108</td>\n",
       "      <td>1971-09-01</td>\n",
       "      <td>0.0</td>\n",
       "      <td>5</td>\n",
       "      <td>18</td>\n",
       "      <td>3</td>\n",
       "      <td>NaN</td>\n",
       "      <td>NaN</td>\n",
       "      <td>38030,55038,57187,68286,68287,78770,103281,105...</td>\n",
       "      <td>NaN</td>\n",
       "      <td>NaN</td>\n",
       "      <td>https://www.igdb.com/games/galaxy-game</td>\n",
       "      <td>NaN</td>\n",
       "      <td>NaN</td>\n",
       "      <td>1971.0</td>\n",
       "      <td>9.0</td>\n",
       "      <td>NaN</td>\n",
       "    </tr>\n",
       "    <tr>\n",
       "      <th>107254</th>\n",
       "      <td>11245.0</td>\n",
       "      <td>ComputerSpace</td>\n",
       "      <td>52</td>\n",
       "      <td>1971-11-01</td>\n",
       "      <td>0.0</td>\n",
       "      <td>5,33</td>\n",
       "      <td>18</td>\n",
       "      <td>4</td>\n",
       "      <td>NaN</td>\n",
       "      <td>NaN</td>\n",
       "      <td>17111,17130,55038,57187,68286,68287,78770,1052...</td>\n",
       "      <td>NaN</td>\n",
       "      <td>NaN</td>\n",
       "      <td>https://www.igdb.com/games/computer-space</td>\n",
       "      <td>NaN</td>\n",
       "      <td>NaN</td>\n",
       "      <td>1971.0</td>\n",
       "      <td>11.0</td>\n",
       "      <td>NaN</td>\n",
       "    </tr>\n",
       "    <tr>\n",
       "      <th>69032</th>\n",
       "      <td>11325.0</td>\n",
       "      <td>TheOregonTrail</td>\n",
       "      <td>104,109</td>\n",
       "      <td>1971-12-03</td>\n",
       "      <td>0.0</td>\n",
       "      <td>13,15,31</td>\n",
       "      <td>22,34</td>\n",
       "      <td>5</td>\n",
       "      <td>79.875319</td>\n",
       "      <td>18.0</td>\n",
       "      <td>9789,20776,24765,29173,35371,36346,51945,55036...</td>\n",
       "      <td>79.875319</td>\n",
       "      <td>18.0</td>\n",
       "      <td>https://www.igdb.com/games/the-oregon-trail</td>\n",
       "      <td>NaN</td>\n",
       "      <td>NaN</td>\n",
       "      <td>1971.0</td>\n",
       "      <td>12.0</td>\n",
       "      <td>1437.75575</td>\n",
       "    </tr>\n",
       "  </tbody>\n",
       "</table>\n",
       "</div>"
      ],
      "text/plain": [
       "             id            name platforms first_release_date  category  \\\n",
       "82269   56115.0       JetRocket        52         1970-06-30       0.0   \n",
       "90255   11304.0        Highnoon    82,107         1970-12-31       0.0   \n",
       "12078   11396.0      GalaxyGame       108         1971-09-01       0.0   \n",
       "107254  11245.0   ComputerSpace        52         1971-11-01       0.0   \n",
       "69032   11325.0  TheOregonTrail   104,109         1971-12-03       0.0   \n",
       "\n",
       "          genres themes player_perspectives     rating  rating_count  \\\n",
       "82269          5      1                   1        NaN           NaN   \n",
       "90255        NaN      1                   5        NaN           NaN   \n",
       "12078          5     18                   3        NaN           NaN   \n",
       "107254      5,33     18                   4        NaN           NaN   \n",
       "69032   13,15,31  22,34                   5  79.875319          18.0   \n",
       "\n",
       "                                            similar_games  total_rating  \\\n",
       "82269   8559,10964,11171,15536,28751,57217,58075,64311...           NaN   \n",
       "90255   58867,100800,103301,105049,111130,112589,11389...           NaN   \n",
       "12078   38030,55038,57187,68286,68287,78770,103281,105...           NaN   \n",
       "107254  17111,17130,55038,57187,68286,68287,78770,1052...           NaN   \n",
       "69032   9789,20776,24765,29173,35371,36346,51945,55036...     79.875319   \n",
       "\n",
       "        total_rating_count                                          url  \\\n",
       "82269                  NaN        https://www.igdb.com/games/jet-rocket   \n",
       "90255                  NaN          https://www.igdb.com/games/highnoon   \n",
       "12078                  NaN       https://www.igdb.com/games/galaxy-game   \n",
       "107254                 NaN    https://www.igdb.com/games/computer-space   \n",
       "69032                 18.0  https://www.igdb.com/games/the-oregon-trail   \n",
       "\n",
       "        aggregated_rating  aggregated_rating_count    year  month  \\\n",
       "82269                 NaN                      NaN  1970.0    6.0   \n",
       "90255                 NaN                      NaN  1970.0   12.0   \n",
       "12078                 NaN                      NaN  1971.0    9.0   \n",
       "107254                NaN                      NaN  1971.0   11.0   \n",
       "69032                 NaN                      NaN  1971.0   12.0   \n",
       "\n",
       "        weighted_score  \n",
       "82269              NaN  \n",
       "90255              NaN  \n",
       "12078              NaN  \n",
       "107254             NaN  \n",
       "69032       1437.75575  "
      ]
     },
     "execution_count": 45,
     "metadata": {},
     "output_type": "execute_result"
    }
   ],
   "source": [
    "df.head()"
   ]
  },
  {
   "cell_type": "code",
   "execution_count": 50,
   "metadata": {},
   "outputs": [],
   "source": [
    "df['normalized_weighted_score'] = (df['weighted_score'] - df['weighted_score'].min())/(df['weighted_score'].max() - df['weighted_score'].min()) * 100"
   ]
  },
  {
   "cell_type": "code",
   "execution_count": 51,
   "metadata": {},
   "outputs": [],
   "source": [
    "df.sort_values('normalized_weighted_score',ascending=False, inplace=True)"
   ]
  },
  {
   "cell_type": "code",
   "execution_count": 53,
   "metadata": {},
   "outputs": [
    {
     "data": {
      "text/html": [
       "<div>\n",
       "<style scoped>\n",
       "    .dataframe tbody tr th:only-of-type {\n",
       "        vertical-align: middle;\n",
       "    }\n",
       "\n",
       "    .dataframe tbody tr th {\n",
       "        vertical-align: top;\n",
       "    }\n",
       "\n",
       "    .dataframe thead th {\n",
       "        text-align: right;\n",
       "    }\n",
       "</style>\n",
       "<table border=\"1\" class=\"dataframe\">\n",
       "  <thead>\n",
       "    <tr style=\"text-align: right;\">\n",
       "      <th></th>\n",
       "      <th>id</th>\n",
       "      <th>name</th>\n",
       "      <th>platforms</th>\n",
       "      <th>first_release_date</th>\n",
       "      <th>category</th>\n",
       "      <th>genres</th>\n",
       "      <th>themes</th>\n",
       "      <th>player_perspectives</th>\n",
       "      <th>rating</th>\n",
       "      <th>rating_count</th>\n",
       "      <th>similar_games</th>\n",
       "      <th>total_rating</th>\n",
       "      <th>total_rating_count</th>\n",
       "      <th>url</th>\n",
       "      <th>aggregated_rating</th>\n",
       "      <th>aggregated_rating_count</th>\n",
       "      <th>year</th>\n",
       "      <th>month</th>\n",
       "      <th>weighted_score</th>\n",
       "      <th>normalized_weighted_score</th>\n",
       "    </tr>\n",
       "  </thead>\n",
       "  <tbody>\n",
       "    <tr>\n",
       "      <th>76901</th>\n",
       "      <td>1020.0</td>\n",
       "      <td>GrandTheftAutoV</td>\n",
       "      <td>6,9,12,48,49</td>\n",
       "      <td>2013-09-17</td>\n",
       "      <td>0.0</td>\n",
       "      <td>5,10,14,31</td>\n",
       "      <td>1,27,33,38</td>\n",
       "      <td>1,2</td>\n",
       "      <td>91.007003</td>\n",
       "      <td>2783.0</td>\n",
       "      <td>40,109,733,960,1121,1377,3188,3262,19441</td>\n",
       "      <td>93.423502</td>\n",
       "      <td>2817.0</td>\n",
       "      <td>https://www.igdb.com/games/grand-theft-auto-v</td>\n",
       "      <td>95.840000</td>\n",
       "      <td>34.0</td>\n",
       "      <td>2013.0</td>\n",
       "      <td>9.0</td>\n",
       "      <td>253272.490450</td>\n",
       "      <td>100.000000</td>\n",
       "    </tr>\n",
       "    <tr>\n",
       "      <th>89699</th>\n",
       "      <td>1942.0</td>\n",
       "      <td>TheWitcher3:WildHunt</td>\n",
       "      <td>6,48,49</td>\n",
       "      <td>2015-05-19</td>\n",
       "      <td>0.0</td>\n",
       "      <td>12,31</td>\n",
       "      <td>1,17,38</td>\n",
       "      <td>2</td>\n",
       "      <td>95.708657</td>\n",
       "      <td>2468.0</td>\n",
       "      <td>121,472,533,1334,1593,1887,3025,9938,11270</td>\n",
       "      <td>93.714329</td>\n",
       "      <td>2494.0</td>\n",
       "      <td>https://www.igdb.com/games/the-witcher-3-wild-...</td>\n",
       "      <td>91.720000</td>\n",
       "      <td>26.0</td>\n",
       "      <td>2015.0</td>\n",
       "      <td>5.0</td>\n",
       "      <td>236208.966262</td>\n",
       "      <td>93.262780</td>\n",
       "    </tr>\n",
       "    <tr>\n",
       "      <th>133848</th>\n",
       "      <td>72.0</td>\n",
       "      <td>Portal2</td>\n",
       "      <td>3,6,9,12,14</td>\n",
       "      <td>2011-04-19</td>\n",
       "      <td>0.0</td>\n",
       "      <td>5,8,9,31</td>\n",
       "      <td>1,18,27</td>\n",
       "      <td>1</td>\n",
       "      <td>91.331534</td>\n",
       "      <td>2116.0</td>\n",
       "      <td>7350,11646,16992,20342,22387,24426,55173,55190...</td>\n",
       "      <td>91.887989</td>\n",
       "      <td>2129.0</td>\n",
       "      <td>https://www.igdb.com/games/portal-2</td>\n",
       "      <td>92.444444</td>\n",
       "      <td>13.0</td>\n",
       "      <td>2011.0</td>\n",
       "      <td>4.0</td>\n",
       "      <td>193257.526516</td>\n",
       "      <td>76.304192</td>\n",
       "    </tr>\n",
       "    <tr>\n",
       "      <th>68308</th>\n",
       "      <td>472.0</td>\n",
       "      <td>TheElderScrollsV:Skyrim</td>\n",
       "      <td>6,9,12</td>\n",
       "      <td>2011-11-11</td>\n",
       "      <td>0.0</td>\n",
       "      <td>12,31</td>\n",
       "      <td>1,17,33,38</td>\n",
       "      <td>1,2</td>\n",
       "      <td>87.714979</td>\n",
       "      <td>2184.0</td>\n",
       "      <td>56,59,121,533,538,832,1081,1942,3025</td>\n",
       "      <td>91.913045</td>\n",
       "      <td>2196.0</td>\n",
       "      <td>https://www.igdb.com/games/the-elder-scrolls-v...</td>\n",
       "      <td>96.111111</td>\n",
       "      <td>12.0</td>\n",
       "      <td>2011.0</td>\n",
       "      <td>11.0</td>\n",
       "      <td>191569.514797</td>\n",
       "      <td>75.637711</td>\n",
       "    </tr>\n",
       "    <tr>\n",
       "      <th>132155</th>\n",
       "      <td>1009.0</td>\n",
       "      <td>TheLastofUs</td>\n",
       "      <td>9</td>\n",
       "      <td>2013-06-14</td>\n",
       "      <td>0.0</td>\n",
       "      <td>5,31</td>\n",
       "      <td>1,19,21,23</td>\n",
       "      <td>2</td>\n",
       "      <td>94.494275</td>\n",
       "      <td>1835.0</td>\n",
       "      <td>533,538,1020,1121,1164,1985,2031,11270,19441</td>\n",
       "      <td>93.016368</td>\n",
       "      <td>1851.0</td>\n",
       "      <td>https://www.igdb.com/games/the-last-of-us</td>\n",
       "      <td>91.538462</td>\n",
       "      <td>16.0</td>\n",
       "      <td>2013.0</td>\n",
       "      <td>6.0</td>\n",
       "      <td>173396.994439</td>\n",
       "      <td>68.462625</td>\n",
       "    </tr>\n",
       "  </tbody>\n",
       "</table>\n",
       "</div>"
      ],
      "text/plain": [
       "            id                     name     platforms first_release_date  \\\n",
       "76901   1020.0          GrandTheftAutoV  6,9,12,48,49         2013-09-17   \n",
       "89699   1942.0     TheWitcher3:WildHunt       6,48,49         2015-05-19   \n",
       "133848    72.0                  Portal2   3,6,9,12,14         2011-04-19   \n",
       "68308    472.0  TheElderScrollsV:Skyrim        6,9,12         2011-11-11   \n",
       "132155  1009.0              TheLastofUs             9         2013-06-14   \n",
       "\n",
       "        category      genres      themes player_perspectives     rating  \\\n",
       "76901        0.0  5,10,14,31  1,27,33,38                 1,2  91.007003   \n",
       "89699        0.0       12,31     1,17,38                   2  95.708657   \n",
       "133848       0.0    5,8,9,31     1,18,27                   1  91.331534   \n",
       "68308        0.0       12,31  1,17,33,38                 1,2  87.714979   \n",
       "132155       0.0        5,31  1,19,21,23                   2  94.494275   \n",
       "\n",
       "        rating_count                                      similar_games  \\\n",
       "76901         2783.0           40,109,733,960,1121,1377,3188,3262,19441   \n",
       "89699         2468.0         121,472,533,1334,1593,1887,3025,9938,11270   \n",
       "133848        2116.0  7350,11646,16992,20342,22387,24426,55173,55190...   \n",
       "68308         2184.0               56,59,121,533,538,832,1081,1942,3025   \n",
       "132155        1835.0       533,538,1020,1121,1164,1985,2031,11270,19441   \n",
       "\n",
       "        total_rating  total_rating_count  \\\n",
       "76901      93.423502              2817.0   \n",
       "89699      93.714329              2494.0   \n",
       "133848     91.887989              2129.0   \n",
       "68308      91.913045              2196.0   \n",
       "132155     93.016368              1851.0   \n",
       "\n",
       "                                                      url  aggregated_rating  \\\n",
       "76901       https://www.igdb.com/games/grand-theft-auto-v          95.840000   \n",
       "89699   https://www.igdb.com/games/the-witcher-3-wild-...          91.720000   \n",
       "133848                https://www.igdb.com/games/portal-2          92.444444   \n",
       "68308   https://www.igdb.com/games/the-elder-scrolls-v...          96.111111   \n",
       "132155          https://www.igdb.com/games/the-last-of-us          91.538462   \n",
       "\n",
       "        aggregated_rating_count    year  month  weighted_score  \\\n",
       "76901                      34.0  2013.0    9.0   253272.490450   \n",
       "89699                      26.0  2015.0    5.0   236208.966262   \n",
       "133848                     13.0  2011.0    4.0   193257.526516   \n",
       "68308                      12.0  2011.0   11.0   191569.514797   \n",
       "132155                     16.0  2013.0    6.0   173396.994439   \n",
       "\n",
       "        normalized_weighted_score  \n",
       "76901                  100.000000  \n",
       "89699                   93.262780  \n",
       "133848                  76.304192  \n",
       "68308                   75.637711  \n",
       "132155                  68.462625  "
      ]
     },
     "execution_count": 53,
     "metadata": {},
     "output_type": "execute_result"
    }
   ],
   "source": [
    "df.head(5)"
   ]
  },
  {
   "cell_type": "markdown",
   "metadata": {
    "id": "3NKC87d8uphl"
   },
   "source": [
    "# 3. Do game ratings vary from year to year?"
   ]
  },
  {
   "cell_type": "code",
   "execution_count": 54,
   "metadata": {
    "ExecuteTime": {
     "end_time": "2021-05-16T11:48:22.351573Z",
     "start_time": "2021-05-16T11:48:21.784831Z"
    },
    "id": "otUEdkx4uphl",
    "outputId": "a4d3fca5-f7c4-43db-e739-561c060fb93e"
   },
   "outputs": [
    {
     "data": {
      "image/png": "[encoded data removed]",
      "text/plain": [
       "<Figure size 1296x360 with 1 Axes>"
      ]
     },
     "metadata": {
      "needs_background": "light"
     },
     "output_type": "display_data"
    }
   ],
   "source": [
    "ratings = df.groupby(by='year')['rating_count'].mean()\n",
    "ratings.plot.bar(figsize=(18,5))\n",
    "None"
   ]
  },
  {
   "cell_type": "code",
   "execution_count": 55,
   "metadata": {
    "ExecuteTime": {
     "end_time": "2021-05-16T11:48:22.905217Z",
     "start_time": "2021-05-16T11:48:22.355178Z"
    },
    "id": "BYb2wKVwuphl",
    "outputId": "a1c0d080-0882-448c-96f6-b1f3df16435f"
   },
   "outputs": [
    {
     "data": {
      "image/png": "[encoded data removed]",
      "text/plain": [
       "<Figure size 1296x360 with 1 Axes>"
      ]
     },
     "metadata": {
      "needs_background": "light"
     },
     "output_type": "display_data"
    }
   ],
   "source": [
    "ratings = df.groupby(by='year')['rating'].mean()\n",
    "ratings.plot.bar(figsize=(18,5))\n",
    "None"
   ]
  },
  {
   "cell_type": "code",
   "execution_count": 56,
   "metadata": {
    "ExecuteTime": {
     "end_time": "2021-05-16T11:48:23.470098Z",
     "start_time": "2021-05-16T11:48:22.907706Z"
    },
    "id": "9rSECoQauphm",
    "outputId": "ef0683dd-1616-403e-bfa6-8a6fcb63749a"
   },
   "outputs": [
    {
     "data": {
      "image/png": "[encoded data removed]",
      "text/plain": [
       "<Figure size 1296x360 with 1 Axes>"
      ]
     },
     "metadata": {
      "needs_background": "light"
     },
     "output_type": "display_data"
    }
   ],
   "source": [
    "ratings = df.groupby(by='year')['normalized_weighted_score'].mean()\n",
    "ratings.plot.bar(figsize=(18,5))\n",
    "None"
   ]
  },
  {
   "cell_type": "code",
   "execution_count": null,
   "metadata": {
    "ExecuteTime": {
     "end_time": "2021-05-16T11:48:24.027097Z",
     "start_time": "2021-05-16T11:48:23.471202Z"
    },
    "id": "oHyvxyumuphn",
    "outputId": "62a2c06a-65af-4087-90b9-74fda3e73942"
   },
   "outputs": [],
   "source": [
    "# at this point we cannot tell how the ratings vary, we have to look to each platform "
   ]
  },
  {
   "cell_type": "markdown",
   "metadata": {
    "id": "SdAPyLI5upho"
   },
   "source": [
    "# 4. In which year were released the most games?"
   ]
  },
  {
   "cell_type": "code",
   "execution_count": 58,
   "metadata": {
    "ExecuteTime": {
     "end_time": "2021-05-16T11:48:24.092793Z",
     "start_time": "2021-05-16T11:48:24.030823Z"
    },
    "id": "rJXf3sMZupho",
    "outputId": "e63bf358-443f-42a2-accb-4f134cac0254"
   },
   "outputs": [
    {
     "data": {
      "text/html": [
       "<div>\n",
       "<style scoped>\n",
       "    .dataframe tbody tr th:only-of-type {\n",
       "        vertical-align: middle;\n",
       "    }\n",
       "\n",
       "    .dataframe tbody tr th {\n",
       "        vertical-align: top;\n",
       "    }\n",
       "\n",
       "    .dataframe thead th {\n",
       "        text-align: right;\n",
       "    }\n",
       "</style>\n",
       "<table border=\"1\" class=\"dataframe\">\n",
       "  <thead>\n",
       "    <tr style=\"text-align: right;\">\n",
       "      <th></th>\n",
       "      <th>id</th>\n",
       "    </tr>\n",
       "    <tr>\n",
       "      <th>year</th>\n",
       "      <th></th>\n",
       "    </tr>\n",
       "  </thead>\n",
       "  <tbody>\n",
       "    <tr>\n",
       "      <th>2017.0</th>\n",
       "      <td>6571</td>\n",
       "    </tr>\n",
       "    <tr>\n",
       "      <th>2016.0</th>\n",
       "      <td>4451</td>\n",
       "    </tr>\n",
       "    <tr>\n",
       "      <th>2020.0</th>\n",
       "      <td>4443</td>\n",
       "    </tr>\n",
       "    <tr>\n",
       "      <th>2018.0</th>\n",
       "      <td>3443</td>\n",
       "    </tr>\n",
       "    <tr>\n",
       "      <th>2019.0</th>\n",
       "      <td>3216</td>\n",
       "    </tr>\n",
       "  </tbody>\n",
       "</table>\n",
       "</div>"
      ],
      "text/plain": [
       "          id\n",
       "year        \n",
       "2017.0  6571\n",
       "2016.0  4451\n",
       "2020.0  4443\n",
       "2018.0  3443\n",
       "2019.0  3216"
      ]
     },
     "execution_count": 58,
     "metadata": {},
     "output_type": "execute_result"
    }
   ],
   "source": [
    "most_df = df.groupby(by='year').count().sort_values('id',ascending=False).head()\n",
    "most_df[['id']]"
   ]
  },
  {
   "cell_type": "markdown",
   "metadata": {
    "id": "iBu1mgDZuphp"
   },
   "source": [
    "# 5. In the last 5 years, which month were released the most games per year, can you guess why?"
   ]
  },
  {
   "cell_type": "code",
   "execution_count": 61,
   "metadata": {
    "ExecuteTime": {
     "end_time": "2021-05-16T11:48:24.120310Z",
     "start_time": "2021-05-16T11:48:24.094125Z"
    },
    "id": "b024SEm4uphp",
    "outputId": "e42b8627-02c9-4ee2-fcef-781b8587c5ba"
   },
   "outputs": [],
   "source": [
    "df_five = df[(df['first_release_date'] >= datetime(2016,1,1)) & (df['first_release_date'] <= datetime(2020,12,31))]"
   ]
  },
  {
   "cell_type": "code",
   "execution_count": 62,
   "metadata": {
    "ExecuteTime": {
     "end_time": "2021-05-16T11:48:24.131348Z",
     "start_time": "2021-05-16T11:48:24.121439Z"
    },
    "id": "dFWOkx0uuphq",
    "outputId": "feb3d67a-3c0f-47d9-e1cf-faf15a46c198"
   },
   "outputs": [
    {
     "data": {
      "text/html": [
       "<div>\n",
       "<style scoped>\n",
       "    .dataframe tbody tr th:only-of-type {\n",
       "        vertical-align: middle;\n",
       "    }\n",
       "\n",
       "    .dataframe tbody tr th {\n",
       "        vertical-align: top;\n",
       "    }\n",
       "\n",
       "    .dataframe thead th {\n",
       "        text-align: right;\n",
       "    }\n",
       "</style>\n",
       "<table border=\"1\" class=\"dataframe\">\n",
       "  <thead>\n",
       "    <tr style=\"text-align: right;\">\n",
       "      <th></th>\n",
       "      <th>id</th>\n",
       "      <th>name</th>\n",
       "      <th>platforms</th>\n",
       "      <th>first_release_date</th>\n",
       "      <th>category</th>\n",
       "      <th>genres</th>\n",
       "      <th>themes</th>\n",
       "      <th>player_perspectives</th>\n",
       "      <th>rating</th>\n",
       "      <th>rating_count</th>\n",
       "      <th>similar_games</th>\n",
       "      <th>total_rating</th>\n",
       "      <th>total_rating_count</th>\n",
       "      <th>url</th>\n",
       "      <th>aggregated_rating</th>\n",
       "      <th>aggregated_rating_count</th>\n",
       "      <th>year</th>\n",
       "      <th>month</th>\n",
       "      <th>weighted_score</th>\n",
       "      <th>normalized_weighted_score</th>\n",
       "    </tr>\n",
       "  </thead>\n",
       "  <tbody>\n",
       "    <tr>\n",
       "      <th>133854</th>\n",
       "      <td>7331.0</td>\n",
       "      <td>Uncharted4:AThief'sEnd</td>\n",
       "      <td>48</td>\n",
       "      <td>2016-05-10</td>\n",
       "      <td>0.0</td>\n",
       "      <td>5,31</td>\n",
       "      <td>1,17,22</td>\n",
       "      <td>2</td>\n",
       "      <td>92.424968</td>\n",
       "      <td>1248.0</td>\n",
       "      <td>431,471,512,565,1009,5503,7323,11156,11186</td>\n",
       "      <td>92.795817</td>\n",
       "      <td>1273.0</td>\n",
       "      <td>https://www.igdb.com/games/uncharted-4-a-thief...</td>\n",
       "      <td>93.166667</td>\n",
       "      <td>25.0</td>\n",
       "      <td>2016.0</td>\n",
       "      <td>5.0</td>\n",
       "      <td>115346.360029</td>\n",
       "      <td>45.542396</td>\n",
       "    </tr>\n",
       "    <tr>\n",
       "      <th>134338</th>\n",
       "      <td>7346.0</td>\n",
       "      <td>TheLegendofZelda:BreathoftheWild</td>\n",
       "      <td>41,130</td>\n",
       "      <td>2017-03-03</td>\n",
       "      <td>0.0</td>\n",
       "      <td>12,31</td>\n",
       "      <td>1,17,38</td>\n",
       "      <td>2</td>\n",
       "      <td>92.156404</td>\n",
       "      <td>1191.0</td>\n",
       "      <td>359,472,1029,1036,1864,1942,3025,11156,19560</td>\n",
       "      <td>94.874499</td>\n",
       "      <td>1222.0</td>\n",
       "      <td>https://www.igdb.com/games/the-legend-of-zelda...</td>\n",
       "      <td>97.592593</td>\n",
       "      <td>31.0</td>\n",
       "      <td>2017.0</td>\n",
       "      <td>3.0</td>\n",
       "      <td>109758.277678</td>\n",
       "      <td>43.336044</td>\n",
       "    </tr>\n",
       "    <tr>\n",
       "      <th>133085</th>\n",
       "      <td>19560.0</td>\n",
       "      <td>GodofWar</td>\n",
       "      <td>48</td>\n",
       "      <td>2018-04-20</td>\n",
       "      <td>0.0</td>\n",
       "      <td>25,31</td>\n",
       "      <td>1,17,22</td>\n",
       "      <td>2</td>\n",
       "      <td>95.376476</td>\n",
       "      <td>1144.0</td>\n",
       "      <td>19564,19565,22387,23733,25076,26192,28168,3692...</td>\n",
       "      <td>96.160460</td>\n",
       "      <td>1165.0</td>\n",
       "      <td>https://www.igdb.com/games/god-of-war--1</td>\n",
       "      <td>96.944444</td>\n",
       "      <td>21.0</td>\n",
       "      <td>2018.0</td>\n",
       "      <td>4.0</td>\n",
       "      <td>109110.688332</td>\n",
       "      <td>43.080355</td>\n",
       "    </tr>\n",
       "    <tr>\n",
       "      <th>133878</th>\n",
       "      <td>11156.0</td>\n",
       "      <td>HorizonZeroDawn</td>\n",
       "      <td>6,48</td>\n",
       "      <td>2017-02-28</td>\n",
       "      <td>0.0</td>\n",
       "      <td>5,12</td>\n",
       "      <td>1,18,38</td>\n",
       "      <td>2</td>\n",
       "      <td>91.690298</td>\n",
       "      <td>989.0</td>\n",
       "      <td>1877,7349,11208,17379,19564,25076,25300,36198,...</td>\n",
       "      <td>90.268226</td>\n",
       "      <td>1018.0</td>\n",
       "      <td>https://www.igdb.com/games/horizon-zero-dawn</td>\n",
       "      <td>88.846154</td>\n",
       "      <td>29.0</td>\n",
       "      <td>2017.0</td>\n",
       "      <td>2.0</td>\n",
       "      <td>90681.704579</td>\n",
       "      <td>35.804009</td>\n",
       "    </tr>\n",
       "    <tr>\n",
       "      <th>81933</th>\n",
       "      <td>7351.0</td>\n",
       "      <td>DOOM</td>\n",
       "      <td>6,48,49</td>\n",
       "      <td>2016-05-13</td>\n",
       "      <td>0.0</td>\n",
       "      <td>5</td>\n",
       "      <td>1,18,19,21</td>\n",
       "      <td>1</td>\n",
       "      <td>86.189907</td>\n",
       "      <td>1026.0</td>\n",
       "      <td>312,533,571,1006,2031,9498,9727,11118,19531</td>\n",
       "      <td>86.579328</td>\n",
       "      <td>1060.0</td>\n",
       "      <td>https://www.igdb.com/games/doom--2</td>\n",
       "      <td>86.968750</td>\n",
       "      <td>34.0</td>\n",
       "      <td>2016.0</td>\n",
       "      <td>5.0</td>\n",
       "      <td>88430.844465</td>\n",
       "      <td>34.915298</td>\n",
       "    </tr>\n",
       "    <tr>\n",
       "      <th>...</th>\n",
       "      <td>...</td>\n",
       "      <td>...</td>\n",
       "      <td>...</td>\n",
       "      <td>...</td>\n",
       "      <td>...</td>\n",
       "      <td>...</td>\n",
       "      <td>...</td>\n",
       "      <td>...</td>\n",
       "      <td>...</td>\n",
       "      <td>...</td>\n",
       "      <td>...</td>\n",
       "      <td>...</td>\n",
       "      <td>...</td>\n",
       "      <td>...</td>\n",
       "      <td>...</td>\n",
       "      <td>...</td>\n",
       "      <td>...</td>\n",
       "      <td>...</td>\n",
       "      <td>...</td>\n",
       "      <td>...</td>\n",
       "    </tr>\n",
       "    <tr>\n",
       "      <th>79822</th>\n",
       "      <td>132386.0</td>\n",
       "      <td>Nerve</td>\n",
       "      <td>6</td>\n",
       "      <td>2020-12-31</td>\n",
       "      <td>0.0</td>\n",
       "      <td>32,33</td>\n",
       "      <td>1</td>\n",
       "      <td>1</td>\n",
       "      <td>NaN</td>\n",
       "      <td>NaN</td>\n",
       "      <td>22799,37419,43367,76263,96217,111130,113360,11...</td>\n",
       "      <td>NaN</td>\n",
       "      <td>NaN</td>\n",
       "      <td>https://www.igdb.com/games/nerve</td>\n",
       "      <td>NaN</td>\n",
       "      <td>NaN</td>\n",
       "      <td>2020.0</td>\n",
       "      <td>12.0</td>\n",
       "      <td>NaN</td>\n",
       "      <td>NaN</td>\n",
       "    </tr>\n",
       "    <tr>\n",
       "      <th>54896</th>\n",
       "      <td>116017.0</td>\n",
       "      <td>CyberOps:TacticalHackingSupport</td>\n",
       "      <td>6</td>\n",
       "      <td>2020-12-31</td>\n",
       "      <td>0.0</td>\n",
       "      <td>13,15,32</td>\n",
       "      <td>1</td>\n",
       "      <td>NaN</td>\n",
       "      <td>NaN</td>\n",
       "      <td>NaN</td>\n",
       "      <td>25311,26574,31515,35994,37419,51577,65827,7855...</td>\n",
       "      <td>NaN</td>\n",
       "      <td>NaN</td>\n",
       "      <td>https://www.igdb.com/games/cyber-ops-tactical-...</td>\n",
       "      <td>NaN</td>\n",
       "      <td>NaN</td>\n",
       "      <td>2020.0</td>\n",
       "      <td>12.0</td>\n",
       "      <td>NaN</td>\n",
       "      <td>NaN</td>\n",
       "    </tr>\n",
       "    <tr>\n",
       "      <th>56561</th>\n",
       "      <td>138048.0</td>\n",
       "      <td>Tinyshot</td>\n",
       "      <td>6</td>\n",
       "      <td>2020-12-31</td>\n",
       "      <td>0.0</td>\n",
       "      <td>5,33</td>\n",
       "      <td>1</td>\n",
       "      <td>4</td>\n",
       "      <td>NaN</td>\n",
       "      <td>NaN</td>\n",
       "      <td>27270,43367,103281,103292,103298,103301,105049...</td>\n",
       "      <td>NaN</td>\n",
       "      <td>NaN</td>\n",
       "      <td>https://www.igdb.com/games/tinyshot</td>\n",
       "      <td>NaN</td>\n",
       "      <td>NaN</td>\n",
       "      <td>2020.0</td>\n",
       "      <td>12.0</td>\n",
       "      <td>NaN</td>\n",
       "      <td>NaN</td>\n",
       "    </tr>\n",
       "    <tr>\n",
       "      <th>1204</th>\n",
       "      <td>137607.0</td>\n",
       "      <td>Vilset</td>\n",
       "      <td>6</td>\n",
       "      <td>2020-12-31</td>\n",
       "      <td>0.0</td>\n",
       "      <td>13</td>\n",
       "      <td>33</td>\n",
       "      <td>3</td>\n",
       "      <td>NaN</td>\n",
       "      <td>NaN</td>\n",
       "      <td>NaN</td>\n",
       "      <td>NaN</td>\n",
       "      <td>NaN</td>\n",
       "      <td>https://www.igdb.com/games/vilset</td>\n",
       "      <td>NaN</td>\n",
       "      <td>NaN</td>\n",
       "      <td>2020.0</td>\n",
       "      <td>12.0</td>\n",
       "      <td>NaN</td>\n",
       "      <td>NaN</td>\n",
       "    </tr>\n",
       "    <tr>\n",
       "      <th>94920</th>\n",
       "      <td>75567.0</td>\n",
       "      <td>ELYON</td>\n",
       "      <td>6</td>\n",
       "      <td>2020-12-31</td>\n",
       "      <td>0.0</td>\n",
       "      <td>12</td>\n",
       "      <td>17</td>\n",
       "      <td>2</td>\n",
       "      <td>NaN</td>\n",
       "      <td>NaN</td>\n",
       "      <td>54775,69007,99118,103303,106987,112191,113636,...</td>\n",
       "      <td>NaN</td>\n",
       "      <td>NaN</td>\n",
       "      <td>https://www.igdb.com/games/elyon</td>\n",
       "      <td>NaN</td>\n",
       "      <td>NaN</td>\n",
       "      <td>2020.0</td>\n",
       "      <td>12.0</td>\n",
       "      <td>NaN</td>\n",
       "      <td>NaN</td>\n",
       "    </tr>\n",
       "  </tbody>\n",
       "</table>\n",
       "<p>22124 rows × 20 columns</p>\n",
       "</div>"
      ],
      "text/plain": [
       "              id                              name platforms  \\\n",
       "133854    7331.0            Uncharted4:AThief'sEnd        48   \n",
       "134338    7346.0  TheLegendofZelda:BreathoftheWild    41,130   \n",
       "133085   19560.0                          GodofWar        48   \n",
       "133878   11156.0                   HorizonZeroDawn      6,48   \n",
       "81933     7351.0                              DOOM   6,48,49   \n",
       "...          ...                               ...       ...   \n",
       "79822   132386.0                             Nerve         6   \n",
       "54896   116017.0   CyberOps:TacticalHackingSupport         6   \n",
       "56561   138048.0                          Tinyshot         6   \n",
       "1204    137607.0                            Vilset         6   \n",
       "94920    75567.0                             ELYON         6   \n",
       "\n",
       "       first_release_date  category    genres      themes player_perspectives  \\\n",
       "133854         2016-05-10       0.0      5,31     1,17,22                   2   \n",
       "134338         2017-03-03       0.0     12,31     1,17,38                   2   \n",
       "133085         2018-04-20       0.0     25,31     1,17,22                   2   \n",
       "133878         2017-02-28       0.0      5,12     1,18,38                   2   \n",
       "81933          2016-05-13       0.0         5  1,18,19,21                   1   \n",
       "...                   ...       ...       ...         ...                 ...   \n",
       "79822          2020-12-31       0.0     32,33           1                   1   \n",
       "54896          2020-12-31       0.0  13,15,32           1                 NaN   \n",
       "56561          2020-12-31       0.0      5,33           1                   4   \n",
       "1204           2020-12-31       0.0        13          33                   3   \n",
       "94920          2020-12-31       0.0        12          17                   2   \n",
       "\n",
       "           rating  rating_count  \\\n",
       "133854  92.424968        1248.0   \n",
       "134338  92.156404        1191.0   \n",
       "133085  95.376476        1144.0   \n",
       "133878  91.690298         989.0   \n",
       "81933   86.189907        1026.0   \n",
       "...           ...           ...   \n",
       "79822         NaN           NaN   \n",
       "54896         NaN           NaN   \n",
       "56561         NaN           NaN   \n",
       "1204          NaN           NaN   \n",
       "94920         NaN           NaN   \n",
       "\n",
       "                                            similar_games  total_rating  \\\n",
       "133854         431,471,512,565,1009,5503,7323,11156,11186     92.795817   \n",
       "134338       359,472,1029,1036,1864,1942,3025,11156,19560     94.874499   \n",
       "133085  19564,19565,22387,23733,25076,26192,28168,3692...     96.160460   \n",
       "133878  1877,7349,11208,17379,19564,25076,25300,36198,...     90.268226   \n",
       "81933         312,533,571,1006,2031,9498,9727,11118,19531     86.579328   \n",
       "...                                                   ...           ...   \n",
       "79822   22799,37419,43367,76263,96217,111130,113360,11...           NaN   \n",
       "54896   25311,26574,31515,35994,37419,51577,65827,7855...           NaN   \n",
       "56561   27270,43367,103281,103292,103298,103301,105049...           NaN   \n",
       "1204                                                  NaN           NaN   \n",
       "94920   54775,69007,99118,103303,106987,112191,113636,...           NaN   \n",
       "\n",
       "        total_rating_count                                                url  \\\n",
       "133854              1273.0  https://www.igdb.com/games/uncharted-4-a-thief...   \n",
       "134338              1222.0  https://www.igdb.com/games/the-legend-of-zelda...   \n",
       "133085              1165.0           https://www.igdb.com/games/god-of-war--1   \n",
       "133878              1018.0       https://www.igdb.com/games/horizon-zero-dawn   \n",
       "81933               1060.0                 https://www.igdb.com/games/doom--2   \n",
       "...                    ...                                                ...   \n",
       "79822                  NaN                   https://www.igdb.com/games/nerve   \n",
       "54896                  NaN  https://www.igdb.com/games/cyber-ops-tactical-...   \n",
       "56561                  NaN                https://www.igdb.com/games/tinyshot   \n",
       "1204                   NaN                  https://www.igdb.com/games/vilset   \n",
       "94920                  NaN                   https://www.igdb.com/games/elyon   \n",
       "\n",
       "        aggregated_rating  aggregated_rating_count    year  month  \\\n",
       "133854          93.166667                     25.0  2016.0    5.0   \n",
       "134338          97.592593                     31.0  2017.0    3.0   \n",
       "133085          96.944444                     21.0  2018.0    4.0   \n",
       "133878          88.846154                     29.0  2017.0    2.0   \n",
       "81933           86.968750                     34.0  2016.0    5.0   \n",
       "...                   ...                      ...     ...    ...   \n",
       "79822                 NaN                      NaN  2020.0   12.0   \n",
       "54896                 NaN                      NaN  2020.0   12.0   \n",
       "56561                 NaN                      NaN  2020.0   12.0   \n",
       "1204                  NaN                      NaN  2020.0   12.0   \n",
       "94920                 NaN                      NaN  2020.0   12.0   \n",
       "\n",
       "        weighted_score  normalized_weighted_score  \n",
       "133854   115346.360029                  45.542396  \n",
       "134338   109758.277678                  43.336044  \n",
       "133085   109110.688332                  43.080355  \n",
       "133878    90681.704579                  35.804009  \n",
       "81933     88430.844465                  34.915298  \n",
       "...                ...                        ...  \n",
       "79822              NaN                        NaN  \n",
       "54896              NaN                        NaN  \n",
       "56561              NaN                        NaN  \n",
       "1204               NaN                        NaN  \n",
       "94920              NaN                        NaN  \n",
       "\n",
       "[22124 rows x 20 columns]"
      ]
     },
     "execution_count": 62,
     "metadata": {},
     "output_type": "execute_result"
    }
   ],
   "source": [
    "df_five"
   ]
  },
  {
   "cell_type": "code",
   "execution_count": 78,
   "metadata": {},
   "outputs": [],
   "source": [
    "#another way - using isin\n",
    "years = [2016,2017,2018,2019,2020]\n",
    "df_five_2 = df[df['year'].isin(years)]\n",
    "df_five_2.head()"
   ]
  },
  {
   "cell_type": "code",
   "execution_count": 65,
   "metadata": {
    "ExecuteTime": {
     "end_time": "2021-05-16T11:48:24.221068Z",
     "start_time": "2021-05-16T11:48:24.132346Z"
    },
    "id": "XcyLl0uSuphr",
    "outputId": "9b83f003-d382-4441-a43d-9961b87f04a1"
   },
   "outputs": [
    {
     "data": {
      "text/plain": [
       "year    month\n",
       "2016.0  1.0      226\n",
       "        2.0      244\n",
       "        3.0      329\n",
       "        4.0      321\n",
       "        5.0      278\n",
       "        6.0      318\n",
       "        7.0      349\n",
       "        8.0      389\n",
       "        9.0      457\n",
       "        10.0     500\n",
       "        11.0     432\n",
       "        12.0     608\n",
       "2017.0  1.0      368\n",
       "        2.0      384\n",
       "        3.0      481\n",
       "        4.0      424\n",
       "        5.0      428\n",
       "        6.0      432\n",
       "        7.0      593\n",
       "        8.0      666\n",
       "        9.0      725\n",
       "        10.0     706\n",
       "        11.0     680\n",
       "        12.0     684\n",
       "2018.0  1.0      215\n",
       "        2.0      253\n",
       "        3.0      311\n",
       "        4.0      225\n",
       "        5.0      268\n",
       "        6.0      234\n",
       "        7.0      214\n",
       "        8.0      268\n",
       "        9.0      286\n",
       "        10.0     270\n",
       "        11.0     252\n",
       "        12.0     647\n",
       "2019.0  1.0      240\n",
       "        2.0      245\n",
       "        3.0      241\n",
       "        4.0      268\n",
       "        5.0      254\n",
       "        6.0      229\n",
       "        7.0      243\n",
       "        8.0      272\n",
       "        9.0      268\n",
       "        10.0     280\n",
       "        11.0     351\n",
       "        12.0     325\n",
       "2020.0  1.0      440\n",
       "        2.0      545\n",
       "        3.0      411\n",
       "        4.0      258\n",
       "        5.0      294\n",
       "        6.0      293\n",
       "        7.0      284\n",
       "        8.0      238\n",
       "        9.0      269\n",
       "        10.0     363\n",
       "        11.0     173\n",
       "        12.0     875\n",
       "Name: id, dtype: int64"
      ]
     },
     "execution_count": 65,
     "metadata": {},
     "output_type": "execute_result"
    }
   ],
   "source": [
    "df_year_month = df_five.groupby(['year','month'])['id'].count()\n",
    "df_year_month"
   ]
  },
  {
   "cell_type": "code",
   "execution_count": 67,
   "metadata": {
    "ExecuteTime": {
     "end_time": "2021-05-16T11:48:24.761161Z",
     "start_time": "2021-05-16T11:48:24.222199Z"
    },
    "id": "3H73HCsGuphs",
    "outputId": "d3c91052-2b49-4c23-a870-3d445749542e"
   },
   "outputs": [
    {
     "data": {
      "image/png": "[encoded data removed]",
      "text/plain": [
       "<Figure size 1296x360 with 1 Axes>"
      ]
     },
     "metadata": {
      "needs_background": "light"
     },
     "output_type": "display_data"
    }
   ],
   "source": [
    "df_year_month.unstack().idxmax(axis=1).plot.bar(figsize=[18,5])\n",
    "None"
   ]
  },
  {
   "cell_type": "code",
   "execution_count": 68,
   "metadata": {
    "ExecuteTime": {
     "end_time": "2021-05-16T11:49:11.027090Z",
     "start_time": "2021-05-16T11:49:09.845217Z"
    },
    "id": "RSYBPsIfuph0"
   },
   "outputs": [
    {
     "data": {
      "image/png": "[encoded data removed]",
      "text/plain": [
       "<Figure size 1080x216 with 1 Axes>"
      ]
     },
     "metadata": {
      "needs_background": "light"
     },
     "output_type": "display_data"
    },
    {
     "data": {
      "image/png": "[encoded data removed]",
      "text/plain": [
       "<Figure size 1080x216 with 1 Axes>"
      ]
     },
     "metadata": {
      "needs_background": "light"
     },
     "output_type": "display_data"
    },
    {
     "data": {
      "image/png": "[encoded data removed]",
      "text/plain": [
       "<Figure size 1080x216 with 1 Axes>"
      ]
     },
     "metadata": {
      "needs_background": "light"
     },
     "output_type": "display_data"
    },
    {
     "data": {
      "image/png": "[encoded data removed]",
      "text/plain": [
       "<Figure size 1080x216 with 1 Axes>"
      ]
     },
     "metadata": {
      "needs_background": "light"
     },
     "output_type": "display_data"
    },
    {
     "data": {
      "image/png": "[encoded data removed]",
      "text/plain": [
       "<Figure size 1080x216 with 1 Axes>"
      ]
     },
     "metadata": {
      "needs_background": "light"
     },
     "output_type": "display_data"
    }
   ],
   "source": [
    "df_releases = df_five.groupby(['year', 'month'])['id'].agg('count').reset_index()\n",
    "years = [2016, 2017, 2018, 2019, 2020]\n",
    "\n",
    "for year in years:\n",
    "    x = df_releases[df_releases['year'] == year]\n",
    "    plt.figure(figsize=(15,3))\n",
    "    plt.title('Titles per year: {}'.format(year))\n",
    "    plt.xlabel('Month')\n",
    "    plt.ylabel('No. of titles')\n",
    "    plt.bar(x['month'],x['id'])\n",
    "    None"
   ]
  },
  {
   "cell_type": "code",
   "execution_count": null,
   "metadata": {
    "id": "OybAllVauph0"
   },
   "outputs": [],
   "source": []
  }
 ],
 "metadata": {
  "colab": {
   "collapsed_sections": [],
   "name": "Advanced Cleaning part I solutions.ipynb",
   "provenance": []
  },
  "kernelspec": {
   "display_name": "Python 3 (ipykernel)",
   "language": "python",
   "name": "python3"
  },
  "language_info": {
   "codemirror_mode": {
    "name": "ipython",
    "version": 3
   },
   "file_extension": ".py",
   "mimetype": "text/x-python",
   "name": "python",
   "nbconvert_exporter": "python",
   "pygments_lexer": "ipython3",
   "version": "3.7.6"
  },
  "toc": {
   "base_numbering": 1,
   "nav_menu": {},
   "number_sections": true,
   "sideBar": true,
   "skip_h1_title": false,
   "title_cell": "Table of Contents",
   "title_sidebar": "Contents",
   "toc_cell": false,
   "toc_position": {},
   "toc_section_display": true,
   "toc_window_display": false
  },
  "varInspector": {
   "cols": {
    "lenName": 16,
    "lenType": 16,
    "lenVar": 40
   },
   "kernels_config": {
    "python": {
     "delete_cmd_postfix": "",
     "delete_cmd_prefix": "del ",
     "library": "var_list.py",
     "varRefreshCmd": "print(var_dic_list())"
    },
    "r": {
     "delete_cmd_postfix": ") ",
     "delete_cmd_prefix": "rm(",
     "library": "var_list.r",
     "varRefreshCmd": "cat(var_dic_list()) "
    }
   },
   "types_to_exclude": [
    "module",
    "function",
    "builtin_function_or_method",
    "instance",
    "_Feature"
   ],
   "window_display": false
  }
 },
 "nbformat": 4,
 "nbformat_minor": 4
}
