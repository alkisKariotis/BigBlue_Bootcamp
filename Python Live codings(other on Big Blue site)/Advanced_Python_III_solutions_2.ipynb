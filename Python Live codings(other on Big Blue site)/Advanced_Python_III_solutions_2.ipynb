{
 "cells": [
  {
   "cell_type": "code",
   "execution_count": 1,
   "id": "2a16163b-892f-47ea-aa6f-596edc64859c",
   "metadata": {},
   "outputs": [],
   "source": [
    "import re"
   ]
  },
  {
   "cell_type": "markdown",
   "id": "240a3276-c163-4ae8-b72b-de8d946723bb",
   "metadata": {},
   "source": [
    "## 1. Write a Python program to check that a string contains only lowercase and uppercase characters."
   ]
  },
  {
   "cell_type": "code",
   "execution_count": 36,
   "id": "5c77d019-5af9-416b-8b89-756c9d686f14",
   "metadata": {},
   "outputs": [
    {
     "name": "stdout",
     "output_type": "stream",
     "text": [
      "String contains only lowercase and uppercase characters\n"
     ]
    }
   ],
   "source": [
    "text = 'hello worlD'\n",
    "pattern = r'^[a-zA-Z ]+$'\n",
    "if re.search(pattern, text) == None:\n",
    "    print(\"String does not contain only lowercase and uppercase characters\")\n",
    "else:\n",
    "    print(\"String contains only lowercase and uppercase characters\")"
   ]
  },
  {
   "cell_type": "markdown",
   "id": "77a72019-82f7-4d59-b3ed-f20eed6b837f",
   "metadata": {},
   "source": [
    "--------------"
   ]
  },
  {
   "cell_type": "markdown",
   "id": "79100a57-1563-448e-b9f3-232485a365ab",
   "metadata": {},
   "source": [
    "## 2. Write a Python program that matches a word at the beginning of a string."
   ]
  },
  {
   "cell_type": "code",
   "execution_count": 21,
   "id": "8a064920-6c88-4b9b-8fac-bcb4d25b0320",
   "metadata": {},
   "outputs": [
    {
     "name": "stdout",
     "output_type": "stream",
     "text": [
      "String starts with a word\n"
     ]
    }
   ],
   "source": [
    "text = 'hello worlD'\n",
    "pattern = r'^[a-zA-Z]'\n",
    "if re.search(pattern, text) == None:\n",
    "    print(\"String does not start with a word\")\n",
    "else:\n",
    "    print(\"String starts with a word\")"
   ]
  },
  {
   "cell_type": "markdown",
   "id": "7112f708-7c1b-45d5-8cd5-509a8e543c1b",
   "metadata": {},
   "source": [
    "---------------"
   ]
  },
  {
   "cell_type": "markdown",
   "id": "36b8a774-eaad-48ba-8aae-17842e033835",
   "metadata": {},
   "source": [
    "## 3. Write a Python program that matches a word at the end of string."
   ]
  },
  {
   "cell_type": "code",
   "execution_count": 24,
   "id": "3846a113-6704-4b78-a2da-8bd0230342cf",
   "metadata": {},
   "outputs": [
    {
     "name": "stdout",
     "output_type": "stream",
     "text": [
      "String ends with a word\n"
     ]
    }
   ],
   "source": [
    "text = 'hello worlD'\n",
    "pattern = r'[a-zA-Z]$'\n",
    "if re.search(pattern, text) == None:\n",
    "    print(\"String does not end with a word\")\n",
    "else:\n",
    "    print(\"String ends with a word\")"
   ]
  },
  {
   "cell_type": "markdown",
   "id": "7e5919fc-0af6-4bfb-9f0c-eef1e91d3b76",
   "metadata": {},
   "source": [
    "--------------"
   ]
  },
  {
   "cell_type": "markdown",
   "id": "732b9253-527b-41a3-9d7e-76edb7d8c6af",
   "metadata": {},
   "source": [
    "## 4. Write a Python program that matches a word containing 'z', not at the start or end of the word."
   ]
  },
  {
   "cell_type": "code",
   "execution_count": 30,
   "id": "71d77252-d4d5-4629-96ca-480f173fb270",
   "metadata": {},
   "outputs": [
    {
     "name": "stdout",
     "output_type": "stream",
     "text": [
      "String has a 'z' in the middle\n"
     ]
    }
   ],
   "source": [
    "text = 'Brazil'\n",
    "pattern = r'^[^zZ].+[^zZ]$'\n",
    "if re.search(pattern, text) == None:\n",
    "    print(\"String does not have 'z' in the middle\")\n",
    "else:\n",
    "    print(\"String has a 'z' in the middle\")"
   ]
  },
  {
   "cell_type": "markdown",
   "id": "e25723c3-319f-495c-a9d0-d76c9706d17d",
   "metadata": {},
   "source": [
    "-------------"
   ]
  },
  {
   "cell_type": "markdown",
   "id": "42c2e520-dbd1-4176-8e4c-912ad69b18f4",
   "metadata": {},
   "source": [
    "## 5. Write a Python program to match a string that contains only upper and lowercase letters."
   ]
  },
  {
   "cell_type": "code",
   "execution_count": 43,
   "id": "40ce00be-1a32-466e-97aa-673740252345",
   "metadata": {},
   "outputs": [
    {
     "name": "stdout",
     "output_type": "stream",
     "text": [
      "String has only lowercase and uppercase characters\n"
     ]
    }
   ],
   "source": [
    "text = 'helloWORLD'\n",
    "pattern = r'^[a-zA-Z]+$'\n",
    "if re.search(pattern, text) == None:\n",
    "    print(\"String does not only have lowercase and uppercase characters\")\n",
    "else:\n",
    "    print(\"String has only lowercase and uppercase characters\")"
   ]
  },
  {
   "cell_type": "markdown",
   "id": "b925bc8f-b6a5-4fdd-9805-6798cf9bb7d1",
   "metadata": {},
   "source": [
    "-------------"
   ]
  },
  {
   "cell_type": "markdown",
   "id": "aa2b7967-abb5-4690-b728-01e3c1b7fa52",
   "metadata": {},
   "source": [
    "## 6. Write a Python program so that the full email addresses are extracted. (example: “For more information please write to the following email address: admissions@footballclub.com, Mrs Stepanie Smith will be delighted to assist you.”)"
   ]
  },
  {
   "cell_type": "code",
   "execution_count": 69,
   "id": "c2d36b92-c196-4106-ba83-4d4be87011d5",
   "metadata": {},
   "outputs": [],
   "source": [
    "text = 'For more information please write to the following email address: admissions@footballclub.com, \\\n",
    "Mrs Stepanie Smith will be delighted to assist you.'\n",
    "pattern = r'\\S+@\\S+\\.\\S+\\b'\n",
    "\n",
    "# \\S+ = 1 or more non whitespace characters\n",
    "# @ the at sign (no need for escape here)\n",
    "# \\. actual period (with escape character)"
   ]
  },
  {
   "cell_type": "code",
   "execution_count": 70,
   "id": "92e69817-55bd-4cdd-a99e-0947035cd609",
   "metadata": {},
   "outputs": [
    {
     "data": {
      "text/plain": [
       "'admissions@footballclub.com'"
      ]
     },
     "execution_count": 70,
     "metadata": {},
     "output_type": "execute_result"
    }
   ],
   "source": [
    "output = re.search(pattern, text)\n",
    "output.group(0)"
   ]
  },
  {
   "cell_type": "markdown",
   "id": "aa5a3523-6daf-4b55-8b55-158ce6dcb26c",
   "metadata": {},
   "source": [
    "---------------"
   ]
  },
  {
   "cell_type": "markdown",
   "id": "a5944526-5cb3-4287-9ebb-0bbb768051a1",
   "metadata": {},
   "source": [
    "## 7.  E-mail Validation"
   ]
  },
  {
   "cell_type": "markdown",
   "id": "d3a31b62-0450-4faa-a0ee-22b1d0180fca",
   "metadata": {},
   "source": [
    "A. Write an email validating function, returning True or False depending on whether an email address is correctly formatted (e.g. john.smith@yahoo.com works, not john.smith@yahoο, or johnsmith@yahoo.com). No input should lead to an exception."
   ]
  },
  {
   "cell_type": "code",
   "execution_count": 73,
   "id": "249f7fb6-5e01-4414-bdb0-e46fc5655373",
   "metadata": {},
   "outputs": [],
   "source": [
    "def email_validation_a(email):\n",
    "    if re.match(\"\\w+\\.\\w+@\\w+\\.\\w+\",email):\n",
    "        return True\n",
    "    else:\n",
    "        return False"
   ]
  },
  {
   "cell_type": "code",
   "execution_count": 74,
   "id": "75043825-46bf-4be1-b9cc-3b8dd3eb10ed",
   "metadata": {},
   "outputs": [
    {
     "name": "stdin",
     "output_type": "stream",
     "text": [
      "Please type in an email address:  thanos.petsakos@bigblue.com\n"
     ]
    },
    {
     "data": {
      "text/plain": [
       "True"
      ]
     },
     "execution_count": 74,
     "metadata": {},
     "output_type": "execute_result"
    }
   ],
   "source": [
    "email_validation_a(input(\"Please type in an email address: \"))"
   ]
  },
  {
   "cell_type": "markdown",
   "id": "075261fa-3323-4775-a047-c585c5bae9d4",
   "metadata": {},
   "source": [
    "--------------"
   ]
  },
  {
   "cell_type": "markdown",
   "id": "67ebd4fa-6876-4e41-968f-07bfb7c43e11",
   "metadata": {},
   "source": [
    "B. Extend your email validation in the first part to:  \". - _\"  and at least four characters and in the second part: extensions with minimum two characters and maximum 4 characters"
   ]
  },
  {
   "cell_type": "code",
   "execution_count": 75,
   "id": "cc858744-1d68-4008-8ca8-ddba184fa82c",
   "metadata": {},
   "outputs": [],
   "source": [
    "def email_validation_b(email):\n",
    "    if re.match(\"(\\w+){2,}[\\.\\-\\_](\\w+){2,}@\\w+\\.\\w{2,4}\\Z\",email):\n",
    "        return True\n",
    "    else:\n",
    "        return False"
   ]
  },
  {
   "cell_type": "code",
   "execution_count": 78,
   "id": "836ef437-ea16-4be3-9e73-a20d3770e97b",
   "metadata": {},
   "outputs": [
    {
     "name": "stdin",
     "output_type": "stream",
     "text": [
      "Please type in an email address  th.petsakos@gmail.gr\n"
     ]
    },
    {
     "data": {
      "text/plain": [
       "True"
      ]
     },
     "execution_count": 78,
     "metadata": {},
     "output_type": "execute_result"
    }
   ],
   "source": [
    "email_validation_b(input (\"Please type in an email address \"))"
   ]
  },
  {
   "cell_type": "markdown",
   "id": "0b2a8b75-ff7c-4359-9006-bc28655aa1a6",
   "metadata": {},
   "source": [
    "----------------"
   ]
  },
  {
   "cell_type": "markdown",
   "id": "039a1265-60bb-430e-bcf6-097bfd0595ba",
   "metadata": {},
   "source": [
    "## 8. Password Validation"
   ]
  },
  {
   "cell_type": "code",
   "execution_count": 89,
   "id": "0e370bdd-ce52-409e-a979-22ed63f53739",
   "metadata": {},
   "outputs": [],
   "source": [
    "def password_validation(password):\n",
    "    a = re.search(\"[A-Z]+\",password)\n",
    "    b = re.search(\"[a-z]+\",password)\n",
    "    c = re.search(\"[$#/\\@*]+\",password)\n",
    "    d = re.search(\"[0-9]+\",password)\n",
    "    #added length greatr than 8\n",
    "    e = re.search(\"^.{8,}$\",password) \n",
    "    if a and b and c and d and e:\n",
    "        print('Your password is validated succesfully') \n",
    "    else:  \n",
    "        print(\"\"\"Error: wrong password. Please ensure that you met all the criteria: at least \n",
    "                    - one lowercase letter\n",
    "                    - one uppercase letter\n",
    "                    - one digit \n",
    "                    - one symbol from $#/\\@*\n",
    "                    - length is greater than 8 characters\n",
    "                and no other characters was used\"\"\")"
   ]
  },
  {
   "cell_type": "code",
   "execution_count": 90,
   "id": "ea4a0fd4-106d-4928-b686-052190a3a48e",
   "metadata": {},
   "outputs": [
    {
     "name": "stdin",
     "output_type": "stream",
     "text": [
      "Please type in your password:  P@ssw0rd\n"
     ]
    },
    {
     "name": "stdout",
     "output_type": "stream",
     "text": [
      "Your password is validated succesfully\n"
     ]
    }
   ],
   "source": [
    "password_validation(input (\"Please type in your password: \"))"
   ]
  },
  {
   "cell_type": "markdown",
   "id": "c0c7833c-1ae7-4b1d-8b17-50e465852a2f",
   "metadata": {},
   "source": [
    "--------------"
   ]
  },
  {
   "cell_type": "markdown",
   "id": "4c4634ae-3355-4430-96b5-da2e29305c91",
   "metadata": {},
   "source": [
    "## 9. Unix Timestamps\n",
    "### Print the difference between a given UNIX Timestamp and the current UNIX Timestamp as human-readable time. (Given timestamp: 1493560132)"
   ]
  },
  {
   "cell_type": "code",
   "execution_count": 91,
   "id": "68a48df3-df49-459a-9a77-731ab23a5c1c",
   "metadata": {},
   "outputs": [],
   "source": [
    "import time\n",
    "timestamp = 1493560132\n",
    "currenttime = int(time.time())"
   ]
  },
  {
   "cell_type": "code",
   "execution_count": 92,
   "id": "dcdfca1a-43ea-499d-9f55-de37119d4a55",
   "metadata": {},
   "outputs": [
    {
     "data": {
      "text/plain": [
       "1667038277"
      ]
     },
     "execution_count": 92,
     "metadata": {},
     "output_type": "execute_result"
    }
   ],
   "source": [
    "currenttime"
   ]
  },
  {
   "cell_type": "code",
   "execution_count": 94,
   "id": "e6aed842-b227-4578-8051-5733a4258fbb",
   "metadata": {},
   "outputs": [
    {
     "data": {
      "text/plain": [
       "time.struct_time(tm_year=1975, tm_mon=7, tm_mday=1, tm_hour=23, tm_min=22, tm_sec=25, tm_wday=1, tm_yday=182, tm_isdst=1)"
      ]
     },
     "execution_count": 94,
     "metadata": {},
     "output_type": "execute_result"
    }
   ],
   "source": [
    "diff = currenttime - timestamp\n",
    "d = time.localtime(diff)\n",
    "d"
   ]
  },
  {
   "cell_type": "code",
   "execution_count": 95,
   "id": "eccd55dd-90d3-4aa3-b0d5-d930e43a0fd8",
   "metadata": {},
   "outputs": [
    {
     "name": "stdout",
     "output_type": "stream",
     "text": [
      "5 years, 6 months, 0 days, 23 hours, 22 minutes, 25 seconds\n"
     ]
    }
   ],
   "source": [
    "print(f'{d.tm_year - time.gmtime(0).tm_year} years, \\\n",
    "{d.tm_mon - time.gmtime(0).tm_mon} months, \\\n",
    "{d.tm_mday - time.gmtime(0).tm_mday} days, \\\n",
    "{d.tm_hour} hours, \\\n",
    "{d.tm_min} minutes, \\\n",
    "{d.tm_sec} seconds') "
   ]
  },
  {
   "cell_type": "markdown",
   "id": "9fb35b6c-82f3-43c9-bfdc-7a6554246b5d",
   "metadata": {},
   "source": [
    "------------"
   ]
  }
 ],
 "metadata": {
  "kernelspec": {
   "display_name": "Python 3 (ipykernel)",
   "language": "python",
   "name": "python3"
  },
  "language_info": {
   "codemirror_mode": {
    "name": "ipython",
    "version": 3
   },
   "file_extension": ".py",
   "mimetype": "text/x-python",
   "name": "python",
   "nbconvert_exporter": "python",
   "pygments_lexer": "ipython3",
   "version": "3.9.7"
  }
 },
 "nbformat": 4,
 "nbformat_minor": 5
}
