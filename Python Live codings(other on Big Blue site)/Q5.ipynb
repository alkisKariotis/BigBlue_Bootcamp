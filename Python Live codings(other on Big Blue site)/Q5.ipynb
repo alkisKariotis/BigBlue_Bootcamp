{
 "cells": [
  {
   "cell_type": "markdown",
   "id": "5714a7a4-6231-48a8-ac79-b5d6d698e62e",
   "metadata": {},
   "source": [
    "## 5. Students gradebook (convert grading system)"
   ]
  },
  {
   "cell_type": "code",
   "execution_count": 2,
   "id": "d62be438-b3be-477c-aea2-ad62fc9a4b64",
   "metadata": {},
   "outputs": [],
   "source": [
    "lloyd = {\n",
    "    \"name\": \"Lloyd\",\n",
    "    \"homework\": [90.0, 97.0, 75.0, 92.0],\n",
    "    \"quizzes\": [88.0, 40.0, 94.0],\n",
    "    \"tests\": [75.0, 90.0]\n",
    "}\n",
    "\n",
    "alice = {\n",
    "    \"name\": \"Alice\",\n",
    "    \"homework\": [100.0, 92.0, 98.0, 100.0],\n",
    "    \"quizzes\": [82.0, 83.0, 91.0],\n",
    "    \"tests\": [89.0, 97.0]\n",
    "}\n",
    "\n",
    "tyler = {\n",
    "    \"name\": \"Tyler\",\n",
    "    \"homework\": [0.0, 87.0, 75.0, 22.0],\n",
    "    \"quizzes\": [0.0, 75.0, 78.0],\n",
    "    \"tests\": [100.0, 100.0]\n",
    "}"
   ]
  },
  {
   "cell_type": "markdown",
   "id": "ba85feb4-26a5-4c34-9f53-94a20ff67f86",
   "metadata": {},
   "source": [
    "#### Find the average grade for homework, quizzes and tests for every student."
   ]
  },
  {
   "cell_type": "code",
   "execution_count": 3,
   "id": "670d7739-d566-4087-9b95-4401daedbb12",
   "metadata": {},
   "outputs": [
    {
     "data": {
      "text/plain": [
       "88.5"
      ]
     },
     "execution_count": 3,
     "metadata": {},
     "output_type": "execute_result"
    }
   ],
   "source": [
    "sum(lloyd['homework'])/len(lloyd['homework'])"
   ]
  },
  {
   "cell_type": "code",
   "execution_count": 4,
   "id": "e609a533-b3c8-4dc4-bc48-cfbe6727234b",
   "metadata": {},
   "outputs": [
    {
     "data": {
      "text/plain": [
       "74.0"
      ]
     },
     "execution_count": 4,
     "metadata": {},
     "output_type": "execute_result"
    }
   ],
   "source": [
    "sum(lloyd['quizzes'])/len(lloyd['quizzes'])"
   ]
  },
  {
   "cell_type": "code",
   "execution_count": 20,
   "id": "42795bbe-59b4-4523-9021-975ff32aff01",
   "metadata": {},
   "outputs": [
    {
     "data": {
      "text/plain": [
       "{'Lloyd': {'homework': 88.5, 'quizzes': 74.0, 'tests': 82.5},\n",
       " 'Alice': {'homework': 97.5, 'quizzes': 85.33333333333333, 'tests': 93.0},\n",
       " 'Tyler': {'homework': 46.0, 'quizzes': 51.0, 'tests': 100.0}}"
      ]
     },
     "execution_count": 20,
     "metadata": {},
     "output_type": "execute_result"
    }
   ],
   "source": [
    "students = [lloyd, alice, tyler]\n",
    "student_grades = {\"Lloyd\":{},\"Alice\":{},\"Tyler\":{}}\n",
    "\n",
    "for student in students:  #loop for each dictionary\n",
    "#    print(student)\n",
    "    for key in student: #let's also loop over every category within each student profile\n",
    "#        print(key)\n",
    "        if key != 'name':\n",
    "            avg_grade = sum(student[key])/len(student[key]) # calculate the avg grade (like above but with student and key)\n",
    "#            print(avg_grade)\n",
    "            student_grades[student['name']].update({key:avg_grade}) #update the new dictionary\n",
    "\n",
    "student_grades"
   ]
  },
  {
   "cell_type": "code",
   "execution_count": null,
   "id": "26fdc001-e932-4e0a-b4d2-6e70b8727cb3",
   "metadata": {},
   "outputs": [],
   "source": []
  },
  {
   "cell_type": "markdown",
   "id": "8a63328c-d544-4e9a-97e8-8d2a19894e42",
   "metadata": {},
   "source": [
    "George's Code (Thanks for sharing)!"
   ]
  },
  {
   "cell_type": "code",
   "execution_count": 21,
   "id": "cd3fd7c4-1e2b-4bef-868b-9af62633d1a9",
   "metadata": {},
   "outputs": [],
   "source": [
    "def students(y):\n",
    "    import copy\n",
    "    \n",
    "    ave_dict={'name':y['name'],\n",
    "              'homework':sum(y['homework'])/len(y['homework']),\n",
    "              'quizzes':sum(y['quizzes'])/len(y['quizzes']),\n",
    "              'tests':sum(y['tests'])/len(y['tests'])}\n",
    "    \n",
    "    x=copy.deepcopy(y)\n",
    "    \n",
    "    for i in x:\n",
    "        if type(x[i]) is list:\n",
    "            for j in x[i]:\n",
    "                if j>=90:\n",
    "                    x[i][x[i].index(j)]='A'\n",
    "                elif 80<=j<90:\n",
    "                    x[i][x[i].index(j)]='B'\n",
    "                elif 70<=j<80:\n",
    "                    x[i][x[i].index(j)]='C'\n",
    "                elif 60<=j<70:\n",
    "                    x[i][x[i].index(j)]='D'\n",
    "                else:\n",
    "                    x[i][x[i].index(j)]='F'\n",
    "        else:\n",
    "            continue\n",
    "    return ave_dict,x\n"
   ]
  },
  {
   "cell_type": "code",
   "execution_count": 23,
   "id": "b6709b96-d46c-4670-aaea-63cbee43f64b",
   "metadata": {},
   "outputs": [
    {
     "data": {
      "text/plain": [
       "({'name': 'Alice',\n",
       "  'homework': 97.5,\n",
       "  'quizzes': 85.33333333333333,\n",
       "  'tests': 93.0},\n",
       " {'name': 'Alice',\n",
       "  'homework': ['A', 'A', 'A', 'A'],\n",
       "  'quizzes': ['B', 'B', 'A'],\n",
       "  'tests': ['B', 'A']})"
      ]
     },
     "execution_count": 23,
     "metadata": {},
     "output_type": "execute_result"
    }
   ],
   "source": [
    "students(alice)"
   ]
  },
  {
   "cell_type": "code",
   "execution_count": null,
   "id": "4953877c-8caa-4dd3-aadc-8a4a49ecd282",
   "metadata": {},
   "outputs": [],
   "source": []
  }
 ],
 "metadata": {
  "kernelspec": {
   "display_name": "Python 3 (ipykernel)",
   "language": "python",
   "name": "python3"
  },
  "language_info": {
   "codemirror_mode": {
    "name": "ipython",
    "version": 3
   },
   "file_extension": ".py",
   "mimetype": "text/x-python",
   "name": "python",
   "nbconvert_exporter": "python",
   "pygments_lexer": "ipython3",
   "version": "3.9.7"
  }
 },
 "nbformat": 4,
 "nbformat_minor": 5
}
