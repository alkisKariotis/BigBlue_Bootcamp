{
 "cells": [
  {
   "cell_type": "markdown",
   "id": "78efb009-151d-4ebd-9b80-a0cf03624004",
   "metadata": {},
   "source": [
    "## THIS WILL BE OUR LIVE CODING NOTEBOOK FOR TODAY!\n",
    "------------------------------------------------------------------"
   ]
  },
  {
   "cell_type": "markdown",
   "id": "963327a5-e227-44fe-a40a-4fffb6e502ed",
   "metadata": {},
   "source": [
    "### Split (by default on whitespace)"
   ]
  },
  {
   "cell_type": "code",
   "execution_count": 2,
   "id": "6497a803-f907-4dca-badf-865d40b52e17",
   "metadata": {},
   "outputs": [],
   "source": [
    "s = 'Google released an update for Chrome'"
   ]
  },
  {
   "cell_type": "code",
   "execution_count": 6,
   "id": "ed60ef7b-f8d8-42ed-bb6c-4536ba58bfcb",
   "metadata": {},
   "outputs": [
    {
     "data": {
      "text/plain": [
       "['Google', 'released', 'an', 'update', 'for', 'Chrome']"
      ]
     },
     "execution_count": 6,
     "metadata": {},
     "output_type": "execute_result"
    }
   ],
   "source": [
    "x = s.split()\n",
    "x"
   ]
  },
  {
   "cell_type": "markdown",
   "id": "6832732d-9884-44cb-8a07-cbf0ded88ca7",
   "metadata": {},
   "source": [
    "### Split (or on anything we want)"
   ]
  },
  {
   "cell_type": "code",
   "execution_count": 8,
   "id": "ee492f31-e6c8-4ebc-91d0-c9a4dff36fbd",
   "metadata": {},
   "outputs": [],
   "source": [
    "s1 = 'thanos.petsakos@bigblue.com'"
   ]
  },
  {
   "cell_type": "code",
   "execution_count": 9,
   "id": "2636b3e1-c44b-435e-b550-00899dd8b6d8",
   "metadata": {},
   "outputs": [
    {
     "data": {
      "text/plain": [
       "['thanos.petsakos', 'bigblue.com']"
      ]
     },
     "execution_count": 9,
     "metadata": {},
     "output_type": "execute_result"
    }
   ],
   "source": [
    "x1 = s1.split(\"@\")\n",
    "x1"
   ]
  },
  {
   "cell_type": "markdown",
   "id": "9fdfd93b-7749-41ba-a37d-085be4418a7c",
   "metadata": {},
   "source": [
    "### Sorting (with Sort)"
   ]
  },
  {
   "cell_type": "code",
   "execution_count": 18,
   "id": "6375fa93-7b4c-4822-b8e6-ec56b31b68a9",
   "metadata": {},
   "outputs": [
    {
     "data": {
      "text/plain": [
       "['Google', 'released', 'an', 'update', 'for', 'Chrome']"
      ]
     },
     "execution_count": 18,
     "metadata": {},
     "output_type": "execute_result"
    }
   ],
   "source": [
    "s = 'Google released an update for Chrome'\n",
    "x = s.split()\n",
    "x"
   ]
  },
  {
   "cell_type": "code",
   "execution_count": 14,
   "id": "2406a509-5c0e-45f3-a0e8-b17c2f11c4d0",
   "metadata": {},
   "outputs": [
    {
     "data": {
      "text/plain": [
       "['Chrome', 'Google', 'an', 'for', 'released', 'update']"
      ]
     },
     "execution_count": 14,
     "metadata": {},
     "output_type": "execute_result"
    }
   ],
   "source": [
    "#note that the chnages have been saved\n",
    "#note the sorting order\n",
    "x.sort()\n",
    "x"
   ]
  },
  {
   "cell_type": "markdown",
   "id": "d88cfd3a-3745-43eb-bb6c-6c632d787491",
   "metadata": {},
   "source": [
    "### What about Sorting?"
   ]
  },
  {
   "cell_type": "code",
   "execution_count": 17,
   "id": "c5533d03-c424-4947-b7e2-58c244efeb33",
   "metadata": {},
   "outputs": [
    {
     "data": {
      "text/plain": [
       "['Chrome', 'Google', 'an', 'for', 'released', 'update']"
      ]
     },
     "execution_count": 17,
     "metadata": {},
     "output_type": "execute_result"
    }
   ],
   "source": [
    "#Notice we get the same result\n",
    "z = sorted(x)\n",
    "z"
   ]
  },
  {
   "cell_type": "markdown",
   "id": "ca657fde-48a8-4192-9b05-d58bfd6f0f0b",
   "metadata": {},
   "source": [
    "### However, Sorted can take in parameters"
   ]
  },
  {
   "cell_type": "code",
   "execution_count": 21,
   "id": "a724239f-5312-4f24-82c7-7c55d8ce16b2",
   "metadata": {},
   "outputs": [],
   "source": [
    "#remember: lower(), upper(), title()\n",
    "#also remember datatypes: str, int, float\n",
    "\n",
    "z1 = sorted(x, key = str.lower)"
   ]
  },
  {
   "cell_type": "code",
   "execution_count": 22,
   "id": "c8300145-898d-498f-b8b6-df7c09563d73",
   "metadata": {},
   "outputs": [
    {
     "data": {
      "text/plain": [
       "['an', 'Chrome', 'for', 'Google', 'released', 'update']"
      ]
     },
     "execution_count": 22,
     "metadata": {},
     "output_type": "execute_result"
    }
   ],
   "source": [
    "z1"
   ]
  },
  {
   "cell_type": "markdown",
   "id": "2c1de77f-8001-4c94-8691-038ab8e29f82",
   "metadata": {},
   "source": [
    "### Let's Join them again"
   ]
  },
  {
   "cell_type": "code",
   "execution_count": 29,
   "id": "b0fa5f0f-228c-4637-a7e2-f119c2e2cebb",
   "metadata": {},
   "outputs": [
    {
     "data": {
      "text/plain": [
       "'Google released an update for Chrome'"
      ]
     },
     "execution_count": 29,
     "metadata": {},
     "output_type": "execute_result"
    }
   ],
   "source": [
    "\" \".join(x)"
   ]
  },
  {
   "cell_type": "code",
   "execution_count": 30,
   "id": "25d2079e-7be2-4721-93a1-4bf85f9f5769",
   "metadata": {},
   "outputs": [
    {
     "data": {
      "text/plain": [
       "'Google released an update for Chrome'"
      ]
     },
     "execution_count": 30,
     "metadata": {},
     "output_type": "execute_result"
    }
   ],
   "source": [
    "joined = \" \".join(x)\n",
    "joined"
   ]
  },
  {
   "cell_type": "markdown",
   "id": "100d0f79-8137-48fe-a46f-ca2d50a0ac4c",
   "metadata": {},
   "source": [
    "### Finding elements in strings"
   ]
  },
  {
   "cell_type": "code",
   "execution_count": 31,
   "id": "83f44925-2e7b-4c8f-8106-6f9ced7803a6",
   "metadata": {},
   "outputs": [
    {
     "name": "stdout",
     "output_type": "stream",
     "text": [
      "found\n"
     ]
    }
   ],
   "source": [
    "if 'w' in 'word':\n",
    "    print(\"found\")"
   ]
  },
  {
   "cell_type": "code",
   "execution_count": 33,
   "id": "1b6b4dc8-ed2c-4cac-8a32-340afbc360d3",
   "metadata": {},
   "outputs": [],
   "source": [
    "lst = [0,1,2,3,4,5]"
   ]
  },
  {
   "cell_type": "code",
   "execution_count": 36,
   "id": "442cacc2-8fa6-4f9b-adfb-ade51a255c21",
   "metadata": {},
   "outputs": [
    {
     "name": "stdout",
     "output_type": "stream",
     "text": [
      "0\n",
      "1\n",
      "2\n",
      "3\n",
      "4\n",
      "5\n"
     ]
    }
   ],
   "source": [
    "for item in (lst):\n",
    "    print(item)"
   ]
  },
  {
   "cell_type": "code",
   "execution_count": 38,
   "id": "415b5b07-f6ee-4e39-875c-cd4aaca97e89",
   "metadata": {},
   "outputs": [
    {
     "name": "stdout",
     "output_type": "stream",
     "text": [
      "0 0\n",
      "1 1\n",
      "2 2\n",
      "3 3\n",
      "4 4\n",
      "5 5\n"
     ]
    }
   ],
   "source": [
    "for idx, item in enumerate(lst):\n",
    "    print(idx, item)"
   ]
  },
  {
   "cell_type": "markdown",
   "id": "c5814cce-feed-4197-9ee8-90054328f03e",
   "metadata": {},
   "source": [
    "### Logical Comparisons"
   ]
  },
  {
   "cell_type": "code",
   "execution_count": 45,
   "id": "2391b0a5-74da-4065-a3ac-8bbab43d5ae6",
   "metadata": {},
   "outputs": [
    {
     "data": {
      "text/plain": [
       "True"
      ]
     },
     "execution_count": 45,
     "metadata": {},
     "output_type": "execute_result"
    }
   ],
   "source": [
    "#Remember the cases in which \"False\" or \"True\" is returned\n",
    "x = bool(\"whatever\")\n",
    "x"
   ]
  },
  {
   "cell_type": "code",
   "execution_count": 46,
   "id": "ac6e0f70-20da-4748-b3bf-2ea91fda18b7",
   "metadata": {},
   "outputs": [
    {
     "data": {
      "text/plain": [
       "True"
      ]
     },
     "execution_count": 46,
     "metadata": {},
     "output_type": "execute_result"
    }
   ],
   "source": [
    "x = bool(1)\n",
    "x"
   ]
  },
  {
   "cell_type": "code",
   "execution_count": 47,
   "id": "4ba98a22-426c-477b-b48e-3bcf0e687dac",
   "metadata": {},
   "outputs": [
    {
     "data": {
      "text/plain": [
       "True"
      ]
     },
     "execution_count": 47,
     "metadata": {},
     "output_type": "execute_result"
    }
   ],
   "source": [
    "x = bool({'a':1})\n",
    "x"
   ]
  },
  {
   "cell_type": "code",
   "execution_count": 48,
   "id": "880fc5ec-8a3a-42ca-a682-c714b5066626",
   "metadata": {},
   "outputs": [
    {
     "data": {
      "text/plain": [
       "True"
      ]
     },
     "execution_count": 48,
     "metadata": {},
     "output_type": "execute_result"
    }
   ],
   "source": [
    "x = bool([1,2])\n",
    "x"
   ]
  },
  {
   "cell_type": "code",
   "execution_count": 49,
   "id": "cc9a96d1-ee10-465c-b188-f1693dcd2d51",
   "metadata": {},
   "outputs": [
    {
     "data": {
      "text/plain": [
       "False"
      ]
     },
     "execution_count": 49,
     "metadata": {},
     "output_type": "execute_result"
    }
   ],
   "source": [
    "a = False\n",
    "b = True\n",
    "a and b"
   ]
  },
  {
   "cell_type": "code",
   "execution_count": 50,
   "id": "05766c4e-d9e5-407a-ac44-3faf3e82e404",
   "metadata": {},
   "outputs": [
    {
     "data": {
      "text/plain": [
       "True"
      ]
     },
     "execution_count": 50,
     "metadata": {},
     "output_type": "execute_result"
    }
   ],
   "source": [
    "a = False\n",
    "b = True\n",
    "a or b"
   ]
  },
  {
   "cell_type": "code",
   "execution_count": 51,
   "id": "4ec05a73-6a86-4cc1-931d-b15c6880ee07",
   "metadata": {},
   "outputs": [
    {
     "data": {
      "text/plain": [
       "False"
      ]
     },
     "execution_count": 51,
     "metadata": {},
     "output_type": "execute_result"
    }
   ],
   "source": [
    "a = False\n",
    "b = True\n",
    "c = True\n",
    "(a and not (b or c))"
   ]
  },
  {
   "cell_type": "code",
   "execution_count": 54,
   "id": "acc1a57d-7a4c-43bc-a275-f4c4cc4afbdb",
   "metadata": {},
   "outputs": [
    {
     "data": {
      "text/plain": [
       "True"
      ]
     },
     "execution_count": 54,
     "metadata": {},
     "output_type": "execute_result"
    }
   ],
   "source": [
    "4 <= 7"
   ]
  },
  {
   "cell_type": "markdown",
   "id": "c4d99813-aa2e-48a4-a735-e54d5a7bb3f4",
   "metadata": {},
   "source": [
    "### Dictionaries"
   ]
  },
  {
   "cell_type": "code",
   "execution_count": 73,
   "id": "aac58555-e40a-47f3-8217-b425a69dd524",
   "metadata": {},
   "outputs": [],
   "source": [
    "new = {\n",
    "'burger':1,\n",
    " 'eggs':3,\n",
    " 'fries':5,\n",
    " 'lemonade':8,\n",
    " }"
   ]
  },
  {
   "cell_type": "code",
   "execution_count": 74,
   "id": "5facb817-f866-48db-a58c-a228e8f8942c",
   "metadata": {},
   "outputs": [
    {
     "data": {
      "text/plain": [
       "{'burger': 1, 'eggs': 3, 'fries': 5, 'lemonade': 8}"
      ]
     },
     "execution_count": 74,
     "metadata": {},
     "output_type": "execute_result"
    }
   ],
   "source": [
    "new"
   ]
  },
  {
   "cell_type": "code",
   "execution_count": 75,
   "id": "3d10a4de-05e8-44a2-88a6-ae0b3127d864",
   "metadata": {},
   "outputs": [
    {
     "data": {
      "text/plain": [
       "dict_items([('burger', 1), ('eggs', 3), ('fries', 5), ('lemonade', 8)])"
      ]
     },
     "execution_count": 75,
     "metadata": {},
     "output_type": "execute_result"
    }
   ],
   "source": [
    "#view all the items of the dictionary\n",
    "new.items()"
   ]
  },
  {
   "cell_type": "code",
   "execution_count": 76,
   "id": "1d8015c3-12b8-47f7-ba3c-16c87f8a6e97",
   "metadata": {},
   "outputs": [
    {
     "data": {
      "text/plain": [
       "[('burger', 1), ('eggs', 3), ('fries', 5), ('lemonade', 8)]"
      ]
     },
     "execution_count": 76,
     "metadata": {},
     "output_type": "execute_result"
    }
   ],
   "source": [
    "#print them in list format\n",
    "list(new.items())"
   ]
  },
  {
   "cell_type": "code",
   "execution_count": 84,
   "id": "a6c5bc1d-3cca-4728-b30e-cf9a60d09ebf",
   "metadata": {},
   "outputs": [],
   "source": [
    "#this will replace \"eggs\" key completely\n",
    "new['eggs'] = 4"
   ]
  },
  {
   "cell_type": "code",
   "execution_count": 85,
   "id": "61adaa24-c629-467e-89f8-722a0eaf5ef8",
   "metadata": {},
   "outputs": [
    {
     "data": {
      "text/plain": [
       "{'burger': 1, 'eggs': 4, 'fries': 5, 'lemonade': 8}"
      ]
     },
     "execution_count": 85,
     "metadata": {},
     "output_type": "execute_result"
    }
   ],
   "source": [
    "new"
   ]
  },
  {
   "cell_type": "code",
   "execution_count": 86,
   "id": "21010bd6-55aa-476b-aac0-470ee0199691",
   "metadata": {},
   "outputs": [],
   "source": [
    "#how to add to 'eggs' value\n",
    "new['eggs'] += 1"
   ]
  },
  {
   "cell_type": "code",
   "execution_count": 87,
   "id": "fb760a9b-7157-423d-b2c5-b932a28f817e",
   "metadata": {},
   "outputs": [
    {
     "data": {
      "text/plain": [
       "{'burger': 1, 'eggs': 5, 'fries': 5, 'lemonade': 8}"
      ]
     },
     "execution_count": 87,
     "metadata": {},
     "output_type": "execute_result"
    }
   ],
   "source": [
    "new"
   ]
  },
  {
   "cell_type": "code",
   "execution_count": 88,
   "id": "b37fd3f5-8d64-4e5d-a82b-0c4dcafdecc6",
   "metadata": {},
   "outputs": [
    {
     "ename": "KeyError",
     "evalue": "'soda'",
     "output_type": "error",
     "traceback": [
      "\u001b[1;31m---------------------------------------------------------------------------\u001b[0m",
      "\u001b[1;31mKeyError\u001b[0m                                  Traceback (most recent call last)",
      "\u001b[1;32m~\\AppData\\Local\\Temp/ipykernel_10160/3427932904.py\u001b[0m in \u001b[0;36m<module>\u001b[1;34m\u001b[0m\n\u001b[1;32m----> 1\u001b[1;33m \u001b[0mnew\u001b[0m\u001b[1;33m[\u001b[0m\u001b[1;34m'soda'\u001b[0m\u001b[1;33m]\u001b[0m\u001b[1;33m\u001b[0m\u001b[1;33m\u001b[0m\u001b[0m\n\u001b[0m",
      "\u001b[1;31mKeyError\u001b[0m: 'soda'"
     ]
    }
   ],
   "source": [
    "new['soda']"
   ]
  },
  {
   "cell_type": "markdown",
   "id": "9b81465a-cb70-4eea-a222-1799cb3b7438",
   "metadata": {},
   "source": [
    "### Visiting Booleans Again (just a few more examples)"
   ]
  },
  {
   "cell_type": "code",
   "execution_count": 89,
   "id": "4b87df83-1a1c-489c-b740-c9b8049f1c99",
   "metadata": {},
   "outputs": [
    {
     "name": "stdout",
     "output_type": "stream",
     "text": [
      "Not found\n"
     ]
    }
   ],
   "source": [
    "if bool(new.get('soda')) == False:\n",
    "    print('Not found')"
   ]
  },
  {
   "cell_type": "code",
   "execution_count": 90,
   "id": "e738958c-c29f-4f4b-8dff-bb93faef28d2",
   "metadata": {},
   "outputs": [
    {
     "data": {
      "text/plain": [
       "True"
      ]
     },
     "execution_count": 90,
     "metadata": {},
     "output_type": "execute_result"
    }
   ],
   "source": [
    "bool(new.get('soda')) == False"
   ]
  },
  {
   "cell_type": "markdown",
   "id": "4004c0e7-7dd6-457a-9d59-603b9a39eac6",
   "metadata": {},
   "source": [
    "### More on Dictionaries"
   ]
  },
  {
   "cell_type": "code",
   "execution_count": 91,
   "id": "2cf4c893-59fb-4799-920a-cf752f5a83de",
   "metadata": {},
   "outputs": [],
   "source": [
    "new['soda'] = 3"
   ]
  },
  {
   "cell_type": "code",
   "execution_count": 92,
   "id": "b84ab6c6-2cb1-452e-aab9-b51cd197c6d8",
   "metadata": {},
   "outputs": [
    {
     "data": {
      "text/plain": [
       "{'burger': 1, 'eggs': 5, 'fries': 5, 'lemonade': 8, 'soda': 3}"
      ]
     },
     "execution_count": 92,
     "metadata": {},
     "output_type": "execute_result"
    }
   ],
   "source": [
    "new"
   ]
  },
  {
   "cell_type": "code",
   "execution_count": 93,
   "id": "de38eb16-ead9-4083-a173-9f69fe08efc1",
   "metadata": {},
   "outputs": [
    {
     "data": {
      "text/plain": [
       "5"
      ]
     },
     "execution_count": 93,
     "metadata": {},
     "output_type": "execute_result"
    }
   ],
   "source": [
    "#pop is to remove item from dictionary\n",
    "new.pop('eggs')"
   ]
  },
  {
   "cell_type": "code",
   "execution_count": 94,
   "id": "db7fb29c-800b-402e-bea9-13889d972c85",
   "metadata": {},
   "outputs": [
    {
     "data": {
      "text/plain": [
       "{'burger': 1, 'fries': 5, 'lemonade': 8, 'soda': 3}"
      ]
     },
     "execution_count": 94,
     "metadata": {},
     "output_type": "execute_result"
    }
   ],
   "source": [
    "new"
   ]
  },
  {
   "cell_type": "markdown",
   "id": "ea90001c-8693-44de-a82f-c587ebd465e7",
   "metadata": {},
   "source": [
    "### Checking Out \"pop\" on Lists"
   ]
  },
  {
   "cell_type": "code",
   "execution_count": 100,
   "id": "f57615fd-a8c5-4322-992d-a1f4d33ba6b9",
   "metadata": {},
   "outputs": [],
   "source": [
    "lst = [4,3,2,55]"
   ]
  },
  {
   "cell_type": "code",
   "execution_count": 101,
   "id": "2670ceaa-3ae0-4cf5-94e5-365a5ac983e9",
   "metadata": {},
   "outputs": [
    {
     "data": {
      "text/plain": [
       "[4, 3, 2, 55]"
      ]
     },
     "execution_count": 101,
     "metadata": {},
     "output_type": "execute_result"
    }
   ],
   "source": [
    "lst"
   ]
  },
  {
   "cell_type": "code",
   "execution_count": 102,
   "id": "6050b07a-a22f-47a8-962b-4c0300488af1",
   "metadata": {},
   "outputs": [
    {
     "data": {
      "text/plain": [
       "55"
      ]
     },
     "execution_count": 102,
     "metadata": {},
     "output_type": "execute_result"
    }
   ],
   "source": [
    "lst.pop()"
   ]
  },
  {
   "cell_type": "code",
   "execution_count": 103,
   "id": "a2743e1e-d249-4cca-afee-eea6597ad7ba",
   "metadata": {},
   "outputs": [
    {
     "data": {
      "text/plain": [
       "[4, 3, 2]"
      ]
     },
     "execution_count": 103,
     "metadata": {},
     "output_type": "execute_result"
    }
   ],
   "source": [
    "lst"
   ]
  },
  {
   "cell_type": "markdown",
   "id": "e8059b79-c3a2-4248-b63c-87546e306339",
   "metadata": {},
   "source": [
    "### Back to Dictionaries"
   ]
  },
  {
   "cell_type": "code",
   "execution_count": 106,
   "id": "f01f6628-03e2-4790-aa07-095f9f7cffd4",
   "metadata": {},
   "outputs": [],
   "source": [
    "new = {\n",
    " 'burger':1,\n",
    " 'eggs':3,\n",
    " 'fries':5,\n",
    " 'lemonade':8,\n",
    " }"
   ]
  },
  {
   "cell_type": "code",
   "execution_count": 107,
   "id": "2e71a7a4-1cdc-449f-a5fb-e290538af9fd",
   "metadata": {},
   "outputs": [],
   "source": [
    "extras = {'bacon':3, 'mayo':2, 'burger':3}"
   ]
  },
  {
   "cell_type": "code",
   "execution_count": 108,
   "id": "2fc87285-a83a-49e8-8534-5c9b7efe20fd",
   "metadata": {},
   "outputs": [],
   "source": [
    "new.update(extras)"
   ]
  },
  {
   "cell_type": "code",
   "execution_count": 109,
   "id": "f416b3a9-403e-46ce-bbc2-9889ae8fd69f",
   "metadata": {},
   "outputs": [
    {
     "data": {
      "text/plain": [
       "{'burger': 3, 'eggs': 3, 'fries': 5, 'lemonade': 8, 'bacon': 3, 'mayo': 2}"
      ]
     },
     "execution_count": 109,
     "metadata": {},
     "output_type": "execute_result"
    }
   ],
   "source": [
    "new"
   ]
  },
  {
   "cell_type": "code",
   "execution_count": 111,
   "id": "33eef46d-14ff-4655-9566-cf02c9235a98",
   "metadata": {},
   "outputs": [
    {
     "data": {
      "text/plain": [
       "dict_keys(['burger', 'eggs', 'fries', 'lemonade', 'bacon', 'mayo'])"
      ]
     },
     "execution_count": 111,
     "metadata": {},
     "output_type": "execute_result"
    }
   ],
   "source": [
    "x = new.keys()\n",
    "x"
   ]
  },
  {
   "cell_type": "code",
   "execution_count": 112,
   "id": "c0ebfe56-51af-4965-8cd9-895fc05eedcc",
   "metadata": {},
   "outputs": [
    {
     "data": {
      "text/plain": [
       "['burger', 'eggs', 'fries', 'lemonade', 'bacon', 'mayo']"
      ]
     },
     "execution_count": 112,
     "metadata": {},
     "output_type": "execute_result"
    }
   ],
   "source": [
    "xl = list(new.keys())\n",
    "xl"
   ]
  },
  {
   "cell_type": "code",
   "execution_count": 113,
   "id": "d3fd32f8-d3ac-44d1-8912-b58a975cf569",
   "metadata": {},
   "outputs": [
    {
     "data": {
      "text/plain": [
       "'fries'"
      ]
     },
     "execution_count": 113,
     "metadata": {},
     "output_type": "execute_result"
    }
   ],
   "source": [
    "xl[2]"
   ]
  },
  {
   "cell_type": "code",
   "execution_count": 114,
   "id": "997bd5a9-a1bc-4678-b8d3-0d0384c2d617",
   "metadata": {},
   "outputs": [
    {
     "data": {
      "text/plain": [
       "dict_values([3, 3, 5, 8, 3, 2])"
      ]
     },
     "execution_count": 114,
     "metadata": {},
     "output_type": "execute_result"
    }
   ],
   "source": [
    "x = new.values()\n",
    "x"
   ]
  },
  {
   "cell_type": "code",
   "execution_count": 115,
   "id": "a3409296-a0fa-4df7-9c71-381a55253d34",
   "metadata": {},
   "outputs": [
    {
     "data": {
      "text/plain": [
       "[3, 3, 5, 8, 3, 2]"
      ]
     },
     "execution_count": 115,
     "metadata": {},
     "output_type": "execute_result"
    }
   ],
   "source": [
    "xl = list(new.values())\n",
    "xl"
   ]
  },
  {
   "cell_type": "code",
   "execution_count": 116,
   "id": "18fc14d8-168f-487f-b5c5-aeee1f12853a",
   "metadata": {},
   "outputs": [
    {
     "data": {
      "text/plain": [
       "dict_items([('burger', 3), ('eggs', 3), ('fries', 5), ('lemonade', 8), ('bacon', 3), ('mayo', 2)])"
      ]
     },
     "execution_count": 116,
     "metadata": {},
     "output_type": "execute_result"
    }
   ],
   "source": [
    "x = new.items()\n",
    "x"
   ]
  },
  {
   "cell_type": "code",
   "execution_count": 118,
   "id": "b948590c-d9bc-47b2-9970-4b1e8eb005d2",
   "metadata": {},
   "outputs": [
    {
     "data": {
      "text/plain": [
       "[('burger', 3),\n",
       " ('eggs', 3),\n",
       " ('fries', 5),\n",
       " ('lemonade', 8),\n",
       " ('bacon', 3),\n",
       " ('mayo', 2)]"
      ]
     },
     "execution_count": 118,
     "metadata": {},
     "output_type": "execute_result"
    }
   ],
   "source": [
    "#Notice that this is a list of tuples\n",
    "xi = list(new.items())\n",
    "xi"
   ]
  },
  {
   "cell_type": "code",
   "execution_count": 119,
   "id": "3fbd2e24-754f-44d4-8170-b37529489851",
   "metadata": {},
   "outputs": [
    {
     "data": {
      "text/plain": [
       "('eggs', 3)"
      ]
     },
     "execution_count": 119,
     "metadata": {},
     "output_type": "execute_result"
    }
   ],
   "source": [
    "xi[1]"
   ]
  },
  {
   "cell_type": "code",
   "execution_count": 121,
   "id": "92677363-6910-4833-b75e-4621503513c3",
   "metadata": {},
   "outputs": [
    {
     "data": {
      "text/plain": [
       "3"
      ]
     },
     "execution_count": 121,
     "metadata": {},
     "output_type": "execute_result"
    }
   ],
   "source": [
    "xi[1][1]"
   ]
  },
  {
   "cell_type": "code",
   "execution_count": 122,
   "id": "d45f160d-a14d-4b9b-9368-cc9f21353c6f",
   "metadata": {},
   "outputs": [
    {
     "ename": "TypeError",
     "evalue": "'tuple' object does not support item assignment",
     "output_type": "error",
     "traceback": [
      "\u001b[1;31m---------------------------------------------------------------------------\u001b[0m",
      "\u001b[1;31mTypeError\u001b[0m                                 Traceback (most recent call last)",
      "\u001b[1;32m~\\AppData\\Local\\Temp/ipykernel_10160/1358936497.py\u001b[0m in \u001b[0;36m<module>\u001b[1;34m\u001b[0m\n\u001b[1;32m----> 1\u001b[1;33m \u001b[0mxi\u001b[0m\u001b[1;33m[\u001b[0m\u001b[1;36m1\u001b[0m\u001b[1;33m]\u001b[0m\u001b[1;33m[\u001b[0m\u001b[1;36m1\u001b[0m\u001b[1;33m]\u001b[0m \u001b[1;33m=\u001b[0m \u001b[1;36m4\u001b[0m\u001b[1;33m\u001b[0m\u001b[1;33m\u001b[0m\u001b[0m\n\u001b[0m",
      "\u001b[1;31mTypeError\u001b[0m: 'tuple' object does not support item assignment"
     ]
    }
   ],
   "source": [
    "xi[1][1] = 4"
   ]
  },
  {
   "cell_type": "markdown",
   "id": "a6f276f4-794b-4e67-9db9-9df7190eb11d",
   "metadata": {},
   "source": [
    "### Some loops"
   ]
  },
  {
   "cell_type": "code",
   "execution_count": 123,
   "id": "2b6301b6-fbf4-4fbf-93f0-8a19a50feeb2",
   "metadata": {},
   "outputs": [
    {
     "name": "stdout",
     "output_type": "stream",
     "text": [
      "burger\n",
      "eggs\n",
      "fries\n",
      "lemonade\n",
      "bacon\n",
      "mayo\n"
     ]
    }
   ],
   "source": [
    "for k in new.keys():\n",
    "    print(k)"
   ]
  },
  {
   "cell_type": "code",
   "execution_count": 124,
   "id": "c134d985-6c42-4949-9303-ea9a736b8045",
   "metadata": {},
   "outputs": [
    {
     "name": "stdout",
     "output_type": "stream",
     "text": [
      "3\n",
      "3\n",
      "5\n",
      "8\n",
      "3\n",
      "2\n"
     ]
    }
   ],
   "source": [
    "for v in new.values():\n",
    "    print(v)"
   ]
  },
  {
   "cell_type": "code",
   "execution_count": 126,
   "id": "0d56201b-a031-4e5d-81b3-3cb12436272d",
   "metadata": {},
   "outputs": [
    {
     "name": "stdout",
     "output_type": "stream",
     "text": [
      "burger 3\n",
      "eggs 3\n",
      "fries 5\n",
      "lemonade 8\n",
      "bacon 3\n",
      "mayo 2\n"
     ]
    }
   ],
   "source": [
    "for k, v in new.items():\n",
    "    print(k, v)"
   ]
  },
  {
   "cell_type": "markdown",
   "id": "dd338ba9-8fd8-4b75-84e7-40bc2f18b069",
   "metadata": {},
   "source": [
    "### And Finally, More Dictionaries"
   ]
  },
  {
   "cell_type": "code",
   "execution_count": 127,
   "id": "80cf58da-0844-4f0d-9599-f0ee72327bc9",
   "metadata": {},
   "outputs": [],
   "source": [
    "order = {\n",
    "    'burger': {\n",
    "        'name': 'NewYork',\n",
    "        'side': 'fries',\n",
    "        'cook': 'well done'\n",
    "    },\n",
    "    'eggs': [3, 'medium'],\n",
    "    'fries': 3,\n",
    "    'schnitzel': 4,\n",
    "    'soda': 5,\n",
    "    'steak': {\n",
    "        'cook': 'rare',\n",
    "        'side': 'salad'\n",
    "    },\n",
    "    'water': [['tap', 3], ['mineral', 2]],\n",
    "    'wine': {\n",
    "        'brand': 'Gallo Family Vineyards',\n",
    "        'amount': 4,\n",
    "        'portion': 'bottle'\n",
    "    },\n",
    "}"
   ]
  },
  {
   "cell_type": "code",
   "execution_count": 128,
   "id": "452b54ae-3e71-47b9-9430-469e7c60824b",
   "metadata": {},
   "outputs": [
    {
     "data": {
      "text/plain": [
       "{'burger': {'name': 'NewYork', 'side': 'fries', 'cook': 'well done'},\n",
       " 'eggs': [3, 'medium'],\n",
       " 'fries': 3,\n",
       " 'schnitzel': 4,\n",
       " 'soda': 5,\n",
       " 'steak': {'cook': 'rare', 'side': 'salad'},\n",
       " 'water': [['tap', 3], ['mineral', 2]],\n",
       " 'wine': {'brand': 'Gallo Family Vineyards', 'amount': 4, 'portion': 'bottle'}}"
      ]
     },
     "execution_count": 128,
     "metadata": {},
     "output_type": "execute_result"
    }
   ],
   "source": [
    "order"
   ]
  },
  {
   "cell_type": "code",
   "execution_count": 129,
   "id": "f4799f27-c46a-4724-888e-d88c566aa7c9",
   "metadata": {},
   "outputs": [
    {
     "data": {
      "text/plain": [
       "{'name': 'NewYork', 'side': 'fries', 'cook': 'well done'}"
      ]
     },
     "execution_count": 129,
     "metadata": {},
     "output_type": "execute_result"
    }
   ],
   "source": [
    "order['burger']"
   ]
  },
  {
   "cell_type": "code",
   "execution_count": 130,
   "id": "f2bbf867-949b-4d8b-8503-f7dc34cdfb3a",
   "metadata": {},
   "outputs": [
    {
     "data": {
      "text/plain": [
       "'well done'"
      ]
     },
     "execution_count": 130,
     "metadata": {},
     "output_type": "execute_result"
    }
   ],
   "source": [
    "order['burger']['cook']"
   ]
  },
  {
   "cell_type": "code",
   "execution_count": 131,
   "id": "c5dfe299-3b03-4c28-b47a-4bf8784a2ba3",
   "metadata": {},
   "outputs": [
    {
     "data": {
      "text/plain": [
       "dict_keys(['name', 'side', 'cook'])"
      ]
     },
     "execution_count": 131,
     "metadata": {},
     "output_type": "execute_result"
    }
   ],
   "source": [
    "order['burger'].keys()"
   ]
  },
  {
   "cell_type": "code",
   "execution_count": 134,
   "id": "95327479-1e03-4194-9343-ed1d636b5fc4",
   "metadata": {},
   "outputs": [
    {
     "data": {
      "text/plain": [
       "3"
      ]
     },
     "execution_count": 134,
     "metadata": {},
     "output_type": "execute_result"
    }
   ],
   "source": [
    "order['water'][0][1]"
   ]
  },
  {
   "cell_type": "code",
   "execution_count": 140,
   "id": "c422cd65-bd13-4323-9035-6abe75d5a3d7",
   "metadata": {},
   "outputs": [
    {
     "name": "stdout",
     "output_type": "stream",
     "text": [
      "burger\n",
      "3\n",
      "##################################################\n",
      "eggs\n",
      "3\n",
      "##################################################\n",
      "fries\n",
      "5\n",
      "##################################################\n",
      "lemonade\n",
      "8\n",
      "##################################################\n",
      "bacon\n",
      "3\n",
      "##################################################\n",
      "mayo\n",
      "2\n",
      "##################################################\n"
     ]
    }
   ],
   "source": [
    "for key, value in new.items():\n",
    "    print(key)\n",
    "    print(value)\n",
    "    print(50*'#')"
   ]
  },
  {
   "cell_type": "code",
   "execution_count": 141,
   "id": "8918b992-31b8-4080-8fbb-c4d9e3f94d03",
   "metadata": {},
   "outputs": [
    {
     "data": {
      "text/plain": [
       "{'burger': 4, 'eggs': 4, 'fries': 6, 'lemonade': 9, 'bacon': 4, 'mayo': 3}"
      ]
     },
     "execution_count": 141,
     "metadata": {},
     "output_type": "execute_result"
    }
   ],
   "source": [
    "for key in new.keys():\n",
    "    new[key] += 1\n",
    "new"
   ]
  },
  {
   "cell_type": "markdown",
   "id": "50f4e711-ae04-49e0-b4f9-137a56cfef76",
   "metadata": {},
   "source": [
    "### Tuples"
   ]
  },
  {
   "cell_type": "code",
   "execution_count": 142,
   "id": "828b81dc-a980-4d69-9254-658c304268f4",
   "metadata": {},
   "outputs": [],
   "source": [
    "tup = (1,2,4)"
   ]
  },
  {
   "cell_type": "code",
   "execution_count": 143,
   "id": "e8acc759-cceb-4e5c-8b6c-504c8d18c245",
   "metadata": {},
   "outputs": [
    {
     "data": {
      "text/plain": [
       "2"
      ]
     },
     "execution_count": 143,
     "metadata": {},
     "output_type": "execute_result"
    }
   ],
   "source": [
    "tup[1]"
   ]
  },
  {
   "cell_type": "code",
   "execution_count": 144,
   "id": "c68b4b92-7003-4b38-9221-40da4b78cf86",
   "metadata": {},
   "outputs": [
    {
     "data": {
      "text/plain": [
       "(1, 2)"
      ]
     },
     "execution_count": 144,
     "metadata": {},
     "output_type": "execute_result"
    }
   ],
   "source": [
    "tup[:2]"
   ]
  },
  {
   "cell_type": "code",
   "execution_count": 145,
   "id": "dcfa9742-fce8-48cb-95ba-f9fc726304e6",
   "metadata": {},
   "outputs": [
    {
     "ename": "TypeError",
     "evalue": "'tuple' object does not support item assignment",
     "output_type": "error",
     "traceback": [
      "\u001b[1;31m---------------------------------------------------------------------------\u001b[0m",
      "\u001b[1;31mTypeError\u001b[0m                                 Traceback (most recent call last)",
      "\u001b[1;32m~\\AppData\\Local\\Temp/ipykernel_10160/14194200.py\u001b[0m in \u001b[0;36m<module>\u001b[1;34m\u001b[0m\n\u001b[1;32m----> 1\u001b[1;33m \u001b[0mtup\u001b[0m\u001b[1;33m[\u001b[0m\u001b[1;36m1\u001b[0m\u001b[1;33m]\u001b[0m \u001b[1;33m=\u001b[0m \u001b[1;36m4\u001b[0m\u001b[1;33m\u001b[0m\u001b[1;33m\u001b[0m\u001b[0m\n\u001b[0m",
      "\u001b[1;31mTypeError\u001b[0m: 'tuple' object does not support item assignment"
     ]
    }
   ],
   "source": [
    "tup[1] = 4"
   ]
  },
  {
   "cell_type": "code",
   "execution_count": null,
   "id": "db8f2006-251c-4ae4-98dd-442d345729ff",
   "metadata": {},
   "outputs": [],
   "source": []
  }
 ],
 "metadata": {
  "kernelspec": {
   "display_name": "Python 3 (ipykernel)",
   "language": "python",
   "name": "python3"
  },
  "language_info": {
   "codemirror_mode": {
    "name": "ipython",
    "version": 3
   },
   "file_extension": ".py",
   "mimetype": "text/x-python",
   "name": "python",
   "nbconvert_exporter": "python",
   "pygments_lexer": "ipython3",
   "version": "3.9.7"
  }
 },
 "nbformat": 4,
 "nbformat_minor": 5
}
