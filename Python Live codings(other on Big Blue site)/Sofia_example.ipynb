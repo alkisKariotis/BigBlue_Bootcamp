{
 "cells": [
  {
   "cell_type": "code",
   "execution_count": 1,
   "metadata": {},
   "outputs": [],
   "source": [
    "alice = {\n",
    "  \"name\": \"Alice\",\n",
    "  \"homework\": [100.0, 92.0, 98.0, 100.0],\n",
    "  \"quizzes\": [82.0, 83.0, 91.0],\n",
    "  \"tests\": [89.0, 97.0]\n",
    "}"
   ]
  },
  {
   "cell_type": "code",
   "execution_count": 2,
   "metadata": {},
   "outputs": [],
   "source": [
    "def convert_grades(x):\n",
    "    if x >= 90:\n",
    "        grade = 'A'\n",
    "    elif 80 <= x < 90:\n",
    "        grade = 'B'\n",
    "    elif 70 <= x < 80:\n",
    "        grade = 'C'\n",
    "    elif 60 <= x < 70:\n",
    "        grade = 'D'\n",
    "    else:\n",
    "        grade = 'F'\n",
    "    return grade"
   ]
  },
  {
   "cell_type": "code",
   "execution_count": 3,
   "metadata": {},
   "outputs": [],
   "source": [
    "def conv_grades_of_dict(d):\n",
    "    nd={}\n",
    "    for i,x in d.items():\n",
    "        nd.update({i:x})\n",
    "    for key, value in nd.items():\n",
    "        if key != 'name':\n",
    "            a = [convert_grades(v) for v in value]\n",
    "            nd[key] = a\n",
    "    return nd"
   ]
  },
  {
   "cell_type": "code",
   "execution_count": 4,
   "metadata": {},
   "outputs": [
    {
     "data": {
      "text/plain": [
       "{'name': 'Alice',\n",
       " 'homework': ['A', 'A', 'A', 'A'],\n",
       " 'quizzes': ['B', 'B', 'A'],\n",
       " 'tests': ['B', 'A']}"
      ]
     },
     "execution_count": 4,
     "metadata": {},
     "output_type": "execute_result"
    }
   ],
   "source": [
    "conv_grades_of_dict(alice)"
   ]
  },
  {
   "cell_type": "code",
   "execution_count": 5,
   "metadata": {},
   "outputs": [
    {
     "data": {
      "text/plain": [
       "{'name': 'Alice',\n",
       " 'homework': [100.0, 92.0, 98.0, 100.0],\n",
       " 'quizzes': [82.0, 83.0, 91.0],\n",
       " 'tests': [89.0, 97.0]}"
      ]
     },
     "execution_count": 5,
     "metadata": {},
     "output_type": "execute_result"
    }
   ],
   "source": [
    "alice"
   ]
  }
 ],
 "metadata": {
  "kernelspec": {
   "display_name": "Python 3",
   "language": "python",
   "name": "python3"
  },
  "language_info": {
   "codemirror_mode": {
    "name": "ipython",
    "version": 3
   },
   "file_extension": ".py",
   "mimetype": "text/x-python",
   "name": "python",
   "nbconvert_exporter": "python",
   "pygments_lexer": "ipython3",
   "version": "3.8.3"
  }
 },
 "nbformat": 4,
 "nbformat_minor": 5
}
