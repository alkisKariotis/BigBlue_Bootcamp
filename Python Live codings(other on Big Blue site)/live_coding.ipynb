{
 "cells": [
  {
   "cell_type": "markdown",
   "id": "290648b8-7de3-4d32-af19-4c8081b6f5ef",
   "metadata": {
    "ExecuteTime": {
     "end_time": "2022-04-20T17:06:04.690716Z",
     "start_time": "2022-04-20T17:06:04.679318Z"
    },
    "id": "6b6c50af"
   },
   "source": [
    "### Time Library"
   ]
  },
  {
   "cell_type": "code",
   "execution_count": 567,
   "id": "f85fa4e5-7be6-4327-9801-f98b3c7ebb58",
   "metadata": {},
   "outputs": [],
   "source": [
    "#import time library\n",
    "import time"
   ]
  },
  {
   "cell_type": "code",
   "execution_count": 569,
   "id": "9d15c043",
   "metadata": {
    "ExecuteTime": {
     "end_time": "2022-04-20T17:06:05.655211Z",
     "start_time": "2022-04-20T17:06:05.647499Z"
    },
    "id": "9d15c043",
    "outputId": "07b36627-e96e-42b7-a663-892a2e8cb647"
   },
   "outputs": [
    {
     "data": {
      "text/plain": [
       "1666795131.8436995"
      ]
     },
     "execution_count": 569,
     "metadata": {},
     "output_type": "execute_result"
    }
   ],
   "source": [
    "time.time() # unix time (since 1970)"
   ]
  },
  {
   "cell_type": "code",
   "execution_count": 575,
   "id": "f2b610a8",
   "metadata": {
    "ExecuteTime": {
     "end_time": "2022-04-20T17:08:23.651904Z",
     "start_time": "2022-04-20T17:08:23.639152Z"
    },
    "id": "f2b610a8",
    "outputId": "24dc0007-66aa-4864-af5f-b35b97372fa7"
   },
   "outputs": [
    {
     "data": {
      "text/plain": [
       "time.struct_time(tm_year=2022, tm_mon=10, tm_mday=26, tm_hour=13, tm_min=9, tm_sec=8, tm_wday=2, tm_yday=299, tm_isdst=0)"
      ]
     },
     "execution_count": 575,
     "metadata": {},
     "output_type": "execute_result"
    }
   ],
   "source": [
    "time.gmtime(1666789748.0138206)"
   ]
  },
  {
   "cell_type": "code",
   "execution_count": 437,
   "id": "dcae6089",
   "metadata": {
    "ExecuteTime": {
     "end_time": "2022-04-20T17:09:02.019349Z",
     "start_time": "2022-04-20T17:09:02.006272Z"
    },
    "id": "dcae6089",
    "outputId": "2efc63c1-a7a0-43e1-a3bc-b49fda12a022"
   },
   "outputs": [
    {
     "data": {
      "text/plain": [
       "time.struct_time(tm_year=2022, tm_mon=10, tm_mday=26, tm_hour=13, tm_min=9, tm_sec=19, tm_wday=2, tm_yday=299, tm_isdst=0)"
      ]
     },
     "execution_count": 437,
     "metadata": {},
     "output_type": "execute_result"
    }
   ],
   "source": [
    "time.gmtime(time.time())"
   ]
  },
  {
   "cell_type": "code",
   "execution_count": 438,
   "id": "51927f1a",
   "metadata": {
    "ExecuteTime": {
     "end_time": "2022-04-20T17:06:23.984717Z",
     "start_time": "2022-04-20T17:06:23.981511Z"
    },
    "id": "51927f1a"
   },
   "outputs": [],
   "source": [
    "time_x = time.gmtime(1666789748.0138206)"
   ]
  },
  {
   "cell_type": "code",
   "execution_count": 439,
   "id": "f5eb1b70",
   "metadata": {
    "ExecuteTime": {
     "end_time": "2022-04-20T17:06:57.897660Z",
     "start_time": "2022-04-20T17:06:57.890893Z"
    },
    "id": "f5eb1b70",
    "outputId": "2f728cdc-63fc-4aad-b26a-2e97647b0ec2"
   },
   "outputs": [
    {
     "data": {
      "text/plain": [
       "2022"
      ]
     },
     "execution_count": 439,
     "metadata": {},
     "output_type": "execute_result"
    }
   ],
   "source": [
    "time_x.tm_year"
   ]
  },
  {
   "cell_type": "code",
   "execution_count": 440,
   "id": "99b72dc8",
   "metadata": {
    "ExecuteTime": {
     "end_time": "2022-04-18T15:41:40.394613Z",
     "start_time": "2022-04-18T15:41:40.385713Z"
    },
    "id": "99b72dc8",
    "outputId": "09d23632-ad64-4acf-bf85-c89ecf5751aa"
   },
   "outputs": [
    {
     "data": {
      "text/plain": [
       "time.struct_time(tm_year=1970, tm_mon=1, tm_mday=1, tm_hour=0, tm_min=0, tm_sec=0, tm_wday=3, tm_yday=1, tm_isdst=0)"
      ]
     },
     "execution_count": 440,
     "metadata": {},
     "output_type": "execute_result"
    }
   ],
   "source": [
    "time.gmtime(0)"
   ]
  },
  {
   "cell_type": "code",
   "execution_count": 441,
   "id": "14502709",
   "metadata": {
    "ExecuteTime": {
     "end_time": "2022-04-18T15:42:09.563717Z",
     "start_time": "2022-04-18T15:42:09.557893Z"
    },
    "id": "14502709",
    "outputId": "0a50c329-b247-4724-9e64-db090c724b6c"
   },
   "outputs": [
    {
     "data": {
      "text/plain": [
       "time.struct_time(tm_year=1969, tm_mon=12, tm_mday=31, tm_hour=23, tm_min=59, tm_sec=59, tm_wday=3, tm_yday=365, tm_isdst=0)"
      ]
     },
     "execution_count": 441,
     "metadata": {},
     "output_type": "execute_result"
    }
   ],
   "source": [
    "time.gmtime(-1)"
   ]
  },
  {
   "cell_type": "code",
   "execution_count": 442,
   "id": "19f8cd25",
   "metadata": {
    "ExecuteTime": {
     "end_time": "2022-04-20T17:09:37.908377Z",
     "start_time": "2022-04-20T17:09:37.901320Z"
    },
    "id": "19f8cd25",
    "outputId": "fbb46bb9-71fd-48b8-b1ca-bf50684d4afb"
   },
   "outputs": [
    {
     "data": {
      "text/plain": [
       "time.struct_time(tm_year=2022, tm_mon=10, tm_mday=26, tm_hour=16, tm_min=9, tm_sec=31, tm_wday=2, tm_yday=299, tm_isdst=1)"
      ]
     },
     "execution_count": 442,
     "metadata": {},
     "output_type": "execute_result"
    }
   ],
   "source": [
    "time.localtime(time.time())"
   ]
  },
  {
   "cell_type": "code",
   "execution_count": 576,
   "id": "0d30d682",
   "metadata": {
    "ExecuteTime": {
     "end_time": "2022-04-18T15:43:25.747775Z",
     "start_time": "2022-04-18T15:43:25.732534Z"
    },
    "id": "0d30d682",
    "outputId": "75eb24b9-3a32-41e3-ee2e-9bf481546248"
   },
   "outputs": [
    {
     "data": {
      "text/plain": [
       "time.struct_time(tm_year=2022, tm_mon=10, tm_mday=26, tm_hour=17, tm_min=40, tm_sec=36, tm_wday=2, tm_yday=299, tm_isdst=1)"
      ]
     },
     "execution_count": 576,
     "metadata": {},
     "output_type": "execute_result"
    }
   ],
   "source": [
    "time.localtime(time.time())"
   ]
  },
  {
   "cell_type": "code",
   "execution_count": 444,
   "id": "c348d7a0",
   "metadata": {
    "ExecuteTime": {
     "end_time": "2022-04-18T15:44:01.618869Z",
     "start_time": "2022-04-18T15:44:01.616760Z"
    },
    "id": "c348d7a0"
   },
   "outputs": [],
   "source": [
    "x = time.localtime(1666789748.0138206)"
   ]
  },
  {
   "cell_type": "code",
   "execution_count": 445,
   "id": "6961c24e",
   "metadata": {
    "ExecuteTime": {
     "end_time": "2022-04-18T15:44:36.971842Z",
     "start_time": "2022-04-18T15:44:36.964124Z"
    },
    "id": "6961c24e",
    "outputId": "7d6b77fa-1078-4a0d-b275-c7849b688f2d"
   },
   "outputs": [
    {
     "data": {
      "text/plain": [
       "1666789748.0"
      ]
     },
     "execution_count": 445,
     "metadata": {},
     "output_type": "execute_result"
    }
   ],
   "source": [
    "time.mktime(x)"
   ]
  },
  {
   "cell_type": "code",
   "execution_count": 579,
   "id": "ed3df0ac",
   "metadata": {
    "ExecuteTime": {
     "end_time": "2022-04-18T15:47:28.130363Z",
     "start_time": "2022-04-18T15:47:28.122765Z"
    },
    "id": "ed3df0ac",
    "outputId": "16003e8f-b2d8-4198-873c-003d8b54a561"
   },
   "outputs": [
    {
     "data": {
      "text/plain": [
       "'Wed Oct 26 16:09:08 2022'"
      ]
     },
     "execution_count": 579,
     "metadata": {},
     "output_type": "execute_result"
    }
   ],
   "source": [
    "time.ctime(1666789748.0138206)"
   ]
  },
  {
   "cell_type": "code",
   "execution_count": 448,
   "id": "bcbd4135",
   "metadata": {
    "ExecuteTime": {
     "end_time": "2022-04-18T15:48:20.977533Z",
     "start_time": "2022-04-18T15:48:20.964623Z"
    },
    "id": "bcbd4135",
    "outputId": "12dad8ec-e2cd-408e-8554-c8da03c663ee"
   },
   "outputs": [
    {
     "data": {
      "text/plain": [
       "str"
      ]
     },
     "execution_count": 448,
     "metadata": {},
     "output_type": "execute_result"
    }
   ],
   "source": [
    "type(time.ctime(1650295959.0))"
   ]
  },
  {
   "cell_type": "code",
   "execution_count": 449,
   "id": "c173db1d",
   "metadata": {
    "ExecuteTime": {
     "end_time": "2022-04-18T15:49:44.257050Z",
     "start_time": "2022-04-18T15:49:44.244894Z"
    },
    "id": "c173db1d",
    "outputId": "cf19f1ad-9b5d-497d-e847-d5bbb69fb3fc"
   },
   "outputs": [
    {
     "data": {
      "text/plain": [
       "time.struct_time"
      ]
     },
     "execution_count": 449,
     "metadata": {},
     "output_type": "execute_result"
    }
   ],
   "source": [
    "type(time.localtime(1650295959.0634592))"
   ]
  },
  {
   "cell_type": "code",
   "execution_count": 450,
   "id": "e7547b7b",
   "metadata": {
    "ExecuteTime": {
     "end_time": "2022-04-18T15:50:54.149047Z",
     "start_time": "2022-04-18T15:50:54.125257Z"
    },
    "id": "e7547b7b",
    "outputId": "9e1360b7-f291-469f-eff3-69596886ef7f"
   },
   "outputs": [
    {
     "data": {
      "text/plain": [
       "float"
      ]
     },
     "execution_count": 450,
     "metadata": {},
     "output_type": "execute_result"
    }
   ],
   "source": [
    "type(time.time())"
   ]
  },
  {
   "cell_type": "code",
   "execution_count": 451,
   "id": "313bcf74",
   "metadata": {
    "ExecuteTime": {
     "end_time": "2022-04-18T15:51:37.587723Z",
     "start_time": "2022-04-18T15:51:37.581323Z"
    },
    "id": "313bcf74"
   },
   "outputs": [],
   "source": [
    "seconds = time.time()"
   ]
  },
  {
   "cell_type": "code",
   "execution_count": 452,
   "id": "bcaab32f",
   "metadata": {
    "ExecuteTime": {
     "end_time": "2022-04-18T15:54:13.888700Z",
     "start_time": "2022-04-18T15:54:13.880841Z"
    },
    "id": "bcaab32f",
    "outputId": "9fd3a3cd-9164-4fbc-91c4-f60382a6bc6f"
   },
   "outputs": [
    {
     "data": {
      "text/plain": [
       "1666789813.9482522"
      ]
     },
     "execution_count": 452,
     "metadata": {},
     "output_type": "execute_result"
    }
   ],
   "source": [
    "seconds"
   ]
  },
  {
   "cell_type": "code",
   "execution_count": 453,
   "id": "0aae5ae1",
   "metadata": {
    "ExecuteTime": {
     "end_time": "2022-04-18T15:54:42.397884Z",
     "start_time": "2022-04-18T15:54:42.390564Z"
    },
    "id": "0aae5ae1",
    "outputId": "74379177-6a27-48da-fd85-4c4dde485d99"
   },
   "outputs": [
    {
     "data": {
      "text/plain": [
       "time.struct_time(tm_year=2022, tm_mon=10, tm_mday=26, tm_hour=16, tm_min=10, tm_sec=13, tm_wday=2, tm_yday=299, tm_isdst=1)"
      ]
     },
     "execution_count": 453,
     "metadata": {},
     "output_type": "execute_result"
    }
   ],
   "source": [
    "time.localtime(seconds)"
   ]
  },
  {
   "cell_type": "code",
   "execution_count": 454,
   "id": "bc6215b8",
   "metadata": {
    "ExecuteTime": {
     "end_time": "2022-04-18T15:59:00.793907Z",
     "start_time": "2022-04-18T15:59:00.780990Z"
    },
    "id": "bc6215b8",
    "outputId": "0d858419-db33-400c-df49-65de8d1e755c"
   },
   "outputs": [
    {
     "data": {
      "text/plain": [
       "2022"
      ]
     },
     "execution_count": 454,
     "metadata": {},
     "output_type": "execute_result"
    }
   ],
   "source": [
    "time.localtime(seconds).tm_year"
   ]
  },
  {
   "cell_type": "code",
   "execution_count": 455,
   "id": "77dc73d8-9235-4508-bb9d-962c1362554a",
   "metadata": {},
   "outputs": [
    {
     "data": {
      "text/plain": [
       "10"
      ]
     },
     "execution_count": 455,
     "metadata": {},
     "output_type": "execute_result"
    }
   ],
   "source": [
    "time.localtime(seconds).tm_mon"
   ]
  },
  {
   "cell_type": "code",
   "execution_count": 456,
   "id": "5e746a91-7a74-4d38-8299-502d53cc73a4",
   "metadata": {},
   "outputs": [
    {
     "data": {
      "text/plain": [
       "26"
      ]
     },
     "execution_count": 456,
     "metadata": {},
     "output_type": "execute_result"
    }
   ],
   "source": [
    "time.localtime(seconds).tm_mday"
   ]
  },
  {
   "cell_type": "code",
   "execution_count": 457,
   "id": "7af82a40",
   "metadata": {
    "ExecuteTime": {
     "end_time": "2022-04-18T15:57:03.995494Z",
     "start_time": "2022-04-18T15:57:03.991136Z"
    },
    "id": "7af82a40",
    "outputId": "4e6ac1af-db9d-4861-f385-ce41c09ffa1c"
   },
   "outputs": [
    {
     "data": {
      "text/plain": [
       "2021"
      ]
     },
     "execution_count": 457,
     "metadata": {},
     "output_type": "execute_result"
    }
   ],
   "source": [
    "time.localtime(1640195959).tm_year"
   ]
  },
  {
   "cell_type": "markdown",
   "id": "a8e2df42-0cf4-425d-8664-256eedb8ab54",
   "metadata": {},
   "source": [
    "---------------------------------"
   ]
  },
  {
   "cell_type": "markdown",
   "id": "c560a235-4bc0-4a1a-823b-9dce57edaaf0",
   "metadata": {},
   "source": [
    "# Regex (re) Library"
   ]
  },
  {
   "cell_type": "code",
   "execution_count": 2,
   "id": "7b70fdfb",
   "metadata": {
    "ExecuteTime": {
     "end_time": "2022-04-20T18:08:32.225921Z",
     "start_time": "2022-04-20T18:08:32.224283Z"
    },
    "id": "7b70fdfb"
   },
   "outputs": [],
   "source": [
    "#import regex library\n",
    "import re"
   ]
  },
  {
   "cell_type": "markdown",
   "id": "42b06c7c-a92c-465d-ad9a-8d5f4541a4a1",
   "metadata": {},
   "source": [
    "## Regular Expressions"
   ]
  },
  {
   "cell_type": "markdown",
   "id": "ab875a68-7bd7-4d80-b8f8-56f7d435f1c7",
   "metadata": {},
   "source": [
    "## Meta Characters [] . ^ $ * + ? {} () \\ |"
   ]
  },
  {
   "cell_type": "markdown",
   "id": "e97f702b-6e5a-4d93-afe6-aecd13916045",
   "metadata": {},
   "source": [
    "### Square Brackets []\n",
    "Specifies a set of characters you wish to match."
   ]
  },
  {
   "cell_type": "code",
   "execution_count": 250,
   "id": "0473b66c-073a-4d13-b6c8-bd0da3d9972a",
   "metadata": {},
   "outputs": [
    {
     "name": "stdout",
     "output_type": "stream",
     "text": [
      "Found: 1 --> ['a']\n"
     ]
    }
   ],
   "source": [
    "test_string = 'a'\n",
    "pattern = '[abc]'\n",
    "found = re.findall(pattern, test_string)\n",
    "print(\"Found:\",len(found),\"-->\", found)"
   ]
  },
  {
   "cell_type": "code",
   "execution_count": 236,
   "id": "fe758be2-f380-4914-8fac-499dcad2b5a6",
   "metadata": {},
   "outputs": [
    {
     "name": "stdout",
     "output_type": "stream",
     "text": [
      "Found: 2 --> ['a', 'c']\n"
     ]
    }
   ],
   "source": [
    "test_string = 'ac'\n",
    "pattern = '[abc]'\n",
    "found = re.findall(pattern, test_string)\n",
    "print(\"Found:\",len(found),\"-->\", found)"
   ]
  },
  {
   "cell_type": "code",
   "execution_count": 237,
   "id": "a631c35a-8db2-4d42-bc40-3a4861fa3bb4",
   "metadata": {},
   "outputs": [
    {
     "name": "stdout",
     "output_type": "stream",
     "text": [
      "Found: 0 --> []\n"
     ]
    }
   ],
   "source": [
    "test_string = 'hello'\n",
    "pattern = '[abc]'\n",
    "found = re.findall(pattern, test_string)\n",
    "print(\"Found:\",len(found),\"-->\", found)"
   ]
  },
  {
   "cell_type": "code",
   "execution_count": 239,
   "id": "64cfb7ea-bd98-4c40-ae06-7c3050ec7560",
   "metadata": {},
   "outputs": [
    {
     "name": "stdout",
     "output_type": "stream",
     "text": [
      "Found: 5 --> ['a', 'b', 'c', 'c', 'a']\n"
     ]
    }
   ],
   "source": [
    "test_string = 'abc de ca'\n",
    "pattern = '[abc]'\n",
    "found = re.findall(pattern, test_string)\n",
    "print(\"Found:\",len(found),\"-->\", found)"
   ]
  },
  {
   "cell_type": "markdown",
   "id": "5750c920-6b09-4381-a8f3-9161e85c7bbf",
   "metadata": {},
   "source": [
    "### Period (.) \n",
    "Period - A period matches any single character (except newline '\\n')."
   ]
  },
  {
   "cell_type": "code",
   "execution_count": 4,
   "id": "c687c85d-42b2-46c2-8302-1162be9d1812",
   "metadata": {},
   "outputs": [
    {
     "name": "stdout",
     "output_type": "stream",
     "text": [
      "Found: 2 --> ['aa', '  ']\n"
     ]
    }
   ],
   "source": [
    "test_string = 'aa  '\n",
    "pattern = '..'\n",
    "found = re.findall(pattern, test_string)\n",
    "print(\"Found:\",len(found),\"-->\", found)"
   ]
  },
  {
   "cell_type": "code",
   "execution_count": 242,
   "id": "83a0a0de-565e-4ebc-b7e2-a6991a209297",
   "metadata": {},
   "outputs": [
    {
     "name": "stdout",
     "output_type": "stream",
     "text": [
      "Found: 1 --> ['ac']\n"
     ]
    }
   ],
   "source": [
    "test_string = 'ac'\n",
    "pattern = '..'\n",
    "found = re.findall(pattern, test_string)\n",
    "print(\"Found:\",len(found),\"-->\", found)"
   ]
  },
  {
   "cell_type": "code",
   "execution_count": 244,
   "id": "3d576b76-e718-4958-8b15-93595e19a6a5",
   "metadata": {},
   "outputs": [
    {
     "name": "stdout",
     "output_type": "stream",
     "text": [
      "Found: 2 --> ['ac', 'de']\n"
     ]
    }
   ],
   "source": [
    "test_string = 'acde'\n",
    "pattern = '..'\n",
    "found = re.findall(pattern, test_string)\n",
    "print(\"Found:\",len(found),\"-->\", found)"
   ]
  },
  {
   "cell_type": "markdown",
   "id": "279d23e9-da53-427e-9b4c-a7d353ca8126",
   "metadata": {},
   "source": [
    "### Caret ^\n",
    "The caret symbol ^ is used to check if a string starts with a certain character."
   ]
  },
  {
   "cell_type": "code",
   "execution_count": 248,
   "id": "0423f30b-5337-4dd1-895b-97ca930e7342",
   "metadata": {},
   "outputs": [
    {
     "name": "stdout",
     "output_type": "stream",
     "text": [
      "Found: 1 --> ['a']\n"
     ]
    }
   ],
   "source": [
    "test_string = 'acde'\n",
    "pattern = '^a'\n",
    "found = re.findall(pattern, test_string)\n",
    "print(\"Found:\",len(found),\"-->\", found)"
   ]
  },
  {
   "cell_type": "code",
   "execution_count": 365,
   "id": "092e2d5b-ea2d-4de2-b809-917400a56bc6",
   "metadata": {},
   "outputs": [
    {
     "name": "stdout",
     "output_type": "stream",
     "text": [
      "Found: 0 --> []\n"
     ]
    }
   ],
   "source": [
    "test_string = 'bac'\n",
    "pattern = '^a'\n",
    "found = re.findall(pattern, test_string)\n",
    "print(\"Found:\",len(found),\"-->\", found)"
   ]
  },
  {
   "cell_type": "markdown",
   "id": "790b5ed0-2b98-4b44-8c73-a6a4c745687e",
   "metadata": {},
   "source": [
    "### Dollar\n",
    "The dollar symbol $ is used to check if a string ends with a certain character."
   ]
  },
  {
   "cell_type": "code",
   "execution_count": 251,
   "id": "81392bd7-79e1-4ae1-896c-0eed984cb40d",
   "metadata": {},
   "outputs": [
    {
     "name": "stdout",
     "output_type": "stream",
     "text": [
      "Found: 1 --> ['a']\n"
     ]
    }
   ],
   "source": [
    "test_string = 'a'\n",
    "pattern = 'a$'\n",
    "found = re.findall(pattern, test_string)\n",
    "print(\"Found:\",len(found),\"-->\", found)"
   ]
  },
  {
   "cell_type": "code",
   "execution_count": 252,
   "id": "641fdc95-5532-4c17-ae17-40c766d3f312",
   "metadata": {},
   "outputs": [
    {
     "name": "stdout",
     "output_type": "stream",
     "text": [
      "Found: 1 --> ['a']\n"
     ]
    }
   ],
   "source": [
    "test_string = 'formula'\n",
    "pattern = 'a$'\n",
    "found = re.findall(pattern, test_string)\n",
    "print(\"Found:\",len(found),\"-->\", found)"
   ]
  },
  {
   "cell_type": "markdown",
   "id": "a32c9c80-8f14-4f43-ab3c-4abc6fe69ee3",
   "metadata": {},
   "source": [
    "### Star (*)\n",
    "The star symbol * matches zero or more occurrences of the pattern left to it."
   ]
  },
  {
   "cell_type": "code",
   "execution_count": 259,
   "id": "701a9900-e48f-48ac-b194-2e2138797eec",
   "metadata": {},
   "outputs": [
    {
     "name": "stdout",
     "output_type": "stream",
     "text": [
      "Found: 1 --> ['mn']\n"
     ]
    }
   ],
   "source": [
    "test_string = 'mn'\n",
    "pattern = 'ma*n'\n",
    "found = re.findall(pattern, test_string)\n",
    "print(\"Found:\",len(found),\"-->\", found)"
   ]
  },
  {
   "cell_type": "code",
   "execution_count": 262,
   "id": "cd43eae6-d4b6-44e5-a382-0ca750a148dc",
   "metadata": {},
   "outputs": [
    {
     "name": "stdout",
     "output_type": "stream",
     "text": [
      "Found: 2 --> ['mn', 'mn']\n"
     ]
    }
   ],
   "source": [
    "test_string = 'mnmn'\n",
    "pattern = 'ma*n'\n",
    "found = re.findall(pattern, test_string)\n",
    "print(\"Found:\",len(found),\"-->\", found)"
   ]
  },
  {
   "cell_type": "code",
   "execution_count": 263,
   "id": "98b9ed14-8057-4115-8d0e-d08878b48f90",
   "metadata": {},
   "outputs": [
    {
     "name": "stdout",
     "output_type": "stream",
     "text": [
      "Found: 1 --> ['maaaaaan']\n"
     ]
    }
   ],
   "source": [
    "test_string = 'maaaaaan'\n",
    "pattern = 'ma*n'\n",
    "found = re.findall(pattern, test_string)\n",
    "print(\"Found:\",len(found),\"-->\", found)"
   ]
  },
  {
   "cell_type": "code",
   "execution_count": 264,
   "id": "5594454d-c676-4cc5-b9ee-3aa107d84eae",
   "metadata": {},
   "outputs": [
    {
     "name": "stdout",
     "output_type": "stream",
     "text": [
      "Found: 1 --> ['man']\n"
     ]
    }
   ],
   "source": [
    "test_string = 'woman'\n",
    "pattern = 'ma*n'\n",
    "found = re.findall(pattern, test_string)\n",
    "print(\"Found:\",len(found),\"-->\", found)"
   ]
  },
  {
   "cell_type": "code",
   "execution_count": 265,
   "id": "ccadd81a-b8b1-4829-8408-5d913771960c",
   "metadata": {},
   "outputs": [
    {
     "name": "stdout",
     "output_type": "stream",
     "text": [
      "Found: 0 --> []\n"
     ]
    }
   ],
   "source": [
    "test_string = 'main'\n",
    "pattern = 'ma*n'\n",
    "found = re.findall(pattern, test_string)\n",
    "print(\"Found:\",len(found),\"-->\", found)"
   ]
  },
  {
   "cell_type": "markdown",
   "id": "c7ef90d5-c751-49f4-b844-f87c521f2e53",
   "metadata": {},
   "source": [
    "### Plus (+)\n",
    "The plus symbol + matches one or more occurrences of the pattern left to it."
   ]
  },
  {
   "cell_type": "code",
   "execution_count": 266,
   "id": "5c310f94-0c8d-4e89-8243-17e903cedf88",
   "metadata": {},
   "outputs": [
    {
     "name": "stdout",
     "output_type": "stream",
     "text": [
      "Found: 0 --> []\n"
     ]
    }
   ],
   "source": [
    "test_string = 'mn'\n",
    "pattern = 'ma+n'\n",
    "found = re.findall(pattern, test_string)\n",
    "print(\"Found:\",len(found),\"-->\", found)"
   ]
  },
  {
   "cell_type": "code",
   "execution_count": 268,
   "id": "a9ea4162-6345-40fd-a67e-b1f03eb0efca",
   "metadata": {},
   "outputs": [
    {
     "name": "stdout",
     "output_type": "stream",
     "text": [
      "Found: 1 --> ['man']\n"
     ]
    }
   ],
   "source": [
    "test_string = 'man'\n",
    "pattern = 'ma+n'\n",
    "found = re.findall(pattern, test_string)\n",
    "print(\"Found:\",len(found),\"-->\", found)"
   ]
  },
  {
   "cell_type": "code",
   "execution_count": 271,
   "id": "b055c1a0-bcc0-4862-8346-2114a02a3c59",
   "metadata": {},
   "outputs": [
    {
     "name": "stdout",
     "output_type": "stream",
     "text": [
      "Found: 1 --> ['maaan']\n"
     ]
    }
   ],
   "source": [
    "test_string = 'maaan'\n",
    "pattern = 'ma+n'\n",
    "found = re.findall(pattern, test_string)\n",
    "print(\"Found:\",len(found),\"-->\", found)"
   ]
  },
  {
   "cell_type": "code",
   "execution_count": 272,
   "id": "eea2efcb-566b-48a9-83eb-9b263229bc20",
   "metadata": {},
   "outputs": [
    {
     "name": "stdout",
     "output_type": "stream",
     "text": [
      "Found: 0 --> []\n"
     ]
    }
   ],
   "source": [
    "test_string = 'main'\n",
    "pattern = 'ma+n'\n",
    "found = re.findall(pattern, test_string)\n",
    "print(\"Found:\",len(found),\"-->\", found)"
   ]
  },
  {
   "cell_type": "code",
   "execution_count": 273,
   "id": "b01263a0-a097-486a-8cfc-34f94979c08c",
   "metadata": {},
   "outputs": [
    {
     "name": "stdout",
     "output_type": "stream",
     "text": [
      "Found: 1 --> ['man']\n"
     ]
    }
   ],
   "source": [
    "test_string = 'woman'\n",
    "pattern = 'ma+n'\n",
    "found = re.findall(pattern, test_string)\n",
    "print(\"Found:\",len(found),\"-->\", found)"
   ]
  },
  {
   "cell_type": "markdown",
   "id": "96812059-0ccf-4a20-bdf2-222d92425f9b",
   "metadata": {},
   "source": [
    "### Question Mark (?)\n",
    "The question mark symbol ? matches zero or one occurrence of the pattern left to it."
   ]
  },
  {
   "cell_type": "code",
   "execution_count": 275,
   "id": "3b1e793c-6b9c-4fa4-942d-ba764fb13ac4",
   "metadata": {},
   "outputs": [
    {
     "name": "stdout",
     "output_type": "stream",
     "text": [
      "Found: 1 --> ['mn']\n"
     ]
    }
   ],
   "source": [
    "test_string = 'mn'\n",
    "pattern = 'ma?n'\n",
    "found = re.findall(pattern, test_string)\n",
    "print(\"Found:\",len(found),\"-->\", found)"
   ]
  },
  {
   "cell_type": "code",
   "execution_count": 276,
   "id": "8cc51e7a-ebd3-4985-bbce-536823e4c3ca",
   "metadata": {},
   "outputs": [
    {
     "name": "stdout",
     "output_type": "stream",
     "text": [
      "Found: 1 --> ['man']\n"
     ]
    }
   ],
   "source": [
    "test_string = 'man'\n",
    "pattern = 'ma?n'\n",
    "found = re.findall(pattern, test_string)\n",
    "print(\"Found:\",len(found),\"-->\", found)"
   ]
  },
  {
   "cell_type": "code",
   "execution_count": 280,
   "id": "31c291c4-9866-495e-b691-fc1bb1b7b107",
   "metadata": {},
   "outputs": [
    {
     "name": "stdout",
     "output_type": "stream",
     "text": [
      "Found: 0 --> []\n"
     ]
    }
   ],
   "source": [
    "test_string = 'maan'\n",
    "pattern = 'ma?n'\n",
    "found = re.findall(pattern, test_string)\n",
    "print(\"Found:\",len(found),\"-->\", found)"
   ]
  },
  {
   "cell_type": "markdown",
   "id": "f00f0044-ee11-4abe-92f9-600a7c2b85d3",
   "metadata": {},
   "source": [
    "### Braces {}\n",
    "Consider this code: {n,m}. This means at least n, and at most m repetitions of the pattern left to it."
   ]
  },
  {
   "cell_type": "code",
   "execution_count": 281,
   "id": "d421ea57-affa-41ac-ab6f-c7a8c5ae7680",
   "metadata": {},
   "outputs": [
    {
     "name": "stdout",
     "output_type": "stream",
     "text": [
      "Found: 0 --> []\n"
     ]
    }
   ],
   "source": [
    "test_string = 'abc dat'\n",
    "pattern = 'a{2,3}'\n",
    "found = re.findall(pattern, test_string)\n",
    "print(\"Found:\",len(found),\"-->\", found)"
   ]
  },
  {
   "cell_type": "code",
   "execution_count": 282,
   "id": "552df5bf-9a2c-4409-ad52-9167192fd4df",
   "metadata": {},
   "outputs": [
    {
     "name": "stdout",
     "output_type": "stream",
     "text": [
      "Found: 1 --> ['aa']\n"
     ]
    }
   ],
   "source": [
    "test_string = 'abc daat'\n",
    "pattern = 'a{2,3}'\n",
    "found = re.findall(pattern, test_string)\n",
    "print(\"Found:\",len(found),\"-->\", found)"
   ]
  },
  {
   "cell_type": "code",
   "execution_count": 283,
   "id": "994e9be8-1a0a-4e37-b1cf-a78617b8a316",
   "metadata": {},
   "outputs": [
    {
     "name": "stdout",
     "output_type": "stream",
     "text": [
      "Found: 2 --> ['aa', 'aaa']\n"
     ]
    }
   ],
   "source": [
    "test_string = 'aabc daaat'\n",
    "pattern = 'a{2,3}'\n",
    "found = re.findall(pattern, test_string)\n",
    "print(\"Found:\",len(found),\"-->\", found)"
   ]
  },
  {
   "cell_type": "code",
   "execution_count": 284,
   "id": "a03dc42c-d93f-46e8-9180-6ca71f5344c3",
   "metadata": {},
   "outputs": [
    {
     "name": "stdout",
     "output_type": "stream",
     "text": [
      "Found: 1 --> ['123']\n"
     ]
    }
   ],
   "source": [
    "# [0-9]{2, 4} matches at least 2 digits but not more than 4 digits\n",
    "\n",
    "test_string = 'ab123csde'\n",
    "pattern = '[0-9]{2,4}'\n",
    "found = re.findall(pattern, test_string)\n",
    "print(\"Found:\",len(found),\"-->\", found)"
   ]
  },
  {
   "cell_type": "code",
   "execution_count": 285,
   "id": "d6955ddf-b3a7-4331-8a88-d111a3bbf091",
   "metadata": {},
   "outputs": [
    {
     "name": "stdout",
     "output_type": "stream",
     "text": [
      "Found: 3 --> ['12', '3456', '73']\n"
     ]
    }
   ],
   "source": [
    "test_string = '12 and 345673'\n",
    "pattern = '[0-9]{2,4}'\n",
    "found = re.findall(pattern, test_string)\n",
    "print(\"Found:\",len(found),\"-->\", found)"
   ]
  },
  {
   "cell_type": "code",
   "execution_count": 286,
   "id": "ee27cf61-e8f4-41ab-81d7-4ab0a86af41d",
   "metadata": {},
   "outputs": [
    {
     "name": "stdout",
     "output_type": "stream",
     "text": [
      "Found: 2 --> ['12', '34567']\n"
     ]
    }
   ],
   "source": [
    "test_string = '12 and 345673'\n",
    "pattern = '[0-9]{2,5}'\n",
    "found = re.findall(pattern, test_string)\n",
    "print(\"Found:\",len(found),\"-->\", found)"
   ]
  },
  {
   "cell_type": "markdown",
   "id": "f536244b-e8e7-4052-8465-1935a2af0e2a",
   "metadata": {},
   "source": [
    "### Alternation | \n",
    "Vertical bar | is used for alternation (or operator)."
   ]
  },
  {
   "cell_type": "code",
   "execution_count": 352,
   "id": "dba5f30a-8249-414e-816d-52cb55c81246",
   "metadata": {},
   "outputs": [
    {
     "name": "stdout",
     "output_type": "stream",
     "text": [
      "Found: 0 --> []\n"
     ]
    }
   ],
   "source": [
    "test_string = 'cde'\n",
    "pattern = 'a|b'\n",
    "found = re.findall(pattern, test_string)\n",
    "print(\"Found:\",len(found),\"-->\", found)"
   ]
  },
  {
   "cell_type": "code",
   "execution_count": 353,
   "id": "dc1c0a4a-6a4b-4869-b8ff-25ca6524727f",
   "metadata": {},
   "outputs": [
    {
     "name": "stdout",
     "output_type": "stream",
     "text": [
      "Found: 1 --> ['a']\n"
     ]
    }
   ],
   "source": [
    "test_string = 'ade'\n",
    "pattern = 'a|b'\n",
    "found = re.findall(pattern, test_string)\n",
    "print(\"Found:\",len(found),\"-->\", found)"
   ]
  },
  {
   "cell_type": "code",
   "execution_count": 354,
   "id": "5d1cf9f7-b972-49c5-ac47-646b6e8a983a",
   "metadata": {},
   "outputs": [
    {
     "name": "stdout",
     "output_type": "stream",
     "text": [
      "Found: 3 --> ['a', 'b', 'a']\n"
     ]
    }
   ],
   "source": [
    "test_string = 'acdbea'\n",
    "pattern = 'a|b'\n",
    "found = re.findall(pattern, test_string)\n",
    "print(\"Found:\",len(found),\"-->\", found)"
   ]
  },
  {
   "cell_type": "code",
   "execution_count": 356,
   "id": "467ca4e8-d11d-495a-9daf-4de037ab96a3",
   "metadata": {},
   "outputs": [
    {
     "name": "stdout",
     "output_type": "stream",
     "text": [
      "Found: 15 --> ['a', 'a', 'a', 'a', 'a', 'a', 'b', 'b', 'b', 'b', 'b', 'b', 'b', 'b', 'b']\n"
     ]
    }
   ],
   "source": [
    "test_string = 'aaaaaabbbbbbbbb'\n",
    "pattern = 'a|b'\n",
    "found = re.findall(pattern, test_string)\n",
    "print(\"Found:\",len(found),\"-->\", found)"
   ]
  },
  {
   "cell_type": "markdown",
   "id": "cf6873f3-bcac-4cd0-a481-026d6c1d73aa",
   "metadata": {},
   "source": [
    "### Group () \n",
    "Parentheses () is used to group sub-patterns. For example, (a|b|c)xz match any string that matches either a or b or c followed by xz"
   ]
  },
  {
   "cell_type": "code",
   "execution_count": 357,
   "id": "746fd1f1-1857-4e31-b421-b49cd3ed0afa",
   "metadata": {},
   "outputs": [
    {
     "name": "stdout",
     "output_type": "stream",
     "text": [
      "Found: 0 --> []\n"
     ]
    }
   ],
   "source": [
    "test_string = 'ab xz'\n",
    "pattern = '(a|b|c)xz'\n",
    "found = re.findall(pattern, test_string)\n",
    "print(\"Found:\",len(found),\"-->\", found)"
   ]
  },
  {
   "cell_type": "code",
   "execution_count": 358,
   "id": "97ed3439-de73-4e15-b7eb-8ea72423aabf",
   "metadata": {},
   "outputs": [
    {
     "name": "stdout",
     "output_type": "stream",
     "text": [
      "Found: 1 --> ['b']\n"
     ]
    }
   ],
   "source": [
    "test_string = 'abxz'\n",
    "pattern = '(a|b|c)xz'\n",
    "found = re.findall(pattern, test_string)\n",
    "print(\"Found:\",len(found),\"-->\", found)"
   ]
  },
  {
   "cell_type": "code",
   "execution_count": 359,
   "id": "ae949e03-39b4-4f01-ac84-1c7eb25d9c3c",
   "metadata": {},
   "outputs": [
    {
     "name": "stdout",
     "output_type": "stream",
     "text": [
      "Found: 2 --> ['a', 'b']\n"
     ]
    }
   ],
   "source": [
    "test_string = 'axz cabxz'\n",
    "pattern = '(a|b|c)xz'\n",
    "found = re.findall(pattern, test_string)\n",
    "print(\"Found:\",len(found),\"-->\", found)"
   ]
  },
  {
   "cell_type": "markdown",
   "id": "9dc148d5-5924-4a55-a4a5-71df04565fdc",
   "metadata": {},
   "source": [
    "### Backslash \\\n",
    "Backlash \\ is used to escape various characters including all metacharacters. For example,"
   ]
  },
  {
   "cell_type": "code",
   "execution_count": 364,
   "id": "530712ee-c41a-40b0-aab9-dfec7741479e",
   "metadata": {},
   "outputs": [
    {
     "name": "stdout",
     "output_type": "stream",
     "text": [
      "Found: 1 --> ['$a']\n"
     ]
    }
   ],
   "source": [
    "test_string = '$a'\n",
    "pattern = '\\$a'\n",
    "found = re.findall(pattern, test_string)\n",
    "print(\"Found:\",len(found),\"-->\", found)"
   ]
  },
  {
   "cell_type": "code",
   "execution_count": 366,
   "id": "20d6d0ab-4391-471b-9b8c-26f9197cbc07",
   "metadata": {},
   "outputs": [
    {
     "name": "stdout",
     "output_type": "stream",
     "text": [
      "Found: 0 --> []\n"
     ]
    }
   ],
   "source": [
    "#Why nothing here? It is because regex interprests \"$\" as \"ends with\"\n",
    "\n",
    "test_string = '$a'\n",
    "pattern = '$a'\n",
    "found = re.findall(pattern, test_string)\n",
    "print(\"Found:\",len(found),\"-->\", found)"
   ]
  },
  {
   "cell_type": "markdown",
   "id": "209470b9-0415-4e3e-b1cb-380280667843",
   "metadata": {},
   "source": [
    "-----------------------------------"
   ]
  },
  {
   "cell_type": "markdown",
   "id": "25683ff8-2edf-49dd-b5ab-ddcb66c6537b",
   "metadata": {},
   "source": [
    "## Special Sequences\n",
    "Special sequences make commonly used patterns easier to write. Here's a list of special sequences:"
   ]
  },
  {
   "cell_type": "markdown",
   "id": "468f33f9-e66e-44c6-89fb-2cf5614be45f",
   "metadata": {},
   "source": [
    "### \\A - Matches if the specified characters are at the start of a string."
   ]
  },
  {
   "cell_type": "code",
   "execution_count": 368,
   "id": "9477a033-e80b-4dcd-be9b-8ad5e80d9539",
   "metadata": {},
   "outputs": [
    {
     "name": "stdout",
     "output_type": "stream",
     "text": [
      "Found: 1 --> ['the']\n"
     ]
    }
   ],
   "source": [
    "test_string = 'the string'\n",
    "pattern = '\\Athe'\n",
    "found = re.findall(pattern, test_string)\n",
    "print(\"Found:\",len(found),\"-->\", found)"
   ]
  },
  {
   "cell_type": "code",
   "execution_count": 369,
   "id": "42f58971-503b-4bb5-b950-9bdb845ec086",
   "metadata": {},
   "outputs": [
    {
     "name": "stdout",
     "output_type": "stream",
     "text": [
      "Found: 0 --> []\n"
     ]
    }
   ],
   "source": [
    "test_string = 'in the string'\n",
    "pattern = '\\Athe'\n",
    "found = re.findall(pattern, test_string)\n",
    "print(\"Found:\",len(found),\"-->\", found)"
   ]
  },
  {
   "cell_type": "markdown",
   "id": "c92ac4ce-ca13-4529-9af4-9b7b6615905f",
   "metadata": {},
   "source": [
    "### \\b - Matches if the specified characters are at the beginning or end of a word."
   ]
  },
  {
   "cell_type": "code",
   "execution_count": 5,
   "id": "49e9394a-9b59-40d6-9d03-b2632d8167d9",
   "metadata": {},
   "outputs": [
    {
     "name": "stdout",
     "output_type": "stream",
     "text": [
      "Found: 0 --> []\n"
     ]
    }
   ],
   "source": [
    "#This needs some caution\n",
    "test_string = 'football'\n",
    "pattern = '\\bfoot'\n",
    "found = re.findall(pattern, test_string)\n",
    "print(\"Found:\",len(found),\"-->\", found)"
   ]
  },
  {
   "cell_type": "code",
   "execution_count": 6,
   "id": "4712a316-e26f-4307-b1b7-0b8f914129c0",
   "metadata": {},
   "outputs": [
    {
     "name": "stdout",
     "output_type": "stream",
     "text": [
      "Found: 1 --> ['foot']\n"
     ]
    }
   ],
   "source": [
    "#This is seems to work\n",
    "test_string = 'football'\n",
    "found = re.findall(r'\\bfoot', test_string)\n",
    "print(\"Found:\",len(found),\"-->\", found)"
   ]
  },
  {
   "cell_type": "code",
   "execution_count": 396,
   "id": "ed7b55c3-8949-49df-b065-155a3495adba",
   "metadata": {},
   "outputs": [
    {
     "name": "stdout",
     "output_type": "stream",
     "text": [
      "Found: 0 --> []\n"
     ]
    }
   ],
   "source": [
    "#This is seems to work\n",
    "test_string = 'afootball'\n",
    "found = re.findall(r'\\bfoot', test_string)\n",
    "print(\"Found:\",len(found),\"-->\", found)"
   ]
  },
  {
   "cell_type": "code",
   "execution_count": 397,
   "id": "4a60690b-64be-42c2-879c-425e510246cb",
   "metadata": {},
   "outputs": [
    {
     "name": "stdout",
     "output_type": "stream",
     "text": [
      "Found: 1 --> ['foot']\n"
     ]
    }
   ],
   "source": [
    "#This is seems to work\n",
    "test_string = 'a football'\n",
    "found = re.findall(r'\\bfoot', test_string)\n",
    "print(\"Found:\",len(found),\"-->\", found)"
   ]
  },
  {
   "cell_type": "code",
   "execution_count": 400,
   "id": "911087f9-8e12-47a9-84ef-da3fb18a67f0",
   "metadata": {},
   "outputs": [
    {
     "name": "stdout",
     "output_type": "stream",
     "text": [
      "Found: 0 --> []\n"
     ]
    }
   ],
   "source": [
    "#And at the end of the string\n",
    "test_string = 'a football'\n",
    "found = re.findall(r'foot\\b', test_string)\n",
    "print(\"Found:\",len(found),\"-->\", found)"
   ]
  },
  {
   "cell_type": "code",
   "execution_count": 409,
   "id": "5a6099bb-d5c7-4658-8755-20adc9d869b7",
   "metadata": {},
   "outputs": [
    {
     "name": "stdout",
     "output_type": "stream",
     "text": [
      "Found: 1 --> ['foot']\n"
     ]
    }
   ],
   "source": [
    "#And at the end of the string\n",
    "test_string = 'footballfoot'\n",
    "found = re.findall(r'foot\\b', test_string)\n",
    "print(\"Found:\",len(found),\"-->\", found)"
   ]
  },
  {
   "cell_type": "markdown",
   "id": "357360c1-775a-4a7d-b3fe-fcaa0ebe3888",
   "metadata": {},
   "source": [
    "### \\B\n",
    "Opposite of \\b. Matches if the specified characters are not at the beginning or end of a word."
   ]
  },
  {
   "cell_type": "code",
   "execution_count": 402,
   "id": "89127b4e-974b-4a7b-af1c-a0c4fca854f8",
   "metadata": {},
   "outputs": [
    {
     "name": "stdout",
     "output_type": "stream",
     "text": [
      "Found: 0 --> []\n"
     ]
    }
   ],
   "source": [
    "test_string = 'football'\n",
    "found = re.findall(r'\\Bfoot', test_string)\n",
    "print(\"Found:\",len(found),\"-->\", found)"
   ]
  },
  {
   "cell_type": "code",
   "execution_count": 403,
   "id": "d9ee263b-bd82-4231-a17d-a40be6491f41",
   "metadata": {},
   "outputs": [
    {
     "name": "stdout",
     "output_type": "stream",
     "text": [
      "Found: 1 --> ['foot']\n"
     ]
    }
   ],
   "source": [
    "test_string = 'afootball'\n",
    "found = re.findall(r'\\Bfoot', test_string)\n",
    "print(\"Found:\",len(found),\"-->\", found)"
   ]
  },
  {
   "cell_type": "markdown",
   "id": "d4fa7a8b-ea65-4c09-91c6-24165db528f1",
   "metadata": {},
   "source": [
    "### \\d\n",
    "Matches any decimal digit. Equivalent to [0-9]"
   ]
  },
  {
   "cell_type": "code",
   "execution_count": 460,
   "id": "332b3ba0-576a-4bfd-8671-f2a9c30edc5b",
   "metadata": {},
   "outputs": [
    {
     "name": "stdout",
     "output_type": "stream",
     "text": [
      "Found: 8 --> ['1', '2', '3', '4', '6', '6', '7', '6']\n"
     ]
    }
   ],
   "source": [
    "test_string = '1234dfef6676'\n",
    "pattern = '\\d'\n",
    "found = re.findall(pattern, test_string)\n",
    "print(\"Found:\",len(found),\"-->\", found)"
   ]
  },
  {
   "cell_type": "code",
   "execution_count": 461,
   "id": "83c1f381-8e43-44fd-aeeb-c2d4c1ec1909",
   "metadata": {},
   "outputs": [
    {
     "name": "stdout",
     "output_type": "stream",
     "text": [
      "Found: 2 --> ['1234', '6676']\n"
     ]
    }
   ],
   "source": [
    "test_string = '1234dfef6676'\n",
    "pattern = '\\d+'\n",
    "found = re.findall(pattern, test_string)\n",
    "print(\"Found:\",len(found),\"-->\", found)"
   ]
  },
  {
   "cell_type": "markdown",
   "id": "f934d243-7579-4fe0-9cc0-3789880f0d27",
   "metadata": {},
   "source": [
    "### \\D\n",
    "Matches any non-decimal digit. Equivalent to [^0-9]"
   ]
  },
  {
   "cell_type": "code",
   "execution_count": 463,
   "id": "781a9387-0792-4c85-9314-cc621ca9c49e",
   "metadata": {},
   "outputs": [
    {
     "name": "stdout",
     "output_type": "stream",
     "text": [
      "Found: 4 --> ['d', 'f', 'e', 'f']\n"
     ]
    }
   ],
   "source": [
    "test_string = '1234dfef6676'\n",
    "pattern = '\\D'\n",
    "found = re.findall(pattern, test_string)\n",
    "print(\"Found:\",len(found),\"-->\", found)"
   ]
  },
  {
   "cell_type": "code",
   "execution_count": 464,
   "id": "988bd59c-310f-44ab-8027-d5c6fe3b6be3",
   "metadata": {},
   "outputs": [
    {
     "name": "stdout",
     "output_type": "stream",
     "text": [
      "Found: 1 --> ['dfef']\n"
     ]
    }
   ],
   "source": [
    "test_string = '1234dfef6676'\n",
    "pattern = '\\D+'\n",
    "found = re.findall(pattern, test_string)\n",
    "print(\"Found:\",len(found),\"-->\", found)"
   ]
  },
  {
   "cell_type": "markdown",
   "id": "2a9c79fc-f158-4183-bbe3-16946b30c14a",
   "metadata": {},
   "source": [
    "### \\s\n",
    "Matches where a string contains any whitespace character."
   ]
  },
  {
   "cell_type": "code",
   "execution_count": 410,
   "id": "2f541fa1-06fb-4464-a7fe-c040b3bfdcf4",
   "metadata": {},
   "outputs": [
    {
     "name": "stdout",
     "output_type": "stream",
     "text": [
      "Found: 2 --> [' ', ' ']\n"
     ]
    }
   ],
   "source": [
    "test_string = '123 4dfef6 676'\n",
    "pattern = '\\s'\n",
    "found = re.findall(pattern, test_string)\n",
    "print(\"Found:\",len(found),\"-->\", found)"
   ]
  },
  {
   "cell_type": "markdown",
   "id": "9b4baaf2-08d6-4931-9f5d-0bcee9f76061",
   "metadata": {},
   "source": [
    "### \\S\n",
    "Matches where a string contains any non-whitespace character. "
   ]
  },
  {
   "cell_type": "code",
   "execution_count": 415,
   "id": "5cfa7fde-d287-4710-b5b7-e816cba094f3",
   "metadata": {},
   "outputs": [
    {
     "name": "stdout",
     "output_type": "stream",
     "text": [
      "Found: 4 --> ['1', '2', '3', 'q']\n"
     ]
    }
   ],
   "source": [
    "test_string = '123 q'\n",
    "pattern = '\\S'\n",
    "found = re.findall(pattern, test_string)\n",
    "print(\"Found:\",len(found),\"-->\", found)"
   ]
  },
  {
   "cell_type": "markdown",
   "id": "8b0ef104-21f9-41bb-be42-7546ab3aef18",
   "metadata": {},
   "source": [
    "### \\w\n",
    "Matches any alphanumeric character (digits and alphabets). Equivalent to [a-zA-Z0-9_]. By the way, underscore _ is also considered an alphanumeric character."
   ]
  },
  {
   "cell_type": "code",
   "execution_count": 416,
   "id": "0b5f0136-2a40-4f67-8126-9e6ac9bbee00",
   "metadata": {},
   "outputs": [
    {
     "name": "stdout",
     "output_type": "stream",
     "text": [
      "Found: 3 --> ['1', '2', 'c']\n"
     ]
    }
   ],
   "source": [
    "test_string = '12&\": ;c'\n",
    "pattern = '\\w'\n",
    "found = re.findall(pattern, test_string)\n",
    "print(\"Found:\",len(found),\"-->\", found)"
   ]
  },
  {
   "cell_type": "code",
   "execution_count": 418,
   "id": "3bca9108-9741-444c-9b5c-664d8f317e97",
   "metadata": {},
   "outputs": [
    {
     "name": "stdout",
     "output_type": "stream",
     "text": [
      "Found: 0 --> []\n"
     ]
    }
   ],
   "source": [
    "test_string = '%\"> !'\n",
    "pattern = '\\w'\n",
    "found = re.findall(pattern, test_string)\n",
    "print(\"Found:\",len(found),\"-->\", found)"
   ]
  },
  {
   "cell_type": "markdown",
   "id": "636e3627-4960-4798-b185-e17c0c907ead",
   "metadata": {},
   "source": [
    "### \\W\n",
    "Matches any non-alphanumeric character. Equivalent to [^a-zA-Z0-9_]"
   ]
  },
  {
   "cell_type": "code",
   "execution_count": 419,
   "id": "0de98d77-13be-45a9-8196-9a6bb234f6a1",
   "metadata": {},
   "outputs": [
    {
     "name": "stdout",
     "output_type": "stream",
     "text": [
      "Found: 5 --> ['%', '\"', '>', ' ', '!']\n"
     ]
    }
   ],
   "source": [
    "test_string = '%\"> !'\n",
    "pattern = '\\W'\n",
    "found = re.findall(pattern, test_string)\n",
    "print(\"Found:\",len(found),\"-->\", found)"
   ]
  },
  {
   "cell_type": "markdown",
   "id": "dfc16819-d093-44cc-8fb5-40b318c918d1",
   "metadata": {},
   "source": [
    "### \\Z\n",
    "Matches if the specified characters are at the end of a string."
   ]
  },
  {
   "cell_type": "code",
   "execution_count": 421,
   "id": "920aa39b-f265-4efc-bca3-ac99c8048bfb",
   "metadata": {},
   "outputs": [
    {
     "name": "stdout",
     "output_type": "stream",
     "text": [
      "Found: 1 --> ['python']\n"
     ]
    }
   ],
   "source": [
    "test_string = 'I love Python'\n",
    "pattern = 'python\\Z'\n",
    "found = re.findall(pattern, test_string)\n",
    "print(\"Found:\",len(found),\"-->\", found)"
   ]
  },
  {
   "cell_type": "code",
   "execution_count": 431,
   "id": "2f4184ed-1f90-43ef-9fb2-271af29eba22",
   "metadata": {},
   "outputs": [
    {
     "name": "stdout",
     "output_type": "stream",
     "text": [
      "Found: 0 --> []\n"
     ]
    }
   ],
   "source": [
    "test_string = 'I love Python'\n",
    "pattern = 'python\\Z'\n",
    "found = re.findall(pattern, test_string)\n",
    "print(\"Found:\",len(found),\"-->\", found)"
   ]
  },
  {
   "cell_type": "code",
   "execution_count": 432,
   "id": "a9383bc6-2199-4706-8d21-681133079075",
   "metadata": {},
   "outputs": [
    {
     "name": "stdout",
     "output_type": "stream",
     "text": [
      "Found: 1 --> ['Python']\n"
     ]
    }
   ],
   "source": [
    "test_string = 'I love Python'\n",
    "pattern = '.ython\\Z'\n",
    "found = re.findall(pattern, test_string)\n",
    "print(\"Found:\",len(found),\"-->\", found)"
   ]
  },
  {
   "cell_type": "markdown",
   "id": "29dc2083-3ee9-4f97-8e6c-e32231b7ad3a",
   "metadata": {},
   "source": [
    "------------------------"
   ]
  },
  {
   "cell_type": "markdown",
   "id": "cbff0bf3-a0b7-4bd0-ac36-11ea2aeca750",
   "metadata": {},
   "source": [
    "## Methods"
   ]
  },
  {
   "cell_type": "markdown",
   "id": "c70a8d7b-0e4e-4de7-a7f8-1eb3cf488c62",
   "metadata": {},
   "source": [
    "#### Findall Method\n",
    "The re.findall() method returns a list of strings containing all matches."
   ]
  },
  {
   "cell_type": "code",
   "execution_count": 176,
   "id": "5378bf19-7901-4f58-a296-aec4354ebc88",
   "metadata": {},
   "outputs": [
    {
     "name": "stdout",
     "output_type": "stream",
     "text": [
      "['is', 'is']\n"
     ]
    }
   ],
   "source": [
    "txt = \"This is the text string that we will use for today's Live Coding Session\"\n",
    "x = re.findall(\"is\", txt)\n",
    "print(x)"
   ]
  },
  {
   "cell_type": "code",
   "execution_count": 177,
   "id": "69c9012c-0f6e-4d23-b459-28ee90a61c0f",
   "metadata": {},
   "outputs": [
    {
     "name": "stdout",
     "output_type": "stream",
     "text": [
      "[]\n"
     ]
    }
   ],
   "source": [
    "txt = \"This is the text string that we will use for today's Live Coding Session\"\n",
    "x = re.findall(\"Hello\", txt)\n",
    "print(x)"
   ]
  },
  {
   "cell_type": "code",
   "execution_count": 178,
   "id": "6567d6ad-f99a-4385-874f-7221c9c37fc4",
   "metadata": {},
   "outputs": [
    {
     "name": "stdout",
     "output_type": "stream",
     "text": [
      "['2', '99', '18']\n"
     ]
    }
   ],
   "source": [
    "txt = \"This is the 2text string that 99 we will use for today's 18 Live Coding Session\"\n",
    "pattern = '\\d+'\n",
    "\n",
    "result = re.findall(pattern, txt) \n",
    "print(result)"
   ]
  },
  {
   "cell_type": "code",
   "execution_count": 179,
   "id": "65d4c164-9ad7-4d08-8ea1-446614512b43",
   "metadata": {},
   "outputs": [],
   "source": [
    "dates = ['1790-3423454', '1488.34234534', '1699##7733453']"
   ]
  },
  {
   "cell_type": "code",
   "execution_count": 180,
   "id": "f8293abf-82f3-4f30-b3d0-1167c9e6ec5d",
   "metadata": {},
   "outputs": [],
   "source": [
    "pattern = re.compile(r'\\d{4,}')"
   ]
  },
  {
   "cell_type": "code",
   "execution_count": 181,
   "id": "3b48200c-ce03-4ea5-82f3-9ca84c92ea1c",
   "metadata": {},
   "outputs": [
    {
     "name": "stdout",
     "output_type": "stream",
     "text": [
      "['1790', '3423454']\n",
      "['1488', '34234534']\n",
      "['1699', '7733453']\n"
     ]
    }
   ],
   "source": [
    "for date in dates:\n",
    "    print(pattern.findall(date))"
   ]
  },
  {
   "cell_type": "code",
   "execution_count": 300,
   "id": "0ec967de-6f4e-4872-b090-bf0f1454dea9",
   "metadata": {},
   "outputs": [
    {
     "name": "stdout",
     "output_type": "stream",
     "text": [
      "support@bigblue.com\n",
      "thanos@bigblue.com\n",
      "maria@yahoo.com\n"
     ]
    }
   ],
   "source": [
    "statement = \"Email list contains the following emails: support@bigblue.com, thanos@bigblue.com, maria@yahoo.com\"\n",
    "addresses = re.findall(r'[\\w\\.-]+@[\\w\\.-]+', statement)\n",
    "for address in addresses:\n",
    "    print(address)"
   ]
  },
  {
   "cell_type": "markdown",
   "id": "b00bff51-61ac-4737-a3be-2edd49732159",
   "metadata": {},
   "source": [
    "#### Match Method\n",
    "The re.match() function returns a match object if the text matches the pattern. Otherwise, it returns None"
   ]
  },
  {
   "cell_type": "code",
   "execution_count": 302,
   "id": "d0ba8694-1dc8-4f8d-b7a9-5ccedd84e162",
   "metadata": {},
   "outputs": [
    {
     "data": {
      "text/plain": [
       "<re.Match object; span=(0, 4), match='<h1>'>"
      ]
     },
     "execution_count": 302,
     "metadata": {},
     "output_type": "execute_result"
    }
   ],
   "source": [
    "heading  = r'<h1>TITLE</h1>'\n",
    "re.match(r'<.*?>', heading)"
   ]
  },
  {
   "cell_type": "code",
   "execution_count": 307,
   "id": "0c71faa4-fc2d-4ed2-9a11-ffa9b086cc38",
   "metadata": {},
   "outputs": [
    {
     "data": {
      "text/plain": [
       "'<h1>'"
      ]
     },
     "execution_count": 307,
     "metadata": {},
     "output_type": "execute_result"
    }
   ],
   "source": [
    "#Non-Greedy Match\n",
    "\n",
    "heading  = r'<h1>TITLE</h1>'\n",
    "re.match(r'<.*?>', heading).group()"
   ]
  },
  {
   "cell_type": "code",
   "execution_count": 310,
   "id": "798f48d2-76dd-4f93-ab64-d700dd2bb691",
   "metadata": {},
   "outputs": [
    {
     "data": {
      "text/plain": [
       "'<h1>TITLE</h1>'"
      ]
     },
     "execution_count": 310,
     "metadata": {},
     "output_type": "execute_result"
    }
   ],
   "source": [
    "#Greedy Match\n",
    "\n",
    "heading  = r'<h1>TITLE</h1>'\n",
    "re.match(r'<.*>', heading).group(0)"
   ]
  },
  {
   "cell_type": "markdown",
   "id": "4d1031dc-a61d-44af-8ada-4d94c7a192e2",
   "metadata": {},
   "source": [
    "#### Search Method"
   ]
  },
  {
   "cell_type": "code",
   "execution_count": 118,
   "id": "4c5165ed-8578-45b5-8bb5-27bc4f8648f3",
   "metadata": {},
   "outputs": [
    {
     "data": {
      "text/plain": [
       "<re.Match object; span=(0, 72), match=\"This is the text string that we will use for toda>"
      ]
     },
     "execution_count": 118,
     "metadata": {},
     "output_type": "execute_result"
    }
   ],
   "source": [
    "txt = \"This is the text string that we will use for today's Live Coding Session\"\n",
    "x1 = re.search(\"^This.*Session$\", txt)\n",
    "x1"
   ]
  },
  {
   "cell_type": "code",
   "execution_count": 119,
   "id": "72ceba3d-ebf3-4576-afa0-a01064085ab4",
   "metadata": {},
   "outputs": [
    {
     "data": {
      "text/plain": [
       "<re.Match object; span=(0, 72), match=\"This is the text string that we will use for toda>"
      ]
     },
     "execution_count": 119,
     "metadata": {},
     "output_type": "execute_result"
    }
   ],
   "source": [
    "txt = \"This is the text string that we will use for today's Live Coding Session, great!\"\n",
    "x2 = re.search(\"^This.*Session\", txt)\n",
    "x2"
   ]
  },
  {
   "cell_type": "code",
   "execution_count": 120,
   "id": "b8927df9-219c-4cd6-bae5-429349be6940",
   "metadata": {},
   "outputs": [
    {
     "name": "stdout",
     "output_type": "stream",
     "text": [
      "None\n"
     ]
    }
   ],
   "source": [
    "txt = \"This is the text string that we will use for today's Live Coding Session\"\n",
    "x = re.search(\"Hello\", txt)\n",
    "print(x)"
   ]
  },
  {
   "cell_type": "code",
   "execution_count": 121,
   "id": "88df1eb6-b57d-43c9-a21e-b6e249ff489f",
   "metadata": {},
   "outputs": [
    {
     "name": "stdout",
     "output_type": "stream",
     "text": [
      "The first white-space character is located in position: 4\n"
     ]
    }
   ],
   "source": [
    "txt = \"This is the text string that we will use for today's Live Coding Session\"\n",
    "x = re.search(\"\\s\", txt)\n",
    "print(\"The first white-space character is located in position:\", x.start())"
   ]
  },
  {
   "cell_type": "code",
   "execution_count": 122,
   "id": "8f8d40b4-7e5c-4e06-9bc8-854ba42f9a1b",
   "metadata": {},
   "outputs": [
    {
     "name": "stdout",
     "output_type": "stream",
     "text": [
      "<re.Match object; span=(2, 4), match='is'>\n"
     ]
    }
   ],
   "source": [
    "txt = \"This is the text string that we will use for today's Live Coding Session\"\n",
    "x = re.search(\"is\", txt)\n",
    "print(x)"
   ]
  },
  {
   "cell_type": "code",
   "execution_count": 123,
   "id": "03e15be5-4a41-4e4b-a7ad-f9b86f324e77",
   "metadata": {},
   "outputs": [
    {
     "name": "stdout",
     "output_type": "stream",
     "text": [
      "(65, 72)\n"
     ]
    }
   ],
   "source": [
    "# \"\\bS\\w+\" --> This regular expression looks for any words that starts with an upper case \"S\":\n",
    "\n",
    "txt = \"This is the text string that we will use for today's Live Coding Session\"\n",
    "x = re.search(r\"\\bS\\w+\", txt)\n",
    "print(x.span())"
   ]
  },
  {
   "cell_type": "code",
   "execution_count": 124,
   "id": "b85624d7-61d4-425a-bcaa-257e40b8d185",
   "metadata": {},
   "outputs": [
    {
     "name": "stdout",
     "output_type": "stream",
     "text": [
      "This is the text string that we will use for today's Live Coding Session\n"
     ]
    }
   ],
   "source": [
    "# \"\\bS\\w+\" --> This regular expression looks for any words that starts with an upper case \"S\":\n",
    "\n",
    "txt = \"This is the text string that we will use for today's Live Coding Session\"\n",
    "x = re.search(r\"\\bS\\w+\", txt)\n",
    "print(x.string)"
   ]
  },
  {
   "cell_type": "code",
   "execution_count": 125,
   "id": "9a7d1b78-577e-4d04-a70a-f2c2498aae92",
   "metadata": {},
   "outputs": [
    {
     "name": "stdout",
     "output_type": "stream",
     "text": [
      "Session\n"
     ]
    }
   ],
   "source": [
    "# \"\\bS\\w+\" --> This regular expression looks for any words that starts with an upper case \"S\":\n",
    "\n",
    "txt = \"This is the text string that we will use for today's Live Coding Session\"\n",
    "x = re.search(r\"\\bS\\w+\", txt)\n",
    "print(x.group())"
   ]
  },
  {
   "cell_type": "code",
   "execution_count": 384,
   "id": "d3bf2e04-3c6c-4316-b7cc-edbb1a1a57df",
   "metadata": {},
   "outputs": [
    {
     "name": "stdout",
     "output_type": "stream",
     "text": [
      "244216 (packets) exceed: 267093\n",
      "244216\n",
      "267093\n"
     ]
    }
   ],
   "source": [
    "st = 'confirm: 244216 (packets) exceed: 267093 (packets)'\n",
    "match = re.search(r\"(\\d+).*?(\\d+)\", st)\n",
    "print (match.group(0))\n",
    "print (match.group(1))\n",
    "print (match.group(2))"
   ]
  },
  {
   "cell_type": "code",
   "execution_count": 135,
   "id": "abb23bfb-cfdf-4be4-b1e6-52a52e26bd4b",
   "metadata": {},
   "outputs": [
    {
     "name": "stdout",
     "output_type": "stream",
     "text": [
      "1790\n",
      "1488\n",
      "1699\n"
     ]
    }
   ],
   "source": [
    "dates = ['1790-3423454', '1488.34234534', '1699##7733453']\n",
    "\n",
    "for date in dates:\n",
    "    m = re.search(r'(\\d{4,})', date)\n",
    "    print(m.group(0))"
   ]
  },
  {
   "cell_type": "code",
   "execution_count": 311,
   "id": "4855c998-44a8-445e-95e4-967dd0d8ce31",
   "metadata": {},
   "outputs": [
    {
     "name": "stdout",
     "output_type": "stream",
     "text": [
      "1790\n"
     ]
    }
   ],
   "source": [
    "st = '1790-3423454'\n",
    "match = re.search(r'\\d{4,}', st)\n",
    "print (match.group(0))"
   ]
  },
  {
   "cell_type": "markdown",
   "id": "ad0bffef-3bc1-408e-ae26-5594984208b9",
   "metadata": {},
   "source": [
    "#### Split Method\n",
    "The re.split method splits the string where there is a match and returns a list of strings where the splits have occurred."
   ]
  },
  {
   "cell_type": "code",
   "execution_count": 126,
   "id": "e4496542-c8a8-4031-aeaf-6d09d9f57a32",
   "metadata": {},
   "outputs": [
    {
     "name": "stdout",
     "output_type": "stream",
     "text": [
      "['This', 'is', 'the', 'text', 'string', 'that', 'we', 'will', 'use', 'for', \"today's\", 'Live', 'Coding', 'Session']\n"
     ]
    }
   ],
   "source": [
    "txt = \"This is the text string that we will use for today's Live Coding Session\"\n",
    "x = re.split(\"\\s\", txt)\n",
    "print(x)"
   ]
  },
  {
   "cell_type": "code",
   "execution_count": 127,
   "id": "cde0e901-5a08-4f46-bf30-3424f2f7dcef",
   "metadata": {},
   "outputs": [
    {
     "name": "stdout",
     "output_type": "stream",
     "text": [
      "['This', \"is the text string that we will use for today's Live Coding Session\"]\n"
     ]
    }
   ],
   "source": [
    "txt = \"This is the text string that we will use for today's Live Coding Session\"\n",
    "x = re.split(\"\\s\", txt, 1)\n",
    "print(x)"
   ]
  },
  {
   "cell_type": "code",
   "execution_count": 128,
   "id": "66cd6a6f-7fc5-453d-b3dc-9044e145a790",
   "metadata": {},
   "outputs": [
    {
     "name": "stdout",
     "output_type": "stream",
     "text": [
      "['This', 'is', \"the text string that we will use for today's Live Coding Session\"]\n"
     ]
    }
   ],
   "source": [
    "txt = \"This is the text string that we will use for today's Live Coding Session\"\n",
    "x = re.split(\"\\s\", txt, 2)\n",
    "print(x)"
   ]
  },
  {
   "cell_type": "code",
   "execution_count": 129,
   "id": "39adb804-d374-4b40-8518-e212affab3a4",
   "metadata": {},
   "outputs": [
    {
     "name": "stdout",
     "output_type": "stream",
     "text": [
      "['This', 'is', 'the', \"text string that we will use for today's Live Coding Session\"]\n"
     ]
    }
   ],
   "source": [
    "txt = \"This is the text string that we will use for today's Live Coding Session\"\n",
    "x = re.split(\"\\s\", txt, 3)\n",
    "print(x)"
   ]
  },
  {
   "cell_type": "markdown",
   "id": "390a5ede-56e9-4095-a952-619cb9b96e5c",
   "metadata": {},
   "source": [
    "#### Sub Method\n",
    "The re.split method splits the string where there is a match and returns a list of strings where the splits have occurred."
   ]
  },
  {
   "cell_type": "code",
   "execution_count": 130,
   "id": "60f4bd0b-7840-45c5-81bf-64d52746d315",
   "metadata": {},
   "outputs": [
    {
     "name": "stdout",
     "output_type": "stream",
     "text": [
      "This9is9the9text9string9that9we9will9use9for9today's9Live9Coding9Session\n"
     ]
    }
   ],
   "source": [
    "txt = \"This is the text string that we will use for today's Live Coding Session\"\n",
    "x = re.sub(\"\\s\", \"9\", txt)\n",
    "print(x)"
   ]
  },
  {
   "cell_type": "code",
   "execution_count": 131,
   "id": "2b7e330f-82f2-48c6-a605-8cd455a2d8e0",
   "metadata": {},
   "outputs": [
    {
     "name": "stdout",
     "output_type": "stream",
     "text": [
      "This9is9the9text string that we will use for today's Live Coding Session\n"
     ]
    }
   ],
   "source": [
    "txt = \"This is the text string that we will use for today's Live Coding Session\"\n",
    "x = re.sub(\"\\s\", \"9\", txt, 3)\n",
    "print(x)"
   ]
  },
  {
   "cell_type": "code",
   "execution_count": 132,
   "id": "178ceb13-b35b-4d44-b177-2e4a7381fa77",
   "metadata": {},
   "outputs": [
    {
     "name": "stdout",
     "output_type": "stream",
     "text": [
      "This9is the text string that we will use for today's Live Coding Session\n"
     ]
    }
   ],
   "source": [
    "txt = \"This is the text string that we will use for today's Live Coding Session\"\n",
    "x = re.sub(\"\\s\", \"9\", txt, 1)\n",
    "print(x)"
   ]
  },
  {
   "cell_type": "code",
   "execution_count": 133,
   "id": "0fc0bbbd-f7d3-406f-9266-2259f3784667",
   "metadata": {},
   "outputs": [
    {
     "name": "stdout",
     "output_type": "stream",
     "text": [
      "This9is9the9text9string9that9we9will9use9for9today's9Live9Coding9Session\n"
     ]
    }
   ],
   "source": [
    "txt = \"This is the text string that we will use for today's Live Coding Session\"\n",
    "x = re.sub(\"\\s\", \"9\", txt, 20)\n",
    "print(x)"
   ]
  },
  {
   "cell_type": "markdown",
   "id": "dbcea968-8a6d-4ab2-9039-c482d829d7d5",
   "metadata": {},
   "source": [
    "#### Subn Method\n",
    "The re.subn() is similar to re.sub() except it returns a tuple of 2 items containing the new string and the number of substitutions made."
   ]
  },
  {
   "cell_type": "code",
   "execution_count": 157,
   "id": "ab4406c1",
   "metadata": {
    "ExecuteTime": {
     "end_time": "2022-04-20T18:08:32.499056Z",
     "start_time": "2022-04-20T18:08:32.491422Z"
    },
    "id": "ab4406c1"
   },
   "outputs": [],
   "source": [
    "# multiline string\n",
    "string = 'abc 12\\\n",
    "de 23 \\n f45 6 \\\n",
    "\\n dfg45 hello'"
   ]
  },
  {
   "cell_type": "code",
   "execution_count": 158,
   "id": "bc1ccf31-7a8b-4a68-9ca3-bf4a98094fe2",
   "metadata": {},
   "outputs": [
    {
     "name": "stdout",
     "output_type": "stream",
     "text": [
      "abc 12de 23 \n",
      " f45 6 \n",
      " dfg45 hello\n"
     ]
    }
   ],
   "source": [
    "print(string)"
   ]
  },
  {
   "cell_type": "code",
   "execution_count": 159,
   "id": "d95dbae6",
   "metadata": {
    "ExecuteTime": {
     "end_time": "2022-04-20T18:08:32.830489Z",
     "start_time": "2022-04-20T18:08:32.825175Z"
    },
    "id": "d95dbae6"
   },
   "outputs": [
    {
     "name": "stdout",
     "output_type": "stream",
     "text": [
      "('abc12de23f456dfg45hello', 6)\n"
     ]
    }
   ],
   "source": [
    "# matches all whitespace characters\n",
    "pattern = '\\s+'\n",
    "\n",
    "# empty string\n",
    "replace = ''\n",
    "\n",
    "new_string = re.subn(pattern, replace, string) \n",
    "print(new_string)"
   ]
  },
  {
   "cell_type": "markdown",
   "id": "e198c70e-f2eb-4f0a-8bf4-d764e02b22a1",
   "metadata": {
    "ExecuteTime": {
     "end_time": "2022-04-20T18:08:33.395303Z",
     "start_time": "2022-04-20T18:08:33.386456Z"
    },
    "id": "7ec6be02",
    "outputId": "5dc90879-dc31-469c-94fd-2d05147de087"
   },
   "source": [
    "#### Compile Method"
   ]
  },
  {
   "cell_type": "code",
   "execution_count": 350,
   "id": "e300b7a6",
   "metadata": {
    "ExecuteTime": {
     "end_time": "2022-04-20T18:12:19.205488Z",
     "start_time": "2022-04-20T18:12:19.199681Z"
    },
    "id": "e300b7a6",
    "outputId": "c01e7d0d-a175-4ff0-cf85-2e54599e8492"
   },
   "outputs": [
    {
     "data": {
      "text/plain": [
       "'1000'"
      ]
     },
     "execution_count": 350,
     "metadata": {},
     "output_type": "execute_result"
    }
   ],
   "source": [
    "pattern = re.compile(r\"\\d{4,}\")\n",
    "sequence = \"1000 Cake and 34444 cookie\"\n",
    "pattern.search(sequence).group()"
   ]
  },
  {
   "cell_type": "code",
   "execution_count": 351,
   "id": "e086e839",
   "metadata": {
    "id": "e086e839"
   },
   "outputs": [
    {
     "name": "stdout",
     "output_type": "stream",
     "text": [
      "Found: 2 --> ['1000', '34444']\n"
     ]
    }
   ],
   "source": [
    "found = re.findall(pattern, sequence)\n",
    "print(\"Found:\",len(found),\"-->\", found)"
   ]
  },
  {
   "cell_type": "code",
   "execution_count": 387,
   "id": "502a44ec-6593-4d61-9d45-d580d7b26866",
   "metadata": {},
   "outputs": [
    {
     "name": "stdout",
     "output_type": "stream",
     "text": [
      "1790\n",
      "1488\n",
      "1699\n"
     ]
    }
   ],
   "source": [
    "dates = ['1790-3423454', '1488.34234534', '1699##7733453']\n",
    "pattern = re.compile(r'(\\d{4,})')\n",
    "\n",
    "for date in dates:\n",
    "    m = re.search(pattern, date)\n",
    "    print(m.group(0))"
   ]
  },
  {
   "cell_type": "code",
   "execution_count": 12,
   "id": "2199ac6e-6769-44c2-b148-8a31d3044515",
   "metadata": {},
   "outputs": [
    {
     "name": "stdout",
     "output_type": "stream",
     "text": [
      "Found: 1 --> ['Tim']\n"
     ]
    }
   ],
   "source": [
    "names = 'George Mike Maria John Harry Sofia Tim'\n",
    "pattern = re.compile(r'\\b\\w{3}\\b')\n",
    "\n",
    "found = re.findall(pattern, names)\n",
    "print(\"Found:\",len(found),\"-->\", found)"
   ]
  },
  {
   "cell_type": "markdown",
   "id": "dfc0892c-721c-4c91-aa2d-ca52ba51984a",
   "metadata": {
    "ExecuteTime": {
     "end_time": "2022-04-18T18:15:13.088862Z",
     "start_time": "2022-04-18T18:15:13.072360Z"
    },
    "id": "83391d4b",
    "outputId": "a71a3d3d-2050-45c3-8428-b9caa570a88e"
   },
   "source": [
    "------------------------------------------------------------"
   ]
  },
  {
   "cell_type": "markdown",
   "id": "9053e1fb-8343-45be-9935-6c045c874730",
   "metadata": {},
   "source": [
    "## Lookahead and Lookbehind"
   ]
  },
  {
   "cell_type": "code",
   "execution_count": 566,
   "id": "48c44226-782c-4e7b-9037-b4e538a18786",
   "metadata": {},
   "outputs": [
    {
     "name": "stdout",
     "output_type": "stream",
     "text": [
      "Found: 2 --> ['With', 'comes']\n"
     ]
    }
   ],
   "source": [
    "# positive lookahead \n",
    "# syntax (?=)\n",
    "# Which words have \"great\" after them --> looking ahead\n",
    "\n",
    "txt = \"With great power comes great responsibility\"\n",
    "found = re.findall(r'\\b\\w+\\b(?= great)',txt)\n",
    "print(\"Found:\",len(found),\"-->\", found)"
   ]
  },
  {
   "cell_type": "code",
   "execution_count": 565,
   "id": "02091093-03e0-4c05-9cf1-15674da0e5a5",
   "metadata": {},
   "outputs": [
    {
     "name": "stdout",
     "output_type": "stream",
     "text": [
      "Found: 4 --> ['great', 'power', 'great', 'responsibility']\n"
     ]
    }
   ],
   "source": [
    "# negative lookahead\n",
    "# syntax (?!)\n",
    "# Which words don't have \"great\" after them --> looking ahead\n",
    "\n",
    "txt = \"With great power comes great responsibility\"\n",
    "found = re.findall(r'\\b\\w+\\b(?! great)',txt)\n",
    "print(\"Found:\",len(found),\"-->\", found)"
   ]
  },
  {
   "cell_type": "code",
   "execution_count": 564,
   "id": "6098e53f-3acc-4d0f-afbb-aad3bc02d8ea",
   "metadata": {},
   "outputs": [
    {
     "name": "stdout",
     "output_type": "stream",
     "text": [
      "Found: 2 --> ['power', 'responsibility']\n"
     ]
    }
   ],
   "source": [
    "# positive lookback\n",
    "# syntax (?<=)\n",
    "# Which words have \"great\" before them --> looking back\n",
    "\n",
    "txt = \"With great power comes great responsibility\"\n",
    "found = re.findall(r'(?<=great )\\b\\w+\\b',txt)\n",
    "print(\"Found:\",len(found),\"-->\", found)"
   ]
  },
  {
   "cell_type": "code",
   "execution_count": 563,
   "id": "c1c2267f-258e-47c1-a914-7f4367255543",
   "metadata": {},
   "outputs": [
    {
     "name": "stdout",
     "output_type": "stream",
     "text": [
      "Found: 4 --> ['With', 'great', 'comes', 'great']\n"
     ]
    }
   ],
   "source": [
    "# negative lookback\n",
    "# syntax (?<=)\n",
    "# Which words don't have \"great\" before them --> looking back\n",
    "\n",
    "txt = \"With great power comes great responsibility\"\n",
    "found = re.findall(r'(?<!great )\\b\\w+\\b',txt)\n",
    "print(\"Found:\",len(found),\"-->\", found)"
   ]
  },
  {
   "cell_type": "markdown",
   "id": "a8e03035-bfe5-4315-9055-1a4715254f3d",
   "metadata": {},
   "source": [
    "----------------------"
   ]
  }
 ],
 "metadata": {
  "colab": {
   "provenance": []
  },
  "kernelspec": {
   "display_name": "Python 3 (ipykernel)",
   "language": "python",
   "name": "python3"
  },
  "language_info": {
   "codemirror_mode": {
    "name": "ipython",
    "version": 3
   },
   "file_extension": ".py",
   "mimetype": "text/x-python",
   "name": "python",
   "nbconvert_exporter": "python",
   "pygments_lexer": "ipython3",
   "version": "3.9.7"
  }
 },
 "nbformat": 4,
 "nbformat_minor": 5
}
