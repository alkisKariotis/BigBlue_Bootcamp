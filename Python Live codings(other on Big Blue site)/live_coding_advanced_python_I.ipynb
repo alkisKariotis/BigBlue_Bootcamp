{
 "cells": [
  {
   "cell_type": "markdown",
   "id": "c17ec5da-5ad5-4b71-a519-4ba72f16b85b",
   "metadata": {},
   "source": [
    "# LIVE CODING FOR TODAY\n",
    "----------------------------------------"
   ]
  },
  {
   "cell_type": "markdown",
   "id": "caddb60e-c216-4d41-97b5-c785a79329b4",
   "metadata": {},
   "source": [
    "# First Section:Enumerate"
   ]
  },
  {
   "cell_type": "code",
   "execution_count": 2,
   "id": "0d8625c1-a751-410b-b570-6a36561b9e19",
   "metadata": {},
   "outputs": [
    {
     "data": {
      "text/plain": [
       "[2, 3, 5, 7]"
      ]
     },
     "execution_count": 2,
     "metadata": {},
     "output_type": "execute_result"
    }
   ],
   "source": [
    "# How would we enumerate \"manually\"?\n",
    "values = [2,3,5,7]\n",
    "values"
   ]
  },
  {
   "cell_type": "code",
   "execution_count": 3,
   "id": "fcdfde5d-71e4-43f4-acda-c41eca3c20d0",
   "metadata": {},
   "outputs": [
    {
     "name": "stdout",
     "output_type": "stream",
     "text": [
      "0 2\n",
      "1 3\n",
      "2 5\n",
      "3 7\n"
     ]
    }
   ],
   "source": [
    "index = 0\n",
    "for v in values:\n",
    "    print(index, v)\n",
    "    index += 1"
   ]
  },
  {
   "cell_type": "code",
   "execution_count": 4,
   "id": "dbe4bb96-178a-41ce-9aaa-3bae888f5e73",
   "metadata": {},
   "outputs": [
    {
     "name": "stdout",
     "output_type": "stream",
     "text": [
      "0 2\n",
      "1 3\n",
      "2 5\n",
      "3 7\n"
     ]
    }
   ],
   "source": [
    "#Another way\n",
    "for index in range(len(values)):\n",
    "    v = values[index]\n",
    "    print(index, v)"
   ]
  },
  {
   "cell_type": "markdown",
   "id": "e9a80e9e-a474-4d66-83f2-dc214c32bdc1",
   "metadata": {},
   "source": [
    "Now let's use enumerate"
   ]
  },
  {
   "cell_type": "code",
   "execution_count": 9,
   "id": "174978fb-52e1-4506-887d-76cbd27375fe",
   "metadata": {},
   "outputs": [
    {
     "name": "stdout",
     "output_type": "stream",
     "text": [
      "0 2\n",
      "1 3\n",
      "2 5\n",
      "3 7\n"
     ]
    }
   ],
   "source": [
    "#enumerate list\n",
    "for index, v in enumerate(values):\n",
    "    print(index, v)"
   ]
  },
  {
   "cell_type": "code",
   "execution_count": 15,
   "id": "de485fec-9596-438b-8153-d33b14a38aa5",
   "metadata": {},
   "outputs": [
    {
     "name": "stdout",
     "output_type": "stream",
     "text": [
      "1 2\n",
      "2 3\n",
      "3 5\n",
      "4 7\n"
     ]
    }
   ],
   "source": [
    "#Not need to start from 0\n",
    "for count, v in enumerate(values, start = 1):\n",
    "    print(count, v)"
   ]
  },
  {
   "cell_type": "code",
   "execution_count": 11,
   "id": "5e635548-d497-482f-9ebd-896a15d80a50",
   "metadata": {},
   "outputs": [],
   "source": [
    "# Return items from `iterable` when their index is even.\n",
    "def even_indexes(x):\n",
    "    values = []\n",
    "    for index, value in enumerate(x, start = 1):\n",
    "        if not index % 2:\n",
    "            values.append(value)\n",
    "    return values"
   ]
  },
  {
   "cell_type": "code",
   "execution_count": 12,
   "id": "7627275a-6b00-4936-88a8-caa7f9816b9c",
   "metadata": {},
   "outputs": [
    {
     "data": {
      "text/plain": [
       "[3, 7]"
      ]
     },
     "execution_count": 12,
     "metadata": {},
     "output_type": "execute_result"
    }
   ],
   "source": [
    "even_indexes(values)"
   ]
  },
  {
   "cell_type": "code",
   "execution_count": 28,
   "id": "1c424bf3-0d0a-446b-8374-d409afd5556c",
   "metadata": {},
   "outputs": [],
   "source": [
    "# Return items from `iterable` when their index is even.\n",
    "def even_indexes(x):\n",
    "    values = []\n",
    "    for index, value in enumerate(x, start = 1):\n",
    "        if index % 2 == 0:\n",
    "            values.append(value)\n",
    "    return values"
   ]
  },
  {
   "cell_type": "code",
   "execution_count": 29,
   "id": "f2f25b77-910e-4128-8609-89d07697c949",
   "metadata": {},
   "outputs": [
    {
     "data": {
      "text/plain": [
       "[3, 7]"
      ]
     },
     "execution_count": 29,
     "metadata": {},
     "output_type": "execute_result"
    }
   ],
   "source": [
    "even_indexes(values)"
   ]
  },
  {
   "cell_type": "markdown",
   "id": "7dc4c353-0aa0-482d-8a5d-cfb102900a31",
   "metadata": {},
   "source": [
    "----------------------------"
   ]
  },
  {
   "cell_type": "markdown",
   "id": "38c374f3-394d-4f83-9197-a1be317be3ae",
   "metadata": {},
   "source": [
    "Let's see enumerate for other data types as well"
   ]
  },
  {
   "cell_type": "code",
   "execution_count": 30,
   "id": "da52b473-5bd5-4236-83f6-43b7c89ffbfe",
   "metadata": {},
   "outputs": [],
   "source": [
    "#define a new dictionary\n",
    "d = {'john':45, 'nick':34, 'sofia':23}"
   ]
  },
  {
   "cell_type": "code",
   "execution_count": 38,
   "id": "3bfead7a-23d0-4cd1-969d-a05fc931afd5",
   "metadata": {},
   "outputs": [
    {
     "name": "stdout",
     "output_type": "stream",
     "text": [
      "0 john 45\n",
      "1 nick 34\n",
      "2 sofia 23\n"
     ]
    }
   ],
   "source": [
    "#enumerate a dictionary (items)\n",
    "for count, (key, value) in enumerate(d.items()):\n",
    "    print(count, key, value)"
   ]
  },
  {
   "cell_type": "code",
   "execution_count": 39,
   "id": "8866996f-af79-4db1-94fe-05d046fa07b1",
   "metadata": {},
   "outputs": [
    {
     "name": "stdout",
     "output_type": "stream",
     "text": [
      "0 john\n",
      "1 nick\n",
      "2 sofia\n"
     ]
    }
   ],
   "source": [
    "#enumerate a dictionary (keys)\n",
    "for count, key in enumerate(d.keys()):\n",
    "    print(count, key)"
   ]
  },
  {
   "cell_type": "code",
   "execution_count": 40,
   "id": "d8b24097-5a68-44a7-9db3-ec275c347ca8",
   "metadata": {},
   "outputs": [
    {
     "name": "stdout",
     "output_type": "stream",
     "text": [
      "0 45\n",
      "1 34\n",
      "2 23\n"
     ]
    }
   ],
   "source": [
    "#enumerate a dictionary (values)\n",
    "for count, value in enumerate(d.values()):\n",
    "    print(count, value)"
   ]
  },
  {
   "cell_type": "markdown",
   "id": "4c35bc9e-e1f5-40ff-a7dc-a24cbb9c9b90",
   "metadata": {},
   "source": [
    "------------------"
   ]
  },
  {
   "cell_type": "code",
   "execution_count": 42,
   "id": "46daeaf8-2d91-4d31-a483-7d79209b3e7b",
   "metadata": {},
   "outputs": [
    {
     "data": {
      "text/plain": [
       "(2, 3, 5, 7)"
      ]
     },
     "execution_count": 42,
     "metadata": {},
     "output_type": "execute_result"
    }
   ],
   "source": [
    "#define a tuple (remember not to name it \"tuple\")\n",
    "tup = (2,3,5,7)\n",
    "tup"
   ]
  },
  {
   "cell_type": "code",
   "execution_count": 43,
   "id": "41c1d5a7-7998-48c5-8e5d-67e69eb37c26",
   "metadata": {},
   "outputs": [
    {
     "name": "stdout",
     "output_type": "stream",
     "text": [
      "0 2\n",
      "1 3\n",
      "2 5\n",
      "3 7\n"
     ]
    }
   ],
   "source": [
    "#enumerate tuple\n",
    "for index, value in enumerate(tup):\n",
    "    print(index, value)"
   ]
  },
  {
   "cell_type": "code",
   "execution_count": 44,
   "id": "f2ab8182-1f61-430c-bd3e-615c7f3cc22f",
   "metadata": {},
   "outputs": [
    {
     "name": "stdout",
     "output_type": "stream",
     "text": [
      "0 2\n",
      "1 3\n",
      "2 5\n",
      "3 7\n"
     ]
    }
   ],
   "source": [
    "#enumerate sets\n",
    "set_ = {2,3,5,7} \n",
    "\n",
    "for index, value in enumerate(set_):\n",
    "    print(index, value)"
   ]
  },
  {
   "cell_type": "code",
   "execution_count": 45,
   "id": "5a117a9d-c535-4272-a689-aa5d73930a6a",
   "metadata": {},
   "outputs": [
    {
     "name": "stdout",
     "output_type": "stream",
     "text": [
      "0 2\n",
      "1 3\n",
      "2 5\n",
      "3 7\n"
     ]
    }
   ],
   "source": [
    "#enumerate sets\n",
    "set_1 = {2,3,5,5,5,5,5,5,7} \n",
    "\n",
    "for index, value in enumerate(set_1):\n",
    "    print(index, value)"
   ]
  },
  {
   "cell_type": "markdown",
   "id": "1b46085e-4a41-493f-bae9-072749e48220",
   "metadata": {},
   "source": [
    "-------------------------------------"
   ]
  },
  {
   "cell_type": "markdown",
   "id": "00d5d221-5732-45fc-8ded-68c812dfd124",
   "metadata": {},
   "source": [
    "# Second Section: Map Function"
   ]
  },
  {
   "cell_type": "code",
   "execution_count": 100,
   "id": "6611d0ce-82cf-4b18-bf3d-6b47079d3a29",
   "metadata": {},
   "outputs": [],
   "source": [
    "lst = [2,3,5,7]"
   ]
  },
  {
   "cell_type": "code",
   "execution_count": 101,
   "id": "99851473-1dd3-4bb8-9846-2e173fb478fa",
   "metadata": {},
   "outputs": [],
   "source": [
    "def times2(x):\n",
    "    return x*2"
   ]
  },
  {
   "cell_type": "code",
   "execution_count": 102,
   "id": "7f007c08-8cd4-47d7-aa28-e856e1a73ceb",
   "metadata": {},
   "outputs": [],
   "source": [
    "times2_lst = list(map(times2, lst))"
   ]
  },
  {
   "cell_type": "code",
   "execution_count": 103,
   "id": "d5c08336-667c-4bfb-931e-2e506529cc44",
   "metadata": {},
   "outputs": [
    {
     "data": {
      "text/plain": [
       "[4, 6, 10, 14]"
      ]
     },
     "execution_count": 103,
     "metadata": {},
     "output_type": "execute_result"
    }
   ],
   "source": [
    "times2_lst"
   ]
  },
  {
   "cell_type": "code",
   "execution_count": 104,
   "id": "15875e25-2c1b-46c6-b5a7-f553e7d4ccae",
   "metadata": {},
   "outputs": [],
   "source": [
    "lst2 = [['apple', 2],['pear', 3],['lemon', 5],['orange', 7]]"
   ]
  },
  {
   "cell_type": "code",
   "execution_count": 105,
   "id": "6e9b124c-c315-4710-af90-2f43219f8827",
   "metadata": {},
   "outputs": [],
   "source": [
    "def times2_list(x):\n",
    "    return [x[0],x[1]*2]"
   ]
  },
  {
   "cell_type": "code",
   "execution_count": 106,
   "id": "7fe963cb-5af3-4119-a103-40acdad48f5f",
   "metadata": {},
   "outputs": [
    {
     "data": {
      "text/plain": [
       "[['apple', 4], ['pear', 6], ['lemon', 10], ['orange', 14]]"
      ]
     },
     "execution_count": 106,
     "metadata": {},
     "output_type": "execute_result"
    }
   ],
   "source": [
    "list(map(times2_list,lst2))"
   ]
  },
  {
   "cell_type": "code",
   "execution_count": 107,
   "id": "886c6e73-ec84-4c34-9ec6-a9f657bd6f80",
   "metadata": {},
   "outputs": [
    {
     "data": {
      "text/plain": [
       "{'apple': 2, 'pear': 3, 'lemon': 5, 'orange': 7}"
      ]
     },
     "execution_count": 107,
     "metadata": {},
     "output_type": "execute_result"
    }
   ],
   "source": [
    "dict(lst2)"
   ]
  },
  {
   "cell_type": "code",
   "execution_count": 108,
   "id": "c4edec06-027e-4582-aa22-dbbf3cb1c7b8",
   "metadata": {},
   "outputs": [],
   "source": [
    "d2 = dict(map(times2_list,lst2))"
   ]
  },
  {
   "cell_type": "code",
   "execution_count": 109,
   "id": "6cf1cfab-4d8b-481a-b44b-68688959f047",
   "metadata": {},
   "outputs": [
    {
     "data": {
      "text/plain": [
       "{'apple': 4, 'pear': 6, 'lemon': 10, 'orange': 14}"
      ]
     },
     "execution_count": 109,
     "metadata": {},
     "output_type": "execute_result"
    }
   ],
   "source": [
    "d2"
   ]
  },
  {
   "cell_type": "code",
   "execution_count": 110,
   "id": "cb8bdf10-23fe-4f6a-b0ea-a1a11a7e4ad5",
   "metadata": {},
   "outputs": [],
   "source": [
    "d3 = dict(map(times2_list, d2.items()))"
   ]
  },
  {
   "cell_type": "code",
   "execution_count": 111,
   "id": "23a3a08a-a0cd-41a5-b1b7-e4641ed0e485",
   "metadata": {},
   "outputs": [
    {
     "data": {
      "text/plain": [
       "{'apple': 8, 'pear': 12, 'lemon': 20, 'orange': 28}"
      ]
     },
     "execution_count": 111,
     "metadata": {},
     "output_type": "execute_result"
    }
   ],
   "source": [
    "d3"
   ]
  },
  {
   "cell_type": "markdown",
   "id": "21bdc4b9-acfb-40be-9b89-af6cd6c245d0",
   "metadata": {},
   "source": [
    "-------------------------------------------------"
   ]
  },
  {
   "cell_type": "markdown",
   "id": "e5d6c2f2-b284-4ff5-ab65-ede5b87e0c0f",
   "metadata": {},
   "source": [
    "A Quick Look at the Lambda Function!"
   ]
  },
  {
   "cell_type": "code",
   "execution_count": null,
   "id": "322dcccd-e297-48d1-a3c3-9e0e7c54737d",
   "metadata": {},
   "outputs": [],
   "source": [
    "times2 = list(map(lambda x: x*2, lst))"
   ]
  },
  {
   "cell_type": "code",
   "execution_count": 113,
   "id": "555f69a8-0427-48e1-bf93-caca590413c5",
   "metadata": {},
   "outputs": [
    {
     "data": {
      "text/plain": [
       "[4, 6, 10, 14]"
      ]
     },
     "execution_count": 113,
     "metadata": {},
     "output_type": "execute_result"
    }
   ],
   "source": [
    "times2"
   ]
  },
  {
   "cell_type": "code",
   "execution_count": 127,
   "id": "b7b5b672-e635-4a0f-ae5b-3e357c8851d7",
   "metadata": {},
   "outputs": [],
   "source": [
    "lstx = [[2,4],[3,6],[7,3]]"
   ]
  },
  {
   "cell_type": "code",
   "execution_count": 128,
   "id": "d7397b4d-81f6-4b4e-a50e-e566ddb52708",
   "metadata": {},
   "outputs": [
    {
     "data": {
      "text/plain": [
       "13"
      ]
     },
     "execution_count": 128,
     "metadata": {},
     "output_type": "execute_result"
    }
   ],
   "source": [
    "(lambda x,y: x+y)(10,3)"
   ]
  },
  {
   "cell_type": "code",
   "execution_count": 129,
   "id": "a66d8bf9-4d4b-4303-a1e6-fe393dc39b18",
   "metadata": {},
   "outputs": [
    {
     "data": {
      "text/plain": [
       "[6, 9, 10]"
      ]
     },
     "execution_count": 129,
     "metadata": {},
     "output_type": "execute_result"
    }
   ],
   "source": [
    "list(map(lambda x: x[0] + x[1], lstx))"
   ]
  },
  {
   "cell_type": "markdown",
   "id": "861ed308-d335-4b5b-a824-002898c7b958",
   "metadata": {},
   "source": [
    "-------------------------------------"
   ]
  },
  {
   "cell_type": "markdown",
   "id": "f3db7150-2600-4bc2-ab21-14196ffe4401",
   "metadata": {},
   "source": [
    "# Third Section: filter function"
   ]
  },
  {
   "cell_type": "code",
   "execution_count": 130,
   "id": "9b859629-818b-4c50-8083-49295ede6979",
   "metadata": {},
   "outputs": [],
   "source": [
    "ratings = [0.0, 1.2, 4.5, 4.9, 2.2, 4.1, 3.5, 2.6, 1.6, 3.3, 4.0]"
   ]
  },
  {
   "cell_type": "code",
   "execution_count": 131,
   "id": "5bb5be6d-881c-45a0-8a28-13a3cb067023",
   "metadata": {},
   "outputs": [
    {
     "data": {
      "text/plain": [
       "[0.0, 1.2, 4.5, 4.9, 2.2, 4.1, 3.5, 2.6, 1.6, 3.3, 4.0]"
      ]
     },
     "execution_count": 131,
     "metadata": {},
     "output_type": "execute_result"
    }
   ],
   "source": [
    "ratings"
   ]
  },
  {
   "cell_type": "code",
   "execution_count": 132,
   "id": "d129b703-ee25-427b-8993-6b37ab09718d",
   "metadata": {},
   "outputs": [
    {
     "data": {
      "text/plain": [
       "11"
      ]
     },
     "execution_count": 132,
     "metadata": {},
     "output_type": "execute_result"
    }
   ],
   "source": [
    "len(ratings)"
   ]
  },
  {
   "cell_type": "code",
   "execution_count": 152,
   "id": "0b7e4b58-10b7-40b6-9e01-a3f69548b294",
   "metadata": {},
   "outputs": [],
   "source": [
    "def good_rating(r):\n",
    "    return r >= 3.5"
   ]
  },
  {
   "cell_type": "code",
   "execution_count": 153,
   "id": "d7dd85e8-3c6f-4c49-a32b-ceb8f6518579",
   "metadata": {},
   "outputs": [
    {
     "data": {
      "text/plain": [
       "[4.5, 4.9, 4.1, 3.5, 4.0]"
      ]
     },
     "execution_count": 153,
     "metadata": {},
     "output_type": "execute_result"
    }
   ],
   "source": [
    "#Calling function\n",
    "result = list(filter(good_rating, ratings))\n",
    "result"
   ]
  },
  {
   "cell_type": "markdown",
   "id": "b3caf6be-8e3e-423c-871e-cda22b530c27",
   "metadata": {},
   "source": [
    "Why not map (with our custom function)?"
   ]
  },
  {
   "cell_type": "code",
   "execution_count": 154,
   "id": "bbaad14b-ac14-410b-8b82-d8308da0171a",
   "metadata": {},
   "outputs": [],
   "source": [
    "result2 = list(map(good_rating, ratings))"
   ]
  },
  {
   "cell_type": "code",
   "execution_count": 155,
   "id": "0b60385b-e612-4e53-b68d-97478dfc2b9f",
   "metadata": {},
   "outputs": [
    {
     "data": {
      "text/plain": [
       "[False, False, True, True, False, True, True, False, False, False, True]"
      ]
     },
     "execution_count": 155,
     "metadata": {},
     "output_type": "execute_result"
    }
   ],
   "source": [
    "result2"
   ]
  },
  {
   "cell_type": "markdown",
   "id": "57c89e84-0570-4bc3-a921-c6f0d9e7377a",
   "metadata": {},
   "source": [
    "Why not map with lambda?"
   ]
  },
  {
   "cell_type": "code",
   "execution_count": 156,
   "id": "8f8c8c77-af8e-4eb7-90e7-396fdc2f7f9d",
   "metadata": {},
   "outputs": [],
   "source": [
    "result3 = list(map(lambda r: r >= 3.5, ratings))"
   ]
  },
  {
   "cell_type": "code",
   "execution_count": 157,
   "id": "d2e29648-440c-4bc7-b9d9-30a8bdbb4eb9",
   "metadata": {},
   "outputs": [
    {
     "data": {
      "text/plain": [
       "[False, False, True, True, False, True, True, False, False, False, True]"
      ]
     },
     "execution_count": 157,
     "metadata": {},
     "output_type": "execute_result"
    }
   ],
   "source": [
    "result3"
   ]
  },
  {
   "cell_type": "markdown",
   "id": "8bb9bc92-107b-45d7-8945-6431f2758fd1",
   "metadata": {},
   "source": [
    "-------------------------------------"
   ]
  },
  {
   "cell_type": "code",
   "execution_count": 163,
   "id": "024c458c-b460-4fda-8ec7-2c6f7d212460",
   "metadata": {},
   "outputs": [],
   "source": [
    "#return all non zero values\n",
    "result2 = list(filter(None,(1,0,4,6,7,0,9)))"
   ]
  },
  {
   "cell_type": "code",
   "execution_count": 164,
   "id": "78a7a6f0-fdb7-4e5f-98d5-31fc482c3d8c",
   "metadata": {},
   "outputs": [
    {
     "data": {
      "text/plain": [
       "[1, 4, 6, 7, 9]"
      ]
     },
     "execution_count": 164,
     "metadata": {},
     "output_type": "execute_result"
    }
   ],
   "source": [
    "result2"
   ]
  },
  {
   "cell_type": "code",
   "execution_count": 165,
   "id": "f998560b-d9b5-4abb-86e5-e2ea41e85771",
   "metadata": {},
   "outputs": [],
   "source": [
    "#returns all non-zero and True Values\n",
    "result3 = list(filter(None,(1,0,4,6,7,0,9,True,False)))"
   ]
  },
  {
   "cell_type": "code",
   "execution_count": 166,
   "id": "9470df00-a984-4310-a2dd-52945c6d847d",
   "metadata": {},
   "outputs": [
    {
     "data": {
      "text/plain": [
       "[1, 4, 6, 7, 9, True]"
      ]
     },
     "execution_count": 166,
     "metadata": {},
     "output_type": "execute_result"
    }
   ],
   "source": [
    "result3"
   ]
  },
  {
   "cell_type": "markdown",
   "id": "84b5a082-d28b-4860-b9b6-fe0f4d7c8c44",
   "metadata": {},
   "source": [
    "----------------------"
   ]
  },
  {
   "cell_type": "code",
   "execution_count": 173,
   "id": "93207e87-a8f1-426b-8237-d5b68a43d463",
   "metadata": {},
   "outputs": [],
   "source": [
    "good_kept = list(filter(good_rating, ratings))"
   ]
  },
  {
   "cell_type": "code",
   "execution_count": 174,
   "id": "4400bfb7-b17d-4c32-af21-eb45eb19f876",
   "metadata": {},
   "outputs": [
    {
     "data": {
      "text/plain": [
       "[4.5, 4.9, 4.1, 3.5, 4.0]"
      ]
     },
     "execution_count": 174,
     "metadata": {},
     "output_type": "execute_result"
    }
   ],
   "source": [
    "good_kept"
   ]
  },
  {
   "cell_type": "code",
   "execution_count": 178,
   "id": "e6aba27b-fb00-4f79-a468-345bc416ea06",
   "metadata": {},
   "outputs": [],
   "source": [
    "good_kept2 = list(filter(lambda r: r >=3.5, ratings))"
   ]
  },
  {
   "cell_type": "code",
   "execution_count": 179,
   "id": "c9cfedd8-d104-4822-a162-7acf9d36263f",
   "metadata": {},
   "outputs": [
    {
     "data": {
      "text/plain": [
       "[4.5, 4.9, 4.1, 3.5, 4.0]"
      ]
     },
     "execution_count": 179,
     "metadata": {},
     "output_type": "execute_result"
    }
   ],
   "source": [
    "good_kept2"
   ]
  },
  {
   "cell_type": "code",
   "execution_count": 180,
   "id": "7573665b-93ee-4908-ae77-9807d6dd7c1b",
   "metadata": {},
   "outputs": [],
   "source": [
    "good_kept3 = list(filter(lambda r: r != 0.0, ratings))"
   ]
  },
  {
   "cell_type": "code",
   "execution_count": 181,
   "id": "3fb87420-4abf-44e0-9fee-b058427b255c",
   "metadata": {},
   "outputs": [
    {
     "data": {
      "text/plain": [
       "[1.2, 4.5, 4.9, 2.2, 4.1, 3.5, 2.6, 1.6, 3.3, 4.0]"
      ]
     },
     "execution_count": 181,
     "metadata": {},
     "output_type": "execute_result"
    }
   ],
   "source": [
    "good_kept3"
   ]
  },
  {
   "cell_type": "code",
   "execution_count": 182,
   "id": "4a252b3c-ddfb-4a04-b104-9a32fd265166",
   "metadata": {},
   "outputs": [
    {
     "data": {
      "text/plain": [
       "10"
      ]
     },
     "execution_count": 182,
     "metadata": {},
     "output_type": "execute_result"
    }
   ],
   "source": [
    "len(good_kept3)"
   ]
  },
  {
   "cell_type": "code",
   "execution_count": 183,
   "id": "cfb8b005-5b7b-4532-9eab-bac8e3bbad04",
   "metadata": {},
   "outputs": [],
   "source": [
    "def mulof3(val):\n",
    "    if val % 3 == 0:\n",
    "        return val"
   ]
  },
  {
   "cell_type": "code",
   "execution_count": 184,
   "id": "0e5a6c30-9354-4553-a323-c068d620f9ed",
   "metadata": {},
   "outputs": [],
   "source": [
    "new_lst = filter(mulof3,(1,3,5,6,8,9,12,15,23,34))"
   ]
  },
  {
   "cell_type": "code",
   "execution_count": 185,
   "id": "d4fbbe2c-b9cb-4913-acac-851ddac7c146",
   "metadata": {},
   "outputs": [
    {
     "data": {
      "text/plain": [
       "<filter at 0x218d1a0ec70>"
      ]
     },
     "execution_count": 185,
     "metadata": {},
     "output_type": "execute_result"
    }
   ],
   "source": [
    "new_lst"
   ]
  },
  {
   "cell_type": "code",
   "execution_count": 186,
   "id": "7544d14f-afc9-47dc-9e55-f719528b91b1",
   "metadata": {},
   "outputs": [
    {
     "data": {
      "text/plain": [
       "[3, 6, 9, 12, 15]"
      ]
     },
     "execution_count": 186,
     "metadata": {},
     "output_type": "execute_result"
    }
   ],
   "source": [
    "list(new_lst)"
   ]
  },
  {
   "cell_type": "markdown",
   "id": "39789376-e254-4ba6-81db-c1f1ca0152b5",
   "metadata": {},
   "source": [
    "-------------------------"
   ]
  }
 ],
 "metadata": {
  "kernelspec": {
   "display_name": "Python 3 (ipykernel)",
   "language": "python",
   "name": "python3"
  },
  "language_info": {
   "codemirror_mode": {
    "name": "ipython",
    "version": 3
   },
   "file_extension": ".py",
   "mimetype": "text/x-python",
   "name": "python",
   "nbconvert_exporter": "python",
   "pygments_lexer": "ipython3",
   "version": "3.9.7"
  }
 },
 "nbformat": 4,
 "nbformat_minor": 5
}
