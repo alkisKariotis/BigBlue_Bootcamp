{
 "cells": [
  {
   "cell_type": "markdown",
   "id": "1992c454",
   "metadata": {},
   "source": [
    "## Comments"
   ]
  },
  {
   "cell_type": "code",
   "execution_count": 1,
   "id": "2e2b4963",
   "metadata": {},
   "outputs": [
    {
     "data": {
      "text/plain": [
       "8"
      ]
     },
     "execution_count": 1,
     "metadata": {},
     "output_type": "execute_result"
    }
   ],
   "source": [
    "\"\"\"\n",
    "This is a comment\n",
    "\n",
    "\n",
    "a\n",
    "\"\"\"\n",
    "# this is a comment\n",
    "3+5"
   ]
  },
  {
   "cell_type": "markdown",
   "id": "27e7a2f5",
   "metadata": {},
   "source": [
    "## Arithmetic types and operations"
   ]
  },
  {
   "cell_type": "code",
   "execution_count": 2,
   "id": "3f8618f7",
   "metadata": {},
   "outputs": [
    {
     "data": {
      "text/plain": [
       "int"
      ]
     },
     "execution_count": 2,
     "metadata": {},
     "output_type": "execute_result"
    }
   ],
   "source": [
    "x = 5\n",
    "type(x)"
   ]
  },
  {
   "cell_type": "code",
   "execution_count": 3,
   "id": "2e53cc0c",
   "metadata": {},
   "outputs": [
    {
     "data": {
      "text/plain": [
       "float"
      ]
     },
     "execution_count": 3,
     "metadata": {},
     "output_type": "execute_result"
    }
   ],
   "source": [
    "x = 6.7\n",
    "type(x)"
   ]
  },
  {
   "cell_type": "code",
   "execution_count": 4,
   "id": "c5c5ca09",
   "metadata": {},
   "outputs": [
    {
     "data": {
      "text/plain": [
       "float"
      ]
     },
     "execution_count": 4,
     "metadata": {},
     "output_type": "execute_result"
    }
   ],
   "source": [
    "x = 6.7e-1\n",
    "type(x)"
   ]
  },
  {
   "cell_type": "code",
   "execution_count": 5,
   "id": "0818124b",
   "metadata": {},
   "outputs": [
    {
     "data": {
      "text/plain": [
       "1"
      ]
     },
     "execution_count": 5,
     "metadata": {},
     "output_type": "execute_result"
    }
   ],
   "source": [
    "a = 1\n",
    "a"
   ]
  },
  {
   "cell_type": "code",
   "execution_count": 6,
   "id": "d2096438",
   "metadata": {},
   "outputs": [
    {
     "data": {
      "text/plain": [
       "2"
      ]
     },
     "execution_count": 6,
     "metadata": {},
     "output_type": "execute_result"
    }
   ],
   "source": [
    "a = a + 1\n",
    "a"
   ]
  },
  {
   "cell_type": "code",
   "execution_count": 7,
   "id": "7b80da06",
   "metadata": {},
   "outputs": [
    {
     "data": {
      "text/plain": [
       "3"
      ]
     },
     "execution_count": 7,
     "metadata": {},
     "output_type": "execute_result"
    }
   ],
   "source": [
    "a += 1\n",
    "a"
   ]
  },
  {
   "cell_type": "code",
   "execution_count": 8,
   "id": "0d23fba8",
   "metadata": {},
   "outputs": [
    {
     "data": {
      "text/plain": [
       "3"
      ]
     },
     "execution_count": 8,
     "metadata": {},
     "output_type": "execute_result"
    }
   ],
   "source": [
    "b = 3\n",
    "b"
   ]
  },
  {
   "cell_type": "code",
   "execution_count": 9,
   "id": "d09f7b85",
   "metadata": {},
   "outputs": [
    {
     "data": {
      "text/plain": [
       "2"
      ]
     },
     "execution_count": 9,
     "metadata": {},
     "output_type": "execute_result"
    }
   ],
   "source": [
    "b = b - 1\n",
    "b"
   ]
  },
  {
   "cell_type": "code",
   "execution_count": 10,
   "id": "25f8e04b",
   "metadata": {},
   "outputs": [
    {
     "data": {
      "text/plain": [
       "1"
      ]
     },
     "execution_count": 10,
     "metadata": {},
     "output_type": "execute_result"
    }
   ],
   "source": [
    "b -= 1\n",
    "b"
   ]
  },
  {
   "cell_type": "code",
   "execution_count": 11,
   "id": "df21264b",
   "metadata": {},
   "outputs": [
    {
     "data": {
      "text/plain": [
       "10"
      ]
     },
     "execution_count": 11,
     "metadata": {},
     "output_type": "execute_result"
    }
   ],
   "source": [
    "2 * 5"
   ]
  },
  {
   "cell_type": "code",
   "execution_count": 12,
   "id": "9ac7ce49",
   "metadata": {},
   "outputs": [
    {
     "data": {
      "text/plain": [
       "5.0"
      ]
     },
     "execution_count": 12,
     "metadata": {},
     "output_type": "execute_result"
    }
   ],
   "source": [
    "10 / 2"
   ]
  },
  {
   "cell_type": "code",
   "execution_count": 13,
   "id": "0f133a77",
   "metadata": {},
   "outputs": [
    {
     "data": {
      "text/plain": [
       "3.3333333333333335"
      ]
     },
     "execution_count": 13,
     "metadata": {},
     "output_type": "execute_result"
    }
   ],
   "source": [
    "10 / 3"
   ]
  },
  {
   "cell_type": "code",
   "execution_count": 14,
   "id": "9516fe67",
   "metadata": {},
   "outputs": [
    {
     "data": {
      "text/plain": [
       "3"
      ]
     },
     "execution_count": 14,
     "metadata": {},
     "output_type": "execute_result"
    }
   ],
   "source": [
    "10 // 3"
   ]
  },
  {
   "cell_type": "code",
   "execution_count": 15,
   "id": "d29b216e",
   "metadata": {},
   "outputs": [
    {
     "data": {
      "text/plain": [
       "1"
      ]
     },
     "execution_count": 15,
     "metadata": {},
     "output_type": "execute_result"
    }
   ],
   "source": [
    "10 % 3"
   ]
  },
  {
   "cell_type": "code",
   "execution_count": 16,
   "id": "906d7328",
   "metadata": {},
   "outputs": [
    {
     "data": {
      "text/plain": [
       "8"
      ]
     },
     "execution_count": 16,
     "metadata": {},
     "output_type": "execute_result"
    }
   ],
   "source": [
    "2**3"
   ]
  },
  {
   "cell_type": "code",
   "execution_count": 17,
   "id": "79ed5800",
   "metadata": {},
   "outputs": [
    {
     "data": {
      "text/plain": [
       "False"
      ]
     },
     "execution_count": 17,
     "metadata": {},
     "output_type": "execute_result"
    }
   ],
   "source": [
    "2 * (5 + 3) == 2 * 5 + 3"
   ]
  },
  {
   "cell_type": "markdown",
   "id": "431b7df6",
   "metadata": {},
   "source": [
    "## Text types and operations"
   ]
  },
  {
   "cell_type": "code",
   "execution_count": 18,
   "id": "26c3fd0a",
   "metadata": {},
   "outputs": [
    {
     "data": {
      "text/plain": [
       "'This is a test'"
      ]
     },
     "execution_count": 18,
     "metadata": {},
     "output_type": "execute_result"
    }
   ],
   "source": [
    "\"This is a test\""
   ]
  },
  {
   "cell_type": "code",
   "execution_count": 19,
   "id": "1e00744e",
   "metadata": {},
   "outputs": [
    {
     "data": {
      "text/plain": [
       "'This is a test'"
      ]
     },
     "execution_count": 19,
     "metadata": {},
     "output_type": "execute_result"
    }
   ],
   "source": [
    "'This is a test'"
   ]
  },
  {
   "cell_type": "code",
   "execution_count": 20,
   "id": "4f949b4a",
   "metadata": {},
   "outputs": [
    {
     "data": {
      "text/plain": [
       "'\\nThis is \\n\\na test\\n'"
      ]
     },
     "execution_count": 20,
     "metadata": {},
     "output_type": "execute_result"
    }
   ],
   "source": [
    "\"\"\"\n",
    "This is \n",
    "\n",
    "a test\n",
    "\"\"\""
   ]
  },
  {
   "cell_type": "code",
   "execution_count": 21,
   "id": "f2861058",
   "metadata": {},
   "outputs": [
    {
     "data": {
      "text/plain": [
       "'This is the first sentence. This is the second.'"
      ]
     },
     "execution_count": 21,
     "metadata": {},
     "output_type": "execute_result"
    }
   ],
   "source": [
    "example_text = 'This is the first sentence. This is the second.'\n",
    "example_text"
   ]
  },
  {
   "cell_type": "code",
   "execution_count": 22,
   "id": "500177a2",
   "metadata": {},
   "outputs": [
    {
     "data": {
      "text/plain": [
       "' is the first sentence. This is the second.'"
      ]
     },
     "execution_count": 22,
     "metadata": {},
     "output_type": "execute_result"
    }
   ],
   "source": [
    "example_text[4:]"
   ]
  },
  {
   "cell_type": "code",
   "execution_count": 23,
   "id": "4ab72c35",
   "metadata": {},
   "outputs": [
    {
     "data": {
      "text/plain": [
       "'.dnoces eht si sihT .ecnetnes tsrif eht si sihT'"
      ]
     },
     "execution_count": 23,
     "metadata": {},
     "output_type": "execute_result"
    }
   ],
   "source": [
    "example_text[::-1]"
   ]
  },
  {
   "cell_type": "code",
   "execution_count": 24,
   "id": "5f2d554e",
   "metadata": {},
   "outputs": [
    {
     "data": {
      "text/plain": [
       "'NDJCMEKSJCNDJ'"
      ]
     },
     "execution_count": 24,
     "metadata": {},
     "output_type": "execute_result"
    }
   ],
   "source": [
    "protein_sequence = 'JDNCJSKEMCJDN'\n",
    "protein_sequence[::-1]"
   ]
  },
  {
   "cell_type": "code",
   "execution_count": 25,
   "id": "e3f88fee",
   "metadata": {},
   "outputs": [
    {
     "data": {
      "text/plain": [
       "'testing'"
      ]
     },
     "execution_count": 25,
     "metadata": {},
     "output_type": "execute_result"
    }
   ],
   "source": [
    "ex = 'testing'\n",
    "ex"
   ]
  },
  {
   "cell_type": "code",
   "execution_count": 26,
   "id": "82e4d62e",
   "metadata": {},
   "outputs": [
    {
     "data": {
      "text/plain": [
       "0"
      ]
     },
     "execution_count": 26,
     "metadata": {},
     "output_type": "execute_result"
    }
   ],
   "source": [
    "find_var = 'there comes the rain'\n",
    "find_var.find('the')"
   ]
  },
  {
   "cell_type": "code",
   "execution_count": 27,
   "id": "f22e94e8",
   "metadata": {},
   "outputs": [
    {
     "data": {
      "text/plain": [
       "0"
      ]
     },
     "execution_count": 27,
     "metadata": {},
     "output_type": "execute_result"
    }
   ],
   "source": [
    "find_var = 'there comes the rain'\n",
    "find_var.find('the')"
   ]
  },
  {
   "cell_type": "code",
   "execution_count": 28,
   "id": "5a5c1cc5",
   "metadata": {},
   "outputs": [
    {
     "data": {
      "text/plain": [
       "'tsig'"
      ]
     },
     "execution_count": 28,
     "metadata": {},
     "output_type": "execute_result"
    }
   ],
   "source": [
    "ex[::2]"
   ]
  },
  {
   "cell_type": "code",
   "execution_count": 29,
   "id": "6b470db5",
   "metadata": {},
   "outputs": [
    {
     "data": {
      "text/plain": [
       "'gist'"
      ]
     },
     "execution_count": 29,
     "metadata": {},
     "output_type": "execute_result"
    }
   ],
   "source": [
    "ex[::-2]"
   ]
  },
  {
   "cell_type": "code",
   "execution_count": 30,
   "id": "ac2ca00b",
   "metadata": {},
   "outputs": [
    {
     "data": {
      "text/plain": [
       "'nte'"
      ]
     },
     "execution_count": 30,
     "metadata": {},
     "output_type": "execute_result"
    }
   ],
   "source": [
    "ex[-2::-2]"
   ]
  },
  {
   "cell_type": "code",
   "execution_count": null,
   "id": "b4c4e355",
   "metadata": {},
   "outputs": [],
   "source": []
  },
  {
   "cell_type": "code",
   "execution_count": 31,
   "id": "c9164e0b",
   "metadata": {},
   "outputs": [
    {
     "data": {
      "text/plain": [
       "'testing'"
      ]
     },
     "execution_count": 31,
     "metadata": {},
     "output_type": "execute_result"
    }
   ],
   "source": [
    "ex"
   ]
  },
  {
   "cell_type": "code",
   "execution_count": 32,
   "id": "e0fc6db6",
   "metadata": {},
   "outputs": [
    {
     "data": {
      "text/plain": [
       "7"
      ]
     },
     "execution_count": 32,
     "metadata": {},
     "output_type": "execute_result"
    }
   ],
   "source": [
    "len(ex)"
   ]
  },
  {
   "cell_type": "code",
   "execution_count": 33,
   "id": "57f57c1a",
   "metadata": {},
   "outputs": [
    {
     "name": "stdout",
     "output_type": "stream",
     "text": [
      "ok\n"
     ]
    }
   ],
   "source": [
    "find_var = 'Santorini, Greece'\n",
    "result = find_var.find('Greece')\n",
    "if result >= 0:\n",
    "    print('ok')"
   ]
  },
  {
   "cell_type": "code",
   "execution_count": 34,
   "id": "e0c9134c",
   "metadata": {},
   "outputs": [],
   "source": [
    "find_var = 'Rome, Italy'\n",
    "result = find_var.find('Greece')\n",
    "if result >= 0:\n",
    "    print('ok')"
   ]
  },
  {
   "cell_type": "code",
   "execution_count": 35,
   "id": "1c34c9c5",
   "metadata": {},
   "outputs": [
    {
     "name": "stdout",
     "output_type": "stream",
     "text": [
      "Milan (Italian city), Italy\n"
     ]
    }
   ],
   "source": [
    "replace_var = 'Milan (Italian city), Itali'\n",
    "replace_var = replace_var.replace(', Itali', ', Italy')\n",
    "print(replace_var)"
   ]
  },
  {
   "cell_type": "code",
   "execution_count": 36,
   "id": "32e3893e",
   "metadata": {},
   "outputs": [
    {
     "data": {
      "text/plain": [
       "2"
      ]
     },
     "execution_count": 36,
     "metadata": {},
     "output_type": "execute_result"
    }
   ],
   "source": [
    "count_var = 'there comes the rain'\n",
    "count_var.count('the')"
   ]
  },
  {
   "cell_type": "code",
   "execution_count": 37,
   "id": "048429bd",
   "metadata": {},
   "outputs": [
    {
     "data": {
      "text/plain": [
       "'155'"
      ]
     },
     "execution_count": 37,
     "metadata": {},
     "output_type": "execute_result"
    }
   ],
   "source": [
    "number_var = '155'\n",
    "number_var"
   ]
  },
  {
   "cell_type": "code",
   "execution_count": 38,
   "id": "1d6ca30e",
   "metadata": {},
   "outputs": [
    {
     "data": {
      "text/plain": [
       "155"
      ]
     },
     "execution_count": 38,
     "metadata": {},
     "output_type": "execute_result"
    }
   ],
   "source": [
    "number_var = int(number_var)\n",
    "number_var"
   ]
  },
  {
   "cell_type": "code",
   "execution_count": 39,
   "id": "e6d2a83c",
   "metadata": {},
   "outputs": [
    {
     "data": {
      "text/plain": [
       "'145'"
      ]
     },
     "execution_count": 39,
     "metadata": {},
     "output_type": "execute_result"
    }
   ],
   "source": [
    "number_var_corrected = str(number_var - 10)\n",
    "number_var_corrected"
   ]
  },
  {
   "cell_type": "code",
   "execution_count": 40,
   "id": "6e26667a",
   "metadata": {},
   "outputs": [
    {
     "ename": "ValueError",
     "evalue": "invalid literal for int() with base 10: 'hi'",
     "output_type": "error",
     "traceback": [
      "\u001b[0;31m---------------------------------------------------------------------------\u001b[0m",
      "\u001b[0;31mValueError\u001b[0m                                Traceback (most recent call last)",
      "Cell \u001b[0;32mIn [40], line 1\u001b[0m\n\u001b[0;32m----> 1\u001b[0m \u001b[38;5;28mint\u001b[39m(\u001b[38;5;124m'\u001b[39m\u001b[38;5;124mhi\u001b[39m\u001b[38;5;124m'\u001b[39m)\n",
      "\u001b[0;31mValueError\u001b[0m: invalid literal for int() with base 10: 'hi'"
     ]
    }
   ],
   "source": [
    "int('hi')"
   ]
  },
  {
   "cell_type": "code",
   "execution_count": 45,
   "id": "4e895317",
   "metadata": {},
   "outputs": [
    {
     "name": "stdout",
     "output_type": "stream",
     "text": [
      "test\n"
     ]
    }
   ],
   "source": [
    "s = input()"
   ]
  },
  {
   "cell_type": "code",
   "execution_count": 42,
   "id": "d8a3a79f",
   "metadata": {},
   "outputs": [
    {
     "name": "stdout",
     "output_type": "stream",
     "text": [
      "The temperature outside is 25.6767657 degrees\n"
     ]
    }
   ],
   "source": [
    "temperature = 25.6767657\n",
    "temp_text = \"The temperature outside is %s degrees\" %(temperature)\n",
    "print(temp_text)\n",
    "\n"
   ]
  },
  {
   "cell_type": "code",
   "execution_count": 43,
   "id": "8cb6c68a",
   "metadata": {},
   "outputs": [
    {
     "data": {
      "text/plain": [
       "'25.68'"
      ]
     },
     "execution_count": 43,
     "metadata": {},
     "output_type": "execute_result"
    }
   ],
   "source": [
    "temperature\n",
    "t = \"%1.2f\" %(temperature)\n",
    "t"
   ]
  },
  {
   "cell_type": "code",
   "execution_count": 44,
   "id": "da7c5e50",
   "metadata": {},
   "outputs": [
    {
     "data": {
      "text/plain": [
       "25.68"
      ]
     },
     "execution_count": 44,
     "metadata": {},
     "output_type": "execute_result"
    }
   ],
   "source": [
    "round(temperature, 2)"
   ]
  },
  {
   "cell_type": "markdown",
   "id": "17933d1f",
   "metadata": {},
   "source": [
    "## String formatting"
   ]
  },
  {
   "cell_type": "code",
   "execution_count": 46,
   "id": "b09b10bf",
   "metadata": {},
   "outputs": [
    {
     "data": {
      "text/plain": [
       "'The temperature outside is 25.68 degrees. Date: 2022-10-13'"
      ]
     },
     "execution_count": 46,
     "metadata": {},
     "output_type": "execute_result"
    }
   ],
   "source": [
    "temperature = 25.6767657\n",
    "date='2022-10-13'\n",
    "# temp_text = f\"The temperature outside is {temperature} degrees\"\n",
    "temp_text = f\"The temperature outside is {round(temperature, 2)} degrees. Date: {date}\"\n",
    "temp_text"
   ]
  }
 ],
 "metadata": {
  "kernelspec": {
   "display_name": "Python 3 (ipykernel)",
   "language": "python",
   "name": "python3"
  },
  "language_info": {
   "codemirror_mode": {
    "name": "ipython",
    "version": 3
   },
   "file_extension": ".py",
   "mimetype": "text/x-python",
   "name": "python",
   "nbconvert_exporter": "python",
   "pygments_lexer": "ipython3",
   "version": "3.8.10"
  }
 },
 "nbformat": 4,
 "nbformat_minor": 5
}
