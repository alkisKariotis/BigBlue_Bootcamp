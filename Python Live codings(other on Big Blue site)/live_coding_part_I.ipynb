{
 "cells": [
  {
   "cell_type": "markdown",
   "id": "bec9aacc-fe66-4643-82b5-0d4f0d850514",
   "metadata": {},
   "source": [
    "# This is our Live Coding File for Today\n",
    "--------------------------------------------------------"
   ]
  },
  {
   "cell_type": "markdown",
   "id": "c10cd7dc-fbd3-4e8d-9e77-56ec972188ea",
   "metadata": {},
   "source": [
    "### Time (time) Library"
   ]
  },
  {
   "cell_type": "code",
   "execution_count": 45,
   "id": "5dd50634-d824-470b-a71b-a56c776a1a7c",
   "metadata": {},
   "outputs": [],
   "source": [
    "# import time library\n",
    "import time"
   ]
  },
  {
   "cell_type": "code",
   "execution_count": 46,
   "id": "9afa2d4e-0593-40b7-9a5c-217561fc5355",
   "metadata": {},
   "outputs": [
    {
     "data": {
      "text/plain": [
       "1666799477.3748698"
      ]
     },
     "execution_count": 46,
     "metadata": {},
     "output_type": "execute_result"
    }
   ],
   "source": [
    "#unix time (since 1/1/1970)\n",
    "time.time()"
   ]
  },
  {
   "cell_type": "code",
   "execution_count": 47,
   "id": "ba5cb1ba-f9eb-4831-9bd5-77a09b006b5a",
   "metadata": {},
   "outputs": [
    {
     "data": {
      "text/plain": [
       "time.struct_time(tm_year=2022, tm_mon=10, tm_mday=26, tm_hour=15, tm_min=32, tm_sec=5, tm_wday=2, tm_yday=299, tm_isdst=0)"
      ]
     },
     "execution_count": 47,
     "metadata": {},
     "output_type": "execute_result"
    }
   ],
   "source": [
    "#utx time format \n",
    "time.gmtime(1666798325.4615304)"
   ]
  },
  {
   "cell_type": "code",
   "execution_count": 48,
   "id": "f373a462-3aed-4423-9916-f82333701a73",
   "metadata": {},
   "outputs": [
    {
     "data": {
      "text/plain": [
       "time.struct_time(tm_year=2022, tm_mon=10, tm_mday=26, tm_hour=15, tm_min=51, tm_sec=17, tm_wday=2, tm_yday=299, tm_isdst=0)"
      ]
     },
     "execution_count": 48,
     "metadata": {},
     "output_type": "execute_result"
    }
   ],
   "source": [
    "#time.structured time data type\n",
    "time.gmtime(time.time())"
   ]
  },
  {
   "cell_type": "code",
   "execution_count": 49,
   "id": "40007ae6-f448-461b-ac06-5ea89e69adce",
   "metadata": {},
   "outputs": [],
   "source": [
    "time_x = time.gmtime(time.time())"
   ]
  },
  {
   "cell_type": "code",
   "execution_count": 50,
   "id": "3d46e5ed-8564-44ab-ad87-9e8ef8d2827d",
   "metadata": {},
   "outputs": [
    {
     "data": {
      "text/plain": [
       "time.struct_time(tm_year=2022, tm_mon=10, tm_mday=26, tm_hour=15, tm_min=51, tm_sec=17, tm_wday=2, tm_yday=299, tm_isdst=0)"
      ]
     },
     "execution_count": 50,
     "metadata": {},
     "output_type": "execute_result"
    }
   ],
   "source": [
    "time_x"
   ]
  },
  {
   "cell_type": "code",
   "execution_count": 51,
   "id": "6baca30d-efde-498a-9442-60ff1664eea8",
   "metadata": {},
   "outputs": [
    {
     "data": {
      "text/plain": [
       "2022"
      ]
     },
     "execution_count": 51,
     "metadata": {},
     "output_type": "execute_result"
    }
   ],
   "source": [
    "#Here we can index any instance we wish - here we called the year\n",
    "time_x.tm_year"
   ]
  },
  {
   "cell_type": "code",
   "execution_count": 52,
   "id": "f0c12ee6-8b2d-48f2-9c63-734f8401aec7",
   "metadata": {},
   "outputs": [
    {
     "data": {
      "text/plain": [
       "10"
      ]
     },
     "execution_count": 52,
     "metadata": {},
     "output_type": "execute_result"
    }
   ],
   "source": [
    "#Here we can index any instance we wish - here we called the month\n",
    "time_x.tm_mon"
   ]
  },
  {
   "cell_type": "code",
   "execution_count": 53,
   "id": "92b13089-da7e-46bb-9857-6d3e84a8e64b",
   "metadata": {},
   "outputs": [
    {
     "data": {
      "text/plain": [
       "26"
      ]
     },
     "execution_count": 53,
     "metadata": {},
     "output_type": "execute_result"
    }
   ],
   "source": [
    "#Here we can index any instance we wish - here we called the month day\n",
    "time_x.tm_mday"
   ]
  },
  {
   "cell_type": "code",
   "execution_count": 54,
   "id": "da7cc9c0-cac5-4ad7-8255-43c8c3768e58",
   "metadata": {},
   "outputs": [
    {
     "data": {
      "text/plain": [
       "time.struct_time(tm_year=1970, tm_mon=1, tm_mday=1, tm_hour=0, tm_min=0, tm_sec=0, tm_wday=3, tm_yday=1, tm_isdst=0)"
      ]
     },
     "execution_count": 54,
     "metadata": {},
     "output_type": "execute_result"
    }
   ],
   "source": [
    "time.gmtime(0)"
   ]
  },
  {
   "cell_type": "code",
   "execution_count": 55,
   "id": "772bf4eb-b652-46fe-b76b-3088259b6e2a",
   "metadata": {},
   "outputs": [
    {
     "data": {
      "text/plain": [
       "time.struct_time(tm_year=1969, tm_mon=12, tm_mday=31, tm_hour=23, tm_min=59, tm_sec=59, tm_wday=3, tm_yday=365, tm_isdst=0)"
      ]
     },
     "execution_count": 55,
     "metadata": {},
     "output_type": "execute_result"
    }
   ],
   "source": [
    "time.gmtime(-1)"
   ]
  },
  {
   "cell_type": "code",
   "execution_count": 56,
   "id": "28749eba-8887-425e-8956-0bcc24a3a5cd",
   "metadata": {},
   "outputs": [
    {
     "data": {
      "text/plain": [
       "time.struct_time(tm_year=2022, tm_mon=10, tm_mday=26, tm_hour=18, tm_min=51, tm_sec=19, tm_wday=2, tm_yday=299, tm_isdst=1)"
      ]
     },
     "execution_count": 56,
     "metadata": {},
     "output_type": "execute_result"
    }
   ],
   "source": [
    "#localtime - based on pc\n",
    "time.localtime(time.time())"
   ]
  },
  {
   "cell_type": "code",
   "execution_count": 57,
   "id": "4d712181-15de-4f27-91f8-2ad0df2b57f4",
   "metadata": {},
   "outputs": [],
   "source": [
    "x = time.localtime(1666798325.0)"
   ]
  },
  {
   "cell_type": "code",
   "execution_count": 58,
   "id": "a0a7ae3b-27fe-436b-b7af-75e7a1e73556",
   "metadata": {},
   "outputs": [
    {
     "data": {
      "text/plain": [
       "time.struct_time(tm_year=2022, tm_mon=10, tm_mday=26, tm_hour=18, tm_min=32, tm_sec=5, tm_wday=2, tm_yday=299, tm_isdst=1)"
      ]
     },
     "execution_count": 58,
     "metadata": {},
     "output_type": "execute_result"
    }
   ],
   "source": [
    "x"
   ]
  },
  {
   "cell_type": "code",
   "execution_count": 59,
   "id": "d3a814bb-894e-4e64-aef1-da2656bd9428",
   "metadata": {},
   "outputs": [
    {
     "data": {
      "text/plain": [
       "1666798325.0"
      ]
     },
     "execution_count": 59,
     "metadata": {},
     "output_type": "execute_result"
    }
   ],
   "source": [
    "#mktime retruns structured time back into seconds\n",
    "time.mktime(x)"
   ]
  },
  {
   "cell_type": "code",
   "execution_count": 61,
   "id": "1770cde9-becd-4e10-9ebb-f31e6a0d4759",
   "metadata": {},
   "outputs": [
    {
     "data": {
      "text/plain": [
       "'Wed Oct 26 18:32:05 2022'"
      ]
     },
     "execution_count": 61,
     "metadata": {},
     "output_type": "execute_result"
    }
   ],
   "source": [
    "#ctime transforms data to string\n",
    "st_time = time.ctime(1666798325.0)\n",
    "st_time"
   ]
  },
  {
   "cell_type": "code",
   "execution_count": 62,
   "id": "abf334e4-bf73-47b3-ba92-0d913b11db20",
   "metadata": {},
   "outputs": [
    {
     "data": {
      "text/plain": [
       "'Mon Oct 26 18:48:09 2022'"
      ]
     },
     "execution_count": 62,
     "metadata": {},
     "output_type": "execute_result"
    }
   ],
   "source": [
    "#asctime works like ctime but requires different input\n",
    "t = (2022, 10, 26, 18, 48, 9, 0, 3, 0)\n",
    "st_time2 = time.asctime(t)\n",
    "st_time2"
   ]
  },
  {
   "cell_type": "code",
   "execution_count": 63,
   "id": "7e0c95e9-6c26-4596-9780-cb9b1793bd80",
   "metadata": {},
   "outputs": [
    {
     "data": {
      "text/plain": [
       "str"
      ]
     },
     "execution_count": 63,
     "metadata": {},
     "output_type": "execute_result"
    }
   ],
   "source": [
    "type(st_time)"
   ]
  },
  {
   "cell_type": "code",
   "execution_count": 64,
   "id": "dd195368-5d52-41b6-9a76-043a0d66dfd6",
   "metadata": {},
   "outputs": [
    {
     "data": {
      "text/plain": [
       "time.struct_time"
      ]
     },
     "execution_count": 64,
     "metadata": {},
     "output_type": "execute_result"
    }
   ],
   "source": [
    "type(x)"
   ]
  },
  {
   "cell_type": "code",
   "execution_count": 65,
   "id": "f071a62d-0073-462c-a1a7-3d74ed1fbab6",
   "metadata": {},
   "outputs": [],
   "source": [
    "now = time.localtime(time.time())"
   ]
  },
  {
   "cell_type": "code",
   "execution_count": 66,
   "id": "0dff3884-c5a4-4257-8860-8dd57e43a854",
   "metadata": {},
   "outputs": [
    {
     "data": {
      "text/plain": [
       "time.struct_time(tm_year=2022, tm_mon=10, tm_mday=26, tm_hour=18, tm_min=52, tm_sec=54, tm_wday=2, tm_yday=299, tm_isdst=1)"
      ]
     },
     "execution_count": 66,
     "metadata": {},
     "output_type": "execute_result"
    }
   ],
   "source": [
    "now"
   ]
  },
  {
   "cell_type": "code",
   "execution_count": 67,
   "id": "821c3704-1f52-4b16-b00e-aef5561ad652",
   "metadata": {},
   "outputs": [
    {
     "data": {
      "text/plain": [
       "2022"
      ]
     },
     "execution_count": 67,
     "metadata": {},
     "output_type": "execute_result"
    }
   ],
   "source": [
    "#Here we can also index with position and not just with instance\n",
    "now[0]"
   ]
  },
  {
   "cell_type": "code",
   "execution_count": 68,
   "id": "e578af19-3c3e-42a4-8b1c-18dc586a1719",
   "metadata": {},
   "outputs": [
    {
     "name": "stdout",
     "output_type": "stream",
     "text": [
      "10000000\n"
     ]
    }
   ],
   "source": [
    "#Example with timing (our code)\n",
    "import random\n",
    "randomlist = random.sample(range(1, 30000000), 10000000)\n",
    "print(len(randomlist))"
   ]
  },
  {
   "cell_type": "code",
   "execution_count": 93,
   "id": "905307fe-9976-4103-924c-d9b2128b8a52",
   "metadata": {},
   "outputs": [
    {
     "name": "stdout",
     "output_type": "stream",
     "text": [
      "0.6394267984578837\n"
     ]
    }
   ],
   "source": [
    "#random seed example - try with and without random seed\n",
    "random.seed(42)\n",
    "print(random.random())"
   ]
  },
  {
   "cell_type": "code",
   "execution_count": 91,
   "id": "2b7d971e-b1b5-4d06-8342-133e4569bd76",
   "metadata": {},
   "outputs": [],
   "source": [
    "def times2(x):\n",
    "    return x*2"
   ]
  },
  {
   "cell_type": "code",
   "execution_count": 92,
   "id": "5a037a1b-e7a3-4dfb-91a8-c5c493b09c23",
   "metadata": {},
   "outputs": [
    {
     "name": "stdout",
     "output_type": "stream",
     "text": [
      "This took : 4.6977 seconds\n"
     ]
    }
   ],
   "source": [
    "start = time.time()\n",
    "x = list(map(times2,randomlist))\n",
    "end = time.time()\n",
    "duration = end - start\n",
    "print(\"This took :\", round(duration,4),\"seconds\")"
   ]
  },
  {
   "cell_type": "markdown",
   "id": "75cb7fb6-50e1-4dde-b258-292e756bbb12",
   "metadata": {},
   "source": [
    "------------------------------------"
   ]
  },
  {
   "cell_type": "markdown",
   "id": "39da6afc-83c0-4deb-be6f-a35baaef893d",
   "metadata": {},
   "source": [
    "# Regex (re) Library"
   ]
  },
  {
   "cell_type": "code",
   "execution_count": 133,
   "id": "bcfedad3-0c7f-4fc1-ae59-93a6bc9fdd90",
   "metadata": {},
   "outputs": [],
   "source": [
    "#import regex library\n",
    "import re"
   ]
  },
  {
   "cell_type": "markdown",
   "id": "921906eb-59be-402d-a6b0-1b7277925a83",
   "metadata": {},
   "source": [
    "## Regular Expressions\n",
    "\n",
    "### Meta Characters [] . ^ $ * + ? {} () \\ |"
   ]
  },
  {
   "cell_type": "markdown",
   "id": "b635b62b-234a-493a-a71f-8df710685924",
   "metadata": {},
   "source": [
    "### Square Brackets []\n",
    "Specifies a set of characters you wish to match."
   ]
  },
  {
   "cell_type": "code",
   "execution_count": 158,
   "id": "7205c6f2-f630-457c-a98f-bc68dded63e3",
   "metadata": {},
   "outputs": [
    {
     "name": "stdout",
     "output_type": "stream",
     "text": [
      "Found: 1 --> ['a']\n"
     ]
    }
   ],
   "source": [
    "test_string = 'a'\n",
    "pattern = '[abc]'\n",
    "found = re.findall(pattern, test_string)\n",
    "print(\"Found:\",len(found),\"-->\", found)"
   ]
  },
  {
   "cell_type": "code",
   "execution_count": 162,
   "id": "5087e533-82e2-4b7c-bf06-f4a6f88aed13",
   "metadata": {},
   "outputs": [
    {
     "name": "stdout",
     "output_type": "stream",
     "text": [
      "Found: 4 --> ['a', 'b', 'a', 'c']\n"
     ]
    }
   ],
   "source": [
    "test_string = \"This is the text string that we will be using for today's Live coding Session\"\n",
    "pattern = '[abc]'\n",
    "found = re.findall(pattern, test_string)\n",
    "print(\"Found:\",len(found),\"-->\", found)"
   ]
  },
  {
   "cell_type": "code",
   "execution_count": 163,
   "id": "a47c123e-4aeb-4a76-9107-d400a09cb3ac",
   "metadata": {},
   "outputs": [
    {
     "name": "stdout",
     "output_type": "stream",
     "text": [
      "Found: 0 --> []\n"
     ]
    }
   ],
   "source": [
    "test_string = 'hello'\n",
    "pattern = '[abc]'\n",
    "found = re.findall(pattern, test_string)\n",
    "print(\"Found:\",len(found),\"-->\", found)"
   ]
  },
  {
   "cell_type": "code",
   "execution_count": 164,
   "id": "87b7e78f-61bf-426a-9f83-a7bf5e3b9dbf",
   "metadata": {},
   "outputs": [
    {
     "name": "stdout",
     "output_type": "stream",
     "text": [
      "Found: 5 --> ['a', 'b', 'c', 'c', 'a']\n"
     ]
    }
   ],
   "source": [
    "test_string = 'abc de ca'\n",
    "pattern = '[abc]'\n",
    "found = re.findall(pattern, test_string)\n",
    "print(\"Found:\",len(found),\"-->\", found)"
   ]
  },
  {
   "cell_type": "markdown",
   "id": "2a2fe52a-b3dd-4904-91d6-58a868853751",
   "metadata": {},
   "source": [
    "### Period (.) \n",
    "Period - A period matches any single character (except newline '\\n')."
   ]
  },
  {
   "cell_type": "code",
   "execution_count": 165,
   "id": "ea819cc7-1cd5-4641-abbe-c1acdeba5002",
   "metadata": {},
   "outputs": [
    {
     "name": "stdout",
     "output_type": "stream",
     "text": [
      "Found: 1 --> ['aa']\n"
     ]
    }
   ],
   "source": [
    "test_string = 'aa'\n",
    "pattern = '..'\n",
    "found = re.findall(pattern, test_string)\n",
    "print(\"Found:\",len(found),\"-->\", found)"
   ]
  },
  {
   "cell_type": "code",
   "execution_count": 166,
   "id": "5b37df18-ec31-4036-828c-3c1ebc6fd498",
   "metadata": {},
   "outputs": [
    {
     "name": "stdout",
     "output_type": "stream",
     "text": [
      "Found: 0 --> []\n"
     ]
    }
   ],
   "source": [
    "test_string = 'a'\n",
    "pattern = '..'\n",
    "found = re.findall(pattern, test_string)\n",
    "print(\"Found:\",len(found),\"-->\", found)"
   ]
  },
  {
   "cell_type": "code",
   "execution_count": 167,
   "id": "a8272fa3-dd77-4efa-a616-3eab8ccd6439",
   "metadata": {},
   "outputs": [
    {
     "name": "stdout",
     "output_type": "stream",
     "text": [
      "Found: 2 --> ['aa', '  ']\n"
     ]
    }
   ],
   "source": [
    "test_string = 'aa  '\n",
    "pattern = '..'\n",
    "found = re.findall(pattern, test_string)\n",
    "print(\"Found:\",len(found),\"-->\", found)"
   ]
  },
  {
   "cell_type": "code",
   "execution_count": 168,
   "id": "dc104ba8-c361-42a4-aaed-da9a71ef70dc",
   "metadata": {},
   "outputs": [
    {
     "name": "stdout",
     "output_type": "stream",
     "text": [
      "Found: 1 --> ['az']\n"
     ]
    }
   ],
   "source": [
    "test_string = 'az'\n",
    "pattern = '..'\n",
    "found = re.findall(pattern, test_string)\n",
    "print(\"Found:\",len(found),\"-->\", found)"
   ]
  },
  {
   "cell_type": "code",
   "execution_count": 176,
   "id": "c4581e89-2b7d-4240-9ed7-da7f1d3c8d23",
   "metadata": {},
   "outputs": [
    {
     "name": "stdout",
     "output_type": "stream",
     "text": [
      "Found: 2 --> ['ab', 'cd']\n"
     ]
    }
   ],
   "source": [
    "test_string = 'abcd'\n",
    "pattern = '..'\n",
    "found = re.findall(pattern, test_string)\n",
    "print(\"Found:\",len(found),\"-->\", found)"
   ]
  },
  {
   "cell_type": "code",
   "execution_count": 177,
   "id": "03994cbf-d997-44f1-866b-05c0d6f35654",
   "metadata": {},
   "outputs": [
    {
     "name": "stdout",
     "output_type": "stream",
     "text": [
      "Found: 1 --> ['bcd']\n"
     ]
    }
   ],
   "source": [
    "test_string = 'abcd'\n",
    "pattern = 'b..'\n",
    "found = re.findall(pattern, test_string)\n",
    "print(\"Found:\",len(found),\"-->\", found)"
   ]
  },
  {
   "cell_type": "markdown",
   "id": "508dec92-503a-46b2-84de-c2cf2888cfc5",
   "metadata": {},
   "source": [
    "### Caret ^\n",
    "The caret symbol ^ is used to check if a string starts with a certain character."
   ]
  },
  {
   "cell_type": "code",
   "execution_count": 178,
   "id": "84426a54-a4b2-4002-bf4b-88fb1403b64c",
   "metadata": {},
   "outputs": [
    {
     "name": "stdout",
     "output_type": "stream",
     "text": [
      "Found: 1 --> ['a']\n"
     ]
    }
   ],
   "source": [
    "test_string = 'acde'\n",
    "pattern = '^a'\n",
    "found = re.findall(pattern, test_string)\n",
    "print(\"Found:\",len(found),\"-->\", found)"
   ]
  },
  {
   "cell_type": "code",
   "execution_count": 179,
   "id": "657990f3-6e3a-4d6d-9ce3-28b72effc430",
   "metadata": {},
   "outputs": [
    {
     "name": "stdout",
     "output_type": "stream",
     "text": [
      "Found: 1 --> ['a']\n"
     ]
    }
   ],
   "source": [
    "test_string = 'ace'\n",
    "pattern = '^a'\n",
    "found = re.findall(pattern, test_string)\n",
    "print(\"Found:\",len(found),\"-->\", found)"
   ]
  },
  {
   "cell_type": "code",
   "execution_count": 201,
   "id": "4d0bc51c-62dc-401b-a2a9-67bb8230ebc7",
   "metadata": {},
   "outputs": [
    {
     "name": "stdout",
     "output_type": "stream",
     "text": [
      "Found: 1 --> ['a']\n"
     ]
    }
   ],
   "source": [
    "test_string = 'ace base'\n",
    "pattern = '^a'\n",
    "found = re.findall(pattern, test_string)\n",
    "print(\"Found:\",len(found),\"-->\", found)"
   ]
  },
  {
   "cell_type": "code",
   "execution_count": 210,
   "id": "5015a0fa-d86d-4faa-a155-fa443716b2f6",
   "metadata": {},
   "outputs": [
    {
     "name": "stdout",
     "output_type": "stream",
     "text": [
      "Found: 1 --> ['a']\n"
     ]
    }
   ],
   "source": [
    "test_string = 'ace ace'\n",
    "pattern = '^a'\n",
    "found = re.findall(pattern, test_string)\n",
    "print(\"Found:\",len(found),\"-->\", found)"
   ]
  },
  {
   "cell_type": "markdown",
   "id": "30dc4c65-540f-4495-985a-6c6b41c3617c",
   "metadata": {},
   "source": [
    "### Dollar\n",
    "The dollar symbol $ is used to check if a string ends with a certain character."
   ]
  },
  {
   "cell_type": "code",
   "execution_count": 212,
   "id": "3516632b-5a58-432b-a997-4b9d8b62dd8b",
   "metadata": {},
   "outputs": [
    {
     "name": "stdout",
     "output_type": "stream",
     "text": [
      "Found: 1 --> ['a']\n"
     ]
    }
   ],
   "source": [
    "test_string = 'ace dd ddd aa'\n",
    "pattern = 'a$'\n",
    "found = re.findall(pattern, test_string)\n",
    "print(\"Found:\",len(found),\"-->\", found)"
   ]
  },
  {
   "cell_type": "code",
   "execution_count": 213,
   "id": "7b6acc4d-f9d4-45c5-b3b1-210262db8f4b",
   "metadata": {},
   "outputs": [
    {
     "name": "stdout",
     "output_type": "stream",
     "text": [
      "Found: 1 --> ['a']\n"
     ]
    }
   ],
   "source": [
    "test_string = 'formula'\n",
    "pattern = 'a$'\n",
    "found = re.findall(pattern, test_string)\n",
    "print(\"Found:\",len(found),\"-->\", found)"
   ]
  },
  {
   "cell_type": "markdown",
   "id": "5e45409c-b749-44cf-81b3-d639ca6c09ef",
   "metadata": {},
   "source": [
    "### Star (*)\n",
    "The star symbol * matches zero or more occurrences of the pattern / character left to it."
   ]
  },
  {
   "cell_type": "code",
   "execution_count": 230,
   "id": "d4e9a996-49dd-4d94-aa2c-aaaeacb218c0",
   "metadata": {},
   "outputs": [
    {
     "name": "stdout",
     "output_type": "stream",
     "text": [
      "Found: 1 --> ['mn']\n"
     ]
    }
   ],
   "source": [
    "test_string = 'mn'\n",
    "pattern = 'ma*n'\n",
    "found = re.findall(pattern, test_string)\n",
    "print(\"Found:\",len(found),\"-->\", found)"
   ]
  },
  {
   "cell_type": "code",
   "execution_count": 231,
   "id": "5f235696-a772-47a0-93a4-f7e83813ff68",
   "metadata": {},
   "outputs": [
    {
     "name": "stdout",
     "output_type": "stream",
     "text": [
      "Found: 2 --> ['mn', 'mn']\n"
     ]
    }
   ],
   "source": [
    "test_string = 'mnmn'\n",
    "pattern = 'ma*n'\n",
    "found = re.findall(pattern, test_string)\n",
    "print(\"Found:\",len(found),\"-->\", found)"
   ]
  },
  {
   "cell_type": "code",
   "execution_count": 232,
   "id": "00fc77cf-e306-4877-afdb-96e8170628cc",
   "metadata": {},
   "outputs": [
    {
     "name": "stdout",
     "output_type": "stream",
     "text": [
      "Found: 1 --> ['maaaaaan']\n"
     ]
    }
   ],
   "source": [
    "test_string = 'maaaaaan'\n",
    "pattern = 'ma*n'\n",
    "found = re.findall(pattern, test_string)\n",
    "print(\"Found:\",len(found),\"-->\", found)"
   ]
  },
  {
   "cell_type": "code",
   "execution_count": 233,
   "id": "b3bcbc84-3caf-40f5-93de-5df79e0d5aad",
   "metadata": {},
   "outputs": [
    {
     "name": "stdout",
     "output_type": "stream",
     "text": [
      "Found: 1 --> ['man']\n"
     ]
    }
   ],
   "source": [
    "test_string = 'woman'\n",
    "pattern = 'ma*n'\n",
    "found = re.findall(pattern, test_string)\n",
    "print(\"Found:\",len(found),\"-->\", found)"
   ]
  },
  {
   "cell_type": "code",
   "execution_count": 234,
   "id": "8b72cb0b-135d-4af4-8973-52b48aa5688a",
   "metadata": {},
   "outputs": [
    {
     "name": "stdout",
     "output_type": "stream",
     "text": [
      "Found: 0 --> []\n"
     ]
    }
   ],
   "source": [
    "test_string = 'main'\n",
    "pattern = 'ma*n'\n",
    "found = re.findall(pattern, test_string)\n",
    "print(\"Found:\",len(found),\"-->\", found)"
   ]
  },
  {
   "cell_type": "markdown",
   "id": "59f42935-df3f-4b8b-9e93-c689abdefa1c",
   "metadata": {},
   "source": [
    "### Plus (+)\n",
    "The plus symbol + matches one or more occurrences of the pattern / character left to it."
   ]
  },
  {
   "cell_type": "code",
   "execution_count": 235,
   "id": "37555e0a-b9e8-4530-8ab3-a46fe49e7e15",
   "metadata": {},
   "outputs": [
    {
     "name": "stdout",
     "output_type": "stream",
     "text": [
      "Found: 0 --> []\n"
     ]
    }
   ],
   "source": [
    "test_string = 'mn'\n",
    "pattern = 'ma+n'\n",
    "found = re.findall(pattern, test_string)\n",
    "print(\"Found:\",len(found),\"-->\", found)"
   ]
  },
  {
   "cell_type": "code",
   "execution_count": 236,
   "id": "23ae781a-4733-4ac9-81c7-f30ca8117765",
   "metadata": {},
   "outputs": [
    {
     "name": "stdout",
     "output_type": "stream",
     "text": [
      "Found: 1 --> ['man']\n"
     ]
    }
   ],
   "source": [
    "test_string = 'man'\n",
    "pattern = 'ma+n'\n",
    "found = re.findall(pattern, test_string)\n",
    "print(\"Found:\",len(found),\"-->\", found)"
   ]
  },
  {
   "cell_type": "code",
   "execution_count": 237,
   "id": "6af141ce-f37c-429c-9210-fcc93d7de23a",
   "metadata": {},
   "outputs": [
    {
     "name": "stdout",
     "output_type": "stream",
     "text": [
      "Found: 1 --> ['maaaan']\n"
     ]
    }
   ],
   "source": [
    "test_string = 'maaaan'\n",
    "pattern = 'ma+n'\n",
    "found = re.findall(pattern, test_string)\n",
    "print(\"Found:\",len(found),\"-->\", found)"
   ]
  },
  {
   "cell_type": "code",
   "execution_count": 238,
   "id": "7cebf4a0-50d7-48fe-abd6-5b2bc232cc04",
   "metadata": {},
   "outputs": [
    {
     "name": "stdout",
     "output_type": "stream",
     "text": [
      "Found: 0 --> []\n"
     ]
    }
   ],
   "source": [
    "test_string = 'main'\n",
    "pattern = 'ma+n'\n",
    "found = re.findall(pattern, test_string)\n",
    "print(\"Found:\",len(found),\"-->\", found)"
   ]
  },
  {
   "cell_type": "markdown",
   "id": "93a8f036-7e14-4e20-8443-1fe63d691f1e",
   "metadata": {},
   "source": [
    "### Question Mark (?)\n",
    "The question mark symbol ? matches zero or one occurrence of the pattern / character left to it."
   ]
  },
  {
   "cell_type": "code",
   "execution_count": 239,
   "id": "2579139c-8dcf-4783-9bc1-11f855cbffff",
   "metadata": {},
   "outputs": [
    {
     "name": "stdout",
     "output_type": "stream",
     "text": [
      "Found: 1 --> ['mn']\n"
     ]
    }
   ],
   "source": [
    "test_string = 'mn'\n",
    "pattern = 'ma?n'\n",
    "found = re.findall(pattern, test_string)\n",
    "print(\"Found:\",len(found),\"-->\", found)"
   ]
  },
  {
   "cell_type": "code",
   "execution_count": 240,
   "id": "40de6668-5cc9-4e98-b524-1bf918b67ae6",
   "metadata": {},
   "outputs": [
    {
     "name": "stdout",
     "output_type": "stream",
     "text": [
      "Found: 1 --> ['man']\n"
     ]
    }
   ],
   "source": [
    "test_string = 'man'\n",
    "pattern = 'ma?n'\n",
    "found = re.findall(pattern, test_string)\n",
    "print(\"Found:\",len(found),\"-->\", found)"
   ]
  },
  {
   "cell_type": "code",
   "execution_count": 241,
   "id": "b8dedba7-73b4-46b5-8ef1-3ac220ded3ce",
   "metadata": {},
   "outputs": [
    {
     "name": "stdout",
     "output_type": "stream",
     "text": [
      "Found: 0 --> []\n"
     ]
    }
   ],
   "source": [
    "test_string = 'maan'\n",
    "pattern = 'ma?n'\n",
    "found = re.findall(pattern, test_string)\n",
    "print(\"Found:\",len(found),\"-->\", found)"
   ]
  },
  {
   "cell_type": "markdown",
   "id": "67596117-c06d-45db-bb6a-515873f76f25",
   "metadata": {},
   "source": [
    "### Braces {}\n",
    "Consider this code: {n,m}. This means at least n, and at most m repetitions of the pattern / character left to it."
   ]
  },
  {
   "cell_type": "code",
   "execution_count": 244,
   "id": "a28c4f74-742c-446d-a165-ffc251b5a052",
   "metadata": {},
   "outputs": [
    {
     "name": "stdout",
     "output_type": "stream",
     "text": [
      "Found: 0 --> []\n"
     ]
    }
   ],
   "source": [
    "test_string = 'abc dat'\n",
    "pattern = 'a{2,3}'\n",
    "found = re.findall(pattern, test_string)\n",
    "print(\"Found:\",len(found),\"-->\", found)"
   ]
  },
  {
   "cell_type": "code",
   "execution_count": 245,
   "id": "e2d95635-f4f9-41c0-943d-5fe7d52741f3",
   "metadata": {},
   "outputs": [
    {
     "name": "stdout",
     "output_type": "stream",
     "text": [
      "Found: 1 --> ['aa']\n"
     ]
    }
   ],
   "source": [
    "test_string = 'abc daat'\n",
    "pattern = 'a{2,3}'\n",
    "found = re.findall(pattern, test_string)\n",
    "print(\"Found:\",len(found),\"-->\", found)"
   ]
  },
  {
   "cell_type": "code",
   "execution_count": 246,
   "id": "6593bd33-add7-4a24-b21a-b882ade15938",
   "metadata": {},
   "outputs": [
    {
     "name": "stdout",
     "output_type": "stream",
     "text": [
      "Found: 1 --> ['aaa']\n"
     ]
    }
   ],
   "source": [
    "test_string = 'abc daaat'\n",
    "pattern = 'a{2,3}'\n",
    "found = re.findall(pattern, test_string)\n",
    "print(\"Found:\",len(found),\"-->\", found)"
   ]
  },
  {
   "cell_type": "code",
   "execution_count": 247,
   "id": "0ed5def0-6bae-4045-adb8-80c14cdae035",
   "metadata": {},
   "outputs": [
    {
     "name": "stdout",
     "output_type": "stream",
     "text": [
      "Found: 1 --> ['aaa']\n"
     ]
    }
   ],
   "source": [
    "test_string = 'abc daaaat'\n",
    "pattern = 'a{2,3}'\n",
    "found = re.findall(pattern, test_string)\n",
    "print(\"Found:\",len(found),\"-->\", found)"
   ]
  },
  {
   "cell_type": "code",
   "execution_count": 256,
   "id": "484fa11b-7ba2-408b-9eb0-4be0946719c1",
   "metadata": {},
   "outputs": [
    {
     "name": "stdout",
     "output_type": "stream",
     "text": [
      "Found: 4 --> ['12', '1223', '34', '3456']\n"
     ]
    }
   ],
   "source": [
    "# [0-9]{2,4} --> matches at least 2 digits ([0-9]) but not more than 4 digits\n",
    "test_string = 'ab1235csde122334fdfdf3456'\n",
    "pattern = '[0-9]{2,4}'\n",
    "found = re.findall(pattern, test_string)\n",
    "print(\"Found:\",len(found),\"-->\", found)"
   ]
  },
  {
   "cell_type": "code",
   "execution_count": 258,
   "id": "12accea9-85de-4667-b10b-3c5fdaa229b9",
   "metadata": {},
   "outputs": [
    {
     "name": "stdout",
     "output_type": "stream",
     "text": [
      "Found: 2 --> ['12', '34567']\n"
     ]
    }
   ],
   "source": [
    "# [0-9]{2,5} --> matches at least 2 digits ([0-9]) but not more than 5 digits\n",
    "test_string = '12 and 345674'\n",
    "pattern = '[0-9]{2,5}'\n",
    "found = re.findall(pattern, test_string)\n",
    "print(\"Found:\",len(found),\"-->\", found)"
   ]
  },
  {
   "cell_type": "markdown",
   "id": "6618950f-f4a5-4171-ba5d-012ccb47eb52",
   "metadata": {},
   "source": [
    "### Alternation | \n",
    "Vertical bar | is used for alternation (or operator)."
   ]
  },
  {
   "cell_type": "code",
   "execution_count": 259,
   "id": "0a5a0535-acb4-4cec-8cef-912ccd55e4ad",
   "metadata": {},
   "outputs": [
    {
     "name": "stdout",
     "output_type": "stream",
     "text": [
      "Found: 0 --> []\n"
     ]
    }
   ],
   "source": [
    "test_string = 'cde'\n",
    "pattern = 'a|b'\n",
    "found = re.findall(pattern, test_string)\n",
    "print(\"Found:\",len(found),\"-->\", found)"
   ]
  },
  {
   "cell_type": "code",
   "execution_count": 260,
   "id": "0da1256b-a9e8-4d6d-8f26-f9be963a78c0",
   "metadata": {},
   "outputs": [
    {
     "name": "stdout",
     "output_type": "stream",
     "text": [
      "Found: 1 --> ['a']\n"
     ]
    }
   ],
   "source": [
    "test_string = 'ade'\n",
    "pattern = 'a|b'\n",
    "found = re.findall(pattern, test_string)\n",
    "print(\"Found:\",len(found),\"-->\", found)"
   ]
  },
  {
   "cell_type": "code",
   "execution_count": 261,
   "id": "9c0e4164-1f97-4886-98c8-75982f224f32",
   "metadata": {},
   "outputs": [
    {
     "name": "stdout",
     "output_type": "stream",
     "text": [
      "Found: 3 --> ['a', 'b', 'a']\n"
     ]
    }
   ],
   "source": [
    "test_string = 'acdbea'\n",
    "pattern = 'a|b'\n",
    "found = re.findall(pattern, test_string)\n",
    "print(\"Found:\",len(found),\"-->\", found)"
   ]
  },
  {
   "cell_type": "code",
   "execution_count": 262,
   "id": "fff02273-4bf2-424b-aab2-7f33d432964d",
   "metadata": {},
   "outputs": [
    {
     "name": "stdout",
     "output_type": "stream",
     "text": [
      "Found: 15 --> ['a', 'a', 'a', 'a', 'a', 'a', 'b', 'b', 'b', 'b', 'b', 'b', 'b', 'b', 'b']\n"
     ]
    }
   ],
   "source": [
    "test_string = 'aaaaaabbbbbbbbb'\n",
    "pattern = 'a|b'\n",
    "found = re.findall(pattern, test_string)\n",
    "print(\"Found:\",len(found),\"-->\", found)"
   ]
  },
  {
   "cell_type": "markdown",
   "id": "3d7598d4-0d74-4253-a009-7f7dd2687f96",
   "metadata": {},
   "source": [
    "### Group () \n",
    "Parentheses () is used to group sub-patterns. For example, (a|b|c)xz match any string that matches either a or b or c followed by xz"
   ]
  },
  {
   "cell_type": "code",
   "execution_count": 264,
   "id": "6a0ca1f0-2557-4082-8a86-9592a606fcc9",
   "metadata": {},
   "outputs": [
    {
     "name": "stdout",
     "output_type": "stream",
     "text": [
      "Found: 1 --> ['b']\n"
     ]
    }
   ],
   "source": [
    "test_string = 'abxz'\n",
    "pattern = '(a|b|c)xz'\n",
    "found = re.findall(pattern, test_string)\n",
    "print(\"Found:\",len(found),\"-->\", found)"
   ]
  },
  {
   "cell_type": "code",
   "execution_count": 270,
   "id": "6133af76-ad68-433f-9c5a-3aadc727c150",
   "metadata": {},
   "outputs": [
    {
     "name": "stdout",
     "output_type": "stream",
     "text": [
      "Found: 0 --> []\n"
     ]
    }
   ],
   "source": [
    "test_string = 'ab xz'\n",
    "pattern = '(a|b|c)xz'\n",
    "found = re.findall(pattern, test_string)\n",
    "print(\"Found:\",len(found),\"-->\", found)"
   ]
  },
  {
   "cell_type": "code",
   "execution_count": 278,
   "id": "68640c0f-11e2-47ce-8cb6-56f459838539",
   "metadata": {},
   "outputs": [
    {
     "name": "stdout",
     "output_type": "stream",
     "text": [
      "Found: 1 --> ['bxz']\n"
     ]
    }
   ],
   "source": [
    "#Example with set\n",
    "\n",
    "test_string = 'abxz'\n",
    "pattern = '[abc]xz'\n",
    "found = re.findall(pattern, test_string)\n",
    "print(\"Found:\",len(found),\"-->\", found)"
   ]
  },
  {
   "cell_type": "code",
   "execution_count": 279,
   "id": "4c8acb34-a860-4964-ab46-cf7e04791048",
   "metadata": {},
   "outputs": [
    {
     "name": "stdout",
     "output_type": "stream",
     "text": [
      "Found: 1 --> ['b']\n"
     ]
    }
   ],
   "source": [
    "#Example with group\n",
    "\n",
    "test_string = 'abxz'\n",
    "pattern = '(a|b|c)xz'\n",
    "found = re.findall(pattern, test_string)\n",
    "print(\"Found:\",len(found),\"-->\", found)"
   ]
  },
  {
   "cell_type": "code",
   "execution_count": 272,
   "id": "1298f0e8-7e16-4e56-ba8d-91934efc678c",
   "metadata": {},
   "outputs": [
    {
     "name": "stdout",
     "output_type": "stream",
     "text": [
      "Found: 2 --> ['a', 'b']\n"
     ]
    }
   ],
   "source": [
    "test_string = 'axz cabxz'\n",
    "pattern = '(a|b|c)xz'\n",
    "found = re.findall(pattern, test_string)\n",
    "print(\"Found:\",len(found),\"-->\", found)"
   ]
  },
  {
   "cell_type": "markdown",
   "id": "e1023c70-775f-4490-9ab9-cf4821389f28",
   "metadata": {},
   "source": [
    "### Backslash \\\n",
    "Backlash \\ is used to escape various characters including all metacharacters."
   ]
  },
  {
   "cell_type": "code",
   "execution_count": 283,
   "id": "adfc797c-fe70-4384-87b3-9fa58edbf8c3",
   "metadata": {},
   "outputs": [
    {
     "name": "stdout",
     "output_type": "stream",
     "text": [
      "Found: 0 --> []\n"
     ]
    }
   ],
   "source": [
    "#Why nothing here? It is because regex interprests \"$\" as \"ends with\"\n",
    "\n",
    "test_string = '$a'\n",
    "pattern = '$a'\n",
    "found = re.findall(pattern, test_string)\n",
    "print(\"Found:\",len(found),\"-->\", found)"
   ]
  },
  {
   "cell_type": "code",
   "execution_count": 284,
   "id": "75644523-ceec-4701-860a-c87d228cb501",
   "metadata": {},
   "outputs": [
    {
     "name": "stdout",
     "output_type": "stream",
     "text": [
      "Found: 1 --> ['$a']\n"
     ]
    }
   ],
   "source": [
    "test_string = '$a'\n",
    "pattern = '\\$a'\n",
    "found = re.findall(pattern, test_string)\n",
    "print(\"Found:\",len(found),\"-->\", found)"
   ]
  },
  {
   "cell_type": "markdown",
   "id": "dd722c25-eb72-4f6b-94c0-f04db3bc2a9e",
   "metadata": {
    "tags": []
   },
   "source": [
    "#### \\w & \\W --> A quick look at alphanumerics (and non)"
   ]
  },
  {
   "cell_type": "code",
   "execution_count": 286,
   "id": "0c952e7b-3a64-43c0-be0b-0891b3dad061",
   "metadata": {},
   "outputs": [
    {
     "name": "stdout",
     "output_type": "stream",
     "text": [
      "Found: 17 --> ['r', 'e', 'r', 't', 'g', 'f', 'g', '3', '2', '3', '4', '3', '4', '5', '3', '4', '5']\n"
     ]
    }
   ],
   "source": [
    "test_string = '$@#$%#@rertgfg3234345345'\n",
    "pattern = '\\w'\n",
    "found = re.findall(pattern, test_string)\n",
    "print(\"Found:\",len(found),\"-->\", found)"
   ]
  },
  {
   "cell_type": "code",
   "execution_count": 287,
   "id": "d4089faf-32d6-481a-99e7-427816b25592",
   "metadata": {},
   "outputs": [
    {
     "name": "stdout",
     "output_type": "stream",
     "text": [
      "Found: 7 --> ['$', '@', '#', '$', '%', '#', '@']\n"
     ]
    }
   ],
   "source": [
    "test_string = '$@#$%#@rertgfg3234345345'\n",
    "pattern = '\\W'\n",
    "found = re.findall(pattern, test_string)\n",
    "print(\"Found:\",len(found),\"-->\", found)"
   ]
  },
  {
   "cell_type": "markdown",
   "id": "762527c2-7675-401d-b29f-1dc9c2ea5180",
   "metadata": {},
   "source": [
    "-------------------------"
   ]
  },
  {
   "cell_type": "markdown",
   "id": "fd524f8e-407f-4389-bb1f-0394129ea157",
   "metadata": {},
   "source": [
    "## Special Sequences\n",
    "Special sequences make commonly used patterns easier to write. Here's a list of special sequences:"
   ]
  },
  {
   "cell_type": "markdown",
   "id": "7aa4ba95-a50d-41d9-ad73-33ed44792738",
   "metadata": {},
   "source": [
    "### \\A - Matches if the specified characters are at the start of a string."
   ]
  },
  {
   "cell_type": "code",
   "execution_count": 291,
   "id": "b40df81f-6823-4631-b8fb-284cab245c40",
   "metadata": {},
   "outputs": [
    {
     "name": "stdout",
     "output_type": "stream",
     "text": [
      "Found: 1 --> ['the']\n"
     ]
    }
   ],
   "source": [
    "test_string = 'the string'\n",
    "pattern = '\\Athe'\n",
    "found = re.findall(pattern, test_string)\n",
    "print(\"Found:\",len(found),\"-->\", found)"
   ]
  },
  {
   "cell_type": "code",
   "execution_count": 292,
   "id": "8ef9e720-afb3-4646-beed-94b629e0549c",
   "metadata": {},
   "outputs": [
    {
     "name": "stdout",
     "output_type": "stream",
     "text": [
      "Found: 0 --> []\n"
     ]
    }
   ],
   "source": [
    "test_string = 'in the string'\n",
    "pattern = '\\Athe'\n",
    "found = re.findall(pattern, test_string)\n",
    "print(\"Found:\",len(found),\"-->\", found)"
   ]
  },
  {
   "cell_type": "markdown",
   "id": "d71c19a0-b36a-42e7-9657-79530c78d554",
   "metadata": {},
   "source": [
    "### \\b - Matches if the specified characters are at the beginning or end of a word!!!!."
   ]
  },
  {
   "cell_type": "code",
   "execution_count": 299,
   "id": "15659965-246c-453c-87c5-0df3c5e85601",
   "metadata": {},
   "outputs": [
    {
     "name": "stdout",
     "output_type": "stream",
     "text": [
      "Found: 0 --> []\n"
     ]
    }
   ],
   "source": [
    "#This needs some caution\n",
    "test_string = 'football'\n",
    "pattern = '\\bfoot'\n",
    "found = re.findall(pattern, test_string)\n",
    "print(\"Found:\",len(found),\"-->\", found)"
   ]
  },
  {
   "cell_type": "code",
   "execution_count": 294,
   "id": "349c890d-ef0c-4b63-9651-7a1572915c57",
   "metadata": {},
   "outputs": [
    {
     "name": "stdout",
     "output_type": "stream",
     "text": [
      "Found: 1 --> ['foot']\n"
     ]
    }
   ],
   "source": [
    "#This needs some caution\n",
    "test_string = 'football'\n",
    "found = re.findall(r'\\bfoot', test_string)\n",
    "print(\"Found:\",len(found),\"-->\", found)"
   ]
  },
  {
   "cell_type": "code",
   "execution_count": 303,
   "id": "fd1bbec4-d81e-4515-9026-813e24d4dfd4",
   "metadata": {},
   "outputs": [
    {
     "name": "stdout",
     "output_type": "stream",
     "text": [
      "Found: 1 --> ['foot']\n"
     ]
    }
   ],
   "source": [
    "#This needs some caution - this works with 2 backslashes! & with r'\n",
    "test_string = 'football'\n",
    "pattern = '\\\\bfoot'\n",
    "found = re.findall(pattern, test_string)\n",
    "print(\"Found:\",len(found),\"-->\", found)"
   ]
  },
  {
   "cell_type": "code",
   "execution_count": 301,
   "id": "8ce27d2e-213a-4aa9-a70e-8748a35f4f08",
   "metadata": {},
   "outputs": [
    {
     "name": "stdout",
     "output_type": "stream",
     "text": [
      "Found: 0 --> []\n"
     ]
    }
   ],
   "source": [
    "test_string = 'afootball'\n",
    "found = re.findall(r'\\bfoot', test_string)\n",
    "print(\"Found:\",len(found),\"-->\", found)"
   ]
  },
  {
   "cell_type": "code",
   "execution_count": 304,
   "id": "49fc7258-21b8-4291-aef8-dab09eb418ea",
   "metadata": {},
   "outputs": [
    {
     "name": "stdout",
     "output_type": "stream",
     "text": [
      "Found: 1 --> ['foot']\n"
     ]
    }
   ],
   "source": [
    "test_string = 'a football'\n",
    "found = re.findall(r'\\bfoot', test_string)\n",
    "print(\"Found:\",len(found),\"-->\", found)"
   ]
  },
  {
   "cell_type": "code",
   "execution_count": 305,
   "id": "866c4df6-30f0-47d3-be59-5157ebf61eb0",
   "metadata": {},
   "outputs": [
    {
     "name": "stdout",
     "output_type": "stream",
     "text": [
      "Found: 0 --> []\n"
     ]
    }
   ],
   "source": [
    "#And at the end of the string (\\b goes at the end!!!)\n",
    "test_string = 'a football'\n",
    "found = re.findall(r'foot\\b', test_string)\n",
    "print(\"Found:\",len(found),\"-->\", found)"
   ]
  },
  {
   "cell_type": "code",
   "execution_count": 311,
   "id": "feb34e79-2a71-4834-a75a-e49f37d4e9dc",
   "metadata": {},
   "outputs": [
    {
     "name": "stdout",
     "output_type": "stream",
     "text": [
      "Found: 1 --> ['foot']\n"
     ]
    }
   ],
   "source": [
    "#And at the end of the string (\\b goes at the end!!!)\n",
    "test_string = 'a footballfoot'\n",
    "found = re.findall(r'foot\\b', test_string)\n",
    "print(\"Found:\",len(found),\"-->\", found)"
   ]
  },
  {
   "cell_type": "code",
   "execution_count": 312,
   "id": "0f2b8e9d-5a86-4c36-9385-9f10d6792b0c",
   "metadata": {},
   "outputs": [
    {
     "name": "stdout",
     "output_type": "stream",
     "text": [
      "Found: 1 --> ['foot']\n"
     ]
    }
   ],
   "source": [
    "#And at the end of the string (\\b goes at the end!!!)\n",
    "test_string = 'afoot footballfoot'\n",
    "found = re.findall(r'foot\\b', test_string)\n",
    "print(\"Found:\",len(found),\"-->\", found)"
   ]
  },
  {
   "cell_type": "markdown",
   "id": "1ebe9ba8-0c5e-4019-b8c0-b6cfd3998d34",
   "metadata": {},
   "source": [
    "### \\B\n",
    "Opposite of \\b. Matches if the specified characters are not at the beginning or end of a word."
   ]
  },
  {
   "cell_type": "code",
   "execution_count": 313,
   "id": "27ac3c9b-f218-4756-b7e6-a315d7856e1b",
   "metadata": {},
   "outputs": [
    {
     "name": "stdout",
     "output_type": "stream",
     "text": [
      "Found: 0 --> []\n"
     ]
    }
   ],
   "source": [
    "test_string = 'football'\n",
    "found = re.findall(r'\\Bfoot', test_string)\n",
    "print(\"Found:\",len(found),\"-->\", found)"
   ]
  },
  {
   "cell_type": "code",
   "execution_count": 314,
   "id": "b6d03d65-16c6-49b0-9189-b26118eb7eb2",
   "metadata": {},
   "outputs": [
    {
     "name": "stdout",
     "output_type": "stream",
     "text": [
      "Found: 1 --> ['foot']\n"
     ]
    }
   ],
   "source": [
    "test_string = 'afootball'\n",
    "found = re.findall(r'\\Bfoot', test_string)\n",
    "print(\"Found:\",len(found),\"-->\", found)"
   ]
  },
  {
   "cell_type": "markdown",
   "id": "c5d8911c-297d-49e9-a573-51d649856487",
   "metadata": {},
   "source": [
    "### \\d\n",
    "Matches any decimal digit. Equivalent to [0-9]"
   ]
  },
  {
   "cell_type": "code",
   "execution_count": 316,
   "id": "94c65eea-6ca6-4b4f-b663-ac288589c097",
   "metadata": {},
   "outputs": [
    {
     "name": "stdout",
     "output_type": "stream",
     "text": [
      "Found: 8 --> ['1', '2', '3', '4', '6', '6', '7', '6']\n"
     ]
    }
   ],
   "source": [
    "test_string = '1234dfef6676'\n",
    "pattern = '\\d'\n",
    "found = re.findall(pattern, test_string)\n",
    "print(\"Found:\",len(found),\"-->\", found)"
   ]
  },
  {
   "cell_type": "code",
   "execution_count": 318,
   "id": "623b0f97-c87c-4555-a038-4e51c30f7d11",
   "metadata": {},
   "outputs": [
    {
     "name": "stdout",
     "output_type": "stream",
     "text": [
      "Found: 2 --> ['1234', '6676']\n"
     ]
    }
   ],
   "source": [
    "test_string = '1234dfef6676'\n",
    "pattern = '\\d+'\n",
    "found = re.findall(pattern, test_string)\n",
    "print(\"Found:\",len(found),\"-->\", found)"
   ]
  },
  {
   "cell_type": "markdown",
   "id": "9fc21eff-6925-4e39-8f86-15ecab5c08c9",
   "metadata": {},
   "source": [
    "### \\D\n",
    "Matches any non-decimal digit. Equivalent to [^0-9]"
   ]
  },
  {
   "cell_type": "code",
   "execution_count": 319,
   "id": "a10212f6-0dd3-44db-8499-5b17af377d2f",
   "metadata": {},
   "outputs": [
    {
     "name": "stdout",
     "output_type": "stream",
     "text": [
      "Found: 4 --> ['d', 'f', 'e', 'f']\n"
     ]
    }
   ],
   "source": [
    "test_string = '1234dfef6676'\n",
    "pattern = '\\D'\n",
    "found = re.findall(pattern, test_string)\n",
    "print(\"Found:\",len(found),\"-->\", found)"
   ]
  },
  {
   "cell_type": "code",
   "execution_count": 320,
   "id": "5e6385c8-dee8-473e-b797-1293799f1a5f",
   "metadata": {},
   "outputs": [
    {
     "name": "stdout",
     "output_type": "stream",
     "text": [
      "Found: 1 --> ['dfef']\n"
     ]
    }
   ],
   "source": [
    "test_string = '1234dfef6676'\n",
    "pattern = '\\D+'\n",
    "found = re.findall(pattern, test_string)\n",
    "print(\"Found:\",len(found),\"-->\", found)"
   ]
  },
  {
   "cell_type": "markdown",
   "id": "0e28081d-707c-411c-a56b-9571c225276b",
   "metadata": {},
   "source": [
    "### \\s\n",
    "Matches where a string contains any whitespace character."
   ]
  },
  {
   "cell_type": "code",
   "execution_count": 321,
   "id": "f6754ee8-0b88-4d8c-9da5-6b06a59e0123",
   "metadata": {},
   "outputs": [
    {
     "name": "stdout",
     "output_type": "stream",
     "text": [
      "Found: 1 --> [' ']\n"
     ]
    }
   ],
   "source": [
    "test_string = '123 q'\n",
    "pattern = '\\s'\n",
    "found = re.findall(pattern, test_string)\n",
    "print(\"Found:\",len(found),\"-->\", found)"
   ]
  },
  {
   "cell_type": "markdown",
   "id": "c0d868ab-4120-4877-be0d-d28597a01e18",
   "metadata": {},
   "source": [
    "### \\S\n",
    "Matches where a string contains any non-whitespace character. "
   ]
  },
  {
   "cell_type": "code",
   "execution_count": 322,
   "id": "5305ca80-f770-43be-82c2-788c44bda837",
   "metadata": {},
   "outputs": [
    {
     "name": "stdout",
     "output_type": "stream",
     "text": [
      "Found: 4 --> ['1', '2', '3', 'q']\n"
     ]
    }
   ],
   "source": [
    "test_string = '123 q'\n",
    "pattern = '\\S'\n",
    "found = re.findall(pattern, test_string)\n",
    "print(\"Found:\",len(found),\"-->\", found)"
   ]
  },
  {
   "cell_type": "markdown",
   "id": "39367a0b-91a2-4e8c-bf6d-2995e75100b1",
   "metadata": {},
   "source": [
    "# \\w\n",
    "Matches any alphanumeric character (digits and alphabets). Equivalent to [a-zA-Z0-9_]. By the way, underscore _ is also considered an alphanumeric character."
   ]
  },
  {
   "cell_type": "code",
   "execution_count": null,
   "id": "23a07d57-f48a-4a0c-8796-5455cb399cdf",
   "metadata": {},
   "outputs": [
    {
     "name": "stdout",
     "output_type": "stream",
     "text": [
      "Found: 4 --> ['1', '2', '_', 'c']\n"
     ]
    }
   ],
   "source": [
    "test_string = '12&_\": ;c'\n",
    "pattern = '\\w'\n",
    "found = re.findall(pattern, test_string)\n",
    "print(\"Found:\",len(found),\"-->\", found)"
   ]
  },
  {
   "cell_type": "code",
   "execution_count": 325,
   "id": "32a46805-c5e4-45b3-b09d-67cad315b0cd",
   "metadata": {},
   "outputs": [
    {
     "name": "stdout",
     "output_type": "stream",
     "text": [
      "Found: 0 --> []\n"
     ]
    }
   ],
   "source": [
    "test_string = '%\"> !'\n",
    "pattern = '\\w'\n",
    "found = re.findall(pattern, test_string)\n",
    "print(\"Found:\",len(found),\"-->\", found)"
   ]
  },
  {
   "cell_type": "markdown",
   "id": "357369e3-8026-4e97-8528-e05585bb7edd",
   "metadata": {},
   "source": [
    "### \\W\n",
    "Matches any non-alphanumeric character. Equivalent to [^a-zA-Z0-9_]"
   ]
  },
  {
   "cell_type": "code",
   "execution_count": 326,
   "id": "936132a3-e585-4592-a01b-5c365aa75461",
   "metadata": {},
   "outputs": [
    {
     "name": "stdout",
     "output_type": "stream",
     "text": [
      "Found: 5 --> ['%', '\"', '>', ' ', '!']\n"
     ]
    }
   ],
   "source": [
    "test_string = '%\"> !'\n",
    "pattern = '\\W'\n",
    "found = re.findall(pattern, test_string)\n",
    "print(\"Found:\",len(found),\"-->\", found)"
   ]
  },
  {
   "cell_type": "markdown",
   "id": "5ac8439f-220a-42a7-8afb-32a35624f6fb",
   "metadata": {},
   "source": [
    "### \\Z\n",
    "Matches if the specified characters are at the end of a string."
   ]
  },
  {
   "cell_type": "code",
   "execution_count": 336,
   "id": "cfb68f3a-f8f3-4c23-9ba0-fc2ceb04c3fe",
   "metadata": {},
   "outputs": [
    {
     "name": "stdout",
     "output_type": "stream",
     "text": [
      "Found: 1 --> ['python']\n"
     ]
    }
   ],
   "source": [
    "test_string = 'I love python'\n",
    "pattern = 'python\\Z'\n",
    "found = re.findall(pattern, test_string)\n",
    "print(\"Found:\",len(found),\"-->\", found)"
   ]
  },
  {
   "cell_type": "code",
   "execution_count": 339,
   "id": "60180856-fad0-4a6b-96a4-ee6c4cb72a82",
   "metadata": {},
   "outputs": [
    {
     "name": "stdout",
     "output_type": "stream",
     "text": [
      "Found: 1 --> ['Python']\n"
     ]
    }
   ],
   "source": [
    "test_string = 'I love Python'\n",
    "pattern = '.ython\\Z'\n",
    "found = re.findall(pattern, test_string)\n",
    "print(\"Found:\",len(found),\"-->\", found)"
   ]
  },
  {
   "cell_type": "code",
   "execution_count": 340,
   "id": "f47c3a35-c332-403a-814a-96f88b3687a6",
   "metadata": {},
   "outputs": [
    {
     "name": "stdout",
     "output_type": "stream",
     "text": [
      "Found: 1 --> ['foot']\n"
     ]
    }
   ],
   "source": [
    "#\\Z returns only the end of the entire string!!!!!!!!\n",
    "test_string = 'afoot footballfoot'\n",
    "found = re.findall(r'foot\\Z', test_string)\n",
    "print(\"Found:\",len(found),\"-->\", found)"
   ]
  },
  {
   "cell_type": "markdown",
   "id": "76e57825-843e-4cb7-9a56-54a3ed5314de",
   "metadata": {},
   "source": [
    "-----------------------------------------"
   ]
  },
  {
   "cell_type": "markdown",
   "id": "c5af32a1-3059-44a3-a135-8fdabe94a24c",
   "metadata": {},
   "source": [
    "## Methods"
   ]
  },
  {
   "cell_type": "markdown",
   "id": "0ca9bb27-5231-435a-9f15-e6e16571f5dd",
   "metadata": {},
   "source": [
    "#### Findall Method\n",
    "The re.findall() method returns a list of strings containing all matches."
   ]
  },
  {
   "cell_type": "code",
   "execution_count": 341,
   "id": "033bb37b-a7eb-49a2-bef4-2453c423fbea",
   "metadata": {},
   "outputs": [
    {
     "name": "stdout",
     "output_type": "stream",
     "text": [
      "['is', 'is']\n"
     ]
    }
   ],
   "source": [
    "txt = \"This is the text string that we will use for today's Live Coding Session\"\n",
    "x = re.findall(\"is\", txt)\n",
    "print(x)"
   ]
  },
  {
   "cell_type": "code",
   "execution_count": 342,
   "id": "1fcdcb8c-009c-43b7-81bd-42ce5bf5a084",
   "metadata": {},
   "outputs": [
    {
     "name": "stdout",
     "output_type": "stream",
     "text": [
      "[]\n"
     ]
    }
   ],
   "source": [
    "txt = \"This is the text string that we will use for today's Live Coding Session\"\n",
    "x = re.findall(\"Hello\", txt)\n",
    "print(x)"
   ]
  },
  {
   "cell_type": "code",
   "execution_count": 372,
   "id": "a66d79ae-a485-4aaf-8b00-d48ff3af485d",
   "metadata": {},
   "outputs": [
    {
     "name": "stdout",
     "output_type": "stream",
     "text": [
      "['2', '99', '18']\n"
     ]
    }
   ],
   "source": [
    "txt = \"This is the 2text string that 99 we will use for today's 18 Live Coding Session\"\n",
    "pattern = '\\d+'\n",
    "result = re.findall(pattern, txt) \n",
    "print(result)"
   ]
  },
  {
   "cell_type": "markdown",
   "id": "55de5659-63b0-4bb4-a1cd-5c87f8c004d6",
   "metadata": {},
   "source": [
    "#### Search Method"
   ]
  },
  {
   "cell_type": "code",
   "execution_count": 347,
   "id": "2ae862ab-e25b-41c0-99fe-bf3cf2f1a903",
   "metadata": {},
   "outputs": [
    {
     "data": {
      "text/plain": [
       "<re.Match object; span=(0, 72), match=\"This is the text string that we will use for toda>"
      ]
     },
     "execution_count": 347,
     "metadata": {},
     "output_type": "execute_result"
    }
   ],
   "source": [
    "txt = \"This is the text string that we will use for today's Live Coding Session\"\n",
    "x1 = re.search(\"^This.*Session$\", txt)\n",
    "x1"
   ]
  },
  {
   "cell_type": "code",
   "execution_count": 354,
   "id": "ebee127f-f711-4b6b-a842-d0b5c4d4a0f9",
   "metadata": {},
   "outputs": [
    {
     "data": {
      "text/plain": [
       "32"
      ]
     },
     "execution_count": 354,
     "metadata": {},
     "output_type": "execute_result"
    }
   ],
   "source": [
    "txt = \"This is the text string that we 9 will use for today's Live Coding Session\"\n",
    "x = re.search(\"\\d\",txt)\n",
    "x.start()"
   ]
  },
  {
   "cell_type": "code",
   "execution_count": 371,
   "id": "b02564c4-c7f5-48ef-b9c6-e9f1d6467d7a",
   "metadata": {},
   "outputs": [
    {
     "data": {
      "text/plain": [
       "33"
      ]
     },
     "execution_count": 371,
     "metadata": {},
     "output_type": "execute_result"
    }
   ],
   "source": [
    "txt = \"This is the text string that we 9 will use for today's Live Coding Session\"\n",
    "x = re.search(\"\\d\",txt)\n",
    "x.end()"
   ]
  },
  {
   "cell_type": "code",
   "execution_count": 356,
   "id": "20c4bfa2-ed29-4535-94cc-6a1f33e9dd5d",
   "metadata": {},
   "outputs": [
    {
     "data": {
      "text/plain": [
       "(32, 33)"
      ]
     },
     "execution_count": 356,
     "metadata": {},
     "output_type": "execute_result"
    }
   ],
   "source": [
    "txt = \"This is the text string that we 9 will use for today's Live Coding Session\"\n",
    "x = re.search(\"\\d\",txt)\n",
    "x.span()"
   ]
  },
  {
   "cell_type": "code",
   "execution_count": 360,
   "id": "0f4ba214-e656-49be-86cb-f6260a1b4e7f",
   "metadata": {},
   "outputs": [
    {
     "data": {
      "text/plain": [
       "<re.Match object; span=(65, 72), match='Session'>"
      ]
     },
     "execution_count": 360,
     "metadata": {},
     "output_type": "execute_result"
    }
   ],
   "source": [
    "txt = \"This is the text string that we will use for today's Live Coding Session\"\n",
    "x1 = re.search(r'\\bS\\w+',txt)\n",
    "x1"
   ]
  },
  {
   "cell_type": "code",
   "execution_count": 361,
   "id": "5dfe26ce-fa9a-482e-ad65-98cea6bc96bb",
   "metadata": {},
   "outputs": [
    {
     "data": {
      "text/plain": [
       "'Session'"
      ]
     },
     "execution_count": 361,
     "metadata": {},
     "output_type": "execute_result"
    }
   ],
   "source": [
    "x1.group()"
   ]
  },
  {
   "cell_type": "code",
   "execution_count": 370,
   "id": "975792e2-e5d6-4da1-ab4c-21c5c4b593eb",
   "metadata": {},
   "outputs": [
    {
     "name": "stdout",
     "output_type": "stream",
     "text": [
      "244216\n",
      "267093\n"
     ]
    }
   ],
   "source": [
    "st = 'confirm: 244216 (packets) exceed: 267093 (packets)'\n",
    "match = re.search(r'(\\d+).*?(\\d+)',st)\n",
    "print(match.group(1))\n",
    "print(match.group(2))"
   ]
  },
  {
   "cell_type": "code",
   "execution_count": null,
   "id": "6d4f79a8-239c-4f25-8b72-bb00700b4fc2",
   "metadata": {},
   "outputs": [],
   "source": []
  },
  {
   "cell_type": "code",
   "execution_count": null,
   "id": "3d31697d-5926-4167-8791-833417bdea45",
   "metadata": {},
   "outputs": [],
   "source": []
  },
  {
   "cell_type": "code",
   "execution_count": null,
   "id": "fb73284b-10eb-4063-9272-82d083ea3aca",
   "metadata": {},
   "outputs": [],
   "source": []
  },
  {
   "cell_type": "code",
   "execution_count": null,
   "id": "902e8c44-5235-410f-9f83-60543d1c6ca8",
   "metadata": {},
   "outputs": [],
   "source": []
  },
  {
   "cell_type": "code",
   "execution_count": null,
   "id": "c7f75e6f-13be-493f-b5e1-f21f46f5dccd",
   "metadata": {},
   "outputs": [],
   "source": []
  },
  {
   "cell_type": "code",
   "execution_count": null,
   "id": "f620ad80-5766-48f7-9d10-62b68366838d",
   "metadata": {},
   "outputs": [],
   "source": []
  }
 ],
 "metadata": {
  "kernelspec": {
   "display_name": "Python 3 (ipykernel)",
   "language": "python",
   "name": "python3"
  },
  "language_info": {
   "codemirror_mode": {
    "name": "ipython",
    "version": 3
   },
   "file_extension": ".py",
   "mimetype": "text/x-python",
   "name": "python",
   "nbconvert_exporter": "python",
   "pygments_lexer": "ipython3",
   "version": "3.9.7"
  }
 },
 "nbformat": 4,
 "nbformat_minor": 5
}
