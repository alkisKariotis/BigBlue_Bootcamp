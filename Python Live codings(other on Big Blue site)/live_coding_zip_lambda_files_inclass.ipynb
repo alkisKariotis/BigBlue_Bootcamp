{
 "cells": [
  {
   "cell_type": "code",
   "execution_count": 73,
   "id": "82ba0d92",
   "metadata": {
    "ExecuteTime": {
     "end_time": "2022-04-16T08:39:13.835354Z",
     "start_time": "2022-04-16T08:39:13.828106Z"
    },
    "id": "50fdcd35",
    "outputId": "a7e4154a-a047-43fa-9481-56c94be2d37f"
   },
   "outputs": [],
   "source": [
    "lst1 = [18, 40, 59]\n",
    "lst2 = [\"john\", \"maria\" ,\"katie\"]\n"
   ]
  },
  {
   "cell_type": "code",
   "execution_count": 75,
   "id": "1c79873e",
   "metadata": {},
   "outputs": [
    {
     "data": {
      "text/plain": [
       "<zip at 0x10808f240>"
      ]
     },
     "execution_count": 75,
     "metadata": {},
     "output_type": "execute_result"
    }
   ],
   "source": [
    "zip (lst2 , lst1)"
   ]
  },
  {
   "cell_type": "code",
   "execution_count": 76,
   "id": "c4ac8195",
   "metadata": {},
   "outputs": [
    {
     "data": {
      "text/plain": [
       "[('john', 18), ('maria', 40), ('katie', 59)]"
      ]
     },
     "execution_count": 76,
     "metadata": {},
     "output_type": "execute_result"
    }
   ],
   "source": [
    "list(zip (lst2 , lst1))"
   ]
  },
  {
   "cell_type": "code",
   "execution_count": 77,
   "id": "d0550720",
   "metadata": {},
   "outputs": [
    {
     "data": {
      "text/plain": [
       "{'john': 18, 'maria': 40, 'katie': 59}"
      ]
     },
     "execution_count": 77,
     "metadata": {},
     "output_type": "execute_result"
    }
   ],
   "source": [
    "dict(zip (lst2 , lst1))"
   ]
  },
  {
   "cell_type": "code",
   "execution_count": 78,
   "id": "4bade208",
   "metadata": {},
   "outputs": [],
   "source": [
    "lst1 = [18, 40, 59 , 70]\n",
    "lst2 = [\"john\", \"maria\" ,\"katie\"]\n"
   ]
  },
  {
   "cell_type": "code",
   "execution_count": 79,
   "id": "bf7c50b1",
   "metadata": {},
   "outputs": [
    {
     "data": {
      "text/plain": [
       "[('john', 18), ('maria', 40), ('katie', 59)]"
      ]
     },
     "execution_count": 79,
     "metadata": {},
     "output_type": "execute_result"
    }
   ],
   "source": [
    "list(zip (lst2 , lst1))"
   ]
  },
  {
   "cell_type": "code",
   "execution_count": 83,
   "id": "36e0c454",
   "metadata": {},
   "outputs": [],
   "source": [
    "lst1 = [18, 40, 59 , 70]\n",
    "lst2 = [\"john\", \"maria\" ,\"katie\"]\n",
    "lst3 = [\"smith\", \"doe\" ,\"taylor\" , \"kruger\"]\n"
   ]
  },
  {
   "cell_type": "code",
   "execution_count": 81,
   "id": "938c5738",
   "metadata": {},
   "outputs": [
    {
     "data": {
      "text/plain": [
       "[(18, 'john', 'smith'), (40, 'maria', 'doe'), (59, 'katie', 'taylor')]"
      ]
     },
     "execution_count": 81,
     "metadata": {},
     "output_type": "execute_result"
    }
   ],
   "source": [
    "list(zip(lst1,lst2,lst3))"
   ]
  },
  {
   "cell_type": "code",
   "execution_count": null,
   "id": "be5b50b2",
   "metadata": {},
   "outputs": [],
   "source": [
    "dict(zip(lst2,lst3))"
   ]
  },
  {
   "cell_type": "code",
   "execution_count": 105,
   "id": "cad27778",
   "metadata": {},
   "outputs": [
    {
     "data": {
      "text/plain": [
       "{18: ('john', 'smith'),\n",
       " 40: ('maria', 'doe'),\n",
       " 59: ('katie', 'taylor'),\n",
       " 70: ('helen', 'kruger')}"
      ]
     },
     "execution_count": 105,
     "metadata": {},
     "output_type": "execute_result"
    }
   ],
   "source": [
    "# Other way to work\n",
    "# Dictionaries work only with two lists (key,value) otherwise we can work as below to solve it.\n",
    "\n",
    "dict(zip(lst1,zip(lst2,lst3)))"
   ]
  },
  {
   "cell_type": "code",
   "execution_count": 106,
   "id": "7196733a",
   "metadata": {},
   "outputs": [
    {
     "name": "stdout",
     "output_type": "stream",
     "text": [
      " John Smith has age : 18\n",
      " Maria Doe has age : 40\n",
      " Katie Taylor has age : 59\n",
      " Helen Kruger has age : 70\n"
     ]
    }
   ],
   "source": [
    "for first, last, age in zip (lst2, lst3 , lst1):\n",
    "    print (f' {first.title()} {last.title()} has age : {age}')\n",
    "\n",
    "\n"
   ]
  },
  {
   "cell_type": "markdown",
   "id": "2d499e89",
   "metadata": {},
   "source": [
    "# # Unzip"
   ]
  },
  {
   "cell_type": "code",
   "execution_count": 109,
   "id": "7401c587",
   "metadata": {},
   "outputs": [],
   "source": [
    "lst3 = [1, 3 , 5]\n",
    "lst4 = [\"john\", \"maria\" , \"nick\"]\n",
    "lst5 = [\"smith\", \"pappas\" , \"doe\"]"
   ]
  },
  {
   "cell_type": "code",
   "execution_count": 110,
   "id": "48ba1c72",
   "metadata": {},
   "outputs": [
    {
     "data": {
      "text/plain": [
       "[(1, 'john', 'smith'), (3, 'maria', 'pappas'), (5, 'nick', 'doe')]"
      ]
     },
     "execution_count": 110,
     "metadata": {},
     "output_type": "execute_result"
    }
   ],
   "source": [
    "lst = list(zip(lst3,lst4,lst5))\n",
    "lst"
   ]
  },
  {
   "cell_type": "code",
   "execution_count": 111,
   "id": "46c5ade1",
   "metadata": {},
   "outputs": [],
   "source": [
    "x , y, z = zip(*lst)"
   ]
  },
  {
   "cell_type": "code",
   "execution_count": 112,
   "id": "d2125ebe",
   "metadata": {},
   "outputs": [
    {
     "data": {
      "text/plain": [
       "(1, 3, 5)"
      ]
     },
     "execution_count": 112,
     "metadata": {},
     "output_type": "execute_result"
    }
   ],
   "source": [
    "x"
   ]
  },
  {
   "cell_type": "code",
   "execution_count": 113,
   "id": "efbf95e3",
   "metadata": {},
   "outputs": [
    {
     "data": {
      "text/plain": [
       "('john', 'maria', 'nick')"
      ]
     },
     "execution_count": 113,
     "metadata": {},
     "output_type": "execute_result"
    }
   ],
   "source": [
    "y"
   ]
  },
  {
   "cell_type": "code",
   "execution_count": 114,
   "id": "6ba8edaa",
   "metadata": {},
   "outputs": [
    {
     "data": {
      "text/plain": [
       "('smith', 'pappas', 'doe')"
      ]
     },
     "execution_count": 114,
     "metadata": {},
     "output_type": "execute_result"
    }
   ],
   "source": [
    "z"
   ]
  },
  {
   "cell_type": "markdown",
   "id": "119db4b6",
   "metadata": {},
   "source": [
    "## Lambda"
   ]
  },
  {
   "cell_type": "code",
   "execution_count": 115,
   "id": "dda9d1b8",
   "metadata": {},
   "outputs": [
    {
     "data": {
      "text/plain": [
       "5"
      ]
     },
     "execution_count": 115,
     "metadata": {},
     "output_type": "execute_result"
    }
   ],
   "source": [
    "(lambda x,y : x+y)(2,3)"
   ]
  },
  {
   "cell_type": "code",
   "execution_count": 116,
   "id": "1964aca2",
   "metadata": {},
   "outputs": [],
   "source": [
    "list0 = [[2,4], [3,6], [7,3]]"
   ]
  },
  {
   "cell_type": "code",
   "execution_count": 117,
   "id": "9d924c41",
   "metadata": {},
   "outputs": [
    {
     "ename": "TypeError",
     "evalue": "<lambda>() missing 1 required positional argument: 'y'",
     "output_type": "error",
     "traceback": [
      "\u001b[0;31m---------------------------------------------------------------------------\u001b[0m",
      "\u001b[0;31mTypeError\u001b[0m                                 Traceback (most recent call last)",
      "Cell \u001b[0;32mIn [117], line 1\u001b[0m\n\u001b[0;32m----> 1\u001b[0m \u001b[38;5;28;43mlist\u001b[39;49m\u001b[43m(\u001b[49m\u001b[38;5;28;43mmap\u001b[39;49m\u001b[43m(\u001b[49m\u001b[38;5;28;43;01mlambda\u001b[39;49;00m\u001b[43m \u001b[49m\u001b[43mx\u001b[49m\u001b[43m,\u001b[49m\u001b[43my\u001b[49m\u001b[43m:\u001b[49m\u001b[43m \u001b[49m\u001b[43mx\u001b[49m\u001b[38;5;241;43m+\u001b[39;49m\u001b[43my\u001b[49m\u001b[43m,\u001b[49m\u001b[43m \u001b[49m\u001b[43mlist0\u001b[49m\u001b[43m \u001b[49m\u001b[43m)\u001b[49m\u001b[43m)\u001b[49m\n",
      "\u001b[0;31mTypeError\u001b[0m: <lambda>() missing 1 required positional argument: 'y'"
     ]
    }
   ],
   "source": [
    "list(map(lambda x,y: x+y, list0 ))"
   ]
  },
  {
   "cell_type": "code",
   "execution_count": 118,
   "id": "29e572cb",
   "metadata": {},
   "outputs": [
    {
     "data": {
      "text/plain": [
       "[6, 9, 10]"
      ]
     },
     "execution_count": 118,
     "metadata": {},
     "output_type": "execute_result"
    }
   ],
   "source": [
    "list(map(lambda x: x[0] + x[1], list0 ))"
   ]
  },
  {
   "cell_type": "code",
   "execution_count": 119,
   "id": "7e678765",
   "metadata": {},
   "outputs": [],
   "source": [
    "def add_numbers(x):\n",
    "    return x[0] + x[1]\n",
    "    "
   ]
  },
  {
   "cell_type": "code",
   "execution_count": 120,
   "id": "56e4d129",
   "metadata": {},
   "outputs": [
    {
     "data": {
      "text/plain": [
       "[6, 9, 10]"
      ]
     },
     "execution_count": 120,
     "metadata": {},
     "output_type": "execute_result"
    }
   ],
   "source": [
    "list(map (add_numbers, list0))"
   ]
  },
  {
   "cell_type": "markdown",
   "id": "c75db2e0",
   "metadata": {},
   "source": [
    "# Working with Files"
   ]
  },
  {
   "cell_type": "code",
   "execution_count": null,
   "id": "41bad4b6",
   "metadata": {},
   "outputs": [],
   "source": []
  },
  {
   "cell_type": "code",
   "execution_count": 122,
   "id": "db41f316",
   "metadata": {},
   "outputs": [
    {
     "name": "stdout",
     "output_type": "stream",
     "text": [
      "total 3320\r\n",
      "-rw-r--r--@ 1 nick.fournogerakis  staff   310587 Oct 22 00:48 Advanced Python II exercises.docx\r\n",
      "-rw-r--r--@ 1 nick.fournogerakis  staff    25421 Oct 22 01:16 Advanced Python II solutions.ipynb\r\n",
      "-rw-rw-r--@ 1 nick.fournogerakis  staff    25419 Oct 22 00:37 Advanced Python II solutions_first.ipynb\r\n",
      "-rw-rw----@ 1 nick.fournogerakis  staff  1275207 Oct 22 09:52 Advanced Python II.pptx\r\n",
      "-rw-rw-r--@ 1 nick.fournogerakis  staff      362 Apr 27  2021 data.txt\r\n",
      "-rw-r--r--  1 nick.fournogerakis  staff    34315 Oct 22 01:24 live coding.ipynb\r\n",
      "-rw-rw-r--@ 1 nick.fournogerakis  staff    10017 Oct 22 11:46 live coding_zip_lambda_files_inclass.ipynb\r\n"
     ]
    }
   ],
   "source": [
    "! ls -l"
   ]
  },
  {
   "cell_type": "code",
   "execution_count": null,
   "id": "4059a04f",
   "metadata": {},
   "outputs": [],
   "source": []
  },
  {
   "cell_type": "code",
   "execution_count": null,
   "id": "4c2146f7",
   "metadata": {},
   "outputs": [],
   "source": [
    "# Create and write new file"
   ]
  },
  {
   "cell_type": "code",
   "execution_count": 123,
   "id": "2ad00d98",
   "metadata": {},
   "outputs": [],
   "source": [
    "with open(\"file.txt\", \"w\") as f:\n",
    "    f.write(\"Hello World\")"
   ]
  },
  {
   "cell_type": "code",
   "execution_count": null,
   "id": "40e85e9b",
   "metadata": {},
   "outputs": [],
   "source": []
  },
  {
   "cell_type": "code",
   "execution_count": 124,
   "id": "53d1b0c9",
   "metadata": {},
   "outputs": [
    {
     "name": "stdout",
     "output_type": "stream",
     "text": [
      "total 3328\r\n",
      "-rw-r--r--@ 1 nick.fournogerakis  staff   310587 Oct 22 00:48 Advanced Python II exercises.docx\r\n",
      "-rw-r--r--@ 1 nick.fournogerakis  staff    25421 Oct 22 01:16 Advanced Python II solutions.ipynb\r\n",
      "-rw-rw-r--@ 1 nick.fournogerakis  staff    25419 Oct 22 00:37 Advanced Python II solutions_first.ipynb\r\n",
      "-rw-rw----@ 1 nick.fournogerakis  staff  1275207 Oct 22 09:52 Advanced Python II.pptx\r\n",
      "-rw-rw-r--@ 1 nick.fournogerakis  staff      362 Apr 27  2021 data.txt\r\n",
      "-rw-r--r--@ 1 nick.fournogerakis  staff       11 Oct 22 11:52 file.txt\r\n",
      "-rw-r--r--  1 nick.fournogerakis  staff    34315 Oct 22 01:24 live coding.ipynb\r\n",
      "-rw-rw-r--@ 1 nick.fournogerakis  staff    11798 Oct 22 11:52 live coding_zip_lambda_files_inclass.ipynb\r\n"
     ]
    }
   ],
   "source": [
    "! ls -l"
   ]
  },
  {
   "cell_type": "code",
   "execution_count": null,
   "id": "34f1f60b",
   "metadata": {},
   "outputs": [],
   "source": []
  },
  {
   "cell_type": "code",
   "execution_count": 125,
   "id": "d3ef5892",
   "metadata": {},
   "outputs": [
    {
     "name": "stdout",
     "output_type": "stream",
     "text": [
      "Hello World"
     ]
    }
   ],
   "source": [
    "! cat file.txt"
   ]
  },
  {
   "cell_type": "code",
   "execution_count": null,
   "id": "d7ed6d61",
   "metadata": {},
   "outputs": [],
   "source": []
  },
  {
   "cell_type": "code",
   "execution_count": 126,
   "id": "2e4d6c4c",
   "metadata": {},
   "outputs": [],
   "source": [
    "f= open(\"file.txt\", \"a\")\n",
    "f.write(\"new comment\")\n",
    "f.close()"
   ]
  },
  {
   "cell_type": "code",
   "execution_count": 127,
   "id": "d5d8bb53",
   "metadata": {},
   "outputs": [
    {
     "name": "stdout",
     "output_type": "stream",
     "text": [
      "Hello Worldnew comment"
     ]
    }
   ],
   "source": [
    "! cat file.txt"
   ]
  },
  {
   "cell_type": "code",
   "execution_count": 128,
   "id": "fa612517",
   "metadata": {},
   "outputs": [],
   "source": [
    "f= open(\"file.txt\", \"a\")\n",
    "f.write(\"\\nnew comment2\")\n",
    "f.close()"
   ]
  },
  {
   "cell_type": "code",
   "execution_count": 129,
   "id": "66c3a620",
   "metadata": {},
   "outputs": [
    {
     "name": "stdout",
     "output_type": "stream",
     "text": [
      "Hello Worldnew comment\r\n",
      "new comment2"
     ]
    }
   ],
   "source": [
    "! cat file.txt"
   ]
  },
  {
   "cell_type": "code",
   "execution_count": 130,
   "id": "47a13848",
   "metadata": {},
   "outputs": [],
   "source": [
    "with open(\"file.txt\", \"r\") as f:\n",
    "    data = f.read()"
   ]
  },
  {
   "cell_type": "code",
   "execution_count": 131,
   "id": "ed80089a",
   "metadata": {},
   "outputs": [
    {
     "name": "stdout",
     "output_type": "stream",
     "text": [
      "Hello Worldnew comment\n",
      "new comment2\n"
     ]
    }
   ],
   "source": [
    "print(data)"
   ]
  },
  {
   "cell_type": "code",
   "execution_count": null,
   "id": "7c01cbf3",
   "metadata": {},
   "outputs": [],
   "source": []
  },
  {
   "cell_type": "code",
   "execution_count": null,
   "id": "036104a2",
   "metadata": {},
   "outputs": [],
   "source": []
  },
  {
   "cell_type": "code",
   "execution_count": 132,
   "id": "f99f0d3b",
   "metadata": {},
   "outputs": [],
   "source": [
    "with open(\"file.txt\", \"a+\") as f:\n",
    "    f.write(\"\\n Hello World again\")"
   ]
  },
  {
   "cell_type": "code",
   "execution_count": 133,
   "id": "0786e92f",
   "metadata": {},
   "outputs": [
    {
     "name": "stdout",
     "output_type": "stream",
     "text": [
      "Hello Worldnew comment\r\n",
      "new comment2\r\n",
      " Hello World again"
     ]
    }
   ],
   "source": [
    "! cat file.txt"
   ]
  },
  {
   "cell_type": "code",
   "execution_count": null,
   "id": "8d668e42",
   "metadata": {},
   "outputs": [],
   "source": []
  },
  {
   "cell_type": "code",
   "execution_count": null,
   "id": "d160e5da",
   "metadata": {},
   "outputs": [],
   "source": []
  },
  {
   "cell_type": "code",
   "execution_count": null,
   "id": "d6b882f0",
   "metadata": {},
   "outputs": [],
   "source": []
  }
 ],
 "metadata": {
  "colab": {
   "name": "live coding.ipynb",
   "provenance": []
  },
  "kernelspec": {
   "display_name": "Big_Blue",
   "language": "python",
   "name": "big_blue"
  },
  "language_info": {
   "codemirror_mode": {
    "name": "ipython",
    "version": 3
   },
   "file_extension": ".py",
   "mimetype": "text/x-python",
   "name": "python",
   "nbconvert_exporter": "python",
   "pygments_lexer": "ipython3",
   "version": "3.8.10"
  }
 },
 "nbformat": 4,
 "nbformat_minor": 5
}
